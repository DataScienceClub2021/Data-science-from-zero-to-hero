{
  "nbformat": 4,
  "nbformat_minor": 0,
  "metadata": {
    "colab": {
      "name": "27- Python Directory and Files Management.ipynb",
      "provenance": [],
      "collapsed_sections": []
    },
    "kernelspec": {
      "name": "python3",
      "display_name": "Python 3"
    },
    "language_info": {
      "name": "python"
    }
  },
  "cells": [
    {
      "cell_type": "markdown",
      "metadata": {
        "id": "2XH9kbs8s2fM"
      },
      "source": [
        "### Python Directory\n",
        "If there are a large number of files to handle in our Python program, we can arrange our code within different directories to make things more manageable.\n",
        "\n",
        "A directory or folder is a collection of files and subdirectories. Python has the os module that provides us with many useful methods to work with directories (and files as well)."
      ]
    },
    {
      "cell_type": "markdown",
      "metadata": {
        "id": "AVctVHKms48W"
      },
      "source": [
        "### Get Current Directory\n",
        "We can get the present working directory using the getcwd() method of the os module.\n",
        "\n",
        "This method returns the current working directory in the form of a string. We can also use the getcwdb() method to get it as bytes object."
      ]
    },
    {
      "cell_type": "code",
      "metadata": {
        "colab": {
          "base_uri": "https://localhost:8080/",
          "height": 35
        },
        "id": "nbr5_J6Dsz_F",
        "outputId": "71743a77-737b-48be-b22b-92bab022a392"
      },
      "source": [
        "import os\n",
        "os.getcwd()"
      ],
      "execution_count": 2,
      "outputs": [
        {
          "output_type": "execute_result",
          "data": {
            "application/vnd.google.colaboratory.intrinsic+json": {
              "type": "string"
            },
            "text/plain": [
              "'/content'"
            ]
          },
          "metadata": {},
          "execution_count": 2
        }
      ]
    },
    {
      "cell_type": "code",
      "metadata": {
        "colab": {
          "base_uri": "https://localhost:8080/"
        },
        "id": "CCo5WDLus9Um",
        "outputId": "3263e546-a130-4896-93f1-871ffaba0366"
      },
      "source": [
        "os.getcwdb()"
      ],
      "execution_count": 3,
      "outputs": [
        {
          "output_type": "execute_result",
          "data": {
            "text/plain": [
              "b'/content'"
            ]
          },
          "metadata": {},
          "execution_count": 3
        }
      ]
    },
    {
      "cell_type": "markdown",
      "metadata": {
        "id": "-qMhaa7VtDYh"
      },
      "source": [
        "The extra backslash implies an escape sequence. The print() function will render this properly."
      ]
    },
    {
      "cell_type": "code",
      "metadata": {
        "colab": {
          "base_uri": "https://localhost:8080/"
        },
        "id": "b3JkWn9EtBwZ",
        "outputId": "99479afc-8746-47fb-c895-81025bd75b1f"
      },
      "source": [
        "print(os.getcwd())"
      ],
      "execution_count": 4,
      "outputs": [
        {
          "output_type": "stream",
          "name": "stdout",
          "text": [
            "/content\n"
          ]
        }
      ]
    },
    {
      "cell_type": "markdown",
      "metadata": {
        "id": "IEvuMBAitGc7"
      },
      "source": [
        "### Changing Directory\n",
        "We can change the current working directory by using the chdir() method.\n",
        "\n",
        "The new path that we want to change into must be supplied as a string to this method. We can use both the forward-slash / or the backward-slash \\ to separate the path elements.\n",
        "\n",
        "It is safer to use an escape sequence when using the backward slash."
      ]
    },
    {
      "cell_type": "code",
      "metadata": {
        "colab": {
          "base_uri": "https://localhost:8080/",
          "height": 163
        },
        "id": "Lh-G8NVBtE7V",
        "outputId": "f8f9c369-8309-4c37-b9e6-d131f53a94cf"
      },
      "source": [
        "os.chdir('C:\\\\Python33')"
      ],
      "execution_count": 5,
      "outputs": [
        {
          "output_type": "error",
          "ename": "FileNotFoundError",
          "evalue": "ignored",
          "traceback": [
            "\u001b[0;31m---------------------------------------------------------------------------\u001b[0m",
            "\u001b[0;31mFileNotFoundError\u001b[0m                         Traceback (most recent call last)",
            "\u001b[0;32m<ipython-input-5-bcfd3d9432c1>\u001b[0m in \u001b[0;36m<module>\u001b[0;34m()\u001b[0m\n\u001b[0;32m----> 1\u001b[0;31m \u001b[0mos\u001b[0m\u001b[0;34m.\u001b[0m\u001b[0mchdir\u001b[0m\u001b[0;34m(\u001b[0m\u001b[0;34m'C:\\\\Python33'\u001b[0m\u001b[0;34m)\u001b[0m\u001b[0;34m\u001b[0m\u001b[0;34m\u001b[0m\u001b[0m\n\u001b[0m",
            "\u001b[0;31mFileNotFoundError\u001b[0m: [Errno 2] No such file or directory: 'C:\\\\Python33'"
          ]
        }
      ]
    },
    {
      "cell_type": "code",
      "metadata": {
        "colab": {
          "base_uri": "https://localhost:8080/"
        },
        "id": "vbLpxNiFtIsn",
        "outputId": "2d12dfe8-32de-4078-b409-c208e15e1f90"
      },
      "source": [
        "print(os.getcwd())"
      ],
      "execution_count": 6,
      "outputs": [
        {
          "output_type": "stream",
          "name": "stdout",
          "text": [
            "/content\n"
          ]
        }
      ]
    },
    {
      "cell_type": "markdown",
      "metadata": {
        "id": "cVimvQSztMB2"
      },
      "source": [
        "### List Directories and Files\n",
        "All files and sub-directories inside a directory can be retrieved using the listdir() method.\n",
        "This method takes in a path and returns a list of subdirectories and files in that path. If no path is specified, it returns the list of subdirectories and files from the current working directory.\n",
        "\n"
      ]
    },
    {
      "cell_type": "code",
      "metadata": {
        "colab": {
          "base_uri": "https://localhost:8080/"
        },
        "id": "fhD8u5w6tJx_",
        "outputId": "097e150e-df5b-4c38-c525-f783b6b388c4"
      },
      "source": [
        "print(os.getcwd())"
      ],
      "execution_count": 7,
      "outputs": [
        {
          "output_type": "stream",
          "name": "stdout",
          "text": [
            "/content\n"
          ]
        }
      ]
    },
    {
      "cell_type": "code",
      "metadata": {
        "colab": {
          "base_uri": "https://localhost:8080/"
        },
        "id": "4mfrpwSAtPwy",
        "outputId": "eed2585d-7745-472b-97b1-d4c266d756a7"
      },
      "source": [
        "os.listdir()"
      ],
      "execution_count": 8,
      "outputs": [
        {
          "output_type": "execute_result",
          "data": {
            "text/plain": [
              "['.config', 'sample_data']"
            ]
          },
          "metadata": {},
          "execution_count": 8
        }
      ]
    },
    {
      "cell_type": "code",
      "metadata": {
        "colab": {
          "base_uri": "https://localhost:8080/"
        },
        "id": "5QQd5_eOtRvl",
        "outputId": "9b07e194-024b-4f57-a183-ce856e07a7a1"
      },
      "source": [
        "os.listdir('/content/sample_data')"
      ],
      "execution_count": 11,
      "outputs": [
        {
          "output_type": "execute_result",
          "data": {
            "text/plain": [
              "['README.md',\n",
              " 'anscombe.json',\n",
              " 'mnist_train_small.csv',\n",
              " 'mnist_test.csv',\n",
              " 'california_housing_train.csv',\n",
              " 'california_housing_test.csv']"
            ]
          },
          "metadata": {},
          "execution_count": 11
        }
      ]
    },
    {
      "cell_type": "markdown",
      "metadata": {
        "id": "CdHjf_Q7taKY"
      },
      "source": [
        "Making a New Directory\n",
        "We can make a new directory using the mkdir() method.\n",
        "\n",
        "This method takes in the path of the new directory. If the full path is not specified, the new directory is created in the current working directory."
      ]
    },
    {
      "cell_type": "code",
      "metadata": {
        "id": "tr38yg_5tS_B"
      },
      "source": [
        "os.mkdir('test')"
      ],
      "execution_count": 12,
      "outputs": []
    },
    {
      "cell_type": "code",
      "metadata": {
        "colab": {
          "base_uri": "https://localhost:8080/"
        },
        "id": "73G5Mw3QtcVs",
        "outputId": "0510d596-0c0e-4bd9-daef-736769caa838"
      },
      "source": [
        "os.listdir()"
      ],
      "execution_count": 13,
      "outputs": [
        {
          "output_type": "execute_result",
          "data": {
            "text/plain": [
              "['.config', 'test', 'sample_data']"
            ]
          },
          "metadata": {},
          "execution_count": 13
        }
      ]
    },
    {
      "cell_type": "markdown",
      "metadata": {
        "id": "jBO8ePvHtjMi"
      },
      "source": [
        "### Renaming a Directory or a File\n"
      ]
    },
    {
      "cell_type": "code",
      "metadata": {
        "colab": {
          "base_uri": "https://localhost:8080/"
        },
        "id": "ni1gSfYBthwY",
        "outputId": "7f2990fc-dbb9-4109-a6dc-1559c9e13d8e"
      },
      "source": [
        "os.listdir()"
      ],
      "execution_count": 14,
      "outputs": [
        {
          "output_type": "execute_result",
          "data": {
            "text/plain": [
              "['.config', 'test', 'sample_data']"
            ]
          },
          "metadata": {},
          "execution_count": 14
        }
      ]
    },
    {
      "cell_type": "code",
      "metadata": {
        "id": "Vio6YWWKtlUY"
      },
      "source": [
        "os.rename('test','new_one')"
      ],
      "execution_count": 15,
      "outputs": []
    },
    {
      "cell_type": "code",
      "metadata": {
        "colab": {
          "base_uri": "https://localhost:8080/"
        },
        "id": "WN2hfuiztmea",
        "outputId": "316eadea-94ee-4e50-b6c8-9c5343078b8f"
      },
      "source": [
        "os.listdir()"
      ],
      "execution_count": 16,
      "outputs": [
        {
          "output_type": "execute_result",
          "data": {
            "text/plain": [
              "['.config', 'new_one', 'sample_data']"
            ]
          },
          "metadata": {},
          "execution_count": 16
        }
      ]
    },
    {
      "cell_type": "markdown",
      "metadata": {
        "id": "fQscs7DStpfW"
      },
      "source": [
        "### Removing Directory or File\n",
        "A file can be removed (deleted) using the remove() method.\n",
        "\n",
        "Similarly, the rmdir() method removes an empty directory."
      ]
    },
    {
      "cell_type": "code",
      "metadata": {
        "colab": {
          "base_uri": "https://localhost:8080/"
        },
        "id": "S7nRn_bitn44",
        "outputId": "714d72dd-e1ce-4f90-823c-2ab48bd6b3d7"
      },
      "source": [
        "os.listdir()"
      ],
      "execution_count": 17,
      "outputs": [
        {
          "output_type": "execute_result",
          "data": {
            "text/plain": [
              "['.config', 'new_one', 'sample_data']"
            ]
          },
          "metadata": {},
          "execution_count": 17
        }
      ]
    },
    {
      "cell_type": "code",
      "metadata": {
        "id": "QvrVe9kzuAoE"
      },
      "source": [
        "os.mkdir('old.txt')"
      ],
      "execution_count": 25,
      "outputs": []
    },
    {
      "cell_type": "code",
      "metadata": {
        "colab": {
          "base_uri": "https://localhost:8080/"
        },
        "id": "hvJDRB9tuJop",
        "outputId": "51d7a547-c6bd-4321-e899-59e931a2dcb4"
      },
      "source": [
        "os.listdir()"
      ],
      "execution_count": 27,
      "outputs": [
        {
          "output_type": "execute_result",
          "data": {
            "text/plain": [
              "['.config', 'old.txt', 'sample_data']"
            ]
          },
          "metadata": {},
          "execution_count": 27
        }
      ]
    },
    {
      "cell_type": "code",
      "metadata": {
        "colab": {
          "base_uri": "https://localhost:8080/"
        },
        "id": "LF2vKSyEttfP",
        "outputId": "9a81b413-f8b5-44ac-dda5-1b78ec2af5ec"
      },
      "source": [
        "os.listdir()"
      ],
      "execution_count": 19,
      "outputs": [
        {
          "output_type": "execute_result",
          "data": {
            "text/plain": [
              "['.config', 'new_one', 'sample_data']"
            ]
          },
          "metadata": {},
          "execution_count": 19
        }
      ]
    },
    {
      "cell_type": "code",
      "metadata": {
        "id": "r-2DTgDltvy5"
      },
      "source": [
        "os.rmdir('new_one')"
      ],
      "execution_count": 20,
      "outputs": []
    },
    {
      "cell_type": "code",
      "metadata": {
        "colab": {
          "base_uri": "https://localhost:8080/"
        },
        "id": "jbZvxy5Wtwy2",
        "outputId": "59826b8b-1fcb-4689-bbf1-84f99d943bef"
      },
      "source": [
        "os.listdir()"
      ],
      "execution_count": 21,
      "outputs": [
        {
          "output_type": "execute_result",
          "data": {
            "text/plain": [
              "['.config', 'sample_data']"
            ]
          },
          "metadata": {},
          "execution_count": 21
        }
      ]
    },
    {
      "cell_type": "code",
      "metadata": {
        "colab": {
          "base_uri": "https://localhost:8080/"
        },
        "id": "xLFfE6BLtx9W",
        "outputId": "5c7d28ba-4eba-4ba1-ca2f-f43286e79b13"
      },
      "source": [
        "os.listdir()"
      ],
      "execution_count": 31,
      "outputs": [
        {
          "output_type": "execute_result",
          "data": {
            "text/plain": [
              "['.config', 'old.txt', 'sample_data']"
            ]
          },
          "metadata": {},
          "execution_count": 31
        }
      ]
    },
    {
      "cell_type": "code",
      "metadata": {
        "id": "qvGkUhNCtz-q"
      },
      "source": [
        "os.rmdir('old.txt')"
      ],
      "execution_count": 33,
      "outputs": []
    },
    {
      "cell_type": "markdown",
      "metadata": {
        "id": "p1V3_ZkYueHV"
      },
      "source": [
        "In order to remove a non-empty directory, we can use the rmtree() method inside the shutil module.\n",
        "\n"
      ]
    },
    {
      "cell_type": "code",
      "metadata": {
        "id": "N5iyp9pzt1Nl"
      },
      "source": [
        "import shutil\n",
        "shutil.rmtree('test')\n",
        "os.listdir()"
      ],
      "execution_count": null,
      "outputs": []
    },
    {
      "cell_type": "code",
      "metadata": {
        "id": "YHgpm8V1t722"
      },
      "source": [
        ""
      ],
      "execution_count": null,
      "outputs": []
    }
  ]
}
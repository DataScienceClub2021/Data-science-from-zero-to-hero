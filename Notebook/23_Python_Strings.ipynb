{
  "nbformat": 4,
  "nbformat_minor": 0,
  "metadata": {
    "colab": {
      "name": "23- Python Strings.ipynb",
      "provenance": [],
      "collapsed_sections": []
    },
    "kernelspec": {
      "name": "python3",
      "display_name": "Python 3"
    },
    "language_info": {
      "name": "python"
    }
  },
  "cells": [
    {
      "cell_type": "markdown",
      "metadata": {
        "id": "9H9KcaTUHd6y"
      },
      "source": [
        "### What is String in Python?\n",
        "A string is a sequence of characters.\n",
        "\n",
        "A character is simply a symbol. For example, the English language has 26 characters.\n",
        "\n",
        "Computers do not deal with characters, they deal with numbers (binary). Even though you may see characters on your screen, internally it is stored and manipulated as a combination of 0s and 1s.\n",
        "\n",
        "This conversion of character to a number is called encoding, and the reverse process is decoding. ASCII and Unicode are some of the popular encodings used.\n",
        "\n",
        "In Python, a string is a sequence of Unicode characters. Unicode was introduced to include every character in all languages and bring uniformity in encoding. You can learn about Unicode from Python Unicode."
      ]
    },
    {
      "cell_type": "markdown",
      "metadata": {
        "id": "TPvsJE0uHghL"
      },
      "source": [
        "### How to create a string in Python?\n",
        "Strings can be created by enclosing characters inside a single quote or double-quotes. Even triple quotes can be used in Python but generally used to represent multiline strings and docstrings."
      ]
    },
    {
      "cell_type": "code",
      "metadata": {
        "id": "0kcGo5pJDiX_",
        "colab": {
          "base_uri": "https://localhost:8080/"
        },
        "outputId": "7db9e485-3277-4f6e-f433-137cb09ad510"
      },
      "source": [
        "# defining strings in Python\n",
        "# all of the following are equivalent\n",
        "my_string = 'Hello'\n",
        "print(my_string)\n",
        "\n",
        "my_string = \"Hello\"\n",
        "print(my_string)\n",
        "\n",
        "my_string = '''Hello'''\n",
        "print(my_string)\n",
        "\n",
        "# triple quotes string can extend multiple lines\n",
        "my_string = \"\"\"Hello, welcome to\n",
        "           the world of Python\"\"\"\n",
        "print(my_string)"
      ],
      "execution_count": 1,
      "outputs": [
        {
          "output_type": "stream",
          "name": "stdout",
          "text": [
            "Hello\n",
            "Hello\n",
            "Hello\n",
            "Hello, welcome to\n",
            "           the world of Python\n"
          ]
        }
      ]
    },
    {
      "cell_type": "markdown",
      "metadata": {
        "id": "A-W8W28wHlhq"
      },
      "source": [
        "### How to access characters in a string?\n"
      ]
    },
    {
      "cell_type": "markdown",
      "metadata": {
        "id": "FbCHE1bkHnu7"
      },
      "source": [
        "We can access individual characters using indexing and a range of characters using slicing. Index starts from 0. Trying to access a character out of index range will raise an IndexError. The index must be an integer. We can't use floats or other types, this will result into TypeError.\n",
        "\n",
        "Python allows negative indexing for its sequences.\n",
        "\n",
        "The index of -1 refers to the last item, -2 to the second last item and so on. We can access a range of items in a string by using the slicing operator :(colon)."
      ]
    },
    {
      "cell_type": "code",
      "metadata": {
        "colab": {
          "base_uri": "https://localhost:8080/"
        },
        "id": "CWmRxQFnHj8V",
        "outputId": "c3124079-8ab6-458d-959b-20ccf02b361e"
      },
      "source": [
        "#Accessing string characters in Python\n",
        "str = 'programiz'\n",
        "print('str = ', str)\n",
        "\n",
        "#first character\n",
        "print('str[0] = ', str[0])\n",
        "\n",
        "#last character\n",
        "print('str[-1] = ', str[-1])\n",
        "\n",
        "#slicing 2nd to 5th character\n",
        "print('str[1:5] = ', str[1:5])\n",
        "\n",
        "#slicing 6th to 2nd last character\n",
        "print('str[5:-2] = ', str[5:-2])"
      ],
      "execution_count": 2,
      "outputs": [
        {
          "output_type": "stream",
          "name": "stdout",
          "text": [
            "str =  programiz\n",
            "str[0] =  p\n",
            "str[-1] =  z\n",
            "str[1:5] =  rogr\n",
            "str[5:-2] =  am\n"
          ]
        }
      ]
    },
    {
      "cell_type": "code",
      "metadata": {
        "colab": {
          "base_uri": "https://localhost:8080/",
          "height": 158
        },
        "id": "NUumbOd4HpLk",
        "outputId": "6eeb12cb-2f79-48fc-f145-cf47e71f6392"
      },
      "source": [
        "my_string[90]  "
      ],
      "execution_count": 7,
      "outputs": [
        {
          "output_type": "error",
          "ename": "IndexError",
          "evalue": "ignored",
          "traceback": [
            "\u001b[0;31m---------------------------------------------------------------------------\u001b[0m",
            "\u001b[0;31mIndexError\u001b[0m                                Traceback (most recent call last)",
            "\u001b[0;32m<ipython-input-7-677b85c73193>\u001b[0m in \u001b[0;36m<module>\u001b[0;34m()\u001b[0m\n\u001b[0;32m----> 1\u001b[0;31m \u001b[0mmy_string\u001b[0m\u001b[0;34m[\u001b[0m\u001b[0;36m90\u001b[0m\u001b[0;34m]\u001b[0m\u001b[0;34m\u001b[0m\u001b[0;34m\u001b[0m\u001b[0m\n\u001b[0m",
            "\u001b[0;31mIndexError\u001b[0m: string index out of range"
          ]
        }
      ]
    },
    {
      "cell_type": "code",
      "metadata": {
        "colab": {
          "base_uri": "https://localhost:8080/",
          "height": 158
        },
        "id": "-PHXQfnkHsSQ",
        "outputId": "1e9a9cfc-076d-4a9a-978f-8134b3aeb822"
      },
      "source": [
        "my_string[1.5] "
      ],
      "execution_count": 5,
      "outputs": [
        {
          "output_type": "error",
          "ename": "TypeError",
          "evalue": "ignored",
          "traceback": [
            "\u001b[0;31m---------------------------------------------------------------------------\u001b[0m",
            "\u001b[0;31mTypeError\u001b[0m                                 Traceback (most recent call last)",
            "\u001b[0;32m<ipython-input-5-c83873bce821>\u001b[0m in \u001b[0;36m<module>\u001b[0;34m()\u001b[0m\n\u001b[0;32m----> 1\u001b[0;31m \u001b[0mmy_string\u001b[0m\u001b[0;34m[\u001b[0m\u001b[0;36m1.5\u001b[0m\u001b[0;34m]\u001b[0m\u001b[0;34m\u001b[0m\u001b[0;34m\u001b[0m\u001b[0m\n\u001b[0m",
            "\u001b[0;31mTypeError\u001b[0m: string indices must be integers"
          ]
        }
      ]
    },
    {
      "cell_type": "markdown",
      "metadata": {
        "id": "772x9uAYH6H2"
      },
      "source": [
        "![image.png](data:image/png;base64,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)"
      ]
    },
    {
      "cell_type": "markdown",
      "metadata": {
        "id": "INVkHfqMH7n_"
      },
      "source": [
        "### How to change or delete a string?\n"
      ]
    },
    {
      "cell_type": "markdown",
      "metadata": {
        "id": "k-aIArzwH9mp"
      },
      "source": [
        "Strings are immutable. This means that elements of a string cannot be changed once they have been assigned. We can simply reassign different strings to the same name.\n",
        "\n"
      ]
    },
    {
      "cell_type": "code",
      "metadata": {
        "id": "rKNZZ6diHwzE"
      },
      "source": [
        "my_string = 'programiz'"
      ],
      "execution_count": 8,
      "outputs": []
    },
    {
      "cell_type": "code",
      "metadata": {
        "colab": {
          "base_uri": "https://localhost:8080/",
          "height": 158
        },
        "id": "8LF1xk71H_GS",
        "outputId": "692a3c5a-a4fc-440b-df11-33dfb0b4bec2"
      },
      "source": [
        "my_string[5] = 'a'"
      ],
      "execution_count": 9,
      "outputs": [
        {
          "output_type": "error",
          "ename": "TypeError",
          "evalue": "ignored",
          "traceback": [
            "\u001b[0;31m---------------------------------------------------------------------------\u001b[0m",
            "\u001b[0;31mTypeError\u001b[0m                                 Traceback (most recent call last)",
            "\u001b[0;32m<ipython-input-9-3c74d3b7b34b>\u001b[0m in \u001b[0;36m<module>\u001b[0;34m()\u001b[0m\n\u001b[0;32m----> 1\u001b[0;31m \u001b[0mmy_string\u001b[0m\u001b[0;34m[\u001b[0m\u001b[0;36m5\u001b[0m\u001b[0;34m]\u001b[0m \u001b[0;34m=\u001b[0m \u001b[0;34m'a'\u001b[0m\u001b[0;34m\u001b[0m\u001b[0;34m\u001b[0m\u001b[0m\n\u001b[0m",
            "\u001b[0;31mTypeError\u001b[0m: 'str' object does not support item assignment"
          ]
        }
      ]
    },
    {
      "cell_type": "markdown",
      "metadata": {
        "id": "glhAormBIETx"
      },
      "source": [
        "We cannot **delete** or **remove** characters from a string. But deleting the string entirely is possible using the del keyword.\n",
        "\n"
      ]
    },
    {
      "cell_type": "code",
      "metadata": {
        "colab": {
          "base_uri": "https://localhost:8080/",
          "height": 158
        },
        "id": "xeLJ1o7CIBw4",
        "outputId": "1d847438-40db-41c4-de6e-e0648c772c1e"
      },
      "source": [
        "del my_string[1]"
      ],
      "execution_count": 10,
      "outputs": [
        {
          "output_type": "error",
          "ename": "TypeError",
          "evalue": "ignored",
          "traceback": [
            "\u001b[0;31m---------------------------------------------------------------------------\u001b[0m",
            "\u001b[0;31mTypeError\u001b[0m                                 Traceback (most recent call last)",
            "\u001b[0;32m<ipython-input-10-d6fdf108d0d3>\u001b[0m in \u001b[0;36m<module>\u001b[0;34m()\u001b[0m\n\u001b[0;32m----> 1\u001b[0;31m \u001b[0;32mdel\u001b[0m \u001b[0mmy_string\u001b[0m\u001b[0;34m[\u001b[0m\u001b[0;36m1\u001b[0m\u001b[0;34m]\u001b[0m\u001b[0;34m\u001b[0m\u001b[0;34m\u001b[0m\u001b[0m\n\u001b[0m",
            "\u001b[0;31mTypeError\u001b[0m: 'str' object doesn't support item deletion"
          ]
        }
      ]
    },
    {
      "cell_type": "markdown",
      "metadata": {
        "id": "v_5fUEY9IIk9"
      },
      "source": [
        "Python String Operations\n",
        "There are many operations that can be performed with strings which makes it one of the most used data types in Python.\n",
        "\n",
        "To learn more about the data types available in Python visit: Python Data Types\n",
        "\n",
        "Concatenation of Two or More Strings\n",
        "Joining of two or more strings into a single one is called concatenation.\n",
        "\n",
        "The + operator does this in Python. Simply writing two string literals together also concatenates them.\n",
        "\n",
        "The * operator can be used to repeat the string for a given number of times."
      ]
    },
    {
      "cell_type": "code",
      "metadata": {
        "colab": {
          "base_uri": "https://localhost:8080/"
        },
        "id": "wX2B2QPsIDah",
        "outputId": "463a338d-a9e0-41f0-cde2-f1b4de730fd4"
      },
      "source": [
        "# Python String Operations\n",
        "str1 = 'Hello'\n",
        "str2 ='World!'\n",
        "\n",
        "# using +\n",
        "print('str1 + str2 = ', str1 + str2)\n",
        "\n",
        "# using *\n",
        "print('str1 * 3 =', str1 * 3)"
      ],
      "execution_count": 11,
      "outputs": [
        {
          "output_type": "stream",
          "name": "stdout",
          "text": [
            "str1 + str2 =  HelloWorld!\n",
            "str1 * 3 = HelloHelloHello\n"
          ]
        }
      ]
    },
    {
      "cell_type": "code",
      "metadata": {
        "colab": {
          "base_uri": "https://localhost:8080/",
          "height": 35
        },
        "id": "Ah_BADs-ILEk",
        "outputId": "f877e15a-b29d-4dc8-c24e-a3a23324df59"
      },
      "source": [
        "'Hello ''World!'"
      ],
      "execution_count": 12,
      "outputs": [
        {
          "output_type": "execute_result",
          "data": {
            "application/vnd.google.colaboratory.intrinsic+json": {
              "type": "string"
            },
            "text/plain": [
              "'Hello World!'"
            ]
          },
          "metadata": {},
          "execution_count": 12
        }
      ]
    },
    {
      "cell_type": "code",
      "metadata": {
        "id": "igrD45KRIN-p"
      },
      "source": [
        "s = ('Hello '\n",
        "   'World')"
      ],
      "execution_count": 13,
      "outputs": []
    },
    {
      "cell_type": "code",
      "metadata": {
        "colab": {
          "base_uri": "https://localhost:8080/",
          "height": 35
        },
        "id": "QFEfEraXIQhh",
        "outputId": "c0aca644-984a-4338-8b08-acc3bcb9dd6e"
      },
      "source": [
        "s"
      ],
      "execution_count": 14,
      "outputs": [
        {
          "output_type": "execute_result",
          "data": {
            "application/vnd.google.colaboratory.intrinsic+json": {
              "type": "string"
            },
            "text/plain": [
              "'Hello World'"
            ]
          },
          "metadata": {},
          "execution_count": 14
        }
      ]
    },
    {
      "cell_type": "markdown",
      "metadata": {
        "id": "m1RPX8Y7IS7Z"
      },
      "source": [
        "### Iterating Through a string\n",
        "We can iterate through a string using a for loop. Here is an example to count the number of 'l's in a string."
      ]
    },
    {
      "cell_type": "code",
      "metadata": {
        "colab": {
          "base_uri": "https://localhost:8080/"
        },
        "id": "K39ue29lIRMQ",
        "outputId": "6fa4698d-ae3d-4281-8168-3cc75d35bab5"
      },
      "source": [
        "# Iterating through a string\n",
        "count = 0\n",
        "for letter in 'Hello World':\n",
        "    if(letter == 'l'):\n",
        "        count += 1\n",
        "print(count,'letters found')"
      ],
      "execution_count": 15,
      "outputs": [
        {
          "output_type": "stream",
          "name": "stdout",
          "text": [
            "3 letters found\n"
          ]
        }
      ]
    },
    {
      "cell_type": "markdown",
      "metadata": {
        "id": "mgAFbMzlIYHl"
      },
      "source": [
        "### String Membership Test\n",
        "We can test if a substring exists within a string or not, using the keyword in."
      ]
    },
    {
      "cell_type": "code",
      "metadata": {
        "colab": {
          "base_uri": "https://localhost:8080/"
        },
        "id": "HSmCi6_eIVQD",
        "outputId": "4fcd17fc-2b3e-432b-c0df-77fa1c501af3"
      },
      "source": [
        "'a' in 'program'"
      ],
      "execution_count": 16,
      "outputs": [
        {
          "output_type": "execute_result",
          "data": {
            "text/plain": [
              "True"
            ]
          },
          "metadata": {},
          "execution_count": 16
        }
      ]
    },
    {
      "cell_type": "code",
      "metadata": {
        "colab": {
          "base_uri": "https://localhost:8080/"
        },
        "id": "ANTLOM9RIauW",
        "outputId": "77de1d97-5bda-47eb-cfab-54ea9f7051c8"
      },
      "source": [
        "'at' not in 'battle'"
      ],
      "execution_count": 17,
      "outputs": [
        {
          "output_type": "execute_result",
          "data": {
            "text/plain": [
              "False"
            ]
          },
          "metadata": {},
          "execution_count": 17
        }
      ]
    },
    {
      "cell_type": "markdown",
      "metadata": {
        "id": "Ah2gAo6GIeFy"
      },
      "source": [
        "### Built-in functions to Work with Python\n",
        "Various built-in functions that work with sequence work with strings as well.\n",
        "\n",
        "Some of the commonly used ones are enumerate() and len(). The enumerate() function returns an enumerate object. It contains the index and value of all the items in the string as pairs. This can be useful for iteration.\n",
        "\n",
        "Similarly, len() returns the length (number of characters) of the string."
      ]
    },
    {
      "cell_type": "code",
      "metadata": {
        "colab": {
          "base_uri": "https://localhost:8080/"
        },
        "id": "lD5BuoNcIcR_",
        "outputId": "acee0906-168a-4a99-a4bd-4b9870e1634f"
      },
      "source": [
        "str = 'cold'\n",
        "\n",
        "# enumerate()\n",
        "list_enumerate = list(enumerate(str))\n",
        "print('list(enumerate(str) = ', list_enumerate)\n",
        "\n",
        "#character count\n",
        "print('len(str) = ', len(str))"
      ],
      "execution_count": 18,
      "outputs": [
        {
          "output_type": "stream",
          "name": "stdout",
          "text": [
            "list(enumerate(str) =  [(0, 'c'), (1, 'o'), (2, 'l'), (3, 'd')]\n",
            "len(str) =  4\n"
          ]
        }
      ]
    },
    {
      "cell_type": "markdown",
      "metadata": {
        "id": "CxvTguyxIjSQ"
      },
      "source": [
        "### Python String Formatting\n",
        "Escape Sequence\n",
        "If we want to print a text like He said, \"What's there?\", we can neither use single quotes nor double quotes. This will result in a SyntaxError as the text itself contains both single and double quotes."
      ]
    },
    {
      "cell_type": "code",
      "metadata": {
        "colab": {
          "base_uri": "https://localhost:8080/",
          "height": 126
        },
        "id": "2Tvqe3HSIhMq",
        "outputId": "2c056e1d-2da4-4b17-e698-3b947b49671f"
      },
      "source": [
        "print(\"He said, \"What's there?\"\")"
      ],
      "execution_count": 19,
      "outputs": [
        {
          "output_type": "error",
          "ename": "SyntaxError",
          "evalue": "ignored",
          "traceback": [
            "\u001b[0;36m  File \u001b[0;32m\"<ipython-input-19-5b2db8c64782>\"\u001b[0;36m, line \u001b[0;32m1\u001b[0m\n\u001b[0;31m    print(\"He said, \"What's there?\"\")\u001b[0m\n\u001b[0m                        ^\u001b[0m\n\u001b[0;31mSyntaxError\u001b[0m\u001b[0;31m:\u001b[0m invalid syntax\n"
          ]
        }
      ]
    },
    {
      "cell_type": "markdown",
      "metadata": {
        "id": "nQ9Rlg7fIuIm"
      },
      "source": [
        "One way to get around this problem is to use triple quotes. Alternatively, we can use escape sequences.\n",
        "\n",
        "An escape sequence starts with a backslash and is interpreted differently. If we use a single quote to represent a string, all the single quotes inside the string must be escaped. Similar is the case with double quotes. Here is how it can be done to represent the above text."
      ]
    },
    {
      "cell_type": "code",
      "metadata": {
        "colab": {
          "base_uri": "https://localhost:8080/"
        },
        "id": "vjlGhzt9Indz",
        "outputId": "0e167cdc-44b1-49ba-a40c-3b87e769ad9c"
      },
      "source": [
        "# using triple quotes\n",
        "print('''He said, \"What's there?\"''')\n",
        "\n",
        "# escaping single quotes\n",
        "print('He said, \"What\\'s there?\"')\n",
        "\n",
        "# escaping double quotes\n",
        "print(\"He said, \\\"What's there?\\\"\")"
      ],
      "execution_count": 20,
      "outputs": [
        {
          "output_type": "stream",
          "name": "stdout",
          "text": [
            "He said, \"What's there?\"\n",
            "He said, \"What's there?\"\n",
            "He said, \"What's there?\"\n"
          ]
        }
      ]
    },
    {
      "cell_type": "markdown",
      "metadata": {
        "id": "EY0DKNoBI544"
      },
      "source": [
        "![image.png](data:image/png;base64,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)"
      ]
    },
    {
      "cell_type": "code",
      "metadata": {
        "colab": {
          "base_uri": "https://localhost:8080/"
        },
        "id": "S2h0L1TPIvpl",
        "outputId": "0cf4fe61-3c7c-4aaf-9335-e754ce1d77fc"
      },
      "source": [
        "print(\"C:\\\\Python32\\\\Lib\")"
      ],
      "execution_count": 21,
      "outputs": [
        {
          "output_type": "stream",
          "name": "stdout",
          "text": [
            "C:\\Python32\\Lib\n"
          ]
        }
      ]
    },
    {
      "cell_type": "code",
      "metadata": {
        "colab": {
          "base_uri": "https://localhost:8080/"
        },
        "id": "kZ_KiTEPI8E3",
        "outputId": "a616792c-dd2c-4e50-b113-7ad633763355"
      },
      "source": [
        "print(\"This is printed\\nin two lines\")"
      ],
      "execution_count": 22,
      "outputs": [
        {
          "output_type": "stream",
          "name": "stdout",
          "text": [
            "This is printed\n",
            "in two lines\n"
          ]
        }
      ]
    },
    {
      "cell_type": "code",
      "metadata": {
        "colab": {
          "base_uri": "https://localhost:8080/"
        },
        "id": "EEjtB5tZI9dd",
        "outputId": "9abcf569-0fb2-45bc-cedf-49865260906a"
      },
      "source": [
        " print(\"This is \\x48\\x45\\x58 representation\")"
      ],
      "execution_count": 23,
      "outputs": [
        {
          "output_type": "stream",
          "name": "stdout",
          "text": [
            "This is HEX representation\n"
          ]
        }
      ]
    },
    {
      "cell_type": "markdown",
      "metadata": {
        "id": "CUAvV7FzI_eF"
      },
      "source": [
        "### Raw String to ignore escape sequence\n",
        "Sometimes we may wish to ignore the escape sequences inside a string. To do this we can place r or R in front of the string. This will imply that it is a raw string and any escape sequence inside it will be ignored."
      ]
    },
    {
      "cell_type": "code",
      "metadata": {
        "colab": {
          "base_uri": "https://localhost:8080/"
        },
        "id": "O13lffmuI-WD",
        "outputId": "a75c07a5-ef7f-4794-dc7a-6e5fe96b8d7c"
      },
      "source": [
        " print(\"This is \\x61 \\ngood example\")"
      ],
      "execution_count": 24,
      "outputs": [
        {
          "output_type": "stream",
          "name": "stdout",
          "text": [
            "This is a \n",
            "good example\n"
          ]
        }
      ]
    },
    {
      "cell_type": "markdown",
      "metadata": {
        "id": "rScdf0CFJI09"
      },
      "source": [
        "### The format() Method for Formatting Strings\n",
        "The format() method that is available with the string object is very versatile and powerful in formatting strings. Format strings contain curly braces {} as placeholders or replacement fields which get replaced.\n",
        "\n",
        "We can use positional arguments or keyword arguments to specify the order."
      ]
    },
    {
      "cell_type": "code",
      "metadata": {
        "colab": {
          "base_uri": "https://localhost:8080/"
        },
        "id": "Y8Uk_ugBJDNV",
        "outputId": "a91e0c20-0dcb-4bb1-a39f-bc6c5bbb14bc"
      },
      "source": [
        "# Python string format() method\n",
        "\n",
        "# default(implicit) order\n",
        "default_order = \"{}, {} and {}\".format('John','Bill','Sean')\n",
        "print('\\n--- Default Order ---')\n",
        "print(default_order)\n",
        "\n",
        "# order using positional argument\n",
        "positional_order = \"{1}, {0} and {2}\".format('John','Bill','Sean')\n",
        "print('\\n--- Positional Order ---')\n",
        "print(positional_order)\n",
        "\n",
        "# order using keyword argument\n",
        "keyword_order = \"{s}, {b} and {j}\".format(j='John',b='Bill',s='Sean')\n",
        "print('\\n--- Keyword Order ---')\n",
        "print(keyword_order)"
      ],
      "execution_count": 25,
      "outputs": [
        {
          "output_type": "stream",
          "name": "stdout",
          "text": [
            "\n",
            "--- Default Order ---\n",
            "John, Bill and Sean\n",
            "\n",
            "--- Positional Order ---\n",
            "Bill, John and Sean\n",
            "\n",
            "--- Keyword Order ---\n",
            "Sean, Bill and John\n"
          ]
        }
      ]
    },
    {
      "cell_type": "markdown",
      "metadata": {
        "id": "SxcREukoJOfb"
      },
      "source": [
        "The **format()** method can have optional format specifications. They are separated from the field name using colon. For example, we can left-justify <, right-justify > or center ^ a string in the given space.\n",
        "\n",
        "We can also format integers as binary, hexadecimal, etc. and floats can be rounded or displayed in the exponent format. There are tons of formatting you can use. Visit here for all the string formatting available with the format() method."
      ]
    },
    {
      "cell_type": "code",
      "metadata": {
        "colab": {
          "base_uri": "https://localhost:8080/",
          "height": 35
        },
        "id": "l5U-KRc7JK_K",
        "outputId": "0e464149-c21d-474d-d4e7-b84f05208783"
      },
      "source": [
        "\"Binary representation of {0} is {0:b}\".format(12)"
      ],
      "execution_count": 26,
      "outputs": [
        {
          "output_type": "execute_result",
          "data": {
            "application/vnd.google.colaboratory.intrinsic+json": {
              "type": "string"
            },
            "text/plain": [
              "'Binary representation of 12 is 1100'"
            ]
          },
          "metadata": {},
          "execution_count": 26
        }
      ]
    },
    {
      "cell_type": "code",
      "metadata": {
        "colab": {
          "base_uri": "https://localhost:8080/",
          "height": 35
        },
        "id": "bloKcboSJTKF",
        "outputId": "e6bdf3fc-5078-4375-ebb2-c5249d6dd3d7"
      },
      "source": [
        "\"Exponent representation: {0:e}\".format(1566.345)"
      ],
      "execution_count": 27,
      "outputs": [
        {
          "output_type": "execute_result",
          "data": {
            "application/vnd.google.colaboratory.intrinsic+json": {
              "type": "string"
            },
            "text/plain": [
              "'Exponent representation: 1.566345e+03'"
            ]
          },
          "metadata": {},
          "execution_count": 27
        }
      ]
    },
    {
      "cell_type": "code",
      "metadata": {
        "colab": {
          "base_uri": "https://localhost:8080/",
          "height": 35
        },
        "id": "BGUDKAcNJU72",
        "outputId": "3ad4412a-a7c2-4b22-9676-3a056fc01c23"
      },
      "source": [
        "\"One third is: {0:.3f}\".format(1/3)"
      ],
      "execution_count": 30,
      "outputs": [
        {
          "output_type": "execute_result",
          "data": {
            "application/vnd.google.colaboratory.intrinsic+json": {
              "type": "string"
            },
            "text/plain": [
              "'One third is: 0.333'"
            ]
          },
          "metadata": {},
          "execution_count": 30
        }
      ]
    },
    {
      "cell_type": "code",
      "metadata": {
        "colab": {
          "base_uri": "https://localhost:8080/",
          "height": 35
        },
        "id": "9uMSUQN4JahH",
        "outputId": "cd6b9bdc-b089-4be4-a6f5-dfcb23cedadd"
      },
      "source": [
        "\"|{:<10}|{:^10}|{:>10}|\".format('butter','bread','ham')"
      ],
      "execution_count": 31,
      "outputs": [
        {
          "output_type": "execute_result",
          "data": {
            "application/vnd.google.colaboratory.intrinsic+json": {
              "type": "string"
            },
            "text/plain": [
              "'|butter    |  bread   |       ham|'"
            ]
          },
          "metadata": {},
          "execution_count": 31
        }
      ]
    },
    {
      "cell_type": "markdown",
      "metadata": {
        "id": "VnTKWvUjJiN9"
      },
      "source": [
        "### Old style formatting\n",
        "We can even format strings like the old sprintf() style used in C programming language. We use the % operator to accomplish this."
      ]
    },
    {
      "cell_type": "code",
      "metadata": {
        "colab": {
          "base_uri": "https://localhost:8080/"
        },
        "id": "MraT5qHfJe9_",
        "outputId": "a3247408-d1d0-48ca-85f5-40d652b8c70f"
      },
      "source": [
        "x = 12.3456789\n",
        "print('The value of x is %3.2f' %x)"
      ],
      "execution_count": 32,
      "outputs": [
        {
          "output_type": "stream",
          "name": "stdout",
          "text": [
            "The value of x is 12.35\n"
          ]
        }
      ]
    },
    {
      "cell_type": "code",
      "metadata": {
        "colab": {
          "base_uri": "https://localhost:8080/"
        },
        "id": "9guTyIQFJl4q",
        "outputId": "962c2dc2-a8be-4e14-bfb8-d83c4d0c02dd"
      },
      "source": [
        "print('The value of x is %3.4f' %x)"
      ],
      "execution_count": 33,
      "outputs": [
        {
          "output_type": "stream",
          "name": "stdout",
          "text": [
            "The value of x is 12.3457\n"
          ]
        }
      ]
    },
    {
      "cell_type": "markdown",
      "metadata": {
        "id": "YYVbt73OJo6A"
      },
      "source": [
        "### Common Python String Methods\n",
        "There are numerous methods available with the string object. The format() method that we mentioned above is one of them. Some of the commonly used methods are lower(), upper(), join(), split(), find(), replace() etc. Here is a complete list of all the built-in methods to work with strings in Python."
      ]
    },
    {
      "cell_type": "code",
      "metadata": {
        "colab": {
          "base_uri": "https://localhost:8080/",
          "height": 35
        },
        "id": "zajADziEJnjL",
        "outputId": "223d984d-22ae-4a12-8f3a-98fd014a3248"
      },
      "source": [
        " \"PrOgRaMiZ\".lower()"
      ],
      "execution_count": 34,
      "outputs": [
        {
          "output_type": "execute_result",
          "data": {
            "application/vnd.google.colaboratory.intrinsic+json": {
              "type": "string"
            },
            "text/plain": [
              "'programiz'"
            ]
          },
          "metadata": {},
          "execution_count": 34
        }
      ]
    },
    {
      "cell_type": "code",
      "metadata": {
        "colab": {
          "base_uri": "https://localhost:8080/",
          "height": 35
        },
        "id": "3a3hFaN2Jrnm",
        "outputId": "c34de945-1d05-4e65-ce94-9c59188bae8c"
      },
      "source": [
        "\"PrOgRaMiZ\".upper()"
      ],
      "execution_count": 35,
      "outputs": [
        {
          "output_type": "execute_result",
          "data": {
            "application/vnd.google.colaboratory.intrinsic+json": {
              "type": "string"
            },
            "text/plain": [
              "'PROGRAMIZ'"
            ]
          },
          "metadata": {},
          "execution_count": 35
        }
      ]
    },
    {
      "cell_type": "code",
      "metadata": {
        "colab": {
          "base_uri": "https://localhost:8080/"
        },
        "id": "kCgJ-vFsJszA",
        "outputId": "4b935fb0-3479-42e9-eb3b-c08290541e50"
      },
      "source": [
        "\"This will split all words into a list\".split()"
      ],
      "execution_count": 36,
      "outputs": [
        {
          "output_type": "execute_result",
          "data": {
            "text/plain": [
              "['This', 'will', 'split', 'all', 'words', 'into', 'a', 'list']"
            ]
          },
          "metadata": {},
          "execution_count": 36
        }
      ]
    },
    {
      "cell_type": "code",
      "metadata": {
        "colab": {
          "base_uri": "https://localhost:8080/",
          "height": 35
        },
        "id": "aL6XEa0uJuYB",
        "outputId": "47fd6ce9-9425-41d7-c5e5-ed8663739594"
      },
      "source": [
        "' '.join(['This', 'will', 'join', 'all', 'words', 'into', 'a', 'string'])"
      ],
      "execution_count": 37,
      "outputs": [
        {
          "output_type": "execute_result",
          "data": {
            "application/vnd.google.colaboratory.intrinsic+json": {
              "type": "string"
            },
            "text/plain": [
              "'This will join all words into a string'"
            ]
          },
          "metadata": {},
          "execution_count": 37
        }
      ]
    },
    {
      "cell_type": "code",
      "metadata": {
        "colab": {
          "base_uri": "https://localhost:8080/"
        },
        "id": "aOLK3WXRJ2pc",
        "outputId": "643cc1ee-cb02-4027-ba33-7681c29f739d"
      },
      "source": [
        "'Happy New Year'.find('ew')"
      ],
      "execution_count": 39,
      "outputs": [
        {
          "output_type": "execute_result",
          "data": {
            "text/plain": [
              "7"
            ]
          },
          "metadata": {},
          "execution_count": 39
        }
      ]
    },
    {
      "cell_type": "code",
      "metadata": {
        "colab": {
          "base_uri": "https://localhost:8080/",
          "height": 35
        },
        "id": "vGTYWD2LJv5A",
        "outputId": "ccce3dba-3b09-4fbe-e3e5-9a99f1a176d2"
      },
      "source": [
        "'Happy New Year'.replace('Happy','Brilliant')"
      ],
      "execution_count": 38,
      "outputs": [
        {
          "output_type": "execute_result",
          "data": {
            "application/vnd.google.colaboratory.intrinsic+json": {
              "type": "string"
            },
            "text/plain": [
              "'Brilliant New Year'"
            ]
          },
          "metadata": {},
          "execution_count": 38
        }
      ]
    }
  ]
}
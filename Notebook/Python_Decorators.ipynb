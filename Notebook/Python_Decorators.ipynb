{
  "nbformat": 4,
  "nbformat_minor": 0,
  "metadata": {
    "colab": {
      "name": "Python Decorators.ipynb",
      "provenance": []
    },
    "kernelspec": {
      "name": "python3",
      "display_name": "Python 3"
    },
    "language_info": {
      "name": "python"
    }
  },
  "cells": [
    {
      "cell_type": "markdown",
      "source": [
        "A decorator takes in a function, adds some functionality and returns it. In this tutorial, you will learn how you can create a decorator and why you should use it."
      ],
      "metadata": {
        "id": "He8I5uHfyans"
      }
    },
    {
      "cell_type": "markdown",
      "source": [
        "## Decorators in Python\n",
        "Python has an interesting feature called decorators to add functionality to an existing code.\n",
        "\n",
        "This is also called metaprogramming because a part of the program tries to modify another part of the program at compile time."
      ],
      "metadata": {
        "id": "v_PEKHiDycSn"
      }
    },
    {
      "cell_type": "markdown",
      "source": [
        "Prerequisites for learning decorators\n",
        "In order to understand about decorators, we must first know a few basic things in Python.\n",
        "\n",
        "We must be comfortable with the fact that everything in Python (Yes! Even classes), are objects. Names that we define are simply identifiers bound to these objects. Functions are no exceptions, they are objects too (with attributes). Various different names can be bound to the same function object.\n",
        "\n",
        "Here is an example."
      ],
      "metadata": {
        "id": "I3aOekdWyedB"
      }
    },
    {
      "cell_type": "code",
      "execution_count": null,
      "metadata": {
        "colab": {
          "base_uri": "https://localhost:8080/"
        },
        "id": "s5bs0ryEyV3h",
        "outputId": "a4685ea4-0f94-459b-eca6-d506da8ed8e8"
      },
      "outputs": [
        {
          "output_type": "stream",
          "name": "stdout",
          "text": [
            "Hello\n",
            "Hello\n"
          ]
        }
      ],
      "source": [
        "def first(msg):\n",
        "    print(msg)\n",
        "\n",
        "\n",
        "first(\"Hello\")\n",
        "\n",
        "second = first\n",
        "second(\"Hello\")"
      ]
    },
    {
      "cell_type": "markdown",
      "source": [
        "When you run the code, both functions first and second give the same output. Here, the names first and second refer to the same function object.\n",
        "\n",
        "Now things start getting weirder.\n",
        "\n",
        "Functions can be passed as arguments to another function.\n",
        "\n",
        "If you have used functions like map, filter and reduce in Python, then you already know about this.\n",
        "\n",
        "Such functions that take other functions as arguments are also called higher order functions. Here is an example of such a function."
      ],
      "metadata": {
        "id": "785UxO6AzBZp"
      }
    },
    {
      "cell_type": "code",
      "source": [
        "def inc(x):\n",
        "    return x + 1\n",
        "\n",
        "\n",
        "def dec(x):\n",
        "    return x - 1\n",
        "\n",
        "\n",
        "def operate(func, x):\n",
        "    result = func(x)\n",
        "    return result"
      ],
      "metadata": {
        "id": "IrHqsBmEzT8L"
      },
      "execution_count": null,
      "outputs": []
    },
    {
      "cell_type": "code",
      "source": [
        "operate(inc,3)"
      ],
      "metadata": {
        "colab": {
          "base_uri": "https://localhost:8080/"
        },
        "id": "cbKlJF33zVYq",
        "outputId": "664e3dd3-711d-4c5b-8394-1771655c4a8f"
      },
      "execution_count": null,
      "outputs": [
        {
          "output_type": "execute_result",
          "data": {
            "text/plain": [
              "4"
            ]
          },
          "metadata": {},
          "execution_count": 3
        }
      ]
    },
    {
      "cell_type": "code",
      "source": [
        " operate(dec,3)"
      ],
      "metadata": {
        "colab": {
          "base_uri": "https://localhost:8080/"
        },
        "id": "iiTyv8mvzWKV",
        "outputId": "ca121315-cfc5-41b7-d75e-19fa7dd08b88"
      },
      "execution_count": null,
      "outputs": [
        {
          "output_type": "execute_result",
          "data": {
            "text/plain": [
              "2"
            ]
          },
          "metadata": {},
          "execution_count": 4
        }
      ]
    },
    {
      "cell_type": "code",
      "source": [
        "def is_called():\n",
        "    def is_returned():\n",
        "        print(\"Hello\")\n",
        "    return is_returned\n",
        "\n",
        "\n",
        "new = is_called()\n",
        "\n",
        "# Outputs \"Hello\"\n",
        "new()"
      ],
      "metadata": {
        "colab": {
          "base_uri": "https://localhost:8080/"
        },
        "id": "q6ZM-PsjzXi-",
        "outputId": "0bfeaaf2-3f4f-4251-a665-6eaa5739f0a0"
      },
      "execution_count": null,
      "outputs": [
        {
          "output_type": "stream",
          "name": "stdout",
          "text": [
            "Hello\n"
          ]
        }
      ]
    },
    {
      "cell_type": "markdown",
      "source": [
        "Here, is_returned() is a nested function which is defined and returned each time we call is_called().\n",
        "\n",
        "Finally, we must know about Closures in Python."
      ],
      "metadata": {
        "id": "RDAnH9fZzcCq"
      }
    },
    {
      "cell_type": "markdown",
      "source": [
        "## Getting back to Decorators\n",
        "Functions and methods are called callable as they can be called.\n",
        "\n",
        "In fact, any object which implements the special __call__() method is termed callable. So, in the most basic sense, a decorator is a callable that returns a callable.\n",
        "\n",
        "Basically, a decorator takes in a function, adds some functionality and returns it."
      ],
      "metadata": {
        "id": "gNoCKSDPzdmC"
      }
    },
    {
      "cell_type": "code",
      "source": [
        "def make_pretty(func):\n",
        "    def inner():\n",
        "        print(\"I got decorated\")\n",
        "        func()\n",
        "    return inner\n",
        "\n",
        "\n",
        "def ordinary():\n",
        "    print(\"I am ordinary\")"
      ],
      "metadata": {
        "id": "ouckMKNyzZTZ"
      },
      "execution_count": null,
      "outputs": []
    },
    {
      "cell_type": "code",
      "source": [
        "ordinary()"
      ],
      "metadata": {
        "colab": {
          "base_uri": "https://localhost:8080/"
        },
        "id": "-5v8cGZ2z_JD",
        "outputId": "c1d113c3-475c-42d1-cd54-dbae81fa144d"
      },
      "execution_count": null,
      "outputs": [
        {
          "output_type": "stream",
          "name": "stdout",
          "text": [
            "I am ordinary\n"
          ]
        }
      ]
    },
    {
      "cell_type": "code",
      "source": [
        "pretty = make_pretty(ordinary)"
      ],
      "metadata": {
        "id": "tnh-8GXo0A4J"
      },
      "execution_count": null,
      "outputs": []
    },
    {
      "cell_type": "code",
      "source": [
        "pretty()"
      ],
      "metadata": {
        "colab": {
          "base_uri": "https://localhost:8080/"
        },
        "id": "ydfBX-ah0B-z",
        "outputId": "1702d21f-c3ce-4b60-93b3-e784b1cb7dc3"
      },
      "execution_count": null,
      "outputs": [
        {
          "output_type": "stream",
          "name": "stdout",
          "text": [
            "I got decorated\n",
            "I am ordinary\n"
          ]
        }
      ]
    },
    {
      "cell_type": "markdown",
      "source": [
        "In the example shown above, make_pretty() is a decorator. In the assignment step:\n",
        "\n"
      ],
      "metadata": {
        "id": "bA1hgKOb0E7x"
      }
    },
    {
      "cell_type": "code",
      "source": [
        "pretty = make_pretty(ordinary)\n"
      ],
      "metadata": {
        "id": "FbQKEeCc0C9w"
      },
      "execution_count": null,
      "outputs": []
    },
    {
      "cell_type": "markdown",
      "source": [
        "The function ordinary() got decorated and the returned function was given the name pretty.\n",
        "\n",
        "We can see that the decorator function added some new functionality to the original function. This is similar to packing a gift. The decorator acts as a wrapper. The nature of the object that got decorated (actual gift inside) does not alter. But now, it looks pretty (since it got decorated).\n",
        "\n",
        "Generally, we decorate a function and reassign it as,"
      ],
      "metadata": {
        "id": "RoIC2eae0HnY"
      }
    },
    {
      "cell_type": "markdown",
      "source": [
        "This is a common construct and for this reason, Python has a syntax to simplify this.\n",
        "\n",
        "We can use the @ symbol along with the name of the decorator function and place it above the definition of the function to be decorated. For example,"
      ],
      "metadata": {
        "id": "-bJb_EDF0Pee"
      }
    },
    {
      "cell_type": "code",
      "source": [
        "@make_pretty\n",
        "def ordinary():\n",
        "    print(\"I am ordinary\")"
      ],
      "metadata": {
        "id": "uc4CJrsr0PNl"
      },
      "execution_count": null,
      "outputs": []
    },
    {
      "cell_type": "code",
      "source": [
        "def ordinary():\n",
        "    print(\"I am ordinary\")\n",
        "ordinary = make_pretty(ordinary)"
      ],
      "metadata": {
        "id": "Kmr4xTOQ0PJn"
      },
      "execution_count": null,
      "outputs": []
    },
    {
      "cell_type": "markdown",
      "source": [
        "This is just a syntactic sugar to implement decorators.\n",
        "\n"
      ],
      "metadata": {
        "id": "ad1d6grw0YIu"
      }
    },
    {
      "cell_type": "markdown",
      "source": [
        "## Decorating Functions with Parameters\n"
      ],
      "metadata": {
        "id": "xYzpqZkO0atV"
      }
    },
    {
      "cell_type": "markdown",
      "source": [
        "The above decorator was simple and it only worked with functions that did not have any parameters. What if we had functions that took in parameters like:\n",
        "\n"
      ],
      "metadata": {
        "id": "Jon0IzcI0d4V"
      }
    },
    {
      "cell_type": "code",
      "source": [
        "def divide(a, b):\n",
        "    return a/b"
      ],
      "metadata": {
        "id": "1oxu_tum0GFH"
      },
      "execution_count": null,
      "outputs": []
    },
    {
      "cell_type": "markdown",
      "source": [
        "This function has two parameters, a and b. We know it will give an error if we pass in b as 0.\n",
        "\n"
      ],
      "metadata": {
        "id": "2_i2_omV0hmD"
      }
    },
    {
      "cell_type": "code",
      "source": [
        "divide(2,5)"
      ],
      "metadata": {
        "colab": {
          "base_uri": "https://localhost:8080/"
        },
        "id": "yJLBtBfD0c5L",
        "outputId": "ef7db769-60a1-45f9-a155-997461afb529"
      },
      "execution_count": null,
      "outputs": [
        {
          "output_type": "execute_result",
          "data": {
            "text/plain": [
              "0.4"
            ]
          },
          "metadata": {},
          "execution_count": 15
        }
      ]
    },
    {
      "cell_type": "code",
      "source": [
        "divide(2,0)"
      ],
      "metadata": {
        "colab": {
          "base_uri": "https://localhost:8080/",
          "height": 234
        },
        "id": "KU5Ep2kS0jYb",
        "outputId": "b5267d43-4135-42e5-8562-73809b517156"
      },
      "execution_count": null,
      "outputs": [
        {
          "output_type": "error",
          "ename": "ZeroDivisionError",
          "evalue": "ignored",
          "traceback": [
            "\u001b[0;31m---------------------------------------------------------------------------\u001b[0m",
            "\u001b[0;31mZeroDivisionError\u001b[0m                         Traceback (most recent call last)",
            "\u001b[0;32m<ipython-input-16-030e2eec799d>\u001b[0m in \u001b[0;36m<module>\u001b[0;34m()\u001b[0m\n\u001b[0;32m----> 1\u001b[0;31m \u001b[0mdivide\u001b[0m\u001b[0;34m(\u001b[0m\u001b[0;36m2\u001b[0m\u001b[0;34m,\u001b[0m\u001b[0;36m0\u001b[0m\u001b[0;34m)\u001b[0m\u001b[0;34m\u001b[0m\u001b[0;34m\u001b[0m\u001b[0m\n\u001b[0m",
            "\u001b[0;32m<ipython-input-14-7507bdc665d5>\u001b[0m in \u001b[0;36mdivide\u001b[0;34m(a, b)\u001b[0m\n\u001b[1;32m      1\u001b[0m \u001b[0;32mdef\u001b[0m \u001b[0mdivide\u001b[0m\u001b[0;34m(\u001b[0m\u001b[0ma\u001b[0m\u001b[0;34m,\u001b[0m \u001b[0mb\u001b[0m\u001b[0;34m)\u001b[0m\u001b[0;34m:\u001b[0m\u001b[0;34m\u001b[0m\u001b[0;34m\u001b[0m\u001b[0m\n\u001b[0;32m----> 2\u001b[0;31m     \u001b[0;32mreturn\u001b[0m \u001b[0ma\u001b[0m\u001b[0;34m/\u001b[0m\u001b[0mb\u001b[0m\u001b[0;34m\u001b[0m\u001b[0;34m\u001b[0m\u001b[0m\n\u001b[0m",
            "\u001b[0;31mZeroDivisionError\u001b[0m: division by zero"
          ]
        }
      ]
    },
    {
      "cell_type": "code",
      "source": [
        "def smart_divide(func):\n",
        "    def inner(a, b):\n",
        "        print(\"I am going to divide\", a, \"and\", b)\n",
        "        if b == 0:\n",
        "            print(\"Whoops! cannot divide\")\n",
        "            return\n",
        "\n",
        "        return func(a, b)\n",
        "    return inner\n",
        "\n",
        "\n",
        "@smart_divide\n",
        "def divide(a, b):\n",
        "    print(a/b)"
      ],
      "metadata": {
        "id": "2_QAcuq20lDD"
      },
      "execution_count": null,
      "outputs": []
    },
    {
      "cell_type": "code",
      "source": [
        "divide(2,5)"
      ],
      "metadata": {
        "colab": {
          "base_uri": "https://localhost:8080/"
        },
        "id": "p0U10tJv0rES",
        "outputId": "d42ceb18-3e20-47f1-831b-b8b57d337b82"
      },
      "execution_count": null,
      "outputs": [
        {
          "output_type": "stream",
          "name": "stdout",
          "text": [
            "I am going to divide 2 and 5\n",
            "0.4\n"
          ]
        }
      ]
    },
    {
      "cell_type": "code",
      "source": [
        "divide(2,0)"
      ],
      "metadata": {
        "colab": {
          "base_uri": "https://localhost:8080/"
        },
        "id": "O72evfGB0ubC",
        "outputId": "959b2d57-ba85-4550-899b-620e234aca22"
      },
      "execution_count": null,
      "outputs": [
        {
          "output_type": "stream",
          "name": "stdout",
          "text": [
            "I am going to divide 2 and 0\n",
            "Whoops! cannot divide\n"
          ]
        }
      ]
    },
    {
      "cell_type": "markdown",
      "source": [
        "In this manner, we can decorate functions that take parameters.\n",
        "\n",
        "A keen observer will notice that parameters of the nested inner() function inside the decorator is the same as the parameters of functions it decorates. Taking this into account, now we can make general decorators that work with any number of parameters.\n",
        "\n",
        "In Python, this magic is done as function(*args, **kwargs). In this way, args will be the tuple of positional arguments and kwargs will be the dictionary of keyword arguments. An example of such a decorator will be:"
      ],
      "metadata": {
        "id": "o_yJTUdj0x1R"
      }
    },
    {
      "cell_type": "code",
      "source": [
        "def works_for_all(func):\n",
        "    def inner(*args, **kwargs):\n",
        "        print(\"I can decorate any function\")\n",
        "        return func(*args, **kwargs)\n",
        "    return inner"
      ],
      "metadata": {
        "id": "9IxHqkN-0v_j"
      },
      "execution_count": null,
      "outputs": []
    },
    {
      "cell_type": "markdown",
      "source": [
        "## Chaining Decorators in Python\n",
        "Multiple decorators can be chained in Python.\n",
        "\n",
        "This is to say, a function can be decorated multiple times with different (or same) decorators. We simply place the decorators above the desired function."
      ],
      "metadata": {
        "id": "RIGkg99F01Pc"
      }
    },
    {
      "cell_type": "code",
      "source": [
        "def star(func):\n",
        "    def inner(*args, **kwargs):\n",
        "        print(\"*\" * 30)\n",
        "        func(*args, **kwargs)\n",
        "        print(\"*\" * 30)\n",
        "    return inner\n",
        "\n",
        "\n",
        "def percent(func):\n",
        "    def inner(*args, **kwargs):\n",
        "        print(\"%\" * 30)\n",
        "        func(*args, **kwargs)\n",
        "        print(\"%\" * 30)\n",
        "    return inner\n",
        "\n",
        "\n",
        "@star\n",
        "@percent\n",
        "def printer(msg):\n",
        "    print(msg)\n",
        "\n",
        "\n",
        "printer(\"Hello\")"
      ],
      "metadata": {
        "colab": {
          "base_uri": "https://localhost:8080/"
        },
        "id": "czWWa8VT0ztF",
        "outputId": "29b24c2a-4601-4b35-af13-50a6f826f35f"
      },
      "execution_count": null,
      "outputs": [
        {
          "output_type": "stream",
          "name": "stdout",
          "text": [
            "******************************\n",
            "%%%%%%%%%%%%%%%%%%%%%%%%%%%%%%\n",
            "Hello\n",
            "%%%%%%%%%%%%%%%%%%%%%%%%%%%%%%\n",
            "******************************\n"
          ]
        }
      ]
    },
    {
      "cell_type": "code",
      "source": [
        "def printer(msg):\n",
        "    print(msg)\n",
        "printer = star(percent(printer))"
      ],
      "metadata": {
        "id": "pfcu3w4n048B"
      },
      "execution_count": null,
      "outputs": []
    },
    {
      "cell_type": "code",
      "source": [
        "@percent\n",
        "@star\n",
        "def printer(msg):\n",
        "    print(msg)"
      ],
      "metadata": {
        "id": "Jtlplyrt1Yk2"
      },
      "execution_count": null,
      "outputs": []
    },
    {
      "cell_type": "code",
      "source": [
        "printer(\"Hello\")\n"
      ],
      "metadata": {
        "id": "qXfMkFvJ1Z1f",
        "outputId": "50e6198f-6dab-4e57-c42a-f94529ecec72",
        "colab": {
          "base_uri": "https://localhost:8080/"
        }
      },
      "execution_count": null,
      "outputs": [
        {
          "output_type": "stream",
          "name": "stdout",
          "text": [
            "%%%%%%%%%%%%%%%%%%%%%%%%%%%%%%\n",
            "******************************\n",
            "Hello\n",
            "******************************\n",
            "%%%%%%%%%%%%%%%%%%%%%%%%%%%%%%\n"
          ]
        }
      ]
    },
    {
      "cell_type": "code",
      "source": [
        ""
      ],
      "metadata": {
        "id": "4ljOqIXE1caI"
      },
      "execution_count": null,
      "outputs": []
    }
  ]
}
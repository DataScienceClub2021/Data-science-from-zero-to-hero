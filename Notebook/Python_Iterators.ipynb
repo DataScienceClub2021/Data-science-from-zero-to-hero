{
  "nbformat": 4,
  "nbformat_minor": 0,
  "metadata": {
    "colab": {
      "name": "Python Iterators.ipynb",
      "provenance": []
    },
    "kernelspec": {
      "name": "python3",
      "display_name": "Python 3"
    },
    "language_info": {
      "name": "python"
    }
  },
  "cells": [
    {
      "cell_type": "markdown",
      "source": [
        "Iterators are everywhere in Python. They are elegantly implemented within for loops, comprehensions, generators etc. but are hidden in plain sight.\n",
        "\n",
        "Iterator in Python is simply an object that can be iterated upon. An object which will return data, one element at a time.\n",
        "\n",
        "Technically speaking, a Python iterator object must implement two special methods, __iter__() and __next__(), collectively called the iterator protocol.\n",
        "\n",
        "An object is called iterable if we can get an iterator from it. Most built-in containers in Python like: list, tuple, string etc. are iterables.\n",
        "\n",
        "The iter() function (which in turn calls the __iter__() method) returns an iterator from them."
      ],
      "metadata": {
        "id": "1coHBmgdF5YY"
      }
    },
    {
      "cell_type": "markdown",
      "source": [
        "### Iterating Through an Iterator\n",
        "We use the next() function to manually iterate through all the items of an iterator. When we reach the end and there is no more data to be returned, it will raise the StopIteration Exception. Following is an example."
      ],
      "metadata": {
        "id": "YowcKo1wF7X8"
      }
    },
    {
      "cell_type": "code",
      "execution_count": null,
      "metadata": {
        "colab": {
          "base_uri": "https://localhost:8080/",
          "height": 269
        },
        "id": "IwgzG_pnDVSZ",
        "outputId": "9e849c3a-df1d-42c1-8e94-8b47c359c677"
      },
      "outputs": [
        {
          "output_type": "stream",
          "name": "stdout",
          "text": [
            "4\n",
            "7\n",
            "0\n",
            "3\n"
          ]
        },
        {
          "output_type": "error",
          "ename": "StopIteration",
          "evalue": "ignored",
          "traceback": [
            "\u001b[0;31m---------------------------------------------------------------------------\u001b[0m",
            "\u001b[0;31mStopIteration\u001b[0m                             Traceback (most recent call last)",
            "\u001b[0;32m<ipython-input-1-f674730df03a>\u001b[0m in \u001b[0;36m<module>\u001b[0;34m()\u001b[0m\n\u001b[1;32m     22\u001b[0m \u001b[0;34m\u001b[0m\u001b[0m\n\u001b[1;32m     23\u001b[0m \u001b[0;31m# This will raise error, no items left\u001b[0m\u001b[0;34m\u001b[0m\u001b[0;34m\u001b[0m\u001b[0;34m\u001b[0m\u001b[0m\n\u001b[0;32m---> 24\u001b[0;31m \u001b[0mnext\u001b[0m\u001b[0;34m(\u001b[0m\u001b[0mmy_iter\u001b[0m\u001b[0;34m)\u001b[0m\u001b[0;34m\u001b[0m\u001b[0;34m\u001b[0m\u001b[0m\n\u001b[0m",
            "\u001b[0;31mStopIteration\u001b[0m: "
          ]
        }
      ],
      "source": [
        "# define a list\n",
        "my_list = [4, 7, 0, 3]\n",
        "\n",
        "# get an iterator using iter()\n",
        "my_iter = iter(my_list)\n",
        "\n",
        "# iterate through it using next()\n",
        "\n",
        "# Output: 4\n",
        "print(next(my_iter))\n",
        "\n",
        "# Output: 7\n",
        "print(next(my_iter))\n",
        "\n",
        "# next(obj) is same as obj.__next__()\n",
        "\n",
        "# Output: 0\n",
        "print(my_iter.__next__())\n",
        "\n",
        "# Output: 3\n",
        "print(my_iter.__next__())\n",
        "\n",
        "# This will raise error, no items left\n",
        "next(my_iter)"
      ]
    },
    {
      "cell_type": "markdown",
      "source": [
        "A more elegant way of automatically iterating is by using the for loop. Using this, we can iterate over any object that can return an iterator, for example list, string, file etc."
      ],
      "metadata": {
        "id": "6t44fKYwGA5s"
      }
    },
    {
      "cell_type": "code",
      "source": [
        "for element in my_list:\n",
        "  print(element)"
      ],
      "metadata": {
        "colab": {
          "base_uri": "https://localhost:8080/"
        },
        "id": "gdcFmTQ-GCps",
        "outputId": "e4453e4d-dfd0-4c9b-b887-42a9cd443b7d"
      },
      "execution_count": null,
      "outputs": [
        {
          "output_type": "stream",
          "name": "stdout",
          "text": [
            "4\n",
            "7\n",
            "0\n",
            "3\n"
          ]
        }
      ]
    },
    {
      "cell_type": "markdown",
      "source": [
        "## Working of for loop for Iterators\n"
      ],
      "metadata": {
        "id": "WyQ-VBKKGH4K"
      }
    },
    {
      "cell_type": "markdown",
      "source": [
        "As we see in the above example, the for loop was able to iterate automatically through the list.\n",
        "\n",
        "In fact the for loop can iterate over any iterable. Let's take a closer look at how the for loop is actually implemented in Python"
      ],
      "metadata": {
        "id": "ceG3DgnQGKZD"
      }
    },
    {
      "cell_type": "code",
      "source": [
        "for element in iterable:\n",
        "    # do something with element"
      ],
      "metadata": {
        "id": "RKGsDzu1GFuU"
      },
      "execution_count": null,
      "outputs": []
    },
    {
      "cell_type": "code",
      "source": [
        "# create an iterator object from that iterable\n",
        "iter_obj = iter(iterable)\n",
        "\n",
        "# infinite loop\n",
        "while True:\n",
        "    try:\n",
        "        # get the next item\n",
        "        element = next(iter_obj)\n",
        "        # do something with element\n",
        "    except StopIteration:\n",
        "        # if StopIteration is raised, break from loop\n",
        "        break"
      ],
      "metadata": {
        "id": "k7B8nrR6GNaN"
      },
      "execution_count": null,
      "outputs": []
    },
    {
      "cell_type": "markdown",
      "source": [
        "So internally, the for loop creates an iterator object, iter_obj by calling iter() on the iterable.\n",
        "\n",
        "Ironically, this for loop is actually an infinite while loop.\n",
        "\n",
        "Inside the loop, it calls next() to get the next element and executes the body of the for loop with this value. After all the items exhaust, StopIteration is raised which is internally caught and the loop ends. Note that any other kind of exception will pass through.\n",
        "\n"
      ],
      "metadata": {
        "id": "I8z3ARc8GQO3"
      }
    },
    {
      "cell_type": "markdown",
      "source": [
        "## Building Custom Iterators\n",
        "Building an iterator from scratch is easy in Python. We just have to implement the __iter__() and the __next__() methods.\n",
        "\n",
        "The __iter__() method returns the iterator object itself. If required, some initialization can be performed.\n",
        "\n",
        "The __next__() method must return the next item in the sequence. On reaching the end, and in subsequent calls, it must raise StopIteration.\n",
        "\n",
        "Here, we show an example that will give us the next power of 2 in each iteration. Power exponent starts from zero up to a user set number."
      ],
      "metadata": {
        "id": "eqp3A6yFGSIT"
      }
    },
    {
      "cell_type": "code",
      "source": [
        "class PowTwo:\n",
        "    \"\"\"Class to implement an iterator\n",
        "    of powers of two\"\"\"\n",
        "\n",
        "    def __init__(self, max=0):\n",
        "        self.max = max\n",
        "\n",
        "    def __iter__(self):\n",
        "        self.n = 0\n",
        "        return self\n",
        "\n",
        "    def __next__(self):\n",
        "        if self.n <= self.max:\n",
        "            result = 2 ** self.n\n",
        "            self.n += 1\n",
        "            return result\n",
        "        else:\n",
        "            raise StopIteration\n",
        "\n",
        "\n",
        "# create an object\n",
        "numbers = PowTwo(3)\n",
        "\n",
        "# create an iterable from the object\n",
        "i = iter(numbers)\n",
        "\n",
        "# Using next to get to the next iterator element\n",
        "print(next(i))\n",
        "print(next(i))\n",
        "print(next(i))\n",
        "print(next(i))\n",
        "print(next(i))"
      ],
      "metadata": {
        "colab": {
          "base_uri": "https://localhost:8080/",
          "height": 390
        },
        "id": "MtEWbEjBGWxj",
        "outputId": "583abe13-41c9-49d9-8825-06ad96d6a408"
      },
      "execution_count": null,
      "outputs": [
        {
          "output_type": "stream",
          "name": "stdout",
          "text": [
            "1\n",
            "2\n",
            "4\n",
            "8\n"
          ]
        },
        {
          "output_type": "error",
          "ename": "StopIteration",
          "evalue": "ignored",
          "traceback": [
            "\u001b[0;31m---------------------------------------------------------------------------\u001b[0m",
            "\u001b[0;31mStopIteration\u001b[0m                             Traceback (most recent call last)",
            "\u001b[0;32m<ipython-input-3-e79078ee3bcd>\u001b[0m in \u001b[0;36m<module>\u001b[0;34m()\u001b[0m\n\u001b[1;32m     30\u001b[0m \u001b[0mprint\u001b[0m\u001b[0;34m(\u001b[0m\u001b[0mnext\u001b[0m\u001b[0;34m(\u001b[0m\u001b[0mi\u001b[0m\u001b[0;34m)\u001b[0m\u001b[0;34m)\u001b[0m\u001b[0;34m\u001b[0m\u001b[0;34m\u001b[0m\u001b[0m\n\u001b[1;32m     31\u001b[0m \u001b[0mprint\u001b[0m\u001b[0;34m(\u001b[0m\u001b[0mnext\u001b[0m\u001b[0;34m(\u001b[0m\u001b[0mi\u001b[0m\u001b[0;34m)\u001b[0m\u001b[0;34m)\u001b[0m\u001b[0;34m\u001b[0m\u001b[0;34m\u001b[0m\u001b[0m\n\u001b[0;32m---> 32\u001b[0;31m \u001b[0mprint\u001b[0m\u001b[0;34m(\u001b[0m\u001b[0mnext\u001b[0m\u001b[0;34m(\u001b[0m\u001b[0mi\u001b[0m\u001b[0;34m)\u001b[0m\u001b[0;34m)\u001b[0m\u001b[0;34m\u001b[0m\u001b[0;34m\u001b[0m\u001b[0m\n\u001b[0m",
            "\u001b[0;32m<ipython-input-3-e79078ee3bcd>\u001b[0m in \u001b[0;36m__next__\u001b[0;34m(self)\u001b[0m\n\u001b[1;32m     16\u001b[0m             \u001b[0;32mreturn\u001b[0m \u001b[0mresult\u001b[0m\u001b[0;34m\u001b[0m\u001b[0;34m\u001b[0m\u001b[0m\n\u001b[1;32m     17\u001b[0m         \u001b[0;32melse\u001b[0m\u001b[0;34m:\u001b[0m\u001b[0;34m\u001b[0m\u001b[0;34m\u001b[0m\u001b[0m\n\u001b[0;32m---> 18\u001b[0;31m             \u001b[0;32mraise\u001b[0m \u001b[0mStopIteration\u001b[0m\u001b[0;34m\u001b[0m\u001b[0;34m\u001b[0m\u001b[0m\n\u001b[0m\u001b[1;32m     19\u001b[0m \u001b[0;34m\u001b[0m\u001b[0m\n\u001b[1;32m     20\u001b[0m \u001b[0;34m\u001b[0m\u001b[0m\n",
            "\u001b[0;31mStopIteration\u001b[0m: "
          ]
        }
      ]
    },
    {
      "cell_type": "code",
      "source": [
        "for i in PowTwo(5):\n",
        "  print(i)"
      ],
      "metadata": {
        "colab": {
          "base_uri": "https://localhost:8080/"
        },
        "id": "dX6j8_YHGX5p",
        "outputId": "515fdc9e-3dce-4b9b-9d76-3813aa2eaaef"
      },
      "execution_count": null,
      "outputs": [
        {
          "output_type": "stream",
          "name": "stdout",
          "text": [
            "1\n",
            "2\n",
            "4\n",
            "8\n",
            "16\n",
            "32\n"
          ]
        }
      ]
    },
    {
      "cell_type": "markdown",
      "source": [
        "### Python Infinite Iterators\n",
        "It is not necessary that the item in an iterator object has to be exhausted. There can be infinite iterators (which never ends). We must be careful when handling such iterators.\n",
        "\n",
        "Here is a simple example to demonstrate infinite iterators.\n",
        "\n",
        "The built-in function iter() can be called with two arguments where the first argument must be a callable object (function) and second is the sentinel. The iterator calls this function until the returned value is equal to the sentinel."
      ],
      "metadata": {
        "id": "DP1g1eIdGdZs"
      }
    },
    {
      "cell_type": "code",
      "source": [
        "int()\n",
        "inf = iter(int,1)\n",
        "next(inf)"
      ],
      "metadata": {
        "colab": {
          "base_uri": "https://localhost:8080/"
        },
        "id": "Q7macgCYGbWz",
        "outputId": "090e72d4-f5e3-4d67-f493-5ccd31a7caf2"
      },
      "execution_count": null,
      "outputs": [
        {
          "output_type": "execute_result",
          "data": {
            "text/plain": [
              "0"
            ]
          },
          "metadata": {},
          "execution_count": 7
        }
      ]
    },
    {
      "cell_type": "code",
      "source": [
        "class InfIter:\n",
        "    \"\"\"Infinite iterator to return all\n",
        "        odd numbers\"\"\"\n",
        "\n",
        "    def __iter__(self):\n",
        "        self.num = 1\n",
        "        return self\n",
        "\n",
        "    def __next__(self):\n",
        "        num = self.num\n",
        "        self.num += 2\n",
        "        return num"
      ],
      "metadata": {
        "id": "GTdFkVY6GifE"
      },
      "execution_count": null,
      "outputs": []
    },
    {
      "cell_type": "code",
      "source": [
        "a = iter(InfIter())"
      ],
      "metadata": {
        "id": "RUY2hHAbGnez"
      },
      "execution_count": null,
      "outputs": []
    },
    {
      "cell_type": "code",
      "source": [
        "next(a)"
      ],
      "metadata": {
        "id": "QkD4j8rEGpK7",
        "outputId": "4caa064d-3314-4f92-889f-ae339e1d70d8",
        "colab": {
          "base_uri": "https://localhost:8080/"
        }
      },
      "execution_count": null,
      "outputs": [
        {
          "output_type": "execute_result",
          "data": {
            "text/plain": [
              "1"
            ]
          },
          "metadata": {},
          "execution_count": 10
        }
      ]
    },
    {
      "cell_type": "code",
      "source": [
        "next(a)"
      ],
      "metadata": {
        "id": "qg8EueFbGqR7",
        "outputId": "81dc384e-434f-4539-93a4-179d02eca9cb",
        "colab": {
          "base_uri": "https://localhost:8080/"
        }
      },
      "execution_count": null,
      "outputs": [
        {
          "output_type": "execute_result",
          "data": {
            "text/plain": [
              "3"
            ]
          },
          "metadata": {},
          "execution_count": 11
        }
      ]
    },
    {
      "cell_type": "markdown",
      "source": [
        "The advantage of using iterators is that they save resources. Like shown above, we could get all the odd numbers without storing the entire number system in memory. We can have infinite items (theoretically) in finite memory."
      ],
      "metadata": {
        "id": "xVop5TFmGvlg"
      }
    }
  ]
}
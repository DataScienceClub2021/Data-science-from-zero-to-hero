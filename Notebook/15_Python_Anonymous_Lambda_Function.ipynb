{
  "nbformat": 4,
  "nbformat_minor": 0,
  "metadata": {
    "colab": {
      "name": "15- Python Anonymous/Lambda Function.ipynb",
      "provenance": []
    },
    "kernelspec": {
      "name": "python3",
      "display_name": "Python 3"
    },
    "language_info": {
      "name": "python"
    }
  },
  "cells": [
    {
      "cell_type": "markdown",
      "metadata": {
        "id": "pV2CAZFkU3cl"
      },
      "source": [
        "### What are lambda functions in Python?\n"
      ]
    },
    {
      "cell_type": "markdown",
      "metadata": {
        "id": "wQSrni7PU69a"
      },
      "source": [
        "In Python, an anonymous function is a function that is defined without a name.\n",
        "\n",
        "While normal functions are defined using the def keyword in Python, anonymous functions are defined using the lambda keyword.\n",
        "\n",
        "Hence, anonymous functions are also called lambda functions."
      ]
    },
    {
      "cell_type": "markdown",
      "metadata": {
        "id": "Yhh2b86CVABD"
      },
      "source": [
        "### How to use lambda Functions in Python?\n",
        "A lambda function in python has the following syntax."
      ]
    },
    {
      "cell_type": "code",
      "metadata": {
        "colab": {
          "base_uri": "https://localhost:8080/"
        },
        "id": "M2sT-keEUziU",
        "outputId": "c5c4879d-1200-417a-92bd-2c8b23273f5b"
      },
      "source": [
        "# Program to show the use of lambda functions\n",
        "double = lambda x: x * 2\n",
        "\n",
        "print(double(5))"
      ],
      "execution_count": 1,
      "outputs": [
        {
          "output_type": "stream",
          "name": "stdout",
          "text": [
            "10\n"
          ]
        }
      ]
    },
    {
      "cell_type": "code",
      "metadata": {
        "id": "7492wnHjVClO"
      },
      "source": [
        "def double(x):\n",
        "   return x * 2"
      ],
      "execution_count": 2,
      "outputs": []
    },
    {
      "cell_type": "code",
      "metadata": {
        "colab": {
          "base_uri": "https://localhost:8080/"
        },
        "id": "tIQE--h1VNke",
        "outputId": "81e108fb-4046-44da-d2d2-35a9d06df8aa"
      },
      "source": [
        "print(double(5))"
      ],
      "execution_count": 3,
      "outputs": [
        {
          "output_type": "stream",
          "name": "stdout",
          "text": [
            "10\n"
          ]
        }
      ]
    },
    {
      "cell_type": "markdown",
      "metadata": {
        "id": "uWVcCeNYVQcr"
      },
      "source": [
        "### Use of Lambda Function in python\n",
        "We use lambda functions when we require a nameless function for a short period of time.\n",
        "\n",
        "In Python, we generally use it as an argument to a higher-order function (a function that takes in other functions as arguments). Lambda functions are used along with built-in functions like filter(), map() etc."
      ]
    },
    {
      "cell_type": "markdown",
      "metadata": {
        "id": "yT3d-D75VXrp"
      },
      "source": [
        "### Example use with filter()\n",
        "The filter() function in Python takes in a function and a list as arguments.\n",
        "\n",
        "The function is called with all the items in the list and a new list is returned which contains items for which the function evaluates to True.\n",
        "\n",
        "Here is an example use of filter() function to filter out only even numbers from a list."
      ]
    },
    {
      "cell_type": "code",
      "metadata": {
        "colab": {
          "base_uri": "https://localhost:8080/"
        },
        "id": "DllR620JVOQs",
        "outputId": "22c6d38d-47b9-4a88-f373-5a443eb69f27"
      },
      "source": [
        "# Program to filter out only the even items from a list\n",
        "my_list = [1, 5, 4, 6, 8, 11, 3, 12]\n",
        "\n",
        "new_list = list(filter(lambda x: (x%2 == 0) , my_list))\n",
        "\n",
        "print(new_list)"
      ],
      "execution_count": 8,
      "outputs": [
        {
          "output_type": "stream",
          "name": "stdout",
          "text": [
            "[4, 6, 8, 12]\n"
          ]
        }
      ]
    },
    {
      "cell_type": "markdown",
      "metadata": {
        "id": "sGFRJjzeVxAI"
      },
      "source": [
        "### Example use with map()\n",
        "The map() function in Python takes in a function and a list.\n",
        "\n",
        "The function is called with all the items in the list and a new list is returned which contains items returned by that function for each item.\n",
        "\n",
        "Here is an example use of map() function to double all the items in a list."
      ]
    },
    {
      "cell_type": "code",
      "metadata": {
        "colab": {
          "base_uri": "https://localhost:8080/"
        },
        "id": "8tsOZw8LVavg",
        "outputId": "57312f93-6302-4684-8fa9-c4f74af3c6a9"
      },
      "source": [
        "# Program to double each item in a list using map()\n",
        "\n",
        "my_list = [1, 5, 4, 6, 8, 11, 3, 12]\n",
        "\n",
        "new_list = list(map(lambda x: x * 2 , my_list))\n",
        "\n",
        "print(new_list)"
      ],
      "execution_count": 9,
      "outputs": [
        {
          "output_type": "stream",
          "name": "stdout",
          "text": [
            "[2, 10, 8, 12, 16, 22, 6, 24]\n"
          ]
        }
      ]
    }
  ]
}
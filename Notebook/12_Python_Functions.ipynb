{
  "nbformat": 4,
  "nbformat_minor": 0,
  "metadata": {
    "colab": {
      "name": "12- Python Functions.ipynb",
      "provenance": []
    },
    "kernelspec": {
      "name": "python3",
      "display_name": "Python 3"
    },
    "language_info": {
      "name": "python"
    }
  },
  "cells": [
    {
      "cell_type": "markdown",
      "metadata": {
        "id": "vl-IictOGfeV"
      },
      "source": [
        "### What is a function in Python?\n",
        "In Python, a function is a group of related statements that performs a specific task.\n",
        "\n",
        "Functions help break our program into smaller and modular chunks. As our program grows larger and larger, functions make it more organized and manageable.\n",
        "\n",
        "Furthermore, it avoids repetition and makes the code reusable."
      ]
    },
    {
      "cell_type": "markdown",
      "metadata": {
        "id": "YGhbL_ymG221"
      },
      "source": [
        "Above shown is a function definition that consists of the following components.\n",
        "\n",
        "1. Keyword def that marks the start of the function header.\n",
        "A function name to uniquely identify the function.\n",
        "2. Function naming follows the same rules of writing dentifiers in Python.\n",
        "3. Parameters (arguments) through which we pass values to a function. They are optional.\n",
        "4. A colon (:) to mark the end of the function header.\n",
        "5. Optional documentation string (docstring) to describe what the function does.\n",
        "6. One or more valid python statements that make up the function body. Statements must have the same indentation level (usually 4 spaces).\n",
        "7. An optional return statement to return a value from the function."
      ]
    },
    {
      "cell_type": "code",
      "metadata": {
        "colab": {
          "base_uri": "https://localhost:8080/"
        },
        "id": "pC1ONUJmFxMN",
        "outputId": "c3a99bb5-fdc5-41f7-cd83-00b72d23c467"
      },
      "source": [
        "def greet(name):\n",
        "    \"\"\"\n",
        "    This function greets to\n",
        "    the person passed in as\n",
        "    a parameter\n",
        "    \"\"\"\n",
        "    print(\"Hello, \" + name + \". Good morning!\")\n",
        "\n",
        "greet('Paul')"
      ],
      "execution_count": 3,
      "outputs": [
        {
          "output_type": "stream",
          "name": "stdout",
          "text": [
            "Hello, Paul. Good morning!\n"
          ]
        }
      ]
    },
    {
      "cell_type": "code",
      "metadata": {
        "colab": {
          "base_uri": "https://localhost:8080/",
          "height": 231
        },
        "id": "1bE2b6buHFaR",
        "outputId": "1139f802-fdd7-49ff-d929-1d2702bfb3ef"
      },
      "source": [
        "# function call\n",
        "greet('Paul')\n",
        "\n",
        "# function definition\n",
        "def greet(name):\n",
        "    \"\"\"\n",
        "    This function greets to\n",
        "    the person passed in as\n",
        "    a parameter\n",
        "    \"\"\"\n",
        "    print(\"Hello, \" + name + \". Good morning!\")\n",
        "\n",
        "# Erro: name 'greet' is not defined"
      ],
      "execution_count": 1,
      "outputs": [
        {
          "output_type": "error",
          "ename": "NameError",
          "evalue": "ignored",
          "traceback": [
            "\u001b[0;31m---------------------------------------------------------------------------\u001b[0m",
            "\u001b[0;31mNameError\u001b[0m                                 Traceback (most recent call last)",
            "\u001b[0;32m<ipython-input-1-247305ab2d84>\u001b[0m in \u001b[0;36m<module>\u001b[0;34m()\u001b[0m\n\u001b[1;32m      1\u001b[0m \u001b[0;31m# function call\u001b[0m\u001b[0;34m\u001b[0m\u001b[0;34m\u001b[0m\u001b[0;34m\u001b[0m\u001b[0m\n\u001b[0;32m----> 2\u001b[0;31m \u001b[0mgreet\u001b[0m\u001b[0;34m(\u001b[0m\u001b[0;34m'Paul'\u001b[0m\u001b[0;34m)\u001b[0m\u001b[0;34m\u001b[0m\u001b[0;34m\u001b[0m\u001b[0m\n\u001b[0m\u001b[1;32m      3\u001b[0m \u001b[0;34m\u001b[0m\u001b[0m\n\u001b[1;32m      4\u001b[0m \u001b[0;31m# function definition\u001b[0m\u001b[0;34m\u001b[0m\u001b[0;34m\u001b[0m\u001b[0;34m\u001b[0m\u001b[0m\n\u001b[1;32m      5\u001b[0m \u001b[0;32mdef\u001b[0m \u001b[0mgreet\u001b[0m\u001b[0;34m(\u001b[0m\u001b[0mname\u001b[0m\u001b[0;34m)\u001b[0m\u001b[0;34m:\u001b[0m\u001b[0;34m\u001b[0m\u001b[0;34m\u001b[0m\u001b[0m\n",
            "\u001b[0;31mNameError\u001b[0m: name 'greet' is not defined"
          ]
        }
      ]
    },
    {
      "cell_type": "markdown",
      "metadata": {
        "id": "xg-KbkeAHUeG"
      },
      "source": [
        "### Docstrings\n",
        "The first string after the function header is called the docstring and is short for documentation string. It is briefly used to explain what a function does.\n",
        "\n",
        "Although optional, documentation is a good programming practice. Unless you can remember what you had for dinner last week, always document your code.\n",
        "\n",
        "In the above example, we have a docstring immediately below the function header. We generally use triple quotes so that docstring can extend up to multiple lines. This string is available to us as the __doc__ attribute of the function."
      ]
    },
    {
      "cell_type": "code",
      "metadata": {
        "colab": {
          "base_uri": "https://localhost:8080/"
        },
        "id": "CRIhpqs5HKqg",
        "outputId": "a89b5b92-77e2-468a-f2df-695f9f781378"
      },
      "source": [
        "print(greet.__doc__)"
      ],
      "execution_count": 4,
      "outputs": [
        {
          "output_type": "stream",
          "name": "stdout",
          "text": [
            "\n",
            "    This function greets to\n",
            "    the person passed in as\n",
            "    a parameter\n",
            "    \n"
          ]
        }
      ]
    },
    {
      "cell_type": "markdown",
      "metadata": {
        "id": "22kFEJYAHatg"
      },
      "source": [
        "### The return statement\n"
      ]
    },
    {
      "cell_type": "code",
      "metadata": {
        "colab": {
          "base_uri": "https://localhost:8080/"
        },
        "id": "lAgIXQ3xHXFC",
        "outputId": "6f456124-3a8d-48ed-c642-c513d38961d8"
      },
      "source": [
        "print(greet(\"May\"))"
      ],
      "execution_count": 5,
      "outputs": [
        {
          "output_type": "stream",
          "name": "stdout",
          "text": [
            "Hello, May. Good morning!\n",
            "None\n"
          ]
        }
      ]
    },
    {
      "cell_type": "code",
      "metadata": {
        "colab": {
          "base_uri": "https://localhost:8080/"
        },
        "id": "fgU7OkyXHdnE",
        "outputId": "ff43e755-06f0-4b7a-abaa-26def620663a"
      },
      "source": [
        "def absolute_value(num):\n",
        "    \"\"\"This function returns the absolute\n",
        "    value of the entered number\"\"\"\n",
        "\n",
        "    if num >= 0:\n",
        "        return num\n",
        "    else:\n",
        "        return -num\n",
        "\n",
        "\n",
        "print(absolute_value(2))\n",
        "\n",
        "print(absolute_value(-4))"
      ],
      "execution_count": 6,
      "outputs": [
        {
          "output_type": "stream",
          "name": "stdout",
          "text": [
            "2\n",
            "4\n"
          ]
        }
      ]
    },
    {
      "cell_type": "markdown",
      "metadata": {
        "id": "IIj9ysVpHlUz"
      },
      "source": [
        "### How Function works in Python?\n"
      ]
    },
    {
      "cell_type": "markdown",
      "metadata": {
        "id": "hWfWEmdRHqE8"
      },
      "source": [
        "Scope and Lifetime of variables\n",
        "Scope of a variable is the portion of a program where the variable is recognized. Parameters and variables defined inside a function are not visible from outside the function. Hence, they have a local scope.\n",
        "\n",
        "The lifetime of a variable is the period throughout which the variable exits in the memory. The lifetime of variables inside a function is as long as the function executes.\n",
        "\n",
        "They are destroyed once we return from the function. Hence, a function does not remember the value of a variable from its previous calls.\n",
        "\n",
        "Here is an example to illustrate the scope of a variable inside a function."
      ]
    },
    {
      "cell_type": "code",
      "metadata": {
        "colab": {
          "base_uri": "https://localhost:8080/"
        },
        "id": "egFd5sBQHhXZ",
        "outputId": "310fb7df-eeea-420e-e062-16365cd37137"
      },
      "source": [
        "def my_func():\n",
        "\tx = 10\n",
        "\tprint(\"Value inside function:\",x)\n",
        "\n",
        "x = 20\n",
        "my_func()\n",
        "print(\"Value outside function:\",x)"
      ],
      "execution_count": 7,
      "outputs": [
        {
          "output_type": "stream",
          "name": "stdout",
          "text": [
            "Value inside function: 10\n",
            "Value outside function: 20\n"
          ]
        }
      ]
    }
  ]
}
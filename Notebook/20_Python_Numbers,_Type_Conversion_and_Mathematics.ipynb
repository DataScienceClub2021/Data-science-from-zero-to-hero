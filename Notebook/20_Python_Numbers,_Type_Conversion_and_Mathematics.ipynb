{
  "nbformat": 4,
  "nbformat_minor": 0,
  "metadata": {
    "colab": {
      "name": "20- Python Numbers, Type Conversion and Mathematics.ipynb",
      "provenance": []
    },
    "kernelspec": {
      "name": "python3",
      "display_name": "Python 3"
    },
    "language_info": {
      "name": "python"
    }
  },
  "cells": [
    {
      "cell_type": "markdown",
      "metadata": {
        "id": "9MlJl-LK_WBd"
      },
      "source": [
        "### Number Data Type in Python\n"
      ]
    },
    {
      "cell_type": "markdown",
      "metadata": {
        "id": "iDcOeEIU_RRf"
      },
      "source": [
        "Number Data Type in Python\n",
        "Python supports integers, floating-point numbers and complex numbers. They are defined as int, float, and complex classes in Python.\n",
        "\n",
        "Integers and floating points are separated by the presence or absence of a decimal point. For instance, 5 is an integer whereas 5.0 is a floating-point number.\n",
        "\n",
        "Complex numbers are written in the form, x + yj, where x is the real part and y is the imaginary part.\n",
        "\n",
        "We can use the type() function to know which class a variable or a value belongs to and isinstance() function to check if it belongs to a particular class.\n",
        "\n",
        "Let's look at an example:"
      ]
    },
    {
      "cell_type": "code",
      "metadata": {
        "colab": {
          "base_uri": "https://localhost:8080/"
        },
        "id": "y-zdymvT_MmE",
        "outputId": "c409aa7b-fafb-4ef4-e12b-2f068142b38a"
      },
      "source": [
        "a = 5\n",
        "\n",
        "print(type(a))\n",
        "\n",
        "print(type(5.0))\n",
        "\n",
        "c = 5 + 3j\n",
        "print(c + 3)\n",
        "\n",
        "print(isinstance(c, complex))"
      ],
      "execution_count": 1,
      "outputs": [
        {
          "output_type": "stream",
          "name": "stdout",
          "text": [
            "<class 'int'>\n",
            "<class 'float'>\n",
            "(8+3j)\n",
            "True\n"
          ]
        }
      ]
    },
    {
      "cell_type": "markdown",
      "metadata": {
        "id": "8BI3buRz_dgr"
      },
      "source": [
        "While integers can be of any length, a floating-point number is accurate only up to 15 decimal places (the 16th place is inaccurate).\n",
        "\n"
      ]
    },
    {
      "cell_type": "markdown",
      "metadata": {
        "id": "6L52A4P6_gZT"
      },
      "source": [
        "The numbers we deal with every day are of the decimal (base 10) number system. But computer programmers (generally embedded programmers) need to work with binary (base 2), hexadecimal (base 16) and octal (base 8) number systems.\n",
        "\n",
        "In Python, we can represent these numbers by appropriately placing a prefix before that number. The following table lists these prefixes."
      ]
    },
    {
      "cell_type": "markdown",
      "metadata": {
        "id": "-fYFrfyE_kHT"
      },
      "source": [
        "![image.png](data:image/png;base64,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)"
      ]
    },
    {
      "cell_type": "code",
      "metadata": {
        "colab": {
          "base_uri": "https://localhost:8080/"
        },
        "id": "ma5ncz8R_ZQF",
        "outputId": "47123e88-f3a4-459c-c8b2-c7b990d5a37d"
      },
      "source": [
        "# Output: 107\n",
        "print(0b1101011)\n",
        "\n",
        "# Output: 253 (251 + 2)\n",
        "print(0xFB + 0b10)\n",
        "\n",
        "# Output: 13\n",
        "print(0o15)"
      ],
      "execution_count": 2,
      "outputs": [
        {
          "output_type": "stream",
          "name": "stdout",
          "text": [
            "107\n",
            "253\n",
            "13\n"
          ]
        }
      ]
    },
    {
      "cell_type": "markdown",
      "metadata": {
        "id": "MwSGA7wR_zVU"
      },
      "source": [
        "### Python Decimal\n",
        "Python built-in class float performs some calculations that might amaze us. We all know that the sum of 1.1 and 2.2 is 3.3, but Python seems to disagree."
      ]
    },
    {
      "cell_type": "code",
      "metadata": {
        "colab": {
          "base_uri": "https://localhost:8080/"
        },
        "id": "StcE4gqp_rLs",
        "outputId": "8c675d65-74f0-401a-fbfc-0ff458a05618"
      },
      "source": [
        " (1.1 + 2.2) == 3.3"
      ],
      "execution_count": 5,
      "outputs": [
        {
          "output_type": "execute_result",
          "data": {
            "text/plain": [
              "False"
            ]
          },
          "metadata": {},
          "execution_count": 5
        }
      ]
    },
    {
      "cell_type": "markdown",
      "metadata": {
        "id": "zOOomN02_4bL"
      },
      "source": [
        "What is going on?\n",
        "\n",
        "It turns out that floating-point numbers are implemented in computer hardware as binary fractions as the computer only understands binary (0 and 1). Due to this reason, most of the decimal fractions we know, cannot be accurately stored in our computer.\n",
        "\n",
        "Let's take an example. We cannot represent the fraction 1/3 as a decimal number. This will give 0.33333333... which is infinitely long, and we can only approximate it.\n",
        "\n",
        "It turns out that the decimal fraction 0.1 will result in an infinitely long binary fraction of 0.000110011001100110011... and our computer only stores a finite number of it.\n",
        "\n",
        "This will only approximate 0.1 but never be equal. Hence, it is the limitation of our computer hardware and not an error in Python."
      ]
    },
    {
      "cell_type": "code",
      "metadata": {
        "colab": {
          "base_uri": "https://localhost:8080/"
        },
        "id": "GUUOsN_S_1gY",
        "outputId": "20e9a3f9-5aac-4e09-ec76-dd039f3399b4"
      },
      "source": [
        "1.1 + 2.2"
      ],
      "execution_count": 6,
      "outputs": [
        {
          "output_type": "execute_result",
          "data": {
            "text/plain": [
              "3.3000000000000003"
            ]
          },
          "metadata": {},
          "execution_count": 6
        }
      ]
    },
    {
      "cell_type": "markdown",
      "metadata": {
        "id": "owat3Y3v_8y_"
      },
      "source": [
        "To overcome this issue, we can use the decimal module that comes with Python. While floating-point numbers have precision up to 15 decimal places, the decimal module has user-settable precision.\n",
        "\n"
      ]
    },
    {
      "cell_type": "code",
      "metadata": {
        "colab": {
          "base_uri": "https://localhost:8080/"
        },
        "id": "rtMAAkDD_6cN",
        "outputId": "3d77cb64-7f7a-45fd-d2cd-c33c820180e4"
      },
      "source": [
        "import decimal\n",
        "\n",
        "print(0.1)\n",
        "\n",
        "print(decimal.Decimal(0.1))"
      ],
      "execution_count": 7,
      "outputs": [
        {
          "output_type": "stream",
          "name": "stdout",
          "text": [
            "0.1\n",
            "0.1000000000000000055511151231257827021181583404541015625\n"
          ]
        }
      ]
    },
    {
      "cell_type": "markdown",
      "metadata": {
        "id": "rOPLirc3AAkv"
      },
      "source": [
        "This module is used when we want to carry out decimal calculations as we learned in school.\n",
        "\n",
        "It also preserves significance. We know 25.50 kg is more accurate than 25.5 kg as it has two significant decimal places compared to one."
      ]
    },
    {
      "cell_type": "code",
      "metadata": {
        "colab": {
          "base_uri": "https://localhost:8080/"
        },
        "id": "lNYEn6rQ_-QR",
        "outputId": "9ddda3c5-95ce-4b73-936b-ef970df14974"
      },
      "source": [
        "from decimal import Decimal as D\n",
        "\n",
        "print(D('1.1') + D('2.2'))\n",
        "\n",
        "print(D('1.2') * D('2.50'))"
      ],
      "execution_count": 8,
      "outputs": [
        {
          "output_type": "stream",
          "name": "stdout",
          "text": [
            "3.3\n",
            "3.000\n"
          ]
        }
      ]
    },
    {
      "cell_type": "markdown",
      "metadata": {
        "id": "vL365voMAEsf"
      },
      "source": [
        "Notice the trailing zeroes in the above example.\n",
        "\n",
        "We might ask, why not implement Decimal every time, instead of float? The main reason is efficiency. Floating point operations are carried out must faster than Decimal operations.\n",
        "\n",
        "### When to use Decimal instead of float?\n",
        "We generally use Decimal in the following cases.\n",
        "\n",
        "When we are making financial applications that need exact decimal representation.\n",
        "When we want to control the level of precision required.\n",
        "When we want to implement the notion of significant decimal places."
      ]
    },
    {
      "cell_type": "markdown",
      "metadata": {
        "id": "yhcAhnxSAHX_"
      },
      "source": [
        "### Python Fractions\n",
        "Python provides operations involving fractional numbers through its fractions module.\n",
        "\n",
        "A fraction has a numerator and a denominator, both of which are integers. This module has support for rational number arithmetic.\n",
        "\n",
        "We can create Fraction objects in various ways. Let's have a look at them."
      ]
    },
    {
      "cell_type": "code",
      "metadata": {
        "colab": {
          "base_uri": "https://localhost:8080/"
        },
        "id": "ybihAQr5AB6q",
        "outputId": "346b6c84-25b2-4553-fe6a-37b80c43e83c"
      },
      "source": [
        "import fractions\n",
        "\n",
        "print(fractions.Fraction(1.5))\n",
        "\n",
        "print(fractions.Fraction(5))\n",
        "\n",
        "print(fractions.Fraction(1,3))"
      ],
      "execution_count": 9,
      "outputs": [
        {
          "output_type": "stream",
          "name": "stdout",
          "text": [
            "3/2\n",
            "5\n",
            "1/3\n"
          ]
        }
      ]
    },
    {
      "cell_type": "code",
      "metadata": {
        "colab": {
          "base_uri": "https://localhost:8080/"
        },
        "id": "5Yz2LfVoAKZ0",
        "outputId": "b173f3b9-348e-4418-97c3-2a5088c5b315"
      },
      "source": [
        "import fractions\n",
        "\n",
        "# As float\n",
        "# Output: 2476979795053773/2251799813685248\n",
        "print(fractions.Fraction(1.1))\n",
        "\n",
        "# As string\n",
        "# Output: 11/10\n",
        "print(fractions.Fraction('1.1'))"
      ],
      "execution_count": 10,
      "outputs": [
        {
          "output_type": "stream",
          "name": "stdout",
          "text": [
            "2476979795053773/2251799813685248\n",
            "11/10\n"
          ]
        }
      ]
    },
    {
      "cell_type": "code",
      "metadata": {
        "colab": {
          "base_uri": "https://localhost:8080/"
        },
        "id": "BjJrEZx-ANsG",
        "outputId": "fc81f663-0111-45eb-89ec-7926f07a7614"
      },
      "source": [
        "from fractions import Fraction as F\n",
        "\n",
        "print(F(1, 3) + F(1, 3))\n",
        "\n",
        "print(1 / F(5, 6))\n",
        "\n",
        "print(F(-3, 10) > 0)\n",
        "\n",
        "print(F(-3, 10) < 0)"
      ],
      "execution_count": 11,
      "outputs": [
        {
          "output_type": "stream",
          "name": "stdout",
          "text": [
            "2/3\n",
            "6/5\n",
            "False\n",
            "True\n"
          ]
        }
      ]
    },
    {
      "cell_type": "markdown",
      "metadata": {
        "id": "9I-FeCvrASCS"
      },
      "source": [
        "### Python Mathematics\n"
      ]
    },
    {
      "cell_type": "code",
      "metadata": {
        "colab": {
          "base_uri": "https://localhost:8080/"
        },
        "id": "EjnwIo0GAQOV",
        "outputId": "fb0c887f-05ac-4b71-a366-c52a41992e61"
      },
      "source": [
        "import math\n",
        "\n",
        "print(math.pi)\n",
        "\n",
        "print(math.cos(math.pi))\n",
        "\n",
        "print(math.exp(10))\n",
        "\n",
        "print(math.log10(1000))\n",
        "\n",
        "print(math.sinh(1))\n",
        "\n",
        "print(math.factorial(6))"
      ],
      "execution_count": 12,
      "outputs": [
        {
          "output_type": "stream",
          "name": "stdout",
          "text": [
            "3.141592653589793\n",
            "-1.0\n",
            "22026.465794806718\n",
            "3.0\n",
            "1.1752011936438014\n",
            "720\n"
          ]
        }
      ]
    },
    {
      "cell_type": "code",
      "metadata": {
        "colab": {
          "base_uri": "https://localhost:8080/"
        },
        "id": "E9FkogSDAThR",
        "outputId": "2958419c-4ce0-491e-cda7-25c72acee0fa"
      },
      "source": [
        "import random\n",
        "\n",
        "print(random.randrange(10, 20))\n",
        "\n",
        "x = ['a', 'b', 'c', 'd', 'e']\n",
        "\n",
        "# Get random choice\n",
        "print(random.choice(x))\n",
        "\n",
        "# Shuffle x\n",
        "random.shuffle(x)\n",
        "\n",
        "# Print the shuffled x\n",
        "print(x)\n",
        "\n",
        "# Print random element\n",
        "print(random.random())"
      ],
      "execution_count": 13,
      "outputs": [
        {
          "output_type": "stream",
          "name": "stdout",
          "text": [
            "12\n",
            "a\n",
            "['a', 'c', 'e', 'b', 'd']\n",
            "0.2394878861490467\n"
          ]
        }
      ]
    },
    {
      "cell_type": "code",
      "metadata": {
        "id": "w_uGRQ86AXlC"
      },
      "source": [
        ""
      ],
      "execution_count": null,
      "outputs": []
    }
  ]
}
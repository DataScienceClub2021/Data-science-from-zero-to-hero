{
  "nbformat": 4,
  "nbformat_minor": 0,
  "metadata": {
    "colab": {
      "name": "Python Generators.ipynb",
      "provenance": [],
      "collapsed_sections": []
    },
    "kernelspec": {
      "name": "python3",
      "display_name": "Python 3"
    },
    "language_info": {
      "name": "python"
    }
  },
  "cells": [
    {
      "cell_type": "markdown",
      "source": [
        "There is a lot of work in building an iterator in Python. We have to implement a class with __iter__() and __next__() method, keep track of internal states, and raise StopIteration when there are no values to be returned.\n",
        "\n",
        "This is both lengthy and counterintuitive. Generator comes to the rescue in such situations.\n",
        "\n",
        "Python generators are a simple way of creating iterators. All the work we mentioned above are automatically handled by generators in Python.\n",
        "\n",
        "Simply speaking, a generator is a function that returns an object (iterator) which we can iterate over (one value at a time).\n",
        "\n"
      ],
      "metadata": {
        "id": "MHJPAzK3uowb"
      }
    },
    {
      "cell_type": "markdown",
      "source": [
        "## Create Generators in Python\n",
        "It is fairly simple to create a generator in Python. It is as easy as defining a normal function, but with a yield statement instead of a return statement.\n",
        "\n",
        "If a function contains at least one yield statement (it may contain other yield or return statements), it becomes a generator function. Both yield and return will return some value from a function.\n",
        "\n",
        "The difference is that while a return statement terminates a function entirely, yield statement pauses the function saving all its states and later continues from there on successive calls."
      ],
      "metadata": {
        "id": "n9ZMWxm1uuco"
      }
    },
    {
      "cell_type": "markdown",
      "source": [
        "## Differences between Generator function and Normal function\n",
        "Here is how a generator function differs from a normal function.\n",
        "\n",
        "* Generator function contains one or more yield statements.\n",
        "* When called, it returns an object (iterator) but does not start execution immediately.\n",
        "* Methods like __iter__() and __next__() are implemented automatically. So we can iterate through the items using next().\n",
        "* Once the function yields, the function is paused and the control is transferred to the caller.\n",
        "* Local variables and their states are remembered between successive calls.\n",
        "* Finally, when the function terminates, StopIteration is raised automatically on further calls.\n",
        "\n",
        "Here is an example to illustrate all of the points stated above. We have a generator function named my_gen() with several yield statements.\n",
        "\n"
      ],
      "metadata": {
        "id": "0cyXpKDNu831"
      }
    },
    {
      "cell_type": "code",
      "execution_count": null,
      "metadata": {
        "id": "YAzhPYfOuQi-"
      },
      "outputs": [],
      "source": [
        "# A simple generator function\n",
        "def my_gen():\n",
        "    n = 1\n",
        "    print('This is printed first')\n",
        "    # Generator function contains yield statements\n",
        "    yield n\n",
        "\n",
        "    n += 1\n",
        "    print('This is printed second')\n",
        "    yield n\n",
        "\n",
        "    n += 1\n",
        "    print('This is printed at last')\n",
        "    yield n"
      ]
    },
    {
      "cell_type": "markdown",
      "source": [
        "An interactive run in the interpreter is given below. Run these in the Python shell to see the output.\n",
        "\n"
      ],
      "metadata": {
        "id": "KHM1Bvb5vckK"
      }
    },
    {
      "cell_type": "code",
      "source": [
        "a = my_gen()\n",
        "next(a)\n",
        "next(a)\n",
        "next(a)\n",
        "next(a)\n",
        "next(a)"
      ],
      "metadata": {
        "colab": {
          "base_uri": "https://localhost:8080/",
          "height": 269
        },
        "id": "XJuGC7Qnvet3",
        "outputId": "8b8bb971-08ed-4260-9c56-a69e3105a140"
      },
      "execution_count": null,
      "outputs": [
        {
          "output_type": "stream",
          "name": "stdout",
          "text": [
            "This is printed first\n",
            "This is printed second\n",
            "This is printed at last\n"
          ]
        },
        {
          "output_type": "error",
          "ename": "StopIteration",
          "evalue": "ignored",
          "traceback": [
            "\u001b[0;31m---------------------------------------------------------------------------\u001b[0m",
            "\u001b[0;31mStopIteration\u001b[0m                             Traceback (most recent call last)",
            "\u001b[0;32m<ipython-input-3-1488d844a726>\u001b[0m in \u001b[0;36m<module>\u001b[0;34m()\u001b[0m\n\u001b[1;32m      3\u001b[0m \u001b[0mnext\u001b[0m\u001b[0;34m(\u001b[0m\u001b[0ma\u001b[0m\u001b[0;34m)\u001b[0m\u001b[0;34m\u001b[0m\u001b[0;34m\u001b[0m\u001b[0m\n\u001b[1;32m      4\u001b[0m \u001b[0mnext\u001b[0m\u001b[0;34m(\u001b[0m\u001b[0ma\u001b[0m\u001b[0;34m)\u001b[0m\u001b[0;34m\u001b[0m\u001b[0;34m\u001b[0m\u001b[0m\n\u001b[0;32m----> 5\u001b[0;31m \u001b[0mnext\u001b[0m\u001b[0;34m(\u001b[0m\u001b[0ma\u001b[0m\u001b[0;34m)\u001b[0m\u001b[0;34m\u001b[0m\u001b[0;34m\u001b[0m\u001b[0m\n\u001b[0m\u001b[1;32m      6\u001b[0m \u001b[0mnext\u001b[0m\u001b[0;34m(\u001b[0m\u001b[0ma\u001b[0m\u001b[0;34m)\u001b[0m\u001b[0;34m\u001b[0m\u001b[0;34m\u001b[0m\u001b[0m\n",
            "\u001b[0;31mStopIteration\u001b[0m: "
          ]
        }
      ]
    },
    {
      "cell_type": "markdown",
      "source": [
        "One interesting thing to note in the above example is that the value of variable n is remembered between each call.\n",
        "\n",
        "Unlike normal functions, the local variables are not destroyed when the function yields. Furthermore, the generator object can be iterated only once.\n",
        "\n",
        "To restart the process we need to create another generator object using something like a = my_gen().\n",
        "\n",
        "One final thing to note is that we can use generators with for loops directly.\n",
        "\n",
        "This is because a for loop takes an iterator and iterates over it using next() function. It automatically ends when StopIteration is raised. Check here to know how a for loop is actually implemented in Python."
      ],
      "metadata": {
        "id": "wEnjz3ITvsMm"
      }
    },
    {
      "cell_type": "code",
      "source": [
        "# A simple generator function\n",
        "def my_gen():\n",
        "    n = 1\n",
        "    print('This is printed first')\n",
        "    # Generator function contains yield statements\n",
        "    yield n\n",
        "\n",
        "    n += 1\n",
        "    print('This is printed second')\n",
        "    yield n\n",
        "\n",
        "    n += 1\n",
        "    print('This is printed at last')\n",
        "    yield n\n",
        "\n",
        "\n",
        "# Using for loop\n",
        "for item in my_gen():\n",
        "    print(item)"
      ],
      "metadata": {
        "colab": {
          "base_uri": "https://localhost:8080/"
        },
        "id": "eFXCj-IJvuVC",
        "outputId": "f0a853f2-e0cc-4609-afe3-0d0ddcff59b9"
      },
      "execution_count": null,
      "outputs": [
        {
          "output_type": "stream",
          "name": "stdout",
          "text": [
            "This is printed first\n",
            "1\n",
            "This is printed second\n",
            "2\n",
            "This is printed at last\n",
            "3\n"
          ]
        }
      ]
    },
    {
      "cell_type": "markdown",
      "source": [
        "## Python Generators with a Loop\n",
        "The above example is of less use and we studied it just to get an idea of what was happening in the background.\n",
        "\n",
        "Normally, generator functions are implemented with a loop having a suitable terminating condition.\n",
        "\n",
        "Let's take an example of a generator that reverses a string."
      ],
      "metadata": {
        "id": "0MDxgl1nvxUb"
      }
    },
    {
      "cell_type": "code",
      "source": [
        "def rev_str(my_str):\n",
        "    length = len(my_str)\n",
        "    for i in range(length - 1, -1, -1):\n",
        "        yield my_str[i]\n",
        "\n",
        "\n",
        "# For loop to reverse the string\n",
        "for char in rev_str(\"hello\"):\n",
        "    print(char)"
      ],
      "metadata": {
        "colab": {
          "base_uri": "https://localhost:8080/"
        },
        "id": "DG0ijDy8vvm4",
        "outputId": "2c1e3e1a-64f8-4739-ef40-d6cfc0f07afb"
      },
      "execution_count": null,
      "outputs": [
        {
          "output_type": "stream",
          "name": "stdout",
          "text": [
            "o\n",
            "l\n",
            "l\n",
            "e\n",
            "h\n"
          ]
        }
      ]
    },
    {
      "cell_type": "markdown",
      "source": [
        "## Python Generator Expression\n",
        "\n",
        "Simple generators can be easily created on the fly using generator expressions. It makes building generators easy.\n",
        "\n",
        "Similar to the lambda functions which create anonymous functions, generator expressions create anonymous generator functions.\n",
        "\n",
        "The syntax for generator expression is similar to that of a list comprehension in Python. But the square brackets are replaced with round parentheses.\n",
        "\n",
        "The major difference between a list comprehension and a generator expression is that a list comprehension produces the entire list while the generator expression produces one item at a time.\n",
        "\n",
        "They have lazy execution ( producing items only when asked for ). For this reason, a generator expression is much more memory efficient than an equivalent list comprehension."
      ],
      "metadata": {
        "id": "hU699T_cv4Uu"
      }
    },
    {
      "cell_type": "code",
      "source": [
        "# Initialize the list\n",
        "my_list = [1, 3, 6, 10]\n",
        "\n",
        "# square each term using list comprehension\n",
        "list_ = [x**2 for x in my_list]\n",
        "\n",
        "# same thing can be done using a generator expression\n",
        "# generator expressions are surrounded by parenthesis ()\n",
        "generator = (x**2 for x in my_list)\n",
        "\n",
        "print(list_)\n",
        "print(generator)"
      ],
      "metadata": {
        "colab": {
          "base_uri": "https://localhost:8080/"
        },
        "id": "TzcjG1u2wAiD",
        "outputId": "41ad6ffb-e5ef-4505-e001-91446d51a6b1"
      },
      "execution_count": null,
      "outputs": [
        {
          "output_type": "stream",
          "name": "stdout",
          "text": [
            "[1, 9, 36, 100]\n",
            "<generator object <genexpr> at 0x7f30c9136a50>\n"
          ]
        }
      ]
    },
    {
      "cell_type": "markdown",
      "source": [
        "We can see above that the generator expression did not produce the required result immediately. Instead, it returned a generator object, which produces items only on demand.\n",
        "\n",
        "Here is how we can start getting items from the generator:"
      ],
      "metadata": {
        "id": "QRuAeThvwCvG"
      }
    },
    {
      "cell_type": "code",
      "source": [
        "# Initialize the list\n",
        "my_list = [1, 3, 6, 10]\n",
        "\n",
        "a = (x**2 for x in my_list)\n",
        "print(next(a))\n",
        "\n",
        "print(next(a))\n",
        "\n",
        "print(next(a))\n",
        "\n",
        "print(next(a))\n",
        "\n",
        "next(a)"
      ],
      "metadata": {
        "colab": {
          "base_uri": "https://localhost:8080/",
          "height": 269
        },
        "id": "LUCPcbo7wBBR",
        "outputId": "d73d7434-1493-4c6d-e4d5-1d4f1ded46c0"
      },
      "execution_count": null,
      "outputs": [
        {
          "output_type": "stream",
          "name": "stdout",
          "text": [
            "1\n",
            "9\n",
            "36\n",
            "100\n"
          ]
        },
        {
          "output_type": "error",
          "ename": "StopIteration",
          "evalue": "ignored",
          "traceback": [
            "\u001b[0;31m---------------------------------------------------------------------------\u001b[0m",
            "\u001b[0;31mStopIteration\u001b[0m                             Traceback (most recent call last)",
            "\u001b[0;32m<ipython-input-7-f7b055f5764d>\u001b[0m in \u001b[0;36m<module>\u001b[0;34m()\u001b[0m\n\u001b[1;32m     11\u001b[0m \u001b[0mprint\u001b[0m\u001b[0;34m(\u001b[0m\u001b[0mnext\u001b[0m\u001b[0;34m(\u001b[0m\u001b[0ma\u001b[0m\u001b[0;34m)\u001b[0m\u001b[0;34m)\u001b[0m\u001b[0;34m\u001b[0m\u001b[0;34m\u001b[0m\u001b[0m\n\u001b[1;32m     12\u001b[0m \u001b[0;34m\u001b[0m\u001b[0m\n\u001b[0;32m---> 13\u001b[0;31m \u001b[0mnext\u001b[0m\u001b[0;34m(\u001b[0m\u001b[0ma\u001b[0m\u001b[0;34m)\u001b[0m\u001b[0;34m\u001b[0m\u001b[0;34m\u001b[0m\u001b[0m\n\u001b[0m",
            "\u001b[0;31mStopIteration\u001b[0m: "
          ]
        }
      ]
    },
    {
      "cell_type": "markdown",
      "source": [
        "Generator expressions can be used as function arguments. When used in such a way, the round parentheses can be dropped.\n",
        "\n"
      ],
      "metadata": {
        "id": "x7p5uHHZwGyn"
      }
    },
    {
      "cell_type": "code",
      "source": [
        "sum(x**2 for x in my_list)"
      ],
      "metadata": {
        "colab": {
          "base_uri": "https://localhost:8080/"
        },
        "id": "8PHxcWObwGQs",
        "outputId": "f4db2ddc-7ea5-43bf-c381-1e936b317556"
      },
      "execution_count": null,
      "outputs": [
        {
          "output_type": "execute_result",
          "data": {
            "text/plain": [
              "146"
            ]
          },
          "metadata": {},
          "execution_count": 8
        }
      ]
    },
    {
      "cell_type": "code",
      "source": [
        "max(x**2 for x in my_list)"
      ],
      "metadata": {
        "colab": {
          "base_uri": "https://localhost:8080/"
        },
        "id": "4aH0yGybwEeA",
        "outputId": "3407fdc9-fcf9-40ba-e565-a148c06c73ae"
      },
      "execution_count": null,
      "outputs": [
        {
          "output_type": "execute_result",
          "data": {
            "text/plain": [
              "100"
            ]
          },
          "metadata": {},
          "execution_count": 9
        }
      ]
    },
    {
      "cell_type": "markdown",
      "source": [
        "## Use of Python Generators\n",
        "There are several reasons that make generators a powerful implementation.\n",
        "\n",
        "1. Easy to Implement\n",
        "Generators can be implemented in a clear and concise way as compared to their iterator class counterpart. Following is an example to implement a sequence of power of 2 using an iterator class."
      ],
      "metadata": {
        "id": "HXhs7G2nwM3C"
      }
    },
    {
      "cell_type": "code",
      "source": [
        "class PowTwo:\n",
        "    def __init__(self, max=0):\n",
        "        self.n = 0\n",
        "        self.max = max\n",
        "\n",
        "    def __iter__(self):\n",
        "        return self\n",
        "\n",
        "    def __next__(self):\n",
        "        if self.n > self.max:\n",
        "            raise StopIteration\n",
        "\n",
        "        result = 2 ** self.n\n",
        "        self.n += 1\n",
        "        return result"
      ],
      "metadata": {
        "id": "evqAecEywKdp"
      },
      "execution_count": null,
      "outputs": []
    },
    {
      "cell_type": "markdown",
      "source": [
        "The above program was lengthy and confusing. Now, let's do the same using a generator function.\n",
        "\n"
      ],
      "metadata": {
        "id": "KIMfzT3IwTDs"
      }
    },
    {
      "cell_type": "code",
      "source": [
        "def PowTwoGen(max=0):\n",
        "    n = 0\n",
        "    while n < max:\n",
        "        yield 2 ** n\n",
        "        n += 1"
      ],
      "metadata": {
        "id": "GdYRvgFpwQtq"
      },
      "execution_count": null,
      "outputs": []
    },
    {
      "cell_type": "markdown",
      "source": [
        "Since generators keep track of details automatically, the implementation was concise and much cleaner.\n",
        "\n"
      ],
      "metadata": {
        "id": "MDDKCRwZwVJo"
      }
    },
    {
      "cell_type": "markdown",
      "source": [
        "2. Memory Efficient\n",
        "A normal function to return a sequence will create the entire sequence in memory before returning the result. This is an overkill, if the number of items in the sequence is very large.\n",
        "\n",
        "Generator implementation of such sequences is memory friendly and is preferred since it only produces one item at a time."
      ],
      "metadata": {
        "id": "Oz2v0egawXC3"
      }
    },
    {
      "cell_type": "markdown",
      "source": [
        "3. Represent Infinite Stream\n",
        "Generators are excellent mediums to represent an infinite stream of data. Infinite streams cannot be stored in memory, and since generators produce only one item at a time, they can represent an infinite stream of data.\n",
        "\n",
        "The following generator function can generate all the even numbers (at least in theory)."
      ],
      "metadata": {
        "id": "ztcuW8rLwYqq"
      }
    },
    {
      "cell_type": "code",
      "source": [
        "def all_even():\n",
        "    n = 0\n",
        "    while True:\n",
        "        yield n\n",
        "        n += 2"
      ],
      "metadata": {
        "id": "L0lDpmCYwUtf"
      },
      "execution_count": null,
      "outputs": []
    },
    {
      "cell_type": "markdown",
      "source": [
        "4. Pipelining Generators\n",
        "Multiple generators can be used to pipeline a series of operations. This is best illustrated using an example.\n",
        "\n",
        "Suppose we have a generator that produces the numbers in the Fibonacci series. And we have another generator for squaring numbers.\n",
        "\n",
        "If we want to find out the sum of squares of numbers in the Fibonacci series, we can do it in the following way by pipelining the output of generator functions together."
      ],
      "metadata": {
        "id": "f6cudEA_whGG"
      }
    },
    {
      "cell_type": "code",
      "source": [
        "def fibonacci_numbers(nums):\n",
        "    x, y = 0, 1\n",
        "    for _ in range(nums):\n",
        "        x, y = y, x+y\n",
        "        yield x\n",
        "\n",
        "def square(nums):\n",
        "    for num in nums:\n",
        "        yield num**2\n",
        "\n",
        "print(sum(square(fibonacci_numbers(10))))"
      ],
      "metadata": {
        "colab": {
          "base_uri": "https://localhost:8080/"
        },
        "id": "nunDwsFhwfma",
        "outputId": "029b2607-213f-415d-9637-d8eff83df4c0"
      },
      "execution_count": null,
      "outputs": [
        {
          "output_type": "stream",
          "name": "stdout",
          "text": [
            "4895\n"
          ]
        }
      ]
    },
    {
      "cell_type": "code",
      "source": [
        ""
      ],
      "metadata": {
        "id": "O-aUUsHdwkAz"
      },
      "execution_count": null,
      "outputs": []
    }
  ]
}
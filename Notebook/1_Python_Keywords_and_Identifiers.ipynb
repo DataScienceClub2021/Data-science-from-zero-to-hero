{
  "nbformat": 4,
  "nbformat_minor": 0,
  "metadata": {
    "colab": {
      "name": "1- Python Keywords and Identifiers.ipynb",
      "provenance": []
    },
    "kernelspec": {
      "name": "python3",
      "display_name": "Python 3"
    },
    "language_info": {
      "name": "python"
    }
  },
  "cells": [
    {
      "cell_type": "markdown",
      "metadata": {
        "id": "IihZfgteqI3d"
      },
      "source": [
        "### Python Keywords\n",
        "Keywords are the reserved words in Python.\n",
        "\n",
        "We cannot use a keyword as a variable name, function name or any other identifier. They are used to define the syntax and structure of the Python language.\n",
        "\n",
        "In Python, keywords are case sensitive.\n",
        "\n",
        "There are 33 keywords in Python 3.7. This number can vary slightly over the course of time.\n",
        "\n",
        "All the keywords except True, False and None are in lowercase and they must be written as they are. The list of all the keywords is given below."
      ]
    },
    {
      "cell_type": "markdown",
      "metadata": {
        "id": "729rdixYqOj2"
      },
      "source": [
        "![image.png](data:image/png;base64,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)"
      ]
    },
    {
      "cell_type": "code",
      "metadata": {
        "colab": {
          "base_uri": "https://localhost:8080/",
          "height": 132
        },
        "id": "8EZjfEwQ2Okl",
        "outputId": "fb918c12-4438-47f0-947d-d78af255138f"
      },
      "source": [
        "else = 10 "
      ],
      "execution_count": 11,
      "outputs": [
        {
          "output_type": "error",
          "ename": "SyntaxError",
          "evalue": "ignored",
          "traceback": [
            "\u001b[0;36m  File \u001b[0;32m\"<ipython-input-11-6dcd8e8b2897>\"\u001b[0;36m, line \u001b[0;32m1\u001b[0m\n\u001b[0;31m    else = 10\u001b[0m\n\u001b[0m       ^\u001b[0m\n\u001b[0;31mSyntaxError\u001b[0m\u001b[0;31m:\u001b[0m invalid syntax\n"
          ]
        }
      ]
    },
    {
      "cell_type": "code",
      "metadata": {
        "colab": {
          "base_uri": "https://localhost:8080/"
        },
        "id": "j0IiXWKX2Zru",
        "outputId": "1f32d830-ad30-44a0-aa78-27eb7dc87033"
      },
      "source": [
        "print('Hello World') "
      ],
      "execution_count": 10,
      "outputs": [
        {
          "output_type": "stream",
          "name": "stdout",
          "text": [
            "Hello World\n"
          ]
        }
      ]
    },
    {
      "cell_type": "markdown",
      "metadata": {
        "id": "y6zf9RUMqVhp"
      },
      "source": [
        "### Python Identifiers\n",
        "An identifier is a name given to entities like class, functions, variables, etc. It helps to differentiate one entity from another."
      ]
    },
    {
      "cell_type": "markdown",
      "metadata": {
        "id": "XGCXqk_urZxi"
      },
      "source": [
        "Rules for writing identifiers\n",
        "\n",
        "\n",
        "\n"
      ]
    },
    {
      "cell_type": "markdown",
      "metadata": {
        "id": "lcxqqXAeskpI"
      },
      "source": [
        "* Identifiers can be a combination of letters in lowercase (a to z) or uppercase (A to Z) or digits (0 to 9) or an underscore _. Names like myClass, var_1 and print_this_to_screen, all are valid example."
      ]
    },
    {
      "cell_type": "code",
      "metadata": {
        "colab": {
          "base_uri": "https://localhost:8080/"
        },
        "id": "TNfIfo-5ssXc",
        "outputId": "58a19f14-f3b3-4e52-a43e-6c375448bc39"
      },
      "source": [
        "count = 10 \n",
        "print(count)"
      ],
      "execution_count": 16,
      "outputs": [
        {
          "output_type": "stream",
          "name": "stdout",
          "text": [
            "10\n"
          ]
        }
      ]
    },
    {
      "cell_type": "code",
      "metadata": {
        "colab": {
          "base_uri": "https://localhost:8080/"
        },
        "id": "igTpEKzM3oyU",
        "outputId": "5c70e1c6-d84b-47bd-a338-299a86397c50"
      },
      "source": [
        "Count = 20 \n",
        "print(Count)"
      ],
      "execution_count": 14,
      "outputs": [
        {
          "output_type": "stream",
          "name": "stdout",
          "text": [
            "20\n"
          ]
        }
      ]
    },
    {
      "cell_type": "code",
      "metadata": {
        "colab": {
          "base_uri": "https://localhost:8080/"
        },
        "id": "TbV7TCRd3sBr",
        "outputId": "3a31487d-bf7c-4ffc-f50d-2db6cd39c618"
      },
      "source": [
        "Count_1 = 10\n",
        "print(Count_1)"
      ],
      "execution_count": 15,
      "outputs": [
        {
          "output_type": "stream",
          "name": "stdout",
          "text": [
            "10\n"
          ]
        }
      ]
    },
    {
      "cell_type": "code",
      "metadata": {
        "colab": {
          "base_uri": "https://localhost:8080/"
        },
        "id": "uhaEt2Lp37qg",
        "outputId": "16e42e84-536c-4f9a-90a1-ff0244741255"
      },
      "source": [
        "python = 10 \n",
        "print(python)"
      ],
      "execution_count": 18,
      "outputs": [
        {
          "output_type": "stream",
          "name": "stdout",
          "text": [
            "10\n"
          ]
        }
      ]
    },
    {
      "cell_type": "markdown",
      "metadata": {
        "id": "mx0JF10NsmUj"
      },
      "source": [
        "\n",
        "* An identifier cannot start with a digit. 1variable is invalid, but variable1 is a valid name."
      ]
    },
    {
      "cell_type": "code",
      "metadata": {
        "colab": {
          "base_uri": "https://localhost:8080/",
          "height": 132
        },
        "id": "7wD4Z5KBssnM",
        "outputId": "6b064b00-aace-4006-ea4f-a4040019656e"
      },
      "source": [
        "1_count = 10 \n",
        "print(1_count)"
      ],
      "execution_count": 19,
      "outputs": [
        {
          "output_type": "error",
          "ename": "SyntaxError",
          "evalue": "ignored",
          "traceback": [
            "\u001b[0;36m  File \u001b[0;32m\"<ipython-input-19-5cdc3bfd2e44>\"\u001b[0;36m, line \u001b[0;32m1\u001b[0m\n\u001b[0;31m    1_count = 10\u001b[0m\n\u001b[0m     ^\u001b[0m\n\u001b[0;31mSyntaxError\u001b[0m\u001b[0;31m:\u001b[0m invalid token\n"
          ]
        }
      ]
    },
    {
      "cell_type": "markdown",
      "metadata": {
        "id": "DW22unbZsnrt"
      },
      "source": [
        "\n",
        "* Keywords cannot be used as identifiers"
      ]
    },
    {
      "cell_type": "code",
      "metadata": {
        "colab": {
          "base_uri": "https://localhost:8080/",
          "height": 132
        },
        "id": "zCkbJbWGss5j",
        "outputId": "a4b09f1d-84f1-4919-dd33-981081459318"
      },
      "source": [
        "break = 10"
      ],
      "execution_count": 20,
      "outputs": [
        {
          "output_type": "error",
          "ename": "SyntaxError",
          "evalue": "ignored",
          "traceback": [
            "\u001b[0;36m  File \u001b[0;32m\"<ipython-input-20-9f64e1454aa4>\"\u001b[0;36m, line \u001b[0;32m1\u001b[0m\n\u001b[0;31m    break = 10\u001b[0m\n\u001b[0m          ^\u001b[0m\n\u001b[0;31mSyntaxError\u001b[0m\u001b[0;31m:\u001b[0m invalid syntax\n"
          ]
        }
      ]
    },
    {
      "cell_type": "markdown",
      "metadata": {
        "id": "AtKbt5wXspIJ"
      },
      "source": [
        "* We cannot use special symbols like !, @, #, $, % etc. in our identifier."
      ]
    },
    {
      "cell_type": "code",
      "metadata": {
        "colab": {
          "base_uri": "https://localhost:8080/",
          "height": 132
        },
        "id": "Kf_V7yf7stPX",
        "outputId": "44c7fd7e-fccc-4b5b-85ff-20b44d4a5b2d"
      },
      "source": [
        "count_@ = 10"
      ],
      "execution_count": 21,
      "outputs": [
        {
          "output_type": "error",
          "ename": "SyntaxError",
          "evalue": "ignored",
          "traceback": [
            "\u001b[0;36m  File \u001b[0;32m\"<ipython-input-21-d239e9064b5a>\"\u001b[0;36m, line \u001b[0;32m1\u001b[0m\n\u001b[0;31m    count_@ = 10\u001b[0m\n\u001b[0m            ^\u001b[0m\n\u001b[0;31mSyntaxError\u001b[0m\u001b[0;31m:\u001b[0m invalid syntax\n"
          ]
        }
      ]
    },
    {
      "cell_type": "markdown",
      "metadata": {
        "id": "rjm9Lxwvsql9"
      },
      "source": [
        "* An identifier can be of any length.\n"
      ]
    },
    {
      "cell_type": "code",
      "metadata": {
        "id": "m2S63SaZst63"
      },
      "source": [
        "count_mostafa_python_ = 10"
      ],
      "execution_count": 23,
      "outputs": []
    }
  ]
}
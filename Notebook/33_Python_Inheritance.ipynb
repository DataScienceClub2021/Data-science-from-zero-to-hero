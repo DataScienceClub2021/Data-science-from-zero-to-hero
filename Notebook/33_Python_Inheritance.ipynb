{
  "nbformat": 4,
  "nbformat_minor": 0,
  "metadata": {
    "colab": {
      "name": "33- Python Inheritance.ipynb",
      "provenance": []
    },
    "kernelspec": {
      "name": "python3",
      "display_name": "Python 3"
    },
    "language_info": {
      "name": "python"
    }
  },
  "cells": [
    {
      "cell_type": "markdown",
      "metadata": {
        "id": "eDCPw6UTW21p"
      },
      "source": [
        "### Inheritance in Python\n",
        "Inheritance is a powerful feature in object oriented programming.\n",
        "\n",
        "It refers to defining a new class with little or no modification to an existing class. The new class is called derived (or child) class and the one from which it inherits is called the base (or parent) class."
      ]
    },
    {
      "cell_type": "markdown",
      "metadata": {
        "id": "LQUQlJeIW5KN"
      },
      "source": [
        "### Python Inheritance Syntax\n"
      ]
    },
    {
      "cell_type": "markdown",
      "metadata": {
        "id": "oC_Muz3uW70c"
      },
      "source": [
        "\n",
        "\n",
        "```\n",
        "class BaseClass:\n",
        "  Body of base class\n",
        "class DerivedClass(BaseClass):\n",
        "  Body of derived class\n",
        "```\n",
        "\n"
      ]
    },
    {
      "cell_type": "markdown",
      "metadata": {
        "id": "uFrRrMmPW_is"
      },
      "source": [
        "### Example of Inheritance in Python\n",
        "To demonstrate the use of inheritance, let us take an example.\n",
        "\n",
        "A polygon is a closed figure with 3 or more sides. Say, we have a class called Polygon defined as follows."
      ]
    },
    {
      "cell_type": "code",
      "metadata": {
        "id": "OxFuzbyBXB3q"
      },
      "source": [
        "class Polygon:\n",
        "    def __init__(self, no_of_sides):\n",
        "        self.n = no_of_sides\n",
        "        self.sides = [0 for i in range(no_of_sides)]\n",
        "\n",
        "    def inputSides(self):\n",
        "        self.sides = [float(input(\"Enter side \"+str(i+1)+\" : \")) for i in range(self.n)]\n",
        "\n",
        "    def dispSides(self):\n",
        "        for i in range(self.n):\n",
        "            print(\"Side\",i+1,\"is\",self.sides[i])"
      ],
      "execution_count": 3,
      "outputs": []
    },
    {
      "cell_type": "markdown",
      "metadata": {
        "id": "2uCYhogFXE-G"
      },
      "source": [
        "This class has data attributes to store the number of sides n and magnitude of each side as a list called sides.\n",
        "\n"
      ]
    },
    {
      "cell_type": "markdown",
      "metadata": {
        "id": "ccA4o-5LXGZG"
      },
      "source": [
        "The inputSides() method takes in the magnitude of each side and dispSides() displays these side lengths.\n",
        "\n",
        "A triangle is a polygon with 3 sides. So, we can create a class called Triangle which inherits from Polygon. This makes all the attributes of Polygon class available to the Triangle class.\n",
        "\n",
        "We don't need to define them again (code reusability). Triangle can be defined as follows."
      ]
    },
    {
      "cell_type": "code",
      "metadata": {
        "id": "PEfL_0rMXFMx"
      },
      "source": [
        "class Triangle(Polygon):\n",
        "    def __init__(self):\n",
        "        Polygon.__init__(self,3)\n",
        "\n",
        "    def findArea(self):\n",
        "        a, b, c = self.sides\n",
        "        # calculate the semi-perimeter\n",
        "        s = (a + b + c) / 2\n",
        "        area = (s*(s-a)*(s-b)*(s-c)) ** 0.5\n",
        "        print('The area of the triangle is %0.2f' %area)"
      ],
      "execution_count": 4,
      "outputs": []
    },
    {
      "cell_type": "markdown",
      "metadata": {
        "id": "4T-sOPJCXJZ6"
      },
      "source": [
        "However, class Triangle has a new method findArea() to find and print the area of the triangle. Here is a sample run.\n",
        "\n"
      ]
    },
    {
      "cell_type": "code",
      "metadata": {
        "id": "OtcyqMPpXIBF"
      },
      "source": [
        "t = Triangle()"
      ],
      "execution_count": 5,
      "outputs": []
    },
    {
      "cell_type": "code",
      "metadata": {
        "colab": {
          "base_uri": "https://localhost:8080/"
        },
        "id": "uERA0ndkXKyM",
        "outputId": "021e953b-041e-4187-8649-d2acf2d583f9"
      },
      "source": [
        "t.inputSides()"
      ],
      "execution_count": 6,
      "outputs": [
        {
          "name": "stdout",
          "output_type": "stream",
          "text": [
            "Enter side 1 : 3\n",
            "Enter side 2 : 5\n",
            "Enter side 3 : 4\n"
          ]
        }
      ]
    },
    {
      "cell_type": "code",
      "metadata": {
        "colab": {
          "base_uri": "https://localhost:8080/"
        },
        "id": "7yiZUdOjXRgy",
        "outputId": "b695ecdd-882f-4014-f6e3-a445000d95da"
      },
      "source": [
        "t.dispSides()"
      ],
      "execution_count": 8,
      "outputs": [
        {
          "output_type": "stream",
          "name": "stdout",
          "text": [
            "Side 1 is 3.0\n",
            "Side 2 is 5.0\n",
            "Side 3 is 4.0\n"
          ]
        }
      ]
    },
    {
      "cell_type": "code",
      "metadata": {
        "colab": {
          "base_uri": "https://localhost:8080/"
        },
        "id": "wKU5FoBiXVOD",
        "outputId": "2f0fd03d-6b6e-48cf-f2b3-75b56ed9b6de"
      },
      "source": [
        "t.findArea()"
      ],
      "execution_count": 9,
      "outputs": [
        {
          "output_type": "stream",
          "name": "stdout",
          "text": [
            "The area of the triangle is 6.00\n"
          ]
        }
      ]
    },
    {
      "cell_type": "markdown",
      "metadata": {
        "id": "p3aUinGuXZEh"
      },
      "source": [
        "We can see that even though we did not define methods like inputSides() or dispSides() for class Triangle separately, we were able to use them.\n",
        "\n",
        "If an attribute is not found in the class itself, the search continues to the base class. This repeats recursively, if the base class is itself derived from other classes."
      ]
    },
    {
      "cell_type": "markdown",
      "metadata": {
        "id": "E0fTx7qFXadz"
      },
      "source": [
        "### Method Overriding in Python\n",
        "In the above example, notice that __init__() method was defined in both classes, Triangle as well Polygon. When this happens, the method in the derived class overrides that in the base class. This is to say, __init__() in Triangle gets preference over the __init__ in Polygon.\n",
        "\n",
        "Generally when overriding a base method, we tend to extend the definition rather than simply replace it. The same is being done by calling the method in base class from the one in derived class (calling Polygon.__init__() from __init__() in Triangle).\n",
        "\n",
        "A better option would be to use the built-in function super(). So, super().__init__(3) is equivalent to Polygon.__init__(self,3) and is preferred. To learn more about the super() function in Python, visit Python super() function.\n",
        "\n",
        "Two built-in functions isinstance() and issubclass() are used to check inheritances.\n",
        "\n",
        "The function isinstance() returns True if the object is an instance of the class or other classes derived from it. Each and every class in Python inherits from the base class object."
      ]
    },
    {
      "cell_type": "code",
      "metadata": {
        "colab": {
          "base_uri": "https://localhost:8080/"
        },
        "id": "KQBmhxgdXXdQ",
        "outputId": "22fa65dc-6ad4-433c-ed43-0df84844d030"
      },
      "source": [
        "isinstance(t,Triangle)"
      ],
      "execution_count": 10,
      "outputs": [
        {
          "output_type": "execute_result",
          "data": {
            "text/plain": [
              "True"
            ]
          },
          "metadata": {},
          "execution_count": 10
        }
      ]
    },
    {
      "cell_type": "code",
      "metadata": {
        "colab": {
          "base_uri": "https://localhost:8080/"
        },
        "id": "Wy8hCKpvXe_U",
        "outputId": "d621b713-e6ac-40b7-c3f8-f61f6a1a3f12"
      },
      "source": [
        "isinstance(t,Polygon)"
      ],
      "execution_count": 11,
      "outputs": [
        {
          "output_type": "execute_result",
          "data": {
            "text/plain": [
              "True"
            ]
          },
          "metadata": {},
          "execution_count": 11
        }
      ]
    },
    {
      "cell_type": "code",
      "metadata": {
        "colab": {
          "base_uri": "https://localhost:8080/"
        },
        "id": "T3JYxuH_XgDU",
        "outputId": "c7e1c5e9-5a29-47af-e409-10afaeb17a04"
      },
      "source": [
        "isinstance(t,int)"
      ],
      "execution_count": 12,
      "outputs": [
        {
          "output_type": "execute_result",
          "data": {
            "text/plain": [
              "False"
            ]
          },
          "metadata": {},
          "execution_count": 12
        }
      ]
    },
    {
      "cell_type": "code",
      "metadata": {
        "colab": {
          "base_uri": "https://localhost:8080/"
        },
        "id": "45okKRuAXhdR",
        "outputId": "2db5bf95-3cfc-4c68-a9d2-cf3f1c8cb2f9"
      },
      "source": [
        "isinstance(t,object)"
      ],
      "execution_count": 13,
      "outputs": [
        {
          "output_type": "execute_result",
          "data": {
            "text/plain": [
              "True"
            ]
          },
          "metadata": {},
          "execution_count": 13
        }
      ]
    },
    {
      "cell_type": "markdown",
      "metadata": {
        "id": "O2pVEgsmXjbz"
      },
      "source": [
        "Similarly, issubclass() is used to check for class inheritance.\n",
        "\n"
      ]
    },
    {
      "cell_type": "code",
      "metadata": {
        "colab": {
          "base_uri": "https://localhost:8080/"
        },
        "id": "XGCs3wPJXiSk",
        "outputId": "5871668e-ba79-4046-efde-91f22a3e04ff"
      },
      "source": [
        "issubclass(Polygon,Triangle)"
      ],
      "execution_count": 14,
      "outputs": [
        {
          "output_type": "execute_result",
          "data": {
            "text/plain": [
              "False"
            ]
          },
          "metadata": {},
          "execution_count": 14
        }
      ]
    },
    {
      "cell_type": "code",
      "metadata": {
        "colab": {
          "base_uri": "https://localhost:8080/"
        },
        "id": "X09Uj9VKXlHj",
        "outputId": "53fd8cc6-2858-455a-a45f-3eb25dc8640f"
      },
      "source": [
        "issubclass(Triangle,Polygon)"
      ],
      "execution_count": 15,
      "outputs": [
        {
          "output_type": "execute_result",
          "data": {
            "text/plain": [
              "True"
            ]
          },
          "metadata": {},
          "execution_count": 15
        }
      ]
    },
    {
      "cell_type": "code",
      "metadata": {
        "colab": {
          "base_uri": "https://localhost:8080/"
        },
        "id": "TW7Ya5v5XmC9",
        "outputId": "2293e155-e2c7-4a5b-b339-863a1fc84f86"
      },
      "source": [
        "issubclass(bool,int)"
      ],
      "execution_count": 16,
      "outputs": [
        {
          "output_type": "execute_result",
          "data": {
            "text/plain": [
              "True"
            ]
          },
          "metadata": {},
          "execution_count": 16
        }
      ]
    }
  ]
}
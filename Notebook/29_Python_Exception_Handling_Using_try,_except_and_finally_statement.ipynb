{
  "nbformat": 4,
  "nbformat_minor": 0,
  "metadata": {
    "colab": {
      "name": "29- Python Exception Handling Using try, except and finally statement",
      "provenance": []
    },
    "kernelspec": {
      "name": "python3",
      "display_name": "Python 3"
    },
    "language_info": {
      "name": "python"
    }
  },
  "cells": [
    {
      "cell_type": "markdown",
      "metadata": {
        "id": "sP-I2WZ_vpuD"
      },
      "source": [
        "### Exceptions in Python\n"
      ]
    },
    {
      "cell_type": "markdown",
      "metadata": {
        "id": "hyXQn99xvrv-"
      },
      "source": [
        "Python has many built-in exceptions that are raised when your program encounters an error (something in the program goes wrong).\n",
        "\n",
        "When these exceptions occur, the Python interpreter stops the current process and passes it to the calling process until it is handled. If not handled, the program will crash.\n",
        "\n",
        "For example, let us consider a program where we have a function A that calls function B, which in turn calls function C. If an exception occurs in function C but is not handled in C, the exception passes to B and then to A.\n",
        "\n",
        "If never handled, an error message is displayed and our program comes to a sudden unexpected halt."
      ]
    },
    {
      "cell_type": "markdown",
      "metadata": {
        "id": "9nHSuaVlvtJS"
      },
      "source": [
        "### Catching Exceptions in Python\n"
      ]
    },
    {
      "cell_type": "markdown",
      "metadata": {
        "id": "eJZdxHBYvvRI"
      },
      "source": [
        "In Python, exceptions can be handled using a try statement.\n",
        "\n",
        "The critical operation which can raise an exception is placed inside the try clause. The code that handles the exceptions is written in the except clause.\n",
        "\n",
        "We can thus choose what operations to perform once we have caught the exception. Here is a simple example."
      ]
    },
    {
      "cell_type": "code",
      "metadata": {
        "colab": {
          "base_uri": "https://localhost:8080/"
        },
        "id": "r8HNDuY4vl-R",
        "outputId": "5359f8b7-0ee5-4c07-b1b0-94bd1d62b2f5"
      },
      "source": [
        "# import module sys to get the type of exception\n",
        "import sys\n",
        "\n",
        "randomList = ['a', 0, 2]\n",
        "\n",
        "for entry in randomList:\n",
        "    try:\n",
        "        print(\"The entry is\", entry)\n",
        "        r = 1/int(entry)\n",
        "        break\n",
        "    except:\n",
        "        print(\"Oops!\", sys.exc_info()[0], \"occurred.\")\n",
        "        print(\"Next entry.\")\n",
        "        print()\n",
        "print(\"The reciprocal of\", entry, \"is\", r)"
      ],
      "execution_count": 1,
      "outputs": [
        {
          "output_type": "stream",
          "name": "stdout",
          "text": [
            "The entry is a\n",
            "Oops! <class 'ValueError'> occurred.\n",
            "Next entry.\n",
            "\n",
            "The entry is 0\n",
            "Oops! <class 'ZeroDivisionError'> occurred.\n",
            "Next entry.\n",
            "\n",
            "The entry is 2\n",
            "The reciprocal of 2 is 0.5\n"
          ]
        }
      ]
    },
    {
      "cell_type": "markdown",
      "metadata": {
        "id": "RtXKVcBSvzuw"
      },
      "source": [
        "In this program, we loop through the values of the randomList list. As previously mentioned, the portion that can cause an exception is placed inside the try block.\n",
        "\n",
        "If no exception occurs, the except block is skipped and normal flow continues(for last value). But if any exception occurs, it is caught by the except block (first and second values).\n",
        "\n",
        "Here, we print the name of the exception using the exc_info() function inside sys module. We can see that a causes ValueError and 0 causes ZeroDivisionError."
      ]
    },
    {
      "cell_type": "markdown",
      "metadata": {
        "id": "X67INop9v1fC"
      },
      "source": [
        "Since every exception in Python inherits from the base Exception class, we can also perform the above task in the following way:\n",
        "\n"
      ]
    },
    {
      "cell_type": "code",
      "metadata": {
        "colab": {
          "base_uri": "https://localhost:8080/"
        },
        "id": "BLeGlDvkvxTe",
        "outputId": "fad45959-dfe7-44e4-b33f-bde2b92def85"
      },
      "source": [
        "# import module sys to get the type of exception\n",
        "import sys\n",
        "\n",
        "randomList = ['a', 0, 2]\n",
        "\n",
        "for entry in randomList:\n",
        "    try:\n",
        "        print(\"The entry is\", entry)\n",
        "        r = 1/int(entry)\n",
        "        break\n",
        "    except Exception as e:\n",
        "        print(\"Oops!\", e.__class__, \"occurred.\")\n",
        "        print(\"Next entry.\")\n",
        "        print()\n",
        "print(\"The reciprocal of\", entry, \"is\", r)"
      ],
      "execution_count": 2,
      "outputs": [
        {
          "output_type": "stream",
          "name": "stdout",
          "text": [
            "The entry is a\n",
            "Oops! <class 'ValueError'> occurred.\n",
            "Next entry.\n",
            "\n",
            "The entry is 0\n",
            "Oops! <class 'ZeroDivisionError'> occurred.\n",
            "Next entry.\n",
            "\n",
            "The entry is 2\n",
            "The reciprocal of 2 is 0.5\n"
          ]
        }
      ]
    },
    {
      "cell_type": "markdown",
      "metadata": {
        "id": "s976oA-Pv46c"
      },
      "source": [
        "### Catching Specific Exceptions in Python\n"
      ]
    },
    {
      "cell_type": "markdown",
      "metadata": {
        "id": "KXQKoycdv7d7"
      },
      "source": [
        "In the above example, we did not mention any specific exception in the except clause.\n",
        "\n",
        "This is not a good programming practice as it will catch all exceptions and handle every case in the same way. We can specify which exceptions an except clause should catch.\n",
        "\n",
        "A try clause can have any number of except clauses to handle different exceptions, however, only one will be executed in case an exception occurs.\n",
        "\n",
        "We can use a tuple of values to specify multiple exceptions in an except clause. Here is an example pseudo code."
      ]
    },
    {
      "cell_type": "code",
      "metadata": {
        "id": "HEWTQsY-v2ul"
      },
      "source": [
        "try:\n",
        "   # do something\n",
        "   pass\n",
        "\n",
        "except ValueError:\n",
        "   # handle ValueError exception\n",
        "   pass\n",
        "\n",
        "except (TypeError, ZeroDivisionError):\n",
        "   # handle multiple exceptions\n",
        "   # TypeError and ZeroDivisionError\n",
        "   pass\n",
        "\n",
        "except:\n",
        "   # handle all other exceptions\n",
        "   pass"
      ],
      "execution_count": 3,
      "outputs": []
    },
    {
      "cell_type": "markdown",
      "metadata": {
        "id": "OLxdmkhYv-Qr"
      },
      "source": [
        "Raising Exceptions in Python\n",
        "In Python programming, exceptions are raised when errors occur at runtime. We can also manually raise exceptions using the raise keyword.\n",
        "\n",
        "We can optionally pass values to the exception to clarify why that exception was raised."
      ]
    },
    {
      "cell_type": "code",
      "metadata": {
        "colab": {
          "base_uri": "https://localhost:8080/",
          "height": 163
        },
        "id": "Y9K8Dx6Cv84E",
        "outputId": "0d09257a-49d8-4002-d6f2-7bb918d7115f"
      },
      "source": [
        "raise KeyboardInterrupt"
      ],
      "execution_count": 4,
      "outputs": [
        {
          "output_type": "error",
          "ename": "KeyboardInterrupt",
          "evalue": "ignored",
          "traceback": [
            "\u001b[0;31m---------------------------------------------------------------------------\u001b[0m",
            "\u001b[0;31mKeyboardInterrupt\u001b[0m                         Traceback (most recent call last)",
            "\u001b[0;32m<ipython-input-4-c761920b81b0>\u001b[0m in \u001b[0;36m<module>\u001b[0;34m()\u001b[0m\n\u001b[0;32m----> 1\u001b[0;31m \u001b[0;32mraise\u001b[0m \u001b[0mKeyboardInterrupt\u001b[0m\u001b[0;34m\u001b[0m\u001b[0;34m\u001b[0m\u001b[0m\n\u001b[0m",
            "\u001b[0;31mKeyboardInterrupt\u001b[0m: "
          ]
        }
      ]
    },
    {
      "cell_type": "code",
      "metadata": {
        "colab": {
          "base_uri": "https://localhost:8080/",
          "height": 163
        },
        "id": "xEMKop8rwGFz",
        "outputId": "42d3bf6f-e8eb-4a28-ed2b-8e7288b90f9b"
      },
      "source": [
        "raise MemoryError(\"This is an argument\")"
      ],
      "execution_count": 5,
      "outputs": [
        {
          "output_type": "error",
          "ename": "MemoryError",
          "evalue": "ignored",
          "traceback": [
            "\u001b[0;31m---------------------------------------------------------------------------\u001b[0m",
            "\u001b[0;31mMemoryError\u001b[0m                               Traceback (most recent call last)",
            "\u001b[0;32m<ipython-input-5-51782e52f201>\u001b[0m in \u001b[0;36m<module>\u001b[0;34m()\u001b[0m\n\u001b[0;32m----> 1\u001b[0;31m \u001b[0;32mraise\u001b[0m \u001b[0mMemoryError\u001b[0m\u001b[0;34m(\u001b[0m\u001b[0;34m\"This is an argument\"\u001b[0m\u001b[0;34m)\u001b[0m\u001b[0;34m\u001b[0m\u001b[0;34m\u001b[0m\u001b[0m\n\u001b[0m",
            "\u001b[0;31mMemoryError\u001b[0m: This is an argument"
          ]
        }
      ]
    },
    {
      "cell_type": "code",
      "metadata": {
        "colab": {
          "base_uri": "https://localhost:8080/"
        },
        "id": "RHWE_giHwIBR",
        "outputId": "76d02634-8f4c-441e-fdc9-54d7c80b6558"
      },
      "source": [
        "try:\n",
        "  a = int(input(\"Enter a positive integer: \"))\n",
        "  if a <= 0:\n",
        "    raise ValueError(\"That is not a positive number!\")\n",
        "except ValueError as ve:\n",
        "  print(ve)"
      ],
      "execution_count": 8,
      "outputs": [
        {
          "output_type": "stream",
          "name": "stdout",
          "text": [
            "Enter a positive integer: -4\n",
            "That is not a positive number!\n"
          ]
        }
      ]
    },
    {
      "cell_type": "markdown",
      "metadata": {
        "id": "Cqqso02zwadp"
      },
      "source": [
        "### Python try with else clause\n",
        "In some situations, you might want to run a certain block of code if the code block inside try ran without any errors. For these cases, you can use the optional else keyword with the try statement."
      ]
    },
    {
      "cell_type": "code",
      "metadata": {
        "colab": {
          "base_uri": "https://localhost:8080/"
        },
        "id": "sL3bNrqiwSeQ",
        "outputId": "3fa9a3c5-4909-4365-f581-3b6be6d93799"
      },
      "source": [
        "# program to print the reciprocal of even numbers\n",
        "\n",
        "try:\n",
        "    num = int(input(\"Enter a number: \"))\n",
        "    assert num % 2 == 0\n",
        "except:\n",
        "    print(\"Not an even number!\")\n",
        "else:\n",
        "    reciprocal = 1/num\n",
        "    print(reciprocal)"
      ],
      "execution_count": 9,
      "outputs": [
        {
          "output_type": "stream",
          "name": "stdout",
          "text": [
            "Enter a number: 1\n",
            "Not an even number!\n"
          ]
        }
      ]
    },
    {
      "cell_type": "markdown",
      "metadata": {
        "id": "KC90vOx5wnYM"
      },
      "source": [
        "If we pass an even number, the reciprocal is computed and displayed.\n",
        "\n"
      ]
    },
    {
      "cell_type": "code",
      "metadata": {
        "colab": {
          "base_uri": "https://localhost:8080/"
        },
        "id": "kI470XLWweIs",
        "outputId": "7f0c4c66-dea1-4697-afcf-c3c89dbebede"
      },
      "source": [
        "# program to print the reciprocal of even numbers\n",
        "\n",
        "try:\n",
        "    num = int(input(\"Enter a number: \"))\n",
        "    assert num % 2 == 0\n",
        "except:\n",
        "    print(\"Not an even number!\")\n",
        "else:\n",
        "    reciprocal = 1/num\n",
        "    print(reciprocal)\n",
        "    "
      ],
      "execution_count": 12,
      "outputs": [
        {
          "output_type": "stream",
          "name": "stdout",
          "text": [
            "Enter a number: 4\n",
            "0.25\n"
          ]
        }
      ]
    },
    {
      "cell_type": "markdown",
      "metadata": {
        "id": "eX7VYyfIwufW"
      },
      "source": [
        "However, if we pass 0, we get ZeroDivisionError as the code block inside else is not handled by preceding except.\n",
        "\n"
      ]
    },
    {
      "cell_type": "code",
      "metadata": {
        "colab": {
          "base_uri": "https://localhost:8080/",
          "height": 248
        },
        "id": "Dh4KpIJ1wiL5",
        "outputId": "d3271ea7-37c5-40ea-a97a-76c4f99314e5"
      },
      "source": [
        "# program to print the reciprocal of even numbers\n",
        "\n",
        "try:\n",
        "    num = int(input(\"Enter a number: \"))\n",
        "    assert num % 2 == 0\n",
        "except:\n",
        "    print(\"Not an even number!\")\n",
        "else:\n",
        "    reciprocal = 1/num\n",
        "    print(reciprocal)\n",
        "    "
      ],
      "execution_count": 13,
      "outputs": [
        {
          "name": "stdout",
          "output_type": "stream",
          "text": [
            "Enter a number: 0\n"
          ]
        },
        {
          "output_type": "error",
          "ename": "ZeroDivisionError",
          "evalue": "ignored",
          "traceback": [
            "\u001b[0;31m---------------------------------------------------------------------------\u001b[0m",
            "\u001b[0;31mZeroDivisionError\u001b[0m                         Traceback (most recent call last)",
            "\u001b[0;32m<ipython-input-13-5ab464c4bc6d>\u001b[0m in \u001b[0;36m<module>\u001b[0;34m()\u001b[0m\n\u001b[1;32m      7\u001b[0m     \u001b[0mprint\u001b[0m\u001b[0;34m(\u001b[0m\u001b[0;34m\"Not an even number!\"\u001b[0m\u001b[0;34m)\u001b[0m\u001b[0;34m\u001b[0m\u001b[0;34m\u001b[0m\u001b[0m\n\u001b[1;32m      8\u001b[0m \u001b[0;32melse\u001b[0m\u001b[0;34m:\u001b[0m\u001b[0;34m\u001b[0m\u001b[0;34m\u001b[0m\u001b[0m\n\u001b[0;32m----> 9\u001b[0;31m     \u001b[0mreciprocal\u001b[0m \u001b[0;34m=\u001b[0m \u001b[0;36m1\u001b[0m\u001b[0;34m/\u001b[0m\u001b[0mnum\u001b[0m\u001b[0;34m\u001b[0m\u001b[0;34m\u001b[0m\u001b[0m\n\u001b[0m\u001b[1;32m     10\u001b[0m     \u001b[0mprint\u001b[0m\u001b[0;34m(\u001b[0m\u001b[0mreciprocal\u001b[0m\u001b[0;34m)\u001b[0m\u001b[0;34m\u001b[0m\u001b[0;34m\u001b[0m\u001b[0m\n\u001b[1;32m     11\u001b[0m \u001b[0;34m\u001b[0m\u001b[0m\n",
            "\u001b[0;31mZeroDivisionError\u001b[0m: division by zero"
          ]
        }
      ]
    },
    {
      "cell_type": "markdown",
      "metadata": {
        "id": "Vh5QeozPwwHs"
      },
      "source": [
        "Python try...finally\n",
        "The try statement in Python can have an optional finally clause. This clause is executed no matter what, and is generally used to release external resources.\n",
        "\n",
        "For example, we may be connected to a remote data center through the network or working with a file or a Graphical User Interface (GUI).\n",
        "\n",
        "In all these circumstances, we must clean up the resource before the program comes to a halt whether it successfully ran or not. These actions (closing a file, GUI or disconnecting from network) are performed in the finally clause to guarantee the execution.\n",
        "\n",
        "Here is an example of file operations to illustrate this."
      ]
    },
    {
      "cell_type": "code",
      "metadata": {
        "id": "kokLWTwyws97"
      },
      "source": [
        "try:\n",
        "   f = open(\"test.txt\",encoding = 'utf-8')\n",
        "   # perform file operations\n",
        "finally:\n",
        "   f.close()"
      ],
      "execution_count": 15,
      "outputs": []
    }
  ]
}
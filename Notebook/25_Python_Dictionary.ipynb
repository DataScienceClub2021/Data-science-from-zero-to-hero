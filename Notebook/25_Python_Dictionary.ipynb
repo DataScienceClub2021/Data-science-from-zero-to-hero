{
  "nbformat": 4,
  "nbformat_minor": 0,
  "metadata": {
    "colab": {
      "name": "25 - Python Dictionary.ipynb",
      "provenance": []
    },
    "kernelspec": {
      "name": "python3",
      "display_name": "Python 3"
    },
    "language_info": {
      "name": "python"
    }
  },
  "cells": [
    {
      "cell_type": "markdown",
      "metadata": {
        "id": "SSMhRA_cNc95"
      },
      "source": [
        "Python dictionary is an unordered collection of items. Each item of a dictionary has a key/value pair.\n",
        "\n",
        "Dictionaries are optimized to retrieve values when the key is known."
      ]
    },
    {
      "cell_type": "markdown",
      "metadata": {
        "id": "hYN7kHsfNgpT"
      },
      "source": [
        "### Creating Python Dictionary\n",
        "Creating a dictionary is as simple as placing items inside curly braces {} separated by commas.\n",
        "\n",
        "An item has a key and a corresponding value that is expressed as a pair (key: value).\n",
        "\n",
        "While the values can be of any data type and can repeat, keys must be of immutable type (string, number or tuple with immutable elements) and must be unique."
      ]
    },
    {
      "cell_type": "code",
      "metadata": {
        "id": "-a8KMx3fNdSC"
      },
      "source": [
        "# empty dictionary\n",
        "my_dict = {}\n",
        "\n",
        "# dictionary with integer keys\n",
        "my_dict = {1: 'apple', 2: 'ball'}\n",
        "\n",
        "# dictionary with mixed keys\n",
        "my_dict = {'name': 'John', 1: [2, 4, 3]}\n",
        "\n",
        "# using dict()\n",
        "my_dict = dict({1:'apple', 2:'ball'})\n",
        "\n",
        "# from sequence having each item as a pair\n",
        "my_dict = dict([(1,'apple'), (2,'ball')])"
      ],
      "execution_count": 1,
      "outputs": []
    },
    {
      "cell_type": "markdown",
      "metadata": {
        "id": "AKVXUvGkNj8P"
      },
      "source": [
        "### Accessing Elements from Dictionary\n"
      ]
    },
    {
      "cell_type": "markdown",
      "metadata": {
        "id": "c1wTXNy4Nlcp"
      },
      "source": [
        "While indexing is used with other data types to access values, a dictionary uses keys. Keys can be used either inside square brackets [] or with the get() method.\n",
        "\n",
        "If we use the square brackets [], KeyError is raised in case a key is not found in the dictionary. On the other hand, the get() method returns None if the key is not found."
      ]
    },
    {
      "cell_type": "code",
      "metadata": {
        "colab": {
          "base_uri": "https://localhost:8080/",
          "height": 248
        },
        "id": "Th--ub2MMBe1",
        "outputId": "1bec2802-a4c9-4ce3-f1ab-adeb96e4d37a"
      },
      "source": [
        "# get vs [] for retrieving elements\n",
        "my_dict = {'name': 'Jack', 'age': 26}\n",
        "\n",
        "# Output: Jack\n",
        "print(my_dict['name'])\n",
        "\n",
        "# Output: 26\n",
        "print(my_dict.get('age'))\n",
        "\n",
        "# Trying to access keys which doesn't exist throws error\n",
        "# Output None\n",
        "print(my_dict.get('address'))\n",
        "\n",
        "# KeyError\n",
        "print(my_dict['address'])"
      ],
      "execution_count": 2,
      "outputs": [
        {
          "output_type": "stream",
          "name": "stdout",
          "text": [
            "Jack\n",
            "26\n",
            "None\n"
          ]
        },
        {
          "output_type": "error",
          "ename": "KeyError",
          "evalue": "ignored",
          "traceback": [
            "\u001b[0;31m---------------------------------------------------------------------------\u001b[0m",
            "\u001b[0;31mKeyError\u001b[0m                                  Traceback (most recent call last)",
            "\u001b[0;32m<ipython-input-2-2ec6dc01caba>\u001b[0m in \u001b[0;36m<module>\u001b[0;34m()\u001b[0m\n\u001b[1;32m     13\u001b[0m \u001b[0;34m\u001b[0m\u001b[0m\n\u001b[1;32m     14\u001b[0m \u001b[0;31m# KeyError\u001b[0m\u001b[0;34m\u001b[0m\u001b[0;34m\u001b[0m\u001b[0;34m\u001b[0m\u001b[0m\n\u001b[0;32m---> 15\u001b[0;31m \u001b[0mprint\u001b[0m\u001b[0;34m(\u001b[0m\u001b[0mmy_dict\u001b[0m\u001b[0;34m[\u001b[0m\u001b[0;34m'address'\u001b[0m\u001b[0;34m]\u001b[0m\u001b[0;34m)\u001b[0m\u001b[0;34m\u001b[0m\u001b[0;34m\u001b[0m\u001b[0m\n\u001b[0m",
            "\u001b[0;31mKeyError\u001b[0m: 'address'"
          ]
        }
      ]
    },
    {
      "cell_type": "markdown",
      "metadata": {
        "id": "pHan4lmxNoBf"
      },
      "source": [
        "### Changing and Adding Dictionary elements\n"
      ]
    },
    {
      "cell_type": "markdown",
      "metadata": {
        "id": "SVUtHFTLNpmB"
      },
      "source": [
        "Dictionaries are mutable. We can add new items or change the value of existing items using an assignment operator.\n",
        "\n",
        "If the key is already present, then the existing value gets updated. In case the key is not present, a new (**key: value**) pair is added to the dictionary"
      ]
    },
    {
      "cell_type": "code",
      "metadata": {
        "colab": {
          "base_uri": "https://localhost:8080/"
        },
        "id": "p3EP2q4kNmiN",
        "outputId": "44ff4b46-a2a9-4cba-ed81-ca01f77b5026"
      },
      "source": [
        "# Changing and adding Dictionary Elements\n",
        "my_dict = {'name': 'Jack', 'age': 26}\n",
        "\n",
        "# update value\n",
        "my_dict['age'] = 27\n",
        "\n",
        "#Output: {'age': 27, 'name': 'Jack'}\n",
        "print(my_dict)\n",
        "\n",
        "# add item\n",
        "my_dict['address'] = 'Downtown'\n",
        "\n",
        "# Output: {'address': 'Downtown', 'age': 27, 'name': 'Jack'}\n",
        "print(my_dict)"
      ],
      "execution_count": 3,
      "outputs": [
        {
          "output_type": "stream",
          "name": "stdout",
          "text": [
            "{'name': 'Jack', 'age': 27}\n",
            "{'name': 'Jack', 'age': 27, 'address': 'Downtown'}\n"
          ]
        }
      ]
    },
    {
      "cell_type": "markdown",
      "metadata": {
        "id": "u0KUiAJtNteq"
      },
      "source": [
        "### Removing elements from Dictionary\n"
      ]
    },
    {
      "cell_type": "markdown",
      "metadata": {
        "id": "Dh0UMAQ0NvHq"
      },
      "source": [
        "We can remove a particular item in a dictionary by using the pop() method. This method removes an item with the provided key and returns the value.\n",
        "\n",
        "The popitem() method can be used to remove and return an arbitrary (key, value) item pair from the dictionary. All the items can be removed at once, using the clear() method.\n",
        "\n",
        "We can also use the del keyword to remove individual items or the entire dictionary itself."
      ]
    },
    {
      "cell_type": "code",
      "metadata": {
        "colab": {
          "base_uri": "https://localhost:8080/",
          "height": 282
        },
        "id": "PN4r1nptNsFl",
        "outputId": "24510bbc-282e-4f8b-99d3-261e40e55af4"
      },
      "source": [
        "# Removing elements from a dictionary\n",
        "\n",
        "# create a dictionary\n",
        "squares = {1: 1, 2: 4, 3: 9, 4: 16, 5: 25}\n",
        "\n",
        "# remove a particular item, returns its value\n",
        "# Output: 16\n",
        "print(squares.pop(4))\n",
        "\n",
        "# Output: {1: 1, 2: 4, 3: 9, 5: 25}\n",
        "print(squares)\n",
        "\n",
        "# remove an arbitrary item, return (key,value)\n",
        "# Output: (5, 25)\n",
        "print(squares.popitem())\n",
        "\n",
        "# Output: {1: 1, 2: 4, 3: 9}\n",
        "print(squares)\n",
        "\n",
        "# remove all items\n",
        "squares.clear()\n",
        "\n",
        "# Output: {}\n",
        "print(squares)\n",
        "\n",
        "# delete the dictionary itself\n",
        "del squares\n",
        "\n",
        "# Throws Error\n",
        "print(squares)"
      ],
      "execution_count": 4,
      "outputs": [
        {
          "output_type": "stream",
          "name": "stdout",
          "text": [
            "16\n",
            "{1: 1, 2: 4, 3: 9, 5: 25}\n",
            "(5, 25)\n",
            "{1: 1, 2: 4, 3: 9}\n",
            "{}\n"
          ]
        },
        {
          "output_type": "error",
          "ename": "NameError",
          "evalue": "ignored",
          "traceback": [
            "\u001b[0;31m---------------------------------------------------------------------------\u001b[0m",
            "\u001b[0;31mNameError\u001b[0m                                 Traceback (most recent call last)",
            "\u001b[0;32m<ipython-input-4-d119a0a5b684>\u001b[0m in \u001b[0;36m<module>\u001b[0;34m()\u001b[0m\n\u001b[1;32m     28\u001b[0m \u001b[0;34m\u001b[0m\u001b[0m\n\u001b[1;32m     29\u001b[0m \u001b[0;31m# Throws Error\u001b[0m\u001b[0;34m\u001b[0m\u001b[0;34m\u001b[0m\u001b[0;34m\u001b[0m\u001b[0m\n\u001b[0;32m---> 30\u001b[0;31m \u001b[0mprint\u001b[0m\u001b[0;34m(\u001b[0m\u001b[0msquares\u001b[0m\u001b[0;34m)\u001b[0m\u001b[0;34m\u001b[0m\u001b[0;34m\u001b[0m\u001b[0m\n\u001b[0m",
            "\u001b[0;31mNameError\u001b[0m: name 'squares' is not defined"
          ]
        }
      ]
    },
    {
      "cell_type": "markdown",
      "metadata": {
        "id": "81-c7nX2NyOo"
      },
      "source": [
        "### Python Dictionary Methods\n",
        "Methods that are available with a dictionary are tabulated below. Some of them have already been used in the above examples."
      ]
    },
    {
      "cell_type": "markdown",
      "metadata": {
        "id": "hv5ejbyZN1UM"
      },
      "source": [
        "![image.png](data:image/png;base64,iVBORw0KGgoAAAANSUhEUgAAAdwAAAGgCAYAAAAAQ9ZPAAAgAElEQVR4Aey9728aWbb3e/6k+37+gPNm9EhX81zpSnOkKz3dap1RNJoZRVf9KJqMZp7EfSK3Oo6QrWDLuGnc7tKBPubAtVFCpoZjD7GwYidu+0zq+pqhCT7YDbENDhQug6Pv1a6qXT+g+GVjDGa9sMBQtWvttb97ffZaBZt/OK9eoNVf5ayKn44+4OD9Kf2RD0gDpAHSwABqgMVoFqtbxXJ6rzXr+uGff2h1ETaA6cwBtra2sLGxQX/kA9IAaYA0MIAaYDGaxWqC7s1DtRVTWwKXrZqUKuiPfEAaIA2QBoZAAyxmtwr49N7NArklcFkZmYBLCw7SAGmANDAcGmAxm6B6s1Bt5X8C7hCsWinYDUewo3GicbppDRBwBxe2DMQEXAIuVTFIA6SBW6IBAi4BlybzLZnMN716p+tTBkkaaK0BAi4Bl4BLwCUNkAZIA33QAAGXgEsTrQ8TjVb+rVf+5B/yzyhogIBLwCXgEnBJA6QB0kAfNEDAHSngyliff4E3RctquriH7+b/hvdNxHZqHPs3PPyXv3U1Kf/rX334bt9yrSbXuL0r2yyWHvvwJfubfoH1Xvni4D/wm/uv2o9Zm+Nur99HWXPU90HWNQF3pICbx3ef/DP+8fMX+PsZm5gyVv7lPv7xty/wX44wtELW+ryzSU3A/RsefqL7tpTF4j0XvvuxM99dPmh0P06Xv9Z194Xap7G5XRog4I4ccH14kfDh8++y+Pu/PsIfxDS++xcGhSrefO3C5w99eHj3K3y9y7Lhr/Df/4+v8KWaAf8ND//xf+LzP/nw+WdfYZFlaz++wG9+9RRfPvwKv3L9DacM2sZrT/Gb/+urEc9wLcBlvsn9B37zmFUJ8lj6kwt/eOzDH+568CIHvJ39X/jNQw9+c09bDP39377Cr+6zsXiEhytFKFXW1iM8vB/CyoEO1YQP/+OuDw/Vdp5iad9hzNSqhIx11yP85qEPf/jVV1hk0E/48I//J7PBhf/x2/9osuC6XcGO4EXjedMaIOCOIHDXq8Dbr+/jvz1mkMxrwD1ew29+9T1erGxhRfwev/rtGt6zIG+Ukf+Gh/dfaVDdDeEP//oOS/cFvFEzZeD9v7vg2pZtr1GGWwfcsy3Nn9sC/ulPL7DCfP1vHvzT1B7eTj/Cw3//G97mAOV4DX9w7enlexl/f5XVxoL7n49Lwoc/iFXtuOIa/qDCvG7M2PhtC/j83xm0AeVsD677a3hvOfft109HfGFEILppEI3K9Qm4IwpcpSTjVIWlCdyHj7fwXzkZ73NF/H1f1rIqK3D58/0XeEjA7eB+th24rKLw+f9TVAH4h3/L4z3z9UEefz+o4rQo4/1+Got/8mDpXRPgcv/3CLgPExpoaGFEwB0V4N10Pwm4owpc456tDtwq8Pd/e6qWHR9+7sL0GwbcPBbvfYWHvKTMA74K3LylfOxQUv7Sg8+ppIyH/9s/47/973fx3//pf+EP/5rWKgRVVuL9Sispf+7B0o/Am2lWUmbl+qd4cczGwqGkzP1vAa69pMzA4TRmziVlAi6B9qYBNGrXJ+COFHApwNyqCZ7wgUPzVvXLWAySXmlcb5cGCLgE3A5Ko7dL9LcmiCXXsJSksbk140kLjVsfiwi4BNxbL3IKyARl0gBpYBA0QMAl4BJwKbMgDZAGSAN90AABl4BLE60PE20QVtdkA2V5pIGb1QABl4BLwCXgkgZIA6SBPmiAgEvApYnWh4lGmcXNZhbkf/L/IGiAgEvAJeAScEkDpAHSQB80QMAl4NJE68NEG4TVNdlAWR5p4GY1QMAl4BJwCbikAdIAaaAPGiDgDjlwf3yXBf2RD0gDpAHSwOBrgIA75MClEtHNlojI/+R/0gBpoFMNEHAJuFRK6kMpqdMJScdR8CYN3F4NEHAJuARcAi5pgDRAGuiDBgi4BFyaaH2YaJS13N6shcaWxrZTDRBwCbgEXAIuaYA0QBrogwYIuARcmmh9mGidroDpOMqWSAO3VwMEXAIuAZeASxogDZAG+qABAi4B9woT7QK7ewre7Z2j2Aex0sr/9q78aWxpbEdBAwTckQeuggczyuWgm67AtXaB4poMX5oCRmPAOEZiUUSA/UV2kC4Noo+KiPm3kK/yR93Gox245/dQYAupUu1y+miyCCvtrsDtFZHI9sYfJe5XSYQgXabNDAR/Bkr1AKHHCaSb2a1fJ78ehG/zknOmSduN2rlMP+icQfcjAZeAe2ng7vplPP8AKB/OMO4/72lQHvSJ05l9GQhPGMwA5WgL7kUW1ActKHLQ8sdG+yS/CKmHdudXRcTyjde5nG84LAHlysBtZZPlOj30xeX63MpOem+QfUrAHSngfsRupIxPJmTce1TGg7UqlCrPcKsITZZxb1bG3Ucynr8HlP0K7vxRxvhTGXc+L8OXBd4tyfjlVzLuPj/D8+8q2FWDTxW+byrIUSCqA2oGwpcJJE8UZDcjGI/koFSLSCyE4VsU4ZuNYvNEA8XvXREEhADG/QksL0QhTIcRZ1AqZRCaCkJYjGBydgvZyjGicxvIqr5mzxNI/yTBNxdBYDECt1/LStPPBLiFKNzeLWQVHoQVSKEA3III34KAMTWr46Dlj/xYDTAFaQPuL7xwL25AOu3O9sJmBBNeEZ5pERLPQrMSfC4vJhZYhltEbF6AZz6CeNpi21QQ8UNmRwbCfQG+76OYfCxi+VkEghCEJ17U/axAEoMY+yKIgJhBQRLx+0fMt2FMTO+oC51SKgHPXBQBIQi3yPzP+2e5XoMvLO9NBRHbLzdcR82k68eG+dnBBuVwC+4pNr4RuB8H1cVGfpX5JgLfUhQe8VizK78Fd+jAYiO3lR7NcRtuXxBwRwm4xxXc/ZqXwi6wu3WOHAfuWxm/mKzgeeIMzyMyfvFNBaEJGetnmsAZaDlwZ1LstSp8MxW848A1ng/3hOjtxM5AeBhFbEnA+NIBCiwgp1YwvrCF7e0UtuNR9XUWpH1vWNm2iJhLhMSOO9yAsFpEcimMOIMy83NyBb51BYX1CAJSTf3fs1ZGculb+OIptc34wrcIpYB0JABhLYM0P5edn1oBO15tS8lAUDNuDlr+yMfPzOiMDLdL2wuvovC8kJA8tJekzQyXAVcv4dpsO0BoXkKBAXd+D6UqkF8V9HJxETFBrxqo2jPtNP0IpF9EEMsrSEwHsPyG+WYPy1NBJE71/tmuV+cL23tlJJNFlJgt6gLFzKSdxsbRhvkVJPVFD+87A250n9miYHMhim0ZSIYsY632jY8FPfZ2Xt6cPwm4BFytpPxWxt3IOXLHNeTeV7H7/rwpcBl4lepHrFoz3O/O6INTDUGSl5QVSIthxFjWllqBL15E4URB4aiI7FHNUgq1QC+/1RS4inKAkHcDMVbqZYF6KYL4oaK2mc8XkZeBUklBIZ9DfCHaGWTq7+FaAGMFbje2K8yG02NIoTCWLff4OXTUBYZ6/7h+MWABrg45x3McgMvv4WrHK0gIK5COdN8cFrVFDzvPBtXeArfBBkfgWsrqyRV4YlsQBG1xoehwvi2QoX6YgCfgjhJwq61KyhdY/bqMu7My7o3LCO1/NEvKM/aSsgZcrbwcOtbu4c4ssfK0KSx6znzBgQsoShExbxiJQ1auDGol5bkoEgzCxr3HRuA2lJSNTEnAGC9FstLmrFZS9ixIagk5GWElZREeVwSbPKurmqVSQQh0VFJm45iPh+EWWEm5O9sLr8JqSVmYFtoD12Kbz1pSbgvcIuLeIAS9pGyHHasUbKml+4AQhufZgZota9ps5QvzPWZLbF+rPjRcp0lJ2ckGtaT8fRQeo6RsAW61jPhTL6LqQjaDwO+0jJfm0O2LJwTckQJujwX8vgLXn6so/lXGjCWDoUDRYz/TQuZ2L+bkPQhzrIROurntsYOAS8C9QjD7iOKHGoofLq7QBgWZ2x5kqH+tNV5K7SCh3s9tfRz5cfj9Q8Al4BIsKbMgDZAGSAN90AABl4BLE60PE42yk+HPTmgMaQyvqgECLgGXgEvAJQ2QBkgDfdAAAZeASxOtDxPtqitjOp+yK9LA8GuAgEvAJeAScEkDpAHSQB80QMAl4NJE68NEo+xk+LMTGkMaw6tqgIBLwCXgEnBJA6QB0kAfNEDAJeDSROvDRLvqypjOp+yKNDD8GiDgDjlwf3yXBf2RD0gDpAHSwOBrgIA75MClVe/wr3ppDGkMSQOjoQECLgGXSspUUiYNkAZIA33QAAGXgEsTrQ8TjTKY0chgaJxpnFtpgIBLwCXgEnBJA6QB0kAfNEDAJeDSROvDRGu16qX3KCsiDYyGBgi4BFwCLgGXNEAaIA30QQMEXAIuTbQ+TDTKYEYjg6FxpnFupQECLgH38sAtnuOH/+8MP/z08fJtEOzId6QB0sCIaICAS8C99GTfDcl4/uEcvu/OUByRCdNq9dr43jESiyIC7C+yg3Sp+eq/1OK9xnabt9P9sUXE/FvItx2/DAR/BkqVP/bSht62VdpdgdsrIpE12zX8K4kQJPP1zv2l9/toB+75PRSa+ItfJ78ehG9TufTc6tyuy/SFzrkp/xJwCbiXDArnmPlGA+2un4GXJnHjJM5AeKLD7GgL7kUGLCc/3STEbh9w86siYnmrny3+vSpwHcePX8tynZbH8ePp0Xk+3F6/EHBHCrgfsRsp45MJGfcelfFgrQqleoHVr8u481TG3T+W4d//COW1jF88knFvVsbdRzJC2Qs8d3GoXmB1Rob/v87gCrHzoR4//vb2TpLLB4UMhC8TSJ4oyG5GMB7JQakWkVgIw7cowjcbxeaJAkkMYuyLIAJiBgULECS/CKlaRGxegGc+gni6iNi0F5NzUQjTAkK7NSine/C5wgh4gwhIloyqlEFoKghhMQKfy2vL6tLPBLiFKNzeLWQVhzarCqRQAG5BhG9BwJgts+VQsRwzFUT8ECi9ERFKAoq8B9/THTULTL+ImPCz2DQ5u4G0DCiHW3BPRRAQgpgMZVBS+xuATxDV19zPDlDaT8AjHmtay2/BHTowFy7152cltb8TCzzDbfTv7x8x/4cxMb2jZvalVAKeuah2PZGNEdeypY8NfrC8NxVEbL/sPI62PjN/A4okot6GbDyIyXkRwkIQ49PaIi2/GsGENwLfUrR5/w1buc30aI7f4PmCgDtKwD2u4O7XPChfYHfrHLm3Mu7+WQfnmYLxiQpyr2Xc/euFFniKZ7g7q0BJVXAneA7lvd5GtoIHSyZwH7wePHHf/MTLQHgYRWxJwPjSAQos2KZWML6whe3tFLbjUfV1W5nWEbgJpNXAyuCrP2dQYyA8lSDMJbCZLKLE2tcDcHIpjPiJ/r8kImApo6YjAQhrGaTV9x3aTK3As1bW2lIyENTMnINWf7Qdc4DQvISCvAchdKCC1+NdQSx/jOi8Wa622XSUQzJfRmJ+BUnd7sJaGKGUxZ4qkH4WQfxIweZCFNsykAxZ+lVVHM4H2mW4vjc1tW/aYkBBYjqA5TcpbG/vYXkqiMSp7jdbH+v8YHuvjCTzv7Xcro+jrc/JFfjWFRW4NhveSfAZiwiz4sCAG91ntjTrvznefNzpcbB9QsAl4HYG3GoV/q9k+PxlzKQB5ewMLv+5FpRfyZhJDbbQbyYQ8ZKyAmkxjNihBlxfvIjCiYLCURHZIxb8Ocy07Ee7x1hG/Kme4Rr3WM1gbJyj1FA4VZCVVuBRM2htHGyBvg64pZKCQj6H+EIUiVOHNm0wqQMNt9V2jA7cag2b/igEYQXJkx2EFiLwrRadFwFdARdQkivwxLYgCHsoGVnd5YDL7+FqYFaQEFYgHSnqmOQPi9rCiF3D1sc6P9je6x64NhuaAtdSGq/vv2VxdTPapvl+Gb8TcEcJuNXLlpT1ybUj42cu/gGpKnzfVJCrArvBClbPaAI2TkAOXEBhpVtvGIlDVooMaiXluSgSDMLVIuLeIARWUj6R4GEl4gUR7icdAJcfLwQx8cxSDjVKmVEIU/aScjLCSsoiPK4INp2AaykpC0Kg45Iy639pO4KxF6z8yxYMATPLZgAzbIqgq5KyCljWnhdRywehVH/Xl5SrThmuxb+WCoKRCR9uqeX9gBCGh5WwLUDnpfVGP9SXlNnCyeE6tj6bJWUbcPMALykzG8ySsgW4qj95/zMI/E7L+Bs1R/NwkH1CwB0p4HY4GV/LcCoR7wbLGH9rfgUo92cZ/vfnmPmWQ7jD9o2ARscPcnC4GdusGbdFH6xcPSc1/XTwzdhqse+6NT3q/b9u//apfQIuAdco+RlBK3WGUEOJuIrnEUXNaI3jzi5QLFVRpOy20Yd9msDGWNya6ymQXmUawFpK7SCh3s/sI+QGyKej3v/bonMCLgGXYDFAgfW2BBbqx2guDGjcW487AZeAS8Al4JIGSAOkgT5ogIBLwKWJ1oeJRiv/1it/8g/5ZxQ0QMAl4BJwCbikAdIAaaAPGiDgEnBpovVhoo3C6p36SFkqaaC1Bgi4BFwCLgGXNEAaIA30QQMEXAIuTbQ+TDRa+bde+ZN/yD+joAECLgGXgEvAJQ2QBkgDfdAAAXfIgfvjuyzoj3xAGiANkAYGXwME3CEH7iiUYaiPVG4kDZAGboMGCLgEXCol9aGUdBuCBfWBoEcauJoGCLgEXAIuAZc0QBogDfRBAwRcAi5NtD5MNMoMrpYZkP/If7dBAwRcAi4Bl4BLGiANkAb6oAECLgGXJlofJtptWJ1THyjLJA1cTQMEXAIuAZeASxoYQg3kCxW8Tf2EneTBpf/Y+awdAunVQNqp/wi4BFyabEMYbDud4HRcfwLpTfiZwbJYrl5p/rLzWTs3Yf8oXpOAS8ClyXZtwD1GYlFEgP1FdpAuNQ/+pRbvDXxgkkQIEpBfD8K3qTjrSamhJGv9Ty59i+X95r643v4eIPQ4gTQbc7mGksLsKCLm30LeSQd633phU2l3BW6viES2N31nmW0v7Lp6Oy385+RT9bXLnNMbvxk+cxjb656HBFwCbk8mrSHiphOsx5NlKK6TgfBED+RHW3AvZpr4OgPB3+y9IfCbQ+Bq0EN+C8JqsUn/b6aP+VURsTy7dovg30nfOtSieb3e9PfqoNTsuHo7LfzX1DeXOac3fjO02TC21z8PCbgE3IEKgsZkaDpRezzprvU6GQhfJpA8UZDdjGA8klODe2IhDN+iCN9sFJsnCiQxiLEvggiIGRQsQUDyi5AYDOYFeOYjiKeLiE17MTkXhTAtILRbg3K6B58rjIA3iIBkyS5LGYSmghAWI/C5vGoGyn2bXw1ibCoMQQhiIpRBqVpD8kUYHkGEMBtEdB8ovRERSrIscA++pzsoVIH0i4gOKEBxap/bbnlvcnYDafkYiQUBY64oAq+OYYDncAvuqQgCQhCTqh1Ao20KpFAAbkGEj7WhLkxMn6y8iEDYrqkaLkkiPGtl7XlT+/VAn5VUv0wssIzTwa9cF3qfsqsR+NaOG8fv6BjRuQ1k1eNZOyv4z40IJrwiPNMiJF65qL+eMaaW/k0FET9k+s5AuC/A930Uk49FLD+LqGPlidsXLPWglPyP8elnj/EpX+RJova/vpjLrwrq/xNP+EKjCXCNcYnA/TiojnnjuADZeBCT8yKEhSDGp80KQemNZUy2o/C9URyO5cDlj4BiLMqKsM8Rc86XUgl45qKqZtwim09Odji0adGkMR+4XtWxq5uHluMnZ7eQVSshph18LnX7SMAl4BJweXDt+WMGwsMoYksCxpcOUGCTNrWC8YUtbG+nsB2Pqq+rAZZnuJYgYAJXL4Gq8OXl0D342DmnEoS5BDaTRb08qgWF5FIY8RM9QEgiApIZLPKrERWqSrWGzXkR0qkE99RLbDKb3rzE5LSEgrwHIXSggtfjXUEsf4zovBlUHdvXbbe9d5RDMl+zBFMGVRbwFSTmV5DUA1lhLYxQir1XZ1tqxYCoomQgqFUCBlzdDwoHXhlxr9keWyg4228GYwP8Tn7lWpBEjD0KQNjWFzMO42cAJqnZWngVheeFhOShthDgQdnxerb+HSA0L6HAgDu/h1KV+UPQF0tFxATT/6xNO3CLiD0RzAURa4PBV/1jr5vZm2mHpgl7O/Zx4cc2jMupBF+Il7RNn6p9VQ4QmmO26mNScDqWn8MfLcB18LHmQwWJ6QCW36Swvb2H5akgEj+1atts06ZJPh8sc01r3/SR7fjkCnzrlsUs18YlHgm4BFwC7iUmjjZBTYg5/89LygqkxTBiLHtJrcAXL6JwoqBwVET2iAVlc6IrRhAoI/5Uz3CN+4uW4MTPUWoonCrISivwqBm0ZpMtYPAAo/eTB1Fmswp1Bu3FFPLMppMysnkWXGrY9EchCCtInuwgtBCBz1ISdmy/J8A1sy/VNhuQLMA1fAKosF5NwCOyDJSPSTP7TR+afjBfs40Fa4v1KSbBN69nOU7jxwDj3UBMiGKb3acuKSicHkMKhbGc5vbwhQb733I9W/8swDWyUu4Pyzl6H+2g1Nt98hifqudaNKUeb/5v9luzzd5OM+ByO0zNNAVuVRuTQOylphlHOPP+8EdASa7AzTTm5GO1DwoSwgqkI6ZTBfnDIgotYW622UqvpmZMH9mOJ+DivDrYoOyVff/QqiG2WjLFYk7s4XjtArt7l/2EZRU/JM6wvn/Rpv+W47Ln2C3220ccuICiFBHzhpE4ZCXEoFZSnosioZYQi4h7gxBYSflEgoeViBdEuJ90AFx+PCsPP9NKbOr4GyWxKISp+pJyXfBUy3IRtWwrzIWxnNRW86XtCMZeMIgx+AfMjJkFP6f2+WLBeC8CraTMStMZhKbDHZSU620zS66CEDBLyhbgKgx49yMa7HQYMR84228GePNDTOZrjsBl1YGjPQjeBJKnTuPHABPAmA78wquwWlJmZf+2wK2a/fNZS8pdA9eS0ernGiXmz5iOGCitGa85F+zABRReUv4+Co9RUq4fF7OUGxDCtpKyqj+ZlcXNMeHlZ/NY0+fJiAC3EIVvPqAv6px9rLZ7uKXeimHteJ4dqFWAxraBhjYNTVrmA9eroRnLPDSOZxqmknIrDt2m93oO3OKWjE++ktXynSpgQ2zmBGz/uoIHM1cssaQrcK21A2YzmxQ8cJ0hJ39sA9yPKO5WcG+pCuXDGVyh8zbHN7sevd5eEzfoo+wGJpd4efMm7KhhWwgjwUv4l5pT3dvdAMoOr9s6w+3ejsHRhgnxwbHJ7k8qKQ92ptxz4L5bkuG78tcSrg7cXb+M5x/sYux8knRx/WwFDxhwqxd4/k0Fux0Gpc5tuWwf6Lxe+Ti/vQWpz7Cz2S7nEF+3VBf6pDECbv0cUiC9yqgf8LONT5/Go5NrEnBHCbipM9y7X8IvJ1mGW4Vvooy7EzL8uxdY/bqMO09l3P1jGf79j1Bey/jZfRkPnpbxi5kKXC4Z98Zk+FVY68BLV3B3ooLdsypCk2Xcm5Vx95GM57lzzIxzuFXhG5Mhrsj45Vcy7o7JWC1e4Pl32vs/+Mv45CnLulk7F1j/XrPj3qMyZvZYBmvads9Vxs/VzLoJcFMV3AnqWWy6gjv+cygGcAG22Agd109S+r+TQEHHDJ5OaOOLwRuTdvOEgDtKwK1q0NEyXAZcHYpvZdz9s34/9UzB+EQFudcy7v6VlXyr8N2XsXoGKPt6ebaq4MFvy/hk5gw59vpbGb+YrOB54gzPIzJ+8Y2C4l9l3GMl4x2t7dyKjDt+ft+1Ct9MBe+qwA/flfHgzwp+eP8RynEFd/4oa+2syfhkrIJcnW0PZlkpuwlwq1WEJmSsfviI9a9l+N+jAbhXz+6Hb5K3CwL0/nCOKW3tOHzjRsAdZeDq0GPAdALug9dM0CYczWxRwYPJigo3X/qjCty7kXPkjmvIva9i9/0FFAburyrwTeql4w815IrnWP2mDNfuR6yqGe5HFNnr2XP4XTJC7yq497WitXNcxW62prVtWQw0APes7j4uA3ywAnZckZWSLBnubugqZezLTe5OguJt2c+2k76yMmg3f7fFN7Soudz8uW1+I+AScG1lW2tJuSVwWWn3rIrnkzJmds/VkvTdWRn3xmWEWEm6CuT+XMbP9RIvy3BZSfneGAMuL+9+xPp3Wkn57n1W7v2I3YislrbvjZfh2mEZtqWkPNlYUl6fLeHOivX7jlX47pUww7+OYQD3As/9Wlbdz0ncSdnPcT/b0jHS7PurA3T/qZ0tnfS1XRv175u+UZBOa5ta1B9D/xPMhkUDBNwRA27/hHmB55NlhFhZ1wka7ytw8czV6X3H13gpmX9Kmd3zrWCdlbUdj6/7lDK/v+t4bLM2rvZ6px9sqT8uG3tZ9zWXVp/AtHydoaO+Wdoy9hNu0c9SZ+Cv74PzmLS4ThPbebuNPum+rV7ZRO2Q7y+jAQIuAbcJrK44oWQF/j+3+hoOKyd3+7Wgc4T+wtr8iCIrX8s1FFt+NYgf9xGKfIFiUzBfsa9NQMEmJIdFu8lpP+4Y0ZC205B5ngWSDdczv7BvHt+qT2Zb9V8RcTpf2/GqVXvae9Y+sB2SJtSNMoqIrV5tn2ij3f0EQm86g79TP+i19mNIPrpeHxFwCbjXA9wGKFyvkAc1UBiwYP6wfNG+HnS24+Q9LMe0fXP5l/rN/Wrr9z1uvges056xxnaRbOMI2/6+OSy7gtqevZYdpQrSBtxfeOFe3ICkbvqg72tsbNJgjqu1D/lV9mMFbHs/Dly+MYO+/SDbN/eJtrevtjOS5h91K0J94wY+pma7GYRu9Pu2Zl+5bfRIPulGAwRcAi4B9xoXByYsWGDi8DEzTD5ZbcfxTdydtsRz2veYb/NYBWxb0vEtHS2gtwFX3auX7yCUw/KUiLiU0/Z8tvjEyHAdtyE0A661Dwy4Un4LMUnrs7nA0H2Q38KEsSMS2wmJA5nthmTdE9haJeg2kzdt436mR/LJTWqAgEvAJeBa4NLryWiFEGtbBY/EQGQPfLbjlAgWLnkAACAASURBVBSW2ZaKTYDbuO+xCaLWwG3cn9kAIfu92lMF+f0d+AS2gb5p36WBy7YTXBUhrGa0PZvVNvXFBl9U8P2cLYuG+jEwfMP9wn7woEe/3lJ/LfrfHHfyRe99QcAl4BJwLXDpdZAxYMGvwTI7fW9b67XsxxURW9Kgx0vK5h60bA/b+n2PTeA67nHM91t22J/Z2E94/0ArKS+GMTG/ZwNuPh6GW+i+pMz272U/uaZmsmq/tb182Y/Vmz/Fpm+Gb9vrV9v7l/vH8M3+BqLsh+7jgrFvMT+GHnsPB/Jp731KwCXgEnA5DK/h0YBFm7brjyusvbT/WECb8wchONb3oVc28XbTYv0nt3sfEHtlM7VDY+OkAQIuAZeAe40w47BwmnzW1xqOYyVe9lNv12hbr9tu6EOPbOftlviPufeo3V73n9obLr3exHgRcAm4QxXUb2KSXOWanWwGYW7uMNwBq5O+duvL2+KbbvtNxw/3XGg2fgRcAi4B9xozpk62O2SgYsc1m6TD8nonfWXZajd/t8U3wzKGZOf1gp6AS8Ad+kBPQeJ6gwT5l/xLGuiNBgi4BFwC7jVmuBSoehOoyI/kx9ugAQIuAZeAS8AlDZAGSAN90AABl4BLE60PE+02rM6pD5RlkgaupgECLgGXgEvAJQ2QBkgDfdAAAZeASxOtDxONMoOrZQbkP/LfbdAAAXfIgfvjuyzoj3xAGiANkAYGXwME3CEH7m1Y9VEfKHshDZAGRkEDBFwCLpWUqaRMGiANkAb6oAECLgGXJlofJtoorN6pj5SlkgZaa4CAS8Al4BJwSQOkAdJAHzRAwCXg0kTrw0SjlX/rlT/5h/wzChog4BJwCbgEXNIAaYA00AcNEHAJuDTR+jDRRmH1ftN97MWvFd3ErxNd1e6bsPmmx3pYr0/AJeAScAm4t0IDDDzs93OvEoxv4vd3r2r3Tdh8FR+P8rkEXALulQLUKE+e9n0/RmJRRID9RXaQLjW/T1dq8V776zi0q9RQkrXX86siYnmHYy690MhA8Gd6opt8PAy3sAHpVLfvCnaz39m9lK/q/ODcjgJJlJBlx8oZhKbDCLw6Nq9XqunPi4j5t5Cva7OVXc7X6268WrfRu/Fq1Q/+XvdaPkDocQJpJ58Zfu3OH4pFR9yuQXgk4BJwzaDhJHh67Qr+yUB4ogffoy24F5tB6hoCYn4LwmpRtX2QgSv5RUhWjV3Bbht0JBGC1GWQ1u2wtWPYVkTsiW6rxUYexM1+XA24lx0rZ5t5/69BX4Zf+DX4Y2+vZfqVt9/ho8MY8bG6yUcCLgH3CkDpUPxNJ+dtPz8D4csEkicKspsRjEdyUKpFJBbC8C2K8M1GsXnCMqcgxr4IIiBmULCAQgs2RcTmBXjmI4ini4hNezE5F4UwLSC0W4NyugefK4yAN4iApOhjeYzEgoAxV1TNwvKrQYxNhSEIQUyEMihVa0i+CMMjiBBmg4ju83FQsLkQxbaaGdewLUSwWVIghQJwCyJ8rE01s+VBlT8Cim53KZWAZy6KgBCEW2T95W0D2XgQk/PsmgGEJAUFaQPuL7xwL/IM97J2a9ewQYf7URLxqZ6N51cFfPrZY0ywhYg1IPNjdVtt7Rj2c+DabWT9s/fDYYzyEnxzEQQWI3D791Aw2my0mwOX2araWc1A+OwxPv1Mg70JIDvYG212GjfLa1NBxA8BxcG29DMBbiEKt3cLWYWPn0O/ShmEpoIQFiOYnGXH1mlZ72eDJg634PGnUFKKiHlFSCXelxyWXUFVp57VYp1fuR38kS1mAxDmE9j+e71/7WPEfcrmnlZ9sJx7lIFw3wvPggiPK4h4HihsRjDhFeGZZrbx6/XmkYBLwLUFRWuApOdXnWQZCA+jiC0JGF86QIEFr9QKxhe2sL2dwnY8qr6usKDKS7SW4G8Cl5fbGHz15/IefOycUwnCXAKbySJKRnBkgdSa4UZ0qNawOS9COpXgnnqJTWbDm5eYnJZMCKRWwIKdcrIDT+hAtdezVtY0omQgqFk6t5c/cuAqSEwHsPwmhe3tPSxPBZHgpeJTCT7WnhqEy4h7V5CsAiZAdF9f1u4qYIMO86PfhC3zx4QKrkZ41dtga8eAIweu3bd8jphtNI5Rculb+OLMJynEF75FKGXXlfV6DA6Cn8OW+YfZq/3ZFgoWPzEbrG2oNrFxrB8322sHCM1L+E8H29KRAIS1DNInVjud+hVGnB+TXIFvnS34LJpQfeesiZIkYuJPAV2XHIQ5LE+JiEs5ba446cMYjwyE+T2UqoCjfy3+cQSufq5qL3++n4CPgf5VFJ4XEpKH/DaB1Q9Xe07AJeAScI1JfLXJxIOv+chLygqkxTBiLKNIrcAXL6JwoqBwVET2iE1qS5AygFtG/CnLangwYrZZn+vnKDUUThVkpRV41Axa74NjwNEBxyC9mEKe2XBSRjbPM2N2LoOhiNiziHbf1xakmwO3sBaAIClICCuQjli7CvKHRSNwsoVB98A17z2rQGtpdx101MxWNEv6Fn8Y46P6OoOYXnrnrxvwsi5gmO+7LilrY5RciiB+qPskX0Rev7fecL0qoGa2fhET+gLMBDnXpqYBaXXLVoo3bOZadho322scuI22lUoKCvkc4gtRc8HkoL3kUofAddBE6T9FTD7mVRld1+y+66mC/P4OfIK2CLT13zYe5pxx9K9lvA3gKgcITbNbPOa5trnHz2H9Pz2GFApjOc393ptHAi4Btz1wfzrH7vFlBFfFD4kzrO9ftLjGBd5tneH5XhVK9hy7xctcZ1DP4cAFFLV8FkbikJX1glpJeS6KBINwtYi4NwiBlZRPJHhYiXhBhFsN8FbIWp/rQYMfz8rFzywlXMsHe4yAY8kYsvGIWiYW5sJYTlqBC7Ds4/cLWvagVM0ypCAE6krKZSS8AjyLEQSmBe2e6eGWWioPCGF4nh2oGQgHS31Jmb1uC6gMFlew2wYdvnBhma16H50BU88W+X11FaJCwwfKeDvSogvCNs9yWgPX/PCXwxix0uusVlL2LEiWMq2mW3495g9jrHgpnD3qGa5xT5q/x+HqlOE6jps5lj5eUnawLRlhJWVWYo1gk1coHICrNJSU67TM7avXRHYDnkV2a4MvRDlwD7SS8mIYE/Na6d3w639tYeL+S8sHqyzQdOiDVUdK6iUmpqMQFiKYnG8P3MKrsFpSZrdtCLiDDcjzam/t+4dWDbLVEg9mvX38iOKHj3rbF3j+XQW7VQUPZuyBuf01FTxwnSEn87bsYHy3JMOX/Yhi8Qz3WNsfzuAKnV9Tn+zXbm87HT9sPrKCqzPbrXA0x7v7dsxzO7uu/fiur8cXExxojsC1X+Mydg3UOScSltf1WxuWfg+UjR3YRRlubwHZio+Xee+GgGuB64czjPsZBC2vdSAsbSK0PkcDLgsM/LgLPP+Gwf2WBQvqT18WUV2BS72n25jdMt121U4Pxrab66n3dPn9fsu1u2lj2CCl2ivzSsNwxwYC7kgB9wLr/jLuPJVxz1XGL8YqeFe9wPr3+muPypjZO8dqsIyf/7aM8aCCXKoC1yuWoepQTFdwd6KC3bP686p47pLx/AObEBdYnZHhf89Bapkk+xXc+aOM8acy7nxehi/L3jOPYxAOXap8bbmGJRANZXAh+y8F6KtuIMG0chObSFzV7puwmebV5eINAXeUgHtcwd2veVm4Ct9kBe+ONQA+T5zh+ZqMT8YqyFkAqLyW8eC1DsXflvHJzBlyZ4DidF6qgjvBcyjv+XVMkGoTtIbQhIx1dn4VaMxwra9dTtAUCEbXb1fdIpFliQx+rJ1+6uiqdt+Ezf30z226FgF3ZIF7jpkJDbj3vlaQO64hd1zFbpaVbiyg3K/A9Vf2oScFDyYrKjB96Y8qcBvPq8L/lQyfv4wZ9dN9lnbOPkI5aw/c3RDPkm8HODoJprclYHbSVwa1bv5ui29uEzSoL5ePTQTcUQJu9SN2/yLjk3EZ9yZk/JIBl70WkbUy83gZrh0GVwbOMu6xkvKZgvHvWFasw/OsiueTMmZ2qw7nAcqOjJ+5zlBUy6ImcN9FyvgZa4eXlGecSsoXeO5nNl1e0IMWDBgwWMmvlV2OJcHSMdL54bpv1UlfW/nB6T3TNwrS6eH/0IxTH+m12zPf240lAXekgHuOUETRYMg+GTzBysftxP4R6/6KUQZuJ6jdYBnjb/mnks1PKef+UkHovdO16j6lzErSbW1yamcwX+v0wyz1x2VjL/Udn3i/nD9Rq/nK8rWijnxnaUuu2TfMcDq/w/1s6/vQq3Hk7Tb6hPuGHnvla2rnerVEwB0p4ALF3QoejJdxd7KC9WMOxjYiO7tAUb/v2npCVvE8olgg/hFFVqqWL1Bs8tUgpcqAW0OOfQ2JHdfRddrY6wSNG3qNw6Leb/XfP7Ufd4xoiH8PlvfVAsmGvli+k9jwHj/f+mi2ZXzvs8V59bbW94X/b+2DuTVhEbHVZntIW21q/txodz+B0Jvhyvq5b+ix+fiOkm8IuCMG3FES9yD01YCFDjRzqz77pv224+Q9LMe0Hx4wNotYCGJc3SWnfh/kuv1rLZsR+FxebTMKy/c2NXjqwM1KYMdMLIhIZO372HLf2fcJdtg4wQJqax/yq2xrSbbJAAcu3xNY/yoO29Xniba3Md/rmO3HrG7yUPe1F7PdDEJLfHtICuB8jOhxeLRAwCXg3qoS7qAFHxMW9j1467NGx+Ns2yHqkHTcB9nMcG3b7UkiAuwXc5oB17qzUbVxH1vuS8NWh60BrRvxW/vAgCvltxCTNOCambQOYPY9WNv2hRzIbDco+/djzXbNfnLb6HF4YENjBRBwCbgEXEuW1uugYMKiC+AqKSy/OFZ/mMDcf9gEbuM+yCaIWgO3cX9mA4QO+9hyX1wauGzrRrYZ/2rGsoWj3g++b62xvaPZB35d/mj4kPuF7alr21eXoMN9RY+DrQUCLgGXgNsv4Kp79/Jff2lRUmbHLWmbt/OSMtubWCsps5+5q98H2QIro6QchTCll5T5fssO+zOXdlfg9opI7DfuY8uDt7Gf7Wl3JWX1d255Jqvu7KT1Xd0TuAG41l/GaeKb/Q1EJSAfFzAmWn78/RrHj/uAHgcbZMMyPgRcAi4B9xoDtpGdtblG/XGFtZfmT5+1OXdQgk19H3plF283LdZ/cpsg0CsfUzv90RIBl4BLwL1GoHFYtAtoDcexEm/dz7i1a+Om32/oQ4/8ytst9fjHwG/aX3T9/kBukPxMwCXgEnB7BAanid3JZhDm5g7DHYA66auTj1q9dlt806qP9N5w676b8SPgEnAJuNcI3E62O2SgYsd1M3EH8dhO+sqy1W7+botvBnG8yKb+g56AS8Ad+kBPgaP/gYN8Tj4nDXSvAQIuAZeAe40ZLgWl7oMS+Yx8dls1QMAl4BJwCbikAdIAaaAPGiDgEnBpovVhot3WFTv1i7JR0kDnGiDgEnAJuARc0gBpgDTQBw0QcAm4NNH6MNEoC+g8CyBfka9uqwYIuEMO3B/fZUF/5APSAGmANDD4GiDgDjlwb+tKkPpFWQ5pgDRw2zRAwCXgUkmZSsqkAdIAaaAPGiDgEnBpovVhot22lTr1h7JP0kD3GiDgEnAJuARc0gBpgDTQBw0QcAm4NNH6MNEoG+g+GyCfkc9umwYIuARcAi4BlzRAGiAN9EEDBFwCLk20Pky027ZSp/5Q9kka6F4DBFwCLgGXgEsaIA201EA+fYzCwPmoBmZXaeDsag5iAi4Bt+VEo1Vs88nT3jfHSCyKCLC/yA7SpeZtlVq81/46zdu93nMzEPwZu35O9+Cb3UG+0yAo11BS2tufj4fhFjYgnerHKjWUZP25JEKQ2rfR6Avd/qMduOf3nIFiuU5+PQjfpmLvb6f97OC47CsJ2SbHWa/dW60cIPQ4gXST66o+k/ewHDuGUnUY71bnXfa9LsaztP0Ssexlxv5mziHgEnCvLYA0BribEfnN2ZGB8GRLg8/RFtyLdXAyAlKfAplxvV6Nw9Xtzq+KiOXb2yP5RUhW+/NbEFaLmna7CNB2LXRgv/U61utfw/OGPjpeowObHc9r72O7b8zjS29WEN1n//fp2t2Mp7yH0Au2GDDtHeTnBFwC7tCIdZAnkrNtGQhfJpA8UZDdjGA8koNSLSKxEIZvUYRvNorNEwWSGMTYF0EExAwKlmCjBeAiYvMCPPMRxNNFxKa9mJyLQpgWENqtWcZOgRQKwC2I8C0IGLNmnpKI3z9i1wxjYlrLPkupBDxzUQSEINxiDsp+AsJaGUr1GNEnK0gqQOlNxJI5WtqfCiJ+qAfgJ0EEBBGB+SB8rxgAeVCu7yeglDIITQUhLEYwObuB9DsJPpcXEwsiEpYsJRsPYnJehDAbQEhSUJA24P7CC/ciz3CPkWB9dEUReHUMpaF/NSRfhOERWBtBHRY8IFv6YfiJ22x5byqI2H6u4TpqJm3rxxayCpBfDWJsKgxBCGIilFHLnEY/FoIYn2YLL8tYbiTgEXVQ5LfgDh1AKbHxzGHZFVTb8fAFBYOJqos6reQl+OYiCCxG4PZrGbpqx2wEAe+38CwlEFgQ4ZlegSQD6WcC3EIUbq9ms6bZImJ+3bYm2kq/eIlttQqh+ym7Bd/8DrJK3RgfHSM6t6Fn6Uyrmo6MuaFY32fPE0ifmppgWlD9y+cAf6wC2lxwGtciYkuSc3ViACFMwCXgWoI2D0r0aASJK03aDISHUcSWBIwvHaDAglZqBeMLW9jeTmE7HlVfNyHFA6vmfxO4vOTHArb+XN6DzwrV1Ao8KjABRclAsGbTkgjfGw3O6RcRxPIKEtMBLL9JYXt7D8tTQSROjxEVdlBg4PVGVNBtLoiQeLnX1v4BQvMsyGUgzO/p99AUbM6zLFQPyg79TC6FET/RtXWUQzJfQ0OGeyrBx+Cj+r2MuHcFSSPgWnRpzTzr+/dOgnvqJTaZj9+8xOS0JSDb+sH9ZNps+rCMZLKIUt11GBBs/UiuwLeuIL8a0cFe0/xg64cFanz8qgo2F6LYloFkyOIXBtwpEXEpp+mF68+AD18cMDu+hS/OxjCF+MK3CKUY+LkdlurKf0ZVkKUjAQhrGaT5GKhtO9hWpy0z885A+OJbTPpTTbWsLtK2a1CSFj3yPlSBwnoEAcl83+ZLSUSA3RrgfeWPfPxPncaV22/RhuV6vZnHvWubgEvAJeBe2wTlQU+BtBhGjGWFqRX44kUUThQUjorIHjEQmkHUCDbVMuJPGcCsAcX63HIOs98RJHqgsAQuDXAKEsIKpCNFtSN/WFQDaPpFFIIgInFygJA/Ap8V2rb2OwNufT9twbXHwOX3cNX+vZMgLKaQZz4+KSObt9x3tfWjl8A1S+MqoJoBV80m9XFhUIptQRD4ooUtlmoonSrI7+/AJ1gWCsYYmuOeXIogfqiPYb6IvMyAy+0wj+OaKpUUFPI5xBeiSPB74Ya+mmsrG3uJTfV+eQaCsIHEfES7b+qkZeUAIe8GYoK2mFD4go3PMf4+u0XAFhvWRVhT4Opz4dRpXIuIPbP4j19nQB8JuATcKwL3I3J758hlz7Fb7N1KcNBWppezhwOXBdIiYt4wEoesbBnUSspzUSTU0mwRcW8QAispn0jwuMJqKdD9pAvgVs1yqCAEGkrKNiCxe6aHW2pJOyCE4Xl2oGWp2Q2M6RlrMuRFKGkdT7N9X0clZYd+2kqxG0jLQGl3BW5v65Iy872ZZek2yRmEpsNGSbm+f9l4RC2vC3NhLCctwHX0E4eTvY+x/RoUp+vY+sFLyhx0pq28pMx8bJSUrcBVF1VeRC3ldEU50ErKrPxv/SCXAVyLVpgdrHy8GIFnQdJL29wO3iczY0xGWElZhMcVwWYXwFWkFSynmN/1NpUyNoUwoqlTBy0DhbUAxvRyubTogueV1f9sUSAY75u3GaIQpupKyg1zAWgYV3kPUWvpfUBBy+MHAXekgKtg/PMKfmCilC9QPLMG1Es+/3AGV+gcCn8ccMFz4dPjJce77fhaAn3bY6/LhiFpV96DMGfJYgfVX2wR8IyX+dv5toZtIYyEXrZOign18wDXNd9Kb17aFyyD6kPdLgLuSAHXnCzvlmT4rCvrSwq1+FcZM+rq9wLPv6lg95LtXNeEpHbNMb9+X7DMJ1iXUfbz+sN1rVJqBwn1079DYLf6ga4O7JRziK+zDwdqxxpf3bqmuFDq1K5ruj7vZ6ePBNyRAm4VvpkK3qXOcO9+Cb+clBFKXWD9+zLuPJVx71EZM3sfobyW8bP7Mh48LeMXMxW4XDLujcnwM0Afn+HufRnjX5Xx4PUFdv0yVvVMmUE8dNzBpBwQ8Xc6Seg4GlPSAGmgFxog4I4icKuAkeEeV3DnjzKeJ87wfE3GJ2MV5F7LuPvXCyjVKnz3daDuV3BvqaoC9954BaG3VbUkvTojY1UHqNEmAdVY4fdiklIbFOxJA7dDAwRcAi7ufa0gd1xD7riK3WxNzXAfvGYC1zNiBtBsBQ8YcM8ukCvWsPtaxp3vFOyGZDz/oE0G63MKELcjQNA40jiSBnqnAQLuiAK3uCXjk69YSfkjdiOyVlIeL8O1c9EauO/1kvLTMn7pV9RjXW+ZIC/w3F/BO8puKbslDZAGSAOOGiDgjhRwe7dSM1a9ZwpmGHjZp5SD544iM44dwUnYsAdwD33Q2z11r0EbPezrKGuI+n57tEnAJeBeHZIfLnr3NaNbFqQbvj/as/7R128IRLcHRKMylgRcAu7VgdsziNyuAGLfA9i+qYK6F7EkYuJpFL5nKeTZfsCuCAJCAOP+BJYX2H7JYcTZJhWWjRa0/Wbr9tQl/5OGSQNDoQECLgF3KIQ6rCtgI8O1bSmob41o2QOYbb+n7XdcRMyl72F8uKH+Io7j9nd81x8KtKRf0sDQaICAS8AdGrEOI3TbAZdvScj3u2W/JqT9egug6BvndwTc+j1rKQiTrkkDA6cBAi4Bd+BEOYxgbWazAVzLHr7GXsTG/rjmfrdOwDVLypb9ZquWPXWPtjDxiP8s2u0qyzfzK71O4zyMGiDgEnAJuJQJkAZIA6SBPmiAgEvApYnWh4k2jKtxspmySNJAbzVAwCXgEnAJuKQB0gBpoA8aIOAScGmi9WGiUabQ20yB/En+HEYNEHAJuARcAi5pgDRAGuiDBgi4BFyaaH2YaMO4GiebKYskDfRWAwRcAi4Bl4BLGiANkAb6oAECLgGXJlofJhplCr3NFMif5M9h1AABl4BLwCXgkgZIA6SBPmiAgEvApYnWh4k2jKtxspmySNJAbzVAwB1y4P74Lgv6Ix+QBkgDpIHB1wABd8iBSyvQ3q5AyZ/kT9IAaeC6NEDAJeBSSZlKyqQB0gBpoA8aIOAScGmi9WGiXdeKmdqlbIw0MDwaIOAScAm4BFzSAGmANNAHDRBwCbg00fow0SgLGZ4shMaKxuq6NEDAJeAScAm4pAHSAGmgDxog4BJwaaL1YaJd14qZ2qVsjDQwPBog4BJwuwfuT+fYfXeOH3762P25BDfyGWmANDCiGiDgjhRwq/DNVPDuSmK/wPPvKtitnsP33RmKV2preFaml8sijpFYFBFgf5EdpEvN+1tq8d7lrt38WtfWniRCkOzXLWxG4F4vdw6YUq2DY4uIe4MQxAwKXH9yDSVFu3Z+VUQsb7ejoz7r9ufXg/BtKs52WK6TXPoWy/uXuA63ueXjMRKvjp1tqAKX7mPLa15XX6hdrj8CLgG36aTmIrE9fjjDuP9cPWfXL+P5B5pMNv/YAloGwpMt5NlrR1twL2aa+DoDwd/svSHyrwNwm/vGuV+SX4Rk86HTcY3+sgLI+ryr63dg/6Xbbtun+n429tHal/7ZUW8X/W8dh26fE3BHELi7x2cYfyRj/biK9e/LuPNUxr1HZczsVfHcxSF6gdUZGf73Clz3y7j3tIy7S1UoqQpcr/RS8msZ429pAjafdBkIXyaQPFGQ3YxgPJKDUi0isRCGb1GEbzaKzRMFkhjE2BdBBFjGZgn6GnyKiM0L8MxHEE8XEZv2YnIuCmFaQGi3BuV0Dz5XGAFvEAHJkpWVMghNBSEsRuBzeW2ZZ341iLGpMAQhiIlQBqVqDckXYXgEEcJsENF9oPRGRCgJKPIefE931Ewy/SJiZo6W9idnt5Bl2aUkYmJWhKD2LYIEyzJ5f/ISfHMRBBYjcPv3tMz0cAvuqQgCQhCT/j0cSBtwf+GFe3ED0inXlQIpFIBbEOGbCiJ+WOcvBrKspPZxYkFEIsuyv/r+1fuctw0oln4YfuI2W96bnN1A+l39dfRM2toP1Z8O41S19GNBwJi6wGILsgCE+QRexyMQtrXsviSJ8KyVoVY9moyvCtxDBduhIJZ3FZRSCXjmoqov3WIOyn4CHlHPkPNbcIcOkH4mwC1E4fbq49X1IsDiNzq3yeK5tY8IuKMG3LEyfj5ewe4ZoBxXcOePMp4nzvB8TcYnYxXkUhXcCZ5DeV/B3a9ZAFfg+qMM/9Y5cuyc1zIevNZFZX1OE9BhAmYgPIwitiRgfOkABQal1ArGF7awvZ3Cdjyqvq5ULdkMD/ZVwARuAmnVvwy++nMGQha0TyUIcwlsJotGSZUtAJJLYcRP9HGSRAQspd78akSFqlKtYXNehHQqwT31EpvMpjcvMTktoSDvQQgdqOD1eFcQyx8jOq9n6/XtJ1fgW1dUuPre6CXhkgQfy+j1/rDyqy+eUvsdX/gWoZSCxPwKknoZuJTNIH3K+2wJWqkVFT7qokY5QGheQsHqL1131oyvoX+OPteu4egnw2aLD49ySOZrtlKudk17PwprYYRSDuNk60cGglrtyECY30OJ9UE5RnRuA9lqGXGv6Zdm46suKh6FEc2yfihITAew/Ib5dw/LU0EkThVsLkSxLQPJkNaPdCQAYS2DNNcFzVmHOWvR3jX4h4A7asBlWet3ZYy/qqnAvfe10tNKPgAAIABJREFUgtxxDbnjKnazLFhW4f9Khs9fxkwaUM4uUCzW8G6vgnuTZ8jtV+D664Um1FcyZlLXK9Dm2eMwXJeXlBVIi2HEDjXg+uJFFE4UFI6KyB4xnzsBt4z4U1ZeLSLm56CzPtfPUWoonCrISivwqBm05hdHkDjASYU6g/ZiCnlm00kZ2TxbaNWw6Y9CEFaQPNlBaCEC32rRCFC29jsCbkTNTlm/8/ki8rIdVL0FrnkPV+1fagWNPm/hp14A1xgzfZyaAddyK0GF9aolM1VB7Dy+DPbLay/hDqVQUBQkhBVIR2z8FOQPi9riLrkCT2wLgqBBvVRSUMjnEF+IIsEqCPpiZ7jn2DDEAdNGAu7IAZd9aOoCP/hl3Fs5x25E1krK42W4dnSQ7sj4mUv/QNSZXlKelfHLiTPkzhSMf6eVLneDFayyrPcaVoK3o00OXBbcioh5w0iwkmgoqJWU56JIMAhXLR8COpHgYSXiBRHuJx0Alx/PysPPWMlaHw+jHBqFMFVfUq4DUhXIxiNq2VaYC2M5qY1vaTuCsResLMngHzAzZnYNo/0IOiops+NntZKyZ0HSStDWUqxeZs7Hw3ALrUrKrH+WBYre39LuCtxeXlKu75+Tz1v4iVcZbH3cQFoGHK9j7QcvKdcD11JSFoSAWVK2AFdhGfz9iJqVGuPYZHx5Rl9KJ+ARJOQPttRbFAEhDM+zAy1rVsfNq2fBQDLCSsoiPK4INk8zCPxOy4CNa3Ht0KM5j3rsCwLuSAFXDzJtRLQbLGP8bbOv/HzEur+C9bNzzHxLn1KmYNVGUxxebTRHfmT3ojcwuXTQu2DPbgvMsRJ8mzGi93vn8za+JOAScOvEVsXziIJcK+GwMnP5AkXKbut8R4HNBs6jPQizL5G8DV95ajUfevRefnsLUg/vr5ZSO0hc29eWSOs2rXeoAQIuAZeg0eFkucwEo3MoMJMGSANcAwRcAi4Bl4BLGiANkAb6oAECLgGXJlofJhpf4dIjZTukgdHVAAGXgEvAJeCSBkgDpIE+aICAS8ClidaHiUZZzehmNTT2NPZcAwRcAi4Bl4BLGiANkAb6oAECLgGXJlofJhpf4dIjZTukgdHVAAGXgEvAJeCSBkgDpIE+aICAO+TA/fFdFvRHPiANkAZIA4OvAQLukAOXylOjW56isaexJw0MlwYIuARcKiX1oZREgXG4AiONF43XdWiAgEvAJeAScEkDpAHSQB80QMAl4NJE68NEu47VMrVJWRhpYLg0QMAl4BJwCbikAdIAaaAPGiDgEnBpovVholEmMlyZCI0Xjdd1aICAS8Al4BJwR0oD+UIFb1M/YSd5cOk/dj5r5zqCMrXpDPt24zYMY0LAJeBS0CDgjpQGWGAulqtX6jM7n7VDcHSG43X4pd24DcOYEHAJuBQ0rg24x0gsigiwv8gO0qX+BaemAa9U08c7A8Gf6XDsDxB6nECa+UmuoaRcQz+OduCe30OBXaMTG5UaSrJmR35VRCzfuU0ss23qny60cPV2uhmD6/B9r8e1iJh/C/kufNjNOHTi74ZjLLrKx8NwCxuQTjvXSjf2dXIsAZeA25Pg04nYRu+YDIQnegA62oJ7sVPAXV9AkPwiJDUgdhns9SDaLdwuM+Yd2ZjfgrBaVLXbrU22oCyJEKTL+dvWzqUg090YdNvPbnzfm7ZvBrimXqDeImjWb+txzY657tcJuARcAu6lgmUnQToD4csEkicKspsRjEdyUKpFJBbC8C2K8M1GsXkCKJKI37siCAgBjPsTWF6IQpgOI86ytlIGoakghMUIJme3kK0cIzq3gaxqM3ueQPonCb65CAKLEbj9WpaYfibALUTh9m4hq2ekBWkD7i+8cC+yVX4Gwn0vPAsiPK6gdq18YztaANIDaVaCz+XFxIKIRLaG5IswPIIIYTaI6D7zB2tTgO/7KCYfi1h+FoEgBOGJa2BUqjVs+leQVIDSmwgm18pQqseIzrNFiQaftjbq/U4sCBhzRRF4dYz8ahBjU2H1WhOhDEpVJ9vM8bKBkgNXEvGpnvHnVwV8+tljTDCgW8DOxskKZ1s7VSAbD2JyXoSwEMT4NOtTEbFpLybn2HgKCO2y6oICKRSAWxDhY32wVRnYAi0AYT6B7b/XjYXN94AJSA45y7lHjWNb2IxgwivCMy1CMiotTuMKOGmHjZewrVVHSttR+N4ozv1VM1xuE0z/NdUWoBxuwT3F9B/EpDp+RcTmBXjmI4inm4xbFZD8j9Vx+vQzvoh0Aq6Trsw2rxuw9e0TcAm4BNzrBO7DKGJLAsaXDlBg4EutYHxhC9vbKWzHo+rrLJD73rBgVkTMJUJixx1uqBlccimMOIMyszG5At+6gsJ6BAGppv7vWSsjufQtfPGU2mZ84VuEUkA6EoCwlkGan6v30VzlZyDM76HEXt9PwLdadGzHBtyqJdCfSnBPvcQm68ebl5icllBg0NTbZNDS4FRETDDLjKU3IkJJBZv+MDyhLeT1a6uw1uHTykYjgFlAmF+N6MCvYXNehORomxlkbaBkEPWbsGWAnfjMHsi5PfyR22Br51SCL8RL1Rw4DBy8FL8HH+tfagVszNQ2lAwEW9XD9J/TmJqQtYwD04wKOfNc1Zd1Y1t4FYXnhYTkIb+lwPzBz7W210Q7ygFCc2wcy4h7V5AsNOlvE+A69Ufzo4LEvLYIY/8X1sIIpSx+s8xNm78t428dF9sx6rlmFcF6HB/Dfj8ScAm4BFzLpO7tBOQlZQXSYhixQw24vngRhRMFhaMiskc1NcM14MTvgekBxQm4Cgt+3g3EWHlYBpJLEcQPFbXNfL6IvAyUSgoK+RziC1EkLPeszKBjBiKexTm1o/nDITCfShAWU8izfpyUkc0rWoZrZIn8vqp5rtqWvAdBiEJgC5C1FfgWIvr9V9OeVjYa42MJuFYQqec62tYcuJ/6RbP0b2nXuJaa2WYQ00vY/HVbcG8GXD6eegbfFri6/5zGwtpP4znTgppNm/6zLl742CpMD6fHkEJhLBtZozk2RnvV5tphMAzEXqqLM6Vlf8122SLRrS7mGjWq+bEJcA2/NRk3yziZemme4bJrWY/jY9jvRwIuAZeAe+3ABRSliJg3jMQhKykGtZLyXBQJBmGjVGkJVDyg1JeU9fIwyyDHxGNt7Ngxs1pJ2bMgqSXkZISVlFm5OIJNC3DND45YArT1WnXtaAHJtKu0uwK3l5WUWQk1ol5DmAtjOdkhcKs1bC94tYz0ZAeTT3e0D0pxILEs2vhwi4ONfKzkDELTYb2kzOFuBtVG25oEbu57ltmq99uLiD3RM1x+/51lgk+Ehg9m2YBrKSkHhLBZUjbAwftilpQFIdBYUtaBq95KqBsLq++V1EtMTEchLEQwaSnJa+PFr2WWdAuvwmpJmZW2nYBrbbuZdhSZlaoj2NY/rMZL6E791dqIwjcf0ADtoFEDdk4lZcNvTcZNHRN7JYK1Vz8m1sUHAXewYXdevXn7/qGVEWy1ZIiWByJ6JJ+QBlpqoDEom0HdeT6ZCw7r+9230+469L7Vv/XPO/F3J8fUt9vP/ynDvXmotmIqAZfg0RIe/QwWt+VaXQVl9Z5uY3bLfNFVO6TjK+u4E393csxN6piAS8C98kS4SQHTtSkr6lYD7TZQ6KS9YdhkoZN+DNMx7cZtGMaEgEvAJeBS9jFSGmi3RSDLktr9seBPWzv2d7HXbtyGYUwIuATckQq2/V7RtwsS7QI7e38YAkmv/drOb6Pok177+LLttRubdpoe5bEj4BJwOwdu8Rw/ZC86P96SORb3FTxPnCNnea1+wpvH1LC7d7W9buvbvqn/WXBhpa6rXH8YSmVX6Z/Tue38Noo+cfLTTbzWbmza2TTKY0fAJeB2DIPdkIznH4B3SzJ82e7KSeycmd1msFbwYEZR9+kNuWSsVgF+rXaTd9DfZ6v9XthY305+PQjfJvsqTnfjUH98ydh1iLdTRNwbhCBm9K/r8Ncv+ci/dlNvZ1ZCVNLsN78GZF6jvr/1drP/64+5Pp+YdjnZ0clrjrY1802dr6zfke3kWo3HOHzKupP9quvs4O3W+52/3s1jfRuO/mly/ZbXMfp19TFreZ3L2FYFCLgE3A6D9jlmvjlDsXp54DaHtA7cKrA6owFXSVUw/tdmgB7MyeQ0Qe2BxfL9yC4nrL2dXvXfyR6n165wvWZQkURt68QmGxI49pd/X1j3neMxXfq1ccx63P9W9jTzTd051wFc8zup3ffX9LsDyOtsb/SvpiWzjStoy+FaZr96226zfnT7OgF3pIBbhW+ijHuTMsaflnHHr6BY/YjdSBmfTMi496iM8dcMcg7HfTiDK6SVRtUMd7+G1a/LcG3VUHxbwZ1xvc3gOYp/lXFvTYNl8bWMu3+uOmTFF+r5d57KuOcq4+csw7UCt6pg/JurZ3DdToheH28PLDy4ZSDw/V/ZHr5sK0F1wwNrAOPHNglQerBuukduqz18p4LqzlSSGMTYF0EEjGxWge21VhsSGPBr3LfXuv8z23vZuv+w4V8duPa9k80gafObZbtFdX9jPdDajmGvXYtPtHYnZkUI6v7XESTUXyay7F2c7WC/67/p+zBbNjIxfOO0z7Dh+wjcj4P2TTcc3mvcT9ppb2fNv3afO4yfkz0WuJl+53q1bgzCtM02pND2NzYByI+9jJ7Z1pP1+2Vb+jcbQEhSYO+XqSVDc5Y+3NRrBNyRA24Fu6rwPuKH72T4/17B3a852KrwfyVjXQVu3XFvK3iwxIFbxs//7zJm0h/BNqQPjZXhWjvD88QZXH8sI/T+HDPj7Hy9vTOHrPitBmJV+GcKHsw2AlctMw/AJLnK5DSDEwsADKKiCVv2v7Fvr/5dT5718Ee9//Z2LHBptkduyz18DxCa1/c+5jsbGX7moG+z5Z4VuHX79tq2o5REBJx+jaeLDNcI2sY12wTtXvvE2Oua/ZiEBJ+6/7G5d7Gtv032u+aLAduxum8a9xm2+96e4Tq/57SfdOPeziaEDJ8yDTaMX+Pe3NY5YGqRQZRti2l+T9n8QYG6H3+40tgx4Dbul232T9/fuUm1xGr7TT8n4BJwOwPuwRlc/nM1C2UZruvPMu58fYbcWQ2hSRmr72vIHdfwbr+K3BmQ+7OM8aUK7gTNc7SS8kcoZx+htAPumXm9m54kV7m+GZx04H7GNsvnAYrDzQyEfCs6adXc8J9d396OCdx2e+Ty9ux7+PYAuPoeuUb7DNh6UHWCisK2pNS3pVT9eY3A7blPmgHX2Pe48Qcm6ve7bg3c+n2GnaGq6dD5PSuUVZg67nVs6swGXL7oMsav3h7zPLsWtcyW6ZlXMcx2+TlaZsv0rP0spPZ6d3q2/7hCY/8IuK12T6L3Ood8j3eacigVd1pSZlnvNxX1U8b8Q1PF3QruTp7hXbqCu4+sZWpAOVMw/s/ah6zYJOXnKD9V8Mt/lvFD1VJSnnQoKacqmHnNMmg+cYfz0R5YOGDNEpyZEZg/Mcb2SbaWTu1BTvcDL5+22SPXBKK5h69PLSmzdpw+IMVtdPrZNKBhj1zLHsgcuGZJOQphSisp5+OWvZ/ZmHYBXHasWnbnP5mna8LuW3MR0m7f4K59wmx1KilzUFnKxOpPKDrtd80rFsaxpm+c9k02frLu+yg8zUrKlvcagOu4t7M5h8wPqlnGm2ehrfY9ti3+zDIx07EKXctYcQir48d9damxcwCupX+CXlJm88Tsl9nXQYohlOF2Dr+bWCj0HrgzFbxrC7EqfA7HsazV/75DIacr+MRyD5YBV/2U8vsKZv7S5Gsycg3Gp5SDJqwHacJ0a0sDFNr63h5c+PUu0w4/dxgfO+lvJ8f0pO8clh2MXU+uN+DX6drvDv7ruo0B90mn407AHSng1rD6F6Xld2E14TQ57uwCRbmzrPNdooJVK5xlVnK+gCK3+OQxP6b6EcUPnV2nU6Hf1HHdBRaW+er3vuoCTHftdLgoqrvGTfnI6bqd9LeTY5za7vq1rKT+OlLX5w2wf6/Sl278rlZw6rJbdu1u2riKrYN2LgF3pIA7/IF40CZQO3uuukkAa38UNwpo57dR9Ek7rfXr/XZj086OUR47Ai4Bd+jvk7ab4Df5/lW3wWOZAAtwrJ2b7Ee/r93Ob6Pok36PQbPrtRsbptlWf6M8dgRcAu5IBfJmQYRev3z146oBuFVwvsp7oxzYSc+X1/N1+o6AS8Al4N7Se23XGTisbTOwsTKh9bVBeD7KpctB8D/Z0Ah9Ai4Bd+AC5W2aqL39moL5NQy7jw4QepxAmi0c5BpK1u+7tltMHO3APb93pX2TWRZqt6cx0NzU+4Ns2035hK57c/ok4BJwBzZY3obA0LgRwFUmezPgmm1av4/ZL//Zoca/12l+17idHex7x07fs213Xifv220z/dTJuXQM+avXGiDgEnAJuO2ywEu+b9/b1WHjCcv3EzmYW+4ZuxDE+LR9ByotIOggzkpg+/NOLIiWr7FY9vw9stiwIGBM/bqGDsjTPfhcYQS8QQTYr/g07Kebw7IrCEEIwrNatGnGDjWtPRv4+WYI6vWsiwaHY5mv2QYMTzQIaxuAsHMETLBtMJ9o/Tcgzb9ywjan0M8xNlwY4a+f9BoU1F5vFh8EXAKuLXjSxOrNxOJ+5CB13FrREbit9oy1wspqp/m6DXTqQsGyV25qBZ61sjbeSgYC3xOYQetUgjCXwGayqJakG/f3zWF5SkRcyqFQV7JuAK4FjOquTm32izbg+Zm+WxH7sQIOUrUPLFs2d+Iyd4piu0ttaRv7W3au4r5nj3bbrD6j51Y/0fP+6IGAS8Al4F4yg+0kSHUG3DLiTzWgWIGpnttsT1wb9NoAl8OrFXCVGgqnCrLSCjyRHJJLdfvplmoonSrI7+/AJ7AfPjADlB1qesZsAFD/33I8BybfL9raZ9WnfItB4xyzfw3v80ULfzTO0ewzbLP5y7S9kzGkY8hfvdIAAZeAS8CtC9K9mlysHQO4VUs5l+9lfCLBw8q4CyLcegZnhQ8/NxsPYnJeREAI6yXlDAK/DiNxygOhCaTS7grc3rqSMgeuxQZBCNhLytwWIYiJZzk07O9bOdBKyothTNR9yMqAmupHE7B8f912+0VbM1y1hNwOuKpf2U/AmSVm/uMA9WPHbZMWXRC2a6T1a9R6ve/pfz4/zUcCLgGXgtCwBSHlAFFxcD4ZzKHWTYC1Liy6Oa/bYy9jW7fXoONNoJAvWvuCgEvAJeAOHXC7/OrPNfevO6g13y/6OoJ1d7a1DpbXYR+1OVo+J+AScAm41wyk2x5UaeOL0YLGbdfzdfaPgEvAJeAScK+kAdrakYB7nZC6TW0TcAm4Vwq2t2kyUF8IHKQB0sB1aoCAS8Al4FKGSxogDZAG+qABAi4BlyZaHybada6aqW3KykgDw6EBAi4Bl4BLwCUNkAZIA33QAAGXgEsTrQ8TjTKQ4chAaJxonK5TAwRcAi4Bl4BLGiANkAb6oAEC7pAD98d3WdAf+YA0QBogDQy+Bgi4Qw7c6yx/UNtUXiMNkAZIA73TAAGXgEulpD6Ukiho9S5okS/Jl8OqAQIuAZeAS8AlDZAGSAN90AABl4BLE60PE21YV+RkN2WTpIHeaYCAS8Al4BJwSQOkAdJAHzRAwCXg0kTrw0SjLKF3WQL5knw5rBog4BJwCbgEXNIAaYA00AcNEHAJuDTR+jDRhnVFTnYPSjapIJsuojSQWq0hnz4eUNsGZfw0Owi4BFwC7rUFsWMkFkUE2F9kB+nSYE3+jmAqiRCkLuyWaygpXRx/bb5vYoNDf/LrQfg2FXUelHo4Rj1tN7uB5e0a8qsCPvVnrn/O5rcw8ZkIqcPxKW2/RCzr5PMO58DRDtzzeyh0eL2OtDuAbRFwCbjXP3kHUPj9mbAZCE+2kGf9P9qCe7EPgbLXvnYAVCvf5VdFxPJOgXdAXmvZnwyEa4HZ1dtNv1jBpoyBBa4i7yH04tghltyCOdDDOUXAJeA6TJIBCY49FHorSFzfexkIXyaQPFGQ3YxgPJKDUi0isRCGb1GEbzaKzRNAkUT83hVBQAhg3J/A8kIUwnQYcQauUgahqSCExQgmZ7eQrRwjOreBrOob9jyB9E8SfHMRBBYjcPu1LCH9TIBbiMLt3ULWyDgVSKEA3III34KAMRUuRcSmvZicY9cUENqt2a7pc3ntGa4kYuJpFL5nKRykEvDMRREQgnCLOShZCez4iQURiWwRMb++2MhvQVgtQqmy4BuAMJ/A9isRv3/E/BDGxPSOuihxthnIxoOYnBchLAQxPs3adLCZa8XiL9N2+3UnZkUIqv8jSDAfqxBWIIlBjH0RREDMoGC1NWuOgdGm4Yf/F6sLUWzLbM7UIPnDiLMxZfY4tZtvHKv8ahBjsxEEvN/Cs5RAYEGEZ3oFktqm1u7mM23MtQw3heyqgF+7NpA9kOD5kwu//p0Lv37K9HGA0P90wbddA4Og79deRPet87mM+NPHGBOPoSj6sW9OIS168KvPHqvtfMoWiUaGm4HwmaAuoozsWiki4fWox/7qdwHED1n7RcSWJIcM1WEONBsjpsfTPfhcYQS8QQQkBUqDv3JYdgUhCEF4VE1Z+zb4zwm4BFwCLg/WPX/MQHgYRWxJwPjSAQoMfKkVjC9sYXs7he14VH2dBWbfm5oWtFwiJHbc4YYKqeSSJYAnV+BbV1BYjyAg1aAkV+BZKyO59C188ZTaZnzhW4RSQDoSgLCWQZoHf9a3lHa8CgMlA0HNuIuIzSeQZu+zAO3PwHZNSfz/2zu/nzaybN/P/3X/hX6bx3nsVuseRVeaUR7mCHV0+iqHVoujDhECxUSYoU3TJdktLFtgJc54LBgnMjeh44FW1+XiyxAjw+AGbGKXKWyi79HeVbtqV7n8C2xj8HpAxnbV3muvvfb67LWqvAohOaVsyaojPRvC6nvW7y5WZ8JIn7MITES4TYC7uGtc67PaAfZfxbhD95T5XEUgcmjaqGizUWaxafKWPQfFo1+9rCLAdGBFvXIkap/j2aYkv36Qhp8B7GwbfktWAVwGAbtdr7kqrMdMKErR4C9xaaMjxm1GuI9m8dX/imGzDKjLU/iK21MGgf94At+GjnxiAV/Mqth/E8IXz7YbIFjeiuHf/n0N6i8J/prlcI3y+Sv/Esef2wF3J4F/+484Ult7SC3N8r6KDLhig+VYR41rwFOfQkfnKpT5NDazJX5polFfx1idSSClHhvrydEXAfeyNtxAG3b5ftdKQLZbEo6GXodxsQkHqkNdjiLJIoG9NQRSJRTPdBRPSsif1CWHLzktMyp0OCcTuDwyWXiHZDDBo6DsSgypI523WSiUUNCAcllHsXCM1FKcO1JuH82AazlKAwyOPj2Aa1zT1ZFW1qCemP0elbgD9ARudg0+EeGKlK0FORvSnjI3A65LZmH/3rLbwLM3Nyx70Aa4pqyebUry67UKUgtrSL6KIi5fx7SOsfv3mitbZ/Zx9ibAsOutF8amiEeZ8wkoj2ahqDrU4BS+Wt5D4awE9e02tg5EZDuLrx4ZkW45m0Fo/dC+qUk/RfybGf49j3TbAteP1X1g/4XfuH6sMuAac5/fUZHaYjdMlZB8YW6mrIyKudngl1XsNeCpTwFcvY7iuY68ugZ/7BgN+irXUT7XUTjYRkDxiqiH0Q/YMlGEO9wbgvsH3H9dYuf/XWKnZBuhcJb371UAF9D1EpILUaSPWFo3bKSU5+NIMwhbjrkRuA0pZdOZMcfLnSXb4bMUHUtJLsfgX1J5CjkbYynlBPxTMWyeC13bKWVFCdkpZTe8rJRfHMpMY0rZuonqKMPT4iElCv8Lw6GXd9bgW2ApZcCQIY7AYgiBDoDrLbOdUmb9WCllt8wi0vGU3Qky75Qy01EJqYUwFJFSFpsDrzatOTN1m13DV0smcIQs1jFSux5z1QlwC+trZgbBvGnqKIPJPylI/mKklL9g6eAnr5E1b/rKRmbwxb+vIauzbMcsvnj02shimLIVWfRrRsl6jcGwWUqZQX0WX3xppK35DVtmSpmloL/40w9Yzeo8OxJnc3ySweS34pIH043HGvggUvSyfZlzdKbCz1LKShiTL44bbbt6aKSU2aWIO3iTFQGXgNthlKxj4s9V/IMtWO0KpQvhxLt5vcLLH6vY+XiBqchlh/120z4de/82LXdjTvOJEE/l903/Z9tYfVPpcM0Y12mnzePZJQjlF+Mu7H7JV37/2hndi00HvTrmjIBLwHUYRCcL8sOKhoCcOut0UX28wESQgfYKL7+vYqfT8+i4rueok3mkY3oF8xK2UnsN10p7rd9ymV3n70Dmwh5WlzPImjddlc87PK+Ttpsc07FsTc7vaFz34FwC7kgBt4bAZAVj0xomnlXwIKijVPuEnVgFn09qGPu2gomfr6DXvI6rIfC8ig97Fxh7VMYfpjVE9q6w8VMFD54Z5z7f/QT9Zw3/45GGx88q+P3zKqamNIyNawgyQO9VMfX2E3caDNqR0w6cxz1YZKPiTGicZM9kA61tgIA7csAVkeUn/ONHDcH/X8XDv4h0Uw3B7zRscOC6jvuXCdwaYEW4p1U8+FrDy/QFXr7R8Pl4Fcc/a3j4dxPajzSss9TzQRVjKzUO48c/GwZptUFA7SxqIT2RnsgG7rwNEHAJuDcC7thfdByf1nF8WsNOvi5B1Qa0nq/iMQPuQRVTHMbATkTDy4+td4P3YbdcKFbx696/sJ09HKo/JhOT7T7omMZw/9fRfZljAu7IAfeGKeUaUMpo+Pw7llJm6WjNSClPVDC1fdUauBc6Jn5k0fQVXgar+DACO3YGtlKlNnRgYzIx2e6LI6NxEHTvgg0QcEcNuOw6bFvQSdFp22O7WeifsBGsYqN4ganwaNylzCLbYXUEbtns2r/Sz1jE/Fs1kqWfLonvOnwVP39hxQxWHdWPJBuy+jlE5IlZkKP9QoKoAAAgAElEQVTD9q+jZ3vMkgy97s8aUx/76LXM1F5f1i0Bd6SAW8f633Qct11MnR53DQdycYXSx+v+rOga/bUda3/bdEJN/B60hORTo1xeW0ioCbDfWPI/8bvQHo3JKZusByGn/ZmAJS/hZ/0G1v6+7ThqdoGLVsfa/XTXdqs2b/u7+zim29bpXe2fgDtSwL0/TuyuLDgn1AyQORywACqHqRw9mtCziieIuWPHKJhkEOYVfNzvzfJ/7HsBaFb396nCoW0VraiBX1N26JH35a4pjMYaye7ay171ocWm4CgD3wyrEx2D70nYrMlrln+0vgtjmtWAblKL2aqlPBdChNXXZcUUHi3Az2oOT4Ubak53X+8YKG7GMLnAahgnoEpPDCq760WbdZx9rO8nUUReJHg9aF8kZ1RbYkU+lIRRX5oVA5HHlDFLQDLdFDLwyWUghb7otS+RpcPOb1HHBFwC7r028NteaA3AtUDJAMoKw5vRq1kg3qo6JUArgPzlE0zyak0sOpYfm+Z+L0WnasZ4cg8DLj9XQNt4dcomV7yS2jCdk71J8Khj7FUfmp+nI71oVDti8yDaMF6d35XzOex71WJ2lHY0Sihmmd5EbeSDNK9i5VkusIt6x8W3cfhfqcgeyb9Z9aoXLY1f0uuWwuZE+q7GSiHGkDqxx80qOm2aDzrIRqQa2bcIgNteH6PWPwGXgEvA7aPDc0LNjloNADaCTRS6V9fNJ+0I8FoyylEwA6frvfVkHgmgDW3cELhWStmU36s+dL+BK6J3r5rTov6zY9xt6h2z2tPnp1AjUV432ACBV71oSd9S+yqra90WuDAeOJHMQFG86g47N0SjBqNRGC8Bl4BLwLVg1nuH5wncGqAGn/CnwbBX4xqtHbWyOslWRCpFuEaKWHL4XG73e6Nt3iZPOUvgdY3TKZt8XONGwK6RLPcnjvOoDy36Emnjn+Lwt0sp1wCvfjxTyi7g2jWnpfq8EhC5M29R77j4NspTyuwRhaxQv+X8G+pFS+OX2reB60opO8bE2mVlFxfMMog5hP4kHu0n9Sl0R6/2PNwTXRBwCbj3zqgtZzkEi7QBah3IJFKv/R7HdWTrt0z9bL/v9Y7d2QavudZ2oczfvafc9HNeRqltAi4Bl4Dr5Rh79Fl3UGPXY8W12v5HPN3J1n95+ut4B1HvWIf6lj28vrmuynvbSDf7SVSL8/qrm+byUr+91Q0Bl4BLwO2jo6PCF711WAQA0uddtgECLgGXgNtH4FJpRwLEXQYEyd5b+yXgEnAJuH0ELjms3jos0ifp8y7bAAGXgEvAJeCSDZANkA0MwAYIuARcWmgDWGh3eVdOslNUSTbQGxsg4BJwCbgEXLIBsgGygQHYAAGXgEsLbQALjSKE3kQIpEfS4122AQIuAZeAS8AlGyAbIBsYgA0QcO84cP/5IQ/6Ix2QDZANkA0Mvw0QcO84cO9yeoVkp/Qg2QDZwCjZAAGXgEuppAGkkkbJqdBYCaJkA942QMAl4BJwCbhkA2QDZAMDsAECLgGXFtoAFhrt+L13/KQX0sso2QABl4BLwCXgkg2QDZANDMAGCLgEXFpoA1hoo7SLp7FS1Eo24G0DBFwCLgGXgEs2MMQ20IsnTrHHRLJ2CITeIByUXgi4BFxahEPsbAflCKif23XErfTfi2cqlyo1sHZa9UPf9d8GCLgEXFqEfQPuKdLLCYTYX2wb++XmC7rc4rtrOUK9jrJm9FdYTyBZaN73tdrvm846kTMHJZiDfrIN3+Iuin2Rxeyjm7YleQqpKHzKO6jn5nik+dDVBBS1k3Eax2xnD3uyRt3tZFd+wOpBEzmksTS1jxuMyW6zs7kU66OwEUZgU++JPmwZmuigdop0Isftq7yzBt9CAul8s2M7+5yAS8AdkPF2ZpDtF8FdaicH5WkGBea0TzLwLeea6Poazr0dCAoZKOsl3t+9BW47Hdzo+5vNiRpMQJX7l+bjZsC9vlxu4N54rd1gTHbfnYynk2P64Rfs9durNUTAJeA2gUA/DHjU2sxB+a80smc68psxTMSOoddKSC9FEVhOIDAXx+aZDjURxvg3YYTYblqKfgynXUJyUYF/MYbUfgnJ2QVMz8ehzCqI7NShn+8iMBVFaCGMkCp2/qdILykYn4oj9PYUhfUwxmeiUJQwJiM5lGt1ZF9F4VcSUObCiMtRTjmHyEwYynIM03PvsM+i5KMMfDMxhJQwpvn5Lpkk+ZxjA4qbMUwuJOCfTUAtA4X1GKaX4ggtx+GbSyPbrH33OGs61EgIPiWBABsbi3BrwhHnoDxagH8pAf9UGCkWzRdUBOZiCC3HEJhasCNK/RTx+XfIcxiy/9PYP7fHbB8rtc37AgQoy3tp+OfjXB++BJtTYdfGOUX1HXzfLMC3LCJc53ywdr76ltlAFJOz2yi0mo8a4ASlJNeXBtQL6wq++PIJJtkGqwUEne2wuTAyH/svFPiUOHwLGeR151i4jt26NXUn21h3Y2o1l9J3M2EkDyre68Nhp4bcjXYO5FNhTC8moCyFMTHLNr+S7b5Lw584NeavkIEv4s4kmMDNq9yGJpcowr2sDTcwbyrf71o1wHZL9mIXC4Veh0cnOSj/GUdyRcHEyiGKzJntrWFiKYOtrT1speL8cxsctlNnY7CBm8Y+d3LMWZj/a7sIMBCcq1Dm09jMllC2nCUDjhzhxkyo1rG5mIB6rsI38xqbTIb3rzE9q1pp2exKFKkz04ZOjpEtVJBeXEPWbLv4JorIniQHd2CmTB5jK76Nw/9KRfaozm2VAdcC/P5rBFKnrdsX49xbg/9NxbB3PQeFZwsk+Czuosx0dJBGYL0Exzh+idvArQHFjRhCah161mjTcayaQIine6W2HcDVkZ4NYfX9Hra2drE6E0ZapI2tDYCYO2ktSvPB4BR4b+hj/1UMyQ/N54PZgROUTK4EFBO2bJ4nv3zCgfuF+ZmIrsWrWA/OdiTgxkJQ3uSwL+ad25o0fpduRXuyjXU1plZz6fiugiyza0mvrB+WjnfMWXYNgQ2db+YM27LtPGBBtIRkUABXrCcdm0txbGlANiLZPR8/mzuKcFvx5z5+R8C1jF9yXnfmM7FgdajLUSSPDOAGUiUUz3QUT0rInzDHK5ybDNwKUs9YBCMcBRu//L95jl5H8VxHXl2Dn0fQpp4kBy8iGQviDNLLeygwGc4qyBdEZOxyZK2Ay52XS6a9NTSMrayjeH4KNRLF6r4R4XYEXKt9c5wOR+wBXAFFc9yyQy6/jzmAq+uHiCy8Q5KlfZmzlTcZLYBbfBOCoupIK2tQT5judBSOSsZGygGp9sAV13D53HxoPh+ewP0yASWoGNflpXm2QMihlEPSvKQgPm8G3DKbo8IxUktxj82DZJvuvuT3Umam7ZhazaXju26Ba9+rwDcb5yo8gWvZFoxNVzIDRTE3bPKmlYCL+wjVVmMi4N4ZuHptCARwAV0vIbkQRfqIpczCRkp5Po40g3CthNRCGApLKZ+p8LMU8VICvqcdAFccz9LFL6T0ppZDZDZqppRdjqjGUm0xnp5V5qNYzdrA1R2puhYpZctpyZuAxrEV30Z5SpmlwAVwO0opW+0Lh2+nGhUl1JhSdgFXLx9i9VkIgZ9iPP0uACfgw9Kw4yKdaI05DmVGpJ9FvxWkFxT4l2MIzSoGuI8y/HJASInC/+LQiKzbAVeaDxGlMVnEZqjpfHhGuCydXkLyKYMuezUjXHG/gPWd0yabATcbYylllo6PYbMhWhd6cGZNuB6vPaZWc2l/F+ApZbYhldaHALs1Z+zSh0gpe9m5kVJmc2WllC3bYvphG9sFxPnNUDmE/mREvIad2OtXzJOwn+u+0jXc4U5JE3DvNHCdDu+6i/Q+ndcrx9VOJ8WdbWzyzQyQT4YR2bu7c+EGZbuxOzMh9ri7b8c+t32fd/RYbRfKvH1Jpd/jJOAScOk6MEF9YDZQVFX7pzL91LtewVYsBt98DJFN88aYfvbXx7a7AiW/pmumm10yddWO69x+g+i22i/vbSMt3zTY53ETcAm4A3O2t7WoqN87Gn302fndFbugwhf3x34JuARcAi45drKBIbYBKu1IwG11ow991zuI0zXcIXaEdyVCGoScN4XCKNf6bae7+6SbURqr17qjCLd3cOzHRmOEgPsJx7uXOL4WYGv4R/oCGwdXLSI16Zj8JXZK92fX7LWwB/3ZTdOeo1zrt53u7pNurjvWwv6p9VvxQdt2L/sj4BJwnZC6uEJJ++T8rAZ8WNEQaFJHtJTR8Pl3Wud3gv6s4fHPDHifUPpo9vXxAlORS+g1HY+fSz9T6QjAOh5PXeDYQ262WAzZP6G0U8XYSg261deQQFeuSesab8t6t65jWzqGFn1Y52l1s3iG/FOfznTUixtyOm5DrvNbNgpIOH7L3I1eOjlW/BSlk2NbHiP9vEU6rpNxd3KMNY9S2/Zn3c+pqF9st9GZLbQ6vpNxNByj7WI16brxrcWcdF33WGqrH2OW9UHAJeA64Zqv4jGDkmvRtgJuq+/c7fD3FnBtuJb+ruE5/+mG/ZnnuS65jGNan2PJZ43tCi+/r2LHs62bO5XO5Tb7kgsI9EumDvqwf7LTvXOWnaTdTne6lNvoVId2NSXp96K91qHkkDuVy/s4bxk9x+2aL89juhpnt3PqLav3uDqfZ+9xOPtyH1N+v2ZXJxNjbjEnXduf1ZZTjpuO1et8Au5IAVfH1KMKxp5V8JBDtYbIdAVjcxoefqvh5W+X/P1njzRM/O0S+kEVD77WMPFMw4M/V3iEW/q1igcT7LMKHoQvoe9dYOxRGX+YZhHuFdb/UsGDZxrGpir4jEeqEgwFaPlrHevhCj77YwUTYR1vgxrWL9jCNY/fr+LhZBU7Fy4Zjy/xfELAsobAuIaNC6kPsSA9ZNct4BpRb+S0c0fhtXjaf+ZR47fhB/uuOrtCfvNVOI/GOrHHWJ0K8/rIfl5RyF2j2ahaNfksjsCLDP4m1VZ21zfm43DUi/Wo2dxQA9qpO9lJ2jIrRn1fXoiBFWcwf65iOTi78AOTQW6DvS+/TyCSBXRW3vHZNk8p8lKIBcMxOmsWe+ha6FLSuV0rmRUj6bCuspBXvFplN4HmdZWdBRxSrOCJXDNbyOYet1SqkddGNo9z68aubx2D70mYV51qtBGvWsJi3qSawvtu23HJ2jBu57md1fc2+nWOIwdFlKUUhUvc+qgB+69eY4tVgPKaR1Yze96ome0L7qLosGOv8UsbD7Gp4eNzjdmzRrnQ3fVfCbijBtyvNQQzlzhmcPtVw++nq3iZvsDLmIbff6/DhlIdkUkGM8O4jCixjsh4BVNvLvg5U19XwKBlRZC/anj4VzM6ZhCcY6lhCYYO4LJ27e/Wn2tY585Fx+M/VvD584umMrJoeOzNFfRt0Z/djgFBL9khjU2SWXJ8xrnXX0yN5+eguOrQOsoImjVgHTVpXfLY8BI1iM06sbVjrM4kkFKPm9dolmr2yn246xsLuUVfvHCCu2azR51kcR57lR0pa4eVHhTAEMX1WYH9L7hjFU5PvBo6l9vgbbOiBJFDDl7/whqShVPEF1k9XDsScUS4Ll0L+Rw6t0o3Gn12VFdZAEe8WsBtUVfZUaLwEJFFVlzBllvI5tadNR4BA0/g6o7602Le7DrVrWoJC/uW6mF7zq0ka8O4pXPZZsptK83qe3vYifHYSKkv1zFMP0InXvPILrkEUqyu9R5SSz/wy1pCH6zOeMvSjkLH1vgkOVqMQZ67bv8n4I4ScNn12VIdH3arGJu+wDEDZOwSx6d1HP9Ww85vVxKUvKBVR2Raw/pvdX7Oh4Mah2KnwD3+a8W4divAKwF3J6Lh5UfmDHQ8nq5y2Af2P/FNQYOMFzomvqsiMC2dI677XrBrwl6yO4Fr9yccUD9epQVsLm6H0/ACLtvJS/VchfMQr5YDYtdkz3UUDrYRUFQUveoYW47EVZbPVd9YOA27DxmE5hi82pc2BzIsGWAngwlMmlGL3a6tY/6ZmkFSei6s3IYhUx2bwTgUZQ3Zs21ElmL8wQTy9VrhjOXP5M0Fa8ehcxdwO6qrLPQoXnk5QFZ2s0Vd5VsBrqu0oSdwxBxIc+w5t5LtNoxbOpcB1yqVaJ7TrL63C6a2XUh9uY5h85dPvsZmk5rX2ZUYWPaA17UulFDQpKyJ5/glebNr8LHskDU+SY4WYxDr5TqvBNyRAq6ZUp7T8IfJCxzXjBTwwzkNYxMaIgefoH/UMTHuSik/t1PKLM3M0s88pRzUUbJuSmILWUopT4uUcg2R7ypgfTwedwO3huB3FYyFdRz/rGHqV9aGGa1e1PByWsPznUuepnbIWAMYvD9jKW3u9O0Id2OujAdrdTsdLstupZSv8DJYxQcJGNdZPO3PkRaw2E1LaTFRA1aXatIWUgq+kh5CIJySeGV9csjoh0ZKmT3ijT+EnaUwXTWaLUfC0rJ2bWV3fWMxDvtmE8kpWVGZR/uS/mRYWrKqCSOi9UyTsnSi8Xg50b/chvisvBXD+Ct2wwyreRsyn2Rk69V+0Lv9mRu4dipSrpUswMMcdJu6ykKPom61VefaeHQhe8xiY11ld0qZ9SfJ2ER3zPnzTIB43J55XINuxCMTf4rDb6WUXcDlNbPdtYTFuOU59ppb6QavhnHL58r/m+MTx7vre7thKtmFkfkwZGsYq7qGVXZ/h7V2pHlkn5mPYfQvqfzxgpb9NRm/UTs6jsBiyNjAifmVaza3GIOwzeu8EnBHCbjSIr+OsfT1nAsdz4Od3p18hZfTFUR+E85D3KV8hY2fqlYa3Cmv6y5lC9aijeF4LW6kkXY8Jm045HLqslGmBifZ1tYa4dN9G41ytJNzGL/vZNydHDOMY3PL1Mk4Go5hm8sX7mfV3s25J+AScBvuSHYvkoG9/9jqd7TSAtN0BP8qolv2+SeUWFpcq3v+pMmQXxzzCbp2hZJ5bXpgY2sLIGN8ZfZA9g6PHabjGpxkqzHwKM4Z3bKxdNVGq/bv2HedjLuTY4bJHprJ0sk4PI+xfv51N9eH0AcBl4B7Jx28MGB6HQ4H1K6gQbt5uk/FHdqN1f19O93dJ92M0ljd88zeE3AJuATcOxYReS3k2/6sXck+FrW0+mOOmLVx2+O4jf7b6e4+6WaUxuplSwRcAu5IOjmvxXCbn7VzRK1g1ey7++Sob3NuqO/hyKLch3kg4BJwCbhDEOG2S7Vdx9nYqcg6WC3a8hCM8zrjoHMIePfFBgi4BFwCbj9B1OHNHixK7YdTEe2Wt14j2aQWdj/6pTYJkmQDjTZAwCXg9sXR02IzFptdmKFx8ck6EmDkn7HfJz5lFZXYb0QzUG+wIbDa1XYR4b9nbS2HLBP9T7oiG+itDRBwCbgE3BsArZVDctb69SqEYC9mC4xMlkKGV+9hZe8EcNUgq0X8xCyXmIPyVMEkK5VogpkXVeB1aZ0/t7HbLSG5wsoL2n22kp2+Iz2RDfTeBgi4BFwCbh8hZEW4nqX+7AVtg9EErlpCcj1nAFdUqbIiXgZcEQEb1YUEkG0oG23b7coVgex+yamSLsgGBmcDBFwCLgF3KIHLnvaTgRLMQLVKz4k6sXaVJlHGzgK7aywO4L7YNW6ckmo1k7MdnLMlXZOuCbgEXAKuC1K9dIx2rd8uU8q8qH8JyacsRcxejZSyUXO2EbhyDV7F64EA2i7irFD7SQaT375Dvo9j7qX+qC2C1H2yAQIuAZeAOwTwsSPR3jpY0W75/WvE6S5lsvUhsPX7BNBux0LAJeCSExoCJyTA2O0Cbne8aLfc4c+T2rVH3/d2Q0T6HC19EnAJuATcIQBufwtfjJZTI4jRfA+rDRBwCbgE3CEALpV2JEgMKyRIrt7ZJgGXgEvAHQLgklPrnVMjXZIuh9UGCLgEXAIuAZdsgGyAbGAANkDAJeDSQhvAQhvWHTfJRdEg2cDgbICAS8Al4BJwyQbIBsgGBmADBFwCLi20ASw0iiIGF0WQrknXw2oDBFwCLgGXgEs2QDZANjAAGyDg3nHg/vNDHvRHOiAbIBsgGxh+GyDg3nHgDmvqhOSitB7ZANkA2YDTBgi4BFxKJQ0glUSOx+l4SB+kj1G0AQIuAZeAS8AlGyAbIBsYgA0QcAm4tNAGsNBGcTdPY6YolmzAaQMEXAIuAZeASzZANkA2MAAbIOAScGmhDWCh0U7fudMnfZA+RtEGCLgEXAIuAZdsgGzgVmygH0/JYs+Alv/Yoy9ZP8MAeAIuAXcoDHEYFgPJQFEX2cBgbaAfz4F2z2GpUgPrx/35bbwn4BJwh8IQb8P4+9/nKdKJHIoiesqriKt6B/rOQQnmmh9Xrjf/TvTlftXqKOvMmZaQDGZQcH/fwfvCegLJApBd+QGrB00cs9XPISJP0tjvoN1+zENhI4zApqHrctmUVU1AUdvJDYhxdiRXqzbbjL28p2Kr0EQe97k36KftOE624Vvcte3U3bf8XsshMhtF6O1p9zYot2P+zyLRtvJ5nNftOYPqp51cBFwC7kAMvp0h3s/vc1CeSnBTE5hcL3Wg79bAVYMJqF06IRsiNwduq7my++kQJF2Oo1Xf3t9JumwBLVlu+X/vNqWxtWiz9bkVpILvkO90/NfuR5K1075aHVfIQOnIhjvrtz0IS1BVsWakuWwlo8d37fvpTN7Wc9q+DQIuAbcDALQ3pJsa4v08vwlwGXjnElCWEwjMxZDmUY4ONRKCT0kgsKRgnEe4jZ8V1XfwfbMA3/I7qOclpJeiCPB24tg8A/ZfKPApcfgWMsjziBbQ8yoCUwuYXEognS8hObuA6fk4lFkFkR0WLTe2Y83HUQa+mRhCSgy+J2Ee4VpAsr4LYzq4i6K7HzOSzqfCmF5MQJkLIcIj/ByURwvwLyXgnwojxcZfziEyE4ayHOOy8kiU6elZHIEX/xfrS3FsacwO61CDUaTOjP83g2vI6kD5fQzTbyrQa6eIL2ZQ4IDSoSbCGP8mjBDLNKgJfPUt01cUk7PbdpTvkJtFuGGMz0ShKGFMRnIot9KPCcL8egyBN6fQCyoC8zGElmPwMZ0cpOFPmNFgIQNfxIzosmsIbdWh66eIzwvwsv/T2D/31oXQiYjSjY1XHdlXUfgVpt8w4o7MA7O/MEJKAqHFMAJvGbgabUqvCZCx40NQFtP4P+sxTC4k4J9NQBUZgtop0sw2p+IIvd1HclGBfzGG1L7U5kwYqSM2N2yOFQR+imP6SQKrL2Jcn/6UgKfhU9wgVINP8MWXT8yNaQ7Kl8b7L75km0wmn4JJ9pm1kRXHmJtQtiF4qkhtePdj2bcHnPv5HQGXgEvA7duiaw7cwHszLVxWEVjOQd9bg58DA9D1HJRmn9UAK8LdW8PEUgZbW3vYSsUxsXKI/VgIypsc9jmQDGfDHIgFSZZSXjRTvdouAgzsHu0YTkdHetEAmtyG0Zbzu3I+h/1zVz8MuOcqAgIytQpSC2vIMse5uIsy0/tBGoH1ErIrAqKAriYQYqlfNQFLTwJcZ9vwW+0x0CYQyerYDEbhj2RQMNtj5xpgEjBxtrf/KsY3D8K52vphY4iZ4KpjczEBtal+jDbHvw1B2TLS1yzdHkjt8TlJLf2AyJ6OTXOzkI2IMerYXHmHfXNDVNyIIaTWoWcNG2imC0/gnqvwzbzGJrOB968xPatKqWFJzzXdGkuDncnANeel+DYO/ysV2SPX5QsrwpXsyGG7h4gsMhnsvgvrijkXJSQVKeNTA7+5ScyBbrXN5iBjZHGkzzjETdCK+RKAtiBdyGDS43KMG+xWn31b+/bak/si4BJwCbh9W3SniD97bTnW8mYMARbVyCC5IXADqRKKZzqKJyXkT+ool3UUC8dILcWRPrcXvXBQzmu4Joz21uBux3ASTqiKNoxX53ddA1c4RdOhtoQMnx8D1slXUcTz9rh0bReKEoeycojimzUElkyQNgGuiA7FWIQzlN/L//PNTVP9GMBVkioCi0ZGIbsSQ+pI53NSKJRQYFE5A2kyA0UxNxn5dwhtsGjcHId+iMjCOyTZpQKNXSMXYDbaF5sPJ3ArSD1LQD1XoSzvocBs4KyCfEG+R8CGHotsxeahJXDFvDA7Oj+FGolidV/StwVA6dJEM+Cabdn6lM4xx+4AoTVn0sbN6o/JYG+eRJvW5lPo0nG8LbejH5H5EecM8JWAS8C1F37PDe8TjncvcfzbJV6mdXz4aC8Ay9ncoM/SgY6X6Usc1+rY2a31cRzXl7usJjA+xVKyLK2qGmneNillRQk1pJTtz4BCKgqfwlLKLJUXNlLK83Gkj4BsjKWUWao2hk0JuOWdNfgWzJSyddOUcGCN7VjzI9LGP8Xhb5dSrgFe/XimlIVjFw7SSinHocwsGBGR5IC5PNk1fLVkQsuymzq2lhaMiPRsG9PPto0Izzq3hNRCGIqZUm4GXFtuydlb2YQW+hH9nOxCWUgjW8ghMmeklP1L5nyzyP7ZgrlRqGNr2c4aCD2zKHBcpJ5b6eJMhX8qitBSAr6nRho1n4rxOVfmo1jNuoDbIqVs25SwA/EKFN9GeUqZXXZoC1w5TS2nlLsFLsu+PDVTyMI+GGR5WtlMKbvbVBM8fcwiXD63wp4s+zDWrgXckwwmH72+tZv5CLgE3Dag0vH4ubyIXfD5eNX8/I8XmIpcQv9Zw9haHaUL17l8UXxC6eMns402fbkWka7VEZnSsF4DdiIaXvYY6MIZ9vxVOGn3eOh9c1uqAflECJE9Lxsa8s9YFD5vpnpPVKy+cV7H7Ll9WXZkA7R/fdxM9xYILZlv1l6zcVr9nKlYlbMLfe7XLQ8Bl4Db0smxVFQr4K4/N4DnNiz2vvR3Dc+Zg/xZw+Ofmy0kuX35/2bHOz+3+t+rYuLvLeA/4IXlpQ/rs7yKtJwWHSbZhlaWErZSe9L1SacdWLodQvnLe9tIO25mGpTsp0j36Oc7/dKvBcI+z5vVj+a6JkaDxXoAAA3uSURBVN3nft16I+COFHBrCDyv4gMzsnwVj1dYGlbH47EKJqY1TExW8HCNfXaF9b9U8OCZhrGpCj7jEW7jZ8eZKh78sYwHc1Wsn9YQma5gbE7Dw281vPwN2AlqWGdRrQVcu42HX1cQPLjEeriCz/5YwURYxzGT5X9W8GBKw8NHFQTzQOnXKh5MaJh4VsGD8CX0Wg0BJuekhuAOYAG3pmPi+xaR+IAXlnuh0ftBQYb6uUu2RoUvhhtAl7XRku93rQbMdkvdLa4mwJ28QIkD6QqRSQ0bv2p4+FfzmuiFjsdzOnSvz2oS8H7V8PvpKl6mL/AypuH33+s2DAVwXW1MTFYNyFopax2PhSx7VTxc0REZr2DqzQVvd+rrCiKnDLhV7JgAlYHbKhLvTk/ktElfZAODsAEq7ThaQGvFs2H4rn/A3dbwQES4AnK1mwH3YewSx6d1HP9Ww85vV/Z11W6AK+DLI3AdkWkN67/VebsfDmo4vpA2DTLwLy4wFWQRMDlK0gHZANnAcNoApZSHe4PRY+B+wsaPFXzOUsUsLSuA2yqlPO2RUrY+Az7ENHz+jKWUjXTxwzkNYxMaIgefeCp56tdWKWV2s1QNwe8qGBMpZQdwa9APqjxFzVPKQR0lllIWaXEZuHtVPP9Z3Hw1nIuNnCDNC9nAaNsAAXekgOtl7N3fqNSx07jQ8Tyot7lL2UumDj+T71IO36G7lHschXvVDZY/63i+OpKreY1kUbP4un2L31b2Vt4ObamjsVNbNDc3swEC7sgD9xKRv/UxFct+NnRxxVPC3j8LuoEBayzVzO5Mln9adIP27rzTvc2fgdy8bwLuKNvuaIydgDvywB0NQ7+dnbm7xqxd5o/VBN5SYtgse9TCtWoI72K9Ra1go87wXtO6waIykbt+cHkvDd9c3FEfWeiHfeefZ9+F4UscQz/KwB/cQ1kvIbnA6uqKakHHWJ0KG/Vx1wsNNYuv0zcH7pGOrUgYqzs6GmQR5R3ZxsisS+xZO/rOb5xoTQp7vG+vBFwCLt1o1C8H7VXyjn3GnrYiagJ71cKVSj+2qhVs1Rm2CmlIUab4TGrLqB/sLMmYT8almsI60rMhrL5ntYB3sToT5uUhWbWsyf8dMusLS8CdSSClHqPIS+XdtG9W4SmM8W9F6UYvWewNi6hL3Kx29H1z1DSe+7EJIeAScAm4gwQuL+CfQPKFWfPXqxaugCWTq22tYLOeL3/Oqzf0nOUMncB1FvHXkVbWoJ6YtYCPShym5V8SmH4SRog/6ccErl5H+VxH4WAbAcUsVi/K8Qn5xav18IRWfRslFVffvIYvsoei7i2Luy5xQ+3oW6yTS1C8H1Ds5zwScAm4BNx+AdezxizAIka5JnBDLVwJVDz13LJWsAxcj7rBUlvWNdIjFYFn7PFzMV5zmT1U3nIyRxkEeLo5Cv+LQ5Tz7+BfZo+o06EuR5E8EsA9NFLK7FF3/OHlN+9byFfeT8OvqCgcumTh8yTXJXbXjs4h9CfxGD9pTH2bX+rDshvSsb2GWuiCgEvA7chQaGHdH+ea38wgy59xqvPryPJThfo9zzfuW65L3MKx9Xsc1P79WQ+DnEsCLgGXgDtqjrt8jNRPUUwvxJHcGXA5zBv2fXt1iQkwgwTTfe2LgEvAJeCOGnBpvGTzZAO3YgMEXALurRjefd3B0rgoEiQbIBtoZgMEXAIuAZd2+2QDZANkAwOwAQIuAZcW2gAWWrMdL31O0RDZwOjYAAGXgEvAJeCSDZANkA0MwAYIuARcWmgDWGgUxYxOFENzTXPdzAYIuARcAi4Bl2yAbIBsYAA2QMAl4NJCG8BCa7bjpc8pGiIbGB0bIODeceD+80Me9Ec6IBsgGyAbGH4bIODeceDS7nh0dsc01zTXZAN32wYIuARcSilTSplsgGyAbGAANkDAJeDSQhvAQqPI5G5HJjR/NH+9sAECLgGXgEvAJRsgGyAbGIANEHAJuLTQBrDQerE7pjYoyiIbuNs2QMAl4BJwCbhkA2QDZAMDsAECLgGXFtoAFhpFJnc7MqH5o/nrhQ0QcAm4PQbuFXZ2dXzYvUSJQNZj3ZLT64XTozbIjm7LBgi4BNwGKHxY0RDIX3NR7lcx9eYKpTcaAvvXbOPegPoU6eUEQuwvto39cnN9lFt8d1vOoet+1QQU1TnG4mYMvo1Kg401bbtc7+DYElILYSiJHIrCVrQ6yrrRd2E9gWTBKUfT/sT57NWUv7ARRmBT95ZD6ie78gNWD67Rj9xn0/9PkX576i1D03NcsnjMR0d66LR9Oq7r+SHgEnAbjOYmwN0Janj5EdA/XmAieNnQ9mgt+ByUpxkUmGM6ycC3nGuijxyUYLPvXE50mJ1cDxy8GkxAbTvGRn3JkJX/78reOpD/2m23HZN7nhvH2NVYWH8djKfrNrseh3tco/2egDtKwN2r4kHYhOB+FQ8YEA+qePC1holnGh78ucIjWwFc8arXagg8r+JD7QobP1Xw4JmGsW8reL77Ccd/1/CH7zQ8HNewXrrCyx+r2OGLsobA91Ucj/QCzUH5rzSyZzrymzFMxI6h10pIL0URWE4gMBfH5pkONRHG+DdhhFjEJjlJAz4lJBcV+BdjSO2XkJxdwPR8HMqsgshOHfr5LgJTUYQWwgipUlRWziEyE4ayHENgasEReRbWwxifiUJRwpiM5FCu1ZF9FYVfSUCZCyN+AJTfJxDJArq2i8CzbR5J7r+K2ZGj1P70XAZ5Fl2qCUzOJaDwscWQZlGmGE9BRWA+htByDL7grhGZHmXgm4khpIQxHdzFofoOvm8W4Ft+B/VcOGYdaiQEn5JAYCaM1JFLX8y+8iof4+RSAuk80Dg+t85F24AujcPSk5BZ+m567h32P7j7MSNpeRxcnx7zVJPGsaRgnG+w2IYsBGUxjZ9TMShbRnRfVhPwv6mAZz285vcgDX/CjH7z7+B/ddp6HGI8NcCwqcb5bmpHI71+JTvpkR4IuKME3FoNkUkN6x8/YeMvGoK/1fn7jQvDsARg3a8WcE8NOL9MX+DlGw2fj1exu6bhQfACGwdXsI7jxikg3XujvTu78hyU/4wjuaJgYuUQRQalvTVMLGWwtbWHrVScf67XpGimwTky4Kaxz3Uq/c9AyJz2uQplPo3NbMlKqTL9ZFeiSJ2ZulcTCEmp3sJ6jENVr9WxuZiAeq7CN/Mam0ym968xPauiqO1CiRxy8PoX1pAsnCK+aEbr7vazawhs6ByugfdmSrisIsAienM8LP0aSO3xcaeWfkBkT0d6cQ1ZMw1czuewfy6AINnM3hqHD59z/RCRRRVFWV+mI5Qjz4bxeerc6MNTT5bMkg5PjpEt1OHshwHXOY7imygiex7z5BhHDgrPduSgLO6izMagnyI+/w75WgWpBVsv3vNbQZrNmwZkI4aMrcYh5oDpkAPXa76b2NHdWWuSzZg2MYyyE3BHCriAvq3hYbiKx3M6SrUOgXuhY2K8ig+nVYz9RcfxaR3HpzXs5OvQP9ZxXLrE+vcVTO18wroc4f54MeI3TomUsg51OYrkkQHcQKqE4pmO4kkJ+RMGKC/gVpB6xtKrJSSDAnTy/+Y5eh3Fcx15dQ1+HkG3AIkHnIQDVpb3UGAynVWQL7BIuY7NYByKsobs2TYiSzEE1ktWStzh4DsCboxHp2zchUIJBc0Jqt4C176Gy8e3t4ZGnbfQUy+Aa82ZOU/NgCtdSuCwXpeiVw5i7/nVs2vwJ95xcDNgO+ZDbLDE5k28Mpgzm2Jwdc93EzsaRmjdZZkIuKMGXJYeHivjubihSaSUnzemlPVfNfxhXMPYlIbPJ1lK+RN2YpqRUp6oYGr7CsdrRkp5bJwBF2DRceTUuIb7fKVmOei7vEiuL7sALotgSkguRJFmKdFI2Egpz8eRZhCuSTcBnanwsxTxUgK+px0AVxzP0sMvWMra3Olb6dA4lBl3StkFpBqQT8V42laZj2I1a6Smy1sxjLN0JXfUITtiZn1Y7cfQUUqZHT9npJT9S6qRgpZTsWaauZCKwqe0Simz8UkbFHO85Z01+BZEStk9Pi+dt9CTAJRjjO+wrwGe/cjjECllN3CllLKihOyUsgRcnUXwj2LY0kzZ2NiazS/biD1dQFzc3GjJKs23GIdow7Ipj/kWx7jtSNgTvdpr6wa6IOCOHHClxXwDw7Ecu7uN36qY+msNpb9rNtTdx9D7nizepnMwTPoVTn+YZBpWWfLvML1yODq2Mazz0Ee5CLgE3B4v8E8ofayj9JFd0+0z3Kn94dbxyS6UudfI3oefPA3A1gpbGajiuvsA+qP1OXj/RMAl4A630ybHQ/NDNkA2cE9sgIBLwKXFfE8WM0Usg49YSOek825sgIBLwCXgEnDJBsgGyAYGYAMEXAIuLbQBLLRudsF0LEVNZAP30wYIuARcAi4Bl2yAbIBsYAA2QMAl4NJCG8BCo4jlfkYsNK80r93YAAH3DgP3XycfCZYES7IBsgGygTtiA8xnX9aGGzqjLN/vWg2+elHDSalKi+2OLLZudsJ0LEVOZAP3ywaYr2Y+u5VPp+9udzPSErhsctgEsl0TS1XQH+mAbIBsgGxg+GyA+WiC7e3CtJPNTFvgdtIIHTP8E01zRHNENkA2QDZwuzZAwKXrHZSCIhsgGyAbIBsYgA0QcAegZNpV3u6ukvRP+icbIBsYBhsg4BJwaWdLNkA2QDZANjAAGyDgDkDJw7CzIhloh082QDZANnC7NkDAJeDSzpZsgGyAbIBsYAA28N9nwZRNHDvkSwAAAABJRU5ErkJggg==)"
      ]
    },
    {
      "cell_type": "code",
      "metadata": {
        "colab": {
          "base_uri": "https://localhost:8080/"
        },
        "id": "jbIr-yrjNw3P",
        "outputId": "c36ef5ee-cdc8-4169-bcb3-a362b5a0fe1b"
      },
      "source": [
        "# Dictionary Methods\n",
        "marks = {}.fromkeys(['Math', 'English', 'Science'], 0)\n",
        "\n",
        "# Output: {'English': 0, 'Math': 0, 'Science': 0}\n",
        "print(marks)\n",
        "\n",
        "for item in marks.items():\n",
        "    print(item)\n",
        "\n",
        "# Output: ['English', 'Math', 'Science']\n",
        "print(list(sorted(marks.keys())))"
      ],
      "execution_count": 5,
      "outputs": [
        {
          "output_type": "stream",
          "name": "stdout",
          "text": [
            "{'Math': 0, 'English': 0, 'Science': 0}\n",
            "('Math', 0)\n",
            "('English', 0)\n",
            "('Science', 0)\n",
            "['English', 'Math', 'Science']\n"
          ]
        }
      ]
    },
    {
      "cell_type": "markdown",
      "metadata": {
        "id": "i9YAMYyHN5hk"
      },
      "source": [
        "### Python Dictionary Comprehension\n"
      ]
    },
    {
      "cell_type": "markdown",
      "metadata": {
        "id": "XSk2r9SxN7Y6"
      },
      "source": [
        "Dictionary comprehension is an elegant and concise way to create a new dictionary from an iterable in Python.\n",
        "\n",
        "Dictionary comprehension consists of an expression pair (key: value) followed by a for statement inside curly braces {}.\n",
        "\n",
        "Here is an example to make a dictionary with each item being a pair of a number and its square."
      ]
    },
    {
      "cell_type": "code",
      "metadata": {
        "colab": {
          "base_uri": "https://localhost:8080/"
        },
        "id": "hZ_EaELoN4KS",
        "outputId": "767ab23c-a695-4503-9af1-d7f2ebfface1"
      },
      "source": [
        "# Dictionary Comprehension\n",
        "squares = {x: x*x for x in range(6)}\n",
        "\n",
        "print(squares)"
      ],
      "execution_count": 6,
      "outputs": [
        {
          "output_type": "stream",
          "name": "stdout",
          "text": [
            "{0: 0, 1: 1, 2: 4, 3: 9, 4: 16, 5: 25}\n"
          ]
        }
      ]
    },
    {
      "cell_type": "code",
      "metadata": {
        "colab": {
          "base_uri": "https://localhost:8080/"
        },
        "id": "SOoAr-tpN8sp",
        "outputId": "b5d068f0-951b-4f35-eb29-5aafa13b9664"
      },
      "source": [
        "squares = {}\n",
        "for x in range(6):\n",
        "    squares[x] = x*x\n",
        "print(squares)"
      ],
      "execution_count": 7,
      "outputs": [
        {
          "output_type": "stream",
          "name": "stdout",
          "text": [
            "{0: 0, 1: 1, 2: 4, 3: 9, 4: 16, 5: 25}\n"
          ]
        }
      ]
    },
    {
      "cell_type": "markdown",
      "metadata": {
        "id": "t6V_pq6SN_ey"
      },
      "source": [
        "A dictionary comprehension can optionally contain more for or if statements.\n",
        "\n",
        "An optional if statement can filter out items to form the new dictionary.\n",
        "\n",
        "Here are some examples to make a dictionary with only odd items."
      ]
    },
    {
      "cell_type": "code",
      "metadata": {
        "colab": {
          "base_uri": "https://localhost:8080/"
        },
        "id": "6tfa6hjtN-HV",
        "outputId": "2dc5fb1b-bb0b-479f-fd26-d947edd98af9"
      },
      "source": [
        "# Dictionary Comprehension with if conditional\n",
        "odd_squares = {x: x*x for x in range(11) if x % 2 == 1}\n",
        "\n",
        "print(odd_squares)"
      ],
      "execution_count": 8,
      "outputs": [
        {
          "output_type": "stream",
          "name": "stdout",
          "text": [
            "{1: 1, 3: 9, 5: 25, 7: 49, 9: 81}\n"
          ]
        }
      ]
    },
    {
      "cell_type": "markdown",
      "metadata": {
        "id": "QphthKgaOChu"
      },
      "source": [
        "### Other Dictionary Operations\n",
        "### Dictionary Membership Test\n",
        "We can test if a key is in a dictionary or not using the keyword in. Notice that the membership test is only for the keys and not for the values."
      ]
    },
    {
      "cell_type": "code",
      "metadata": {
        "colab": {
          "base_uri": "https://localhost:8080/"
        },
        "id": "6T1rQDS0OA7s",
        "outputId": "aaa2f415-3044-4afd-d97a-3229b78a48c3"
      },
      "source": [
        "# Membership Test for Dictionary Keys\n",
        "squares = {1: 1, 3: 9, 5: 25, 7: 49, 9: 81}\n",
        "\n",
        "# Output: True\n",
        "print(1 in squares)\n",
        "\n",
        "# Output: True\n",
        "print(2 not in squares)\n",
        "\n",
        "# membership tests for key only not value\n",
        "# Output: False\n",
        "print(49 in squares)"
      ],
      "execution_count": 9,
      "outputs": [
        {
          "output_type": "stream",
          "name": "stdout",
          "text": [
            "True\n",
            "True\n",
            "False\n"
          ]
        }
      ]
    },
    {
      "cell_type": "markdown",
      "metadata": {
        "id": "uelFtGwmOIaB"
      },
      "source": [
        "Iterating Through a Dictionary\n",
        "We can iterate through each key in a dictionary using a for loop."
      ]
    },
    {
      "cell_type": "code",
      "metadata": {
        "colab": {
          "base_uri": "https://localhost:8080/"
        },
        "id": "wTjS_d0yOFeq",
        "outputId": "67cfb23f-5fdb-4f6f-de9d-315f788d77ea"
      },
      "source": [
        "# Iterating through a Dictionary\n",
        "squares = {1: 1, 3: 9, 5: 25, 7: 49, 9: 81}\n",
        "for i in squares:\n",
        "    print(squares[i])"
      ],
      "execution_count": 10,
      "outputs": [
        {
          "output_type": "stream",
          "name": "stdout",
          "text": [
            "1\n",
            "9\n",
            "25\n",
            "49\n",
            "81\n"
          ]
        }
      ]
    },
    {
      "cell_type": "markdown",
      "metadata": {
        "id": "rDE6RKtQOMp0"
      },
      "source": [
        "### Dictionary Built-in Functions\n",
        "Built-in functions like all(), any(), len(), cmp(), sorted(), etc. are commonly used with dictionaries to perform different tasks."
      ]
    },
    {
      "cell_type": "markdown",
      "metadata": {
        "id": "jjvzJteZOO35"
      },
      "source": [
        "![image.png](data:image/png;base64,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)"
      ]
    },
    {
      "cell_type": "code",
      "metadata": {
        "colab": {
          "base_uri": "https://localhost:8080/"
        },
        "id": "qi9hFfkCOHDJ",
        "outputId": "24128a57-555c-4613-c1a9-d6da1ed4cea4"
      },
      "source": [
        "# Dictionary Built-in Functions\n",
        "squares = {0: 0, 1: 1, 3: 9, 5: 25, 7: 49, 9: 81}\n",
        "\n",
        "# Output: False\n",
        "print(all(squares))\n",
        "\n",
        "# Output: True\n",
        "print(any(squares))\n",
        "\n",
        "# Output: 6\n",
        "print(len(squares))\n",
        "\n",
        "# Output: [0, 1, 3, 5, 7, 9]\n",
        "print(sorted(squares))"
      ],
      "execution_count": 11,
      "outputs": [
        {
          "output_type": "stream",
          "name": "stdout",
          "text": [
            "False\n",
            "True\n",
            "6\n",
            "[0, 1, 3, 5, 7, 9]\n"
          ]
        }
      ]
    },
    {
      "cell_type": "code",
      "metadata": {
        "id": "IDxkCoobOQKb"
      },
      "source": [
        ""
      ],
      "execution_count": null,
      "outputs": []
    }
  ]
}
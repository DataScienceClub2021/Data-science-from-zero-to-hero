{
  "nbformat": 4,
  "nbformat_minor": 0,
  "metadata": {
    "colab": {
      "name": "17 - Python Global Keyword.ipynb",
      "provenance": []
    },
    "kernelspec": {
      "name": "python3",
      "display_name": "Python 3"
    },
    "language_info": {
      "name": "python"
    }
  },
  "cells": [
    {
      "cell_type": "markdown",
      "metadata": {
        "id": "jCnjmUTxXpta"
      },
      "source": [
        "### What is the global keyword\n",
        "In Python, global keyword allows you to modify the variable outside of the current scope. It is used to create a global variable and make changes to the variable in a local context."
      ]
    },
    {
      "cell_type": "markdown",
      "metadata": {
        "id": "HN8feARHXyDX"
      },
      "source": [
        "Rules of global Keyword\n",
        "The basic rules for global keyword in Python are:\n",
        "1. When we create a variable inside a function, it is local by default.\n",
        "2. When we define a variable outside of a function, it is global by default. You don't have to use global keyword.\n",
        "3. We use global keyword to read and write a global variable inside a function.\n",
        "4. Use of global keyword outside a function has no effect."
      ]
    },
    {
      "cell_type": "markdown",
      "metadata": {
        "id": "SXndMSx8YJ9R"
      },
      "source": [
        "### Use of global Keyword\n",
        "Let's take an example.\n",
        "\n",
        "Example 1: Accessing global Variable From Inside a Function"
      ]
    },
    {
      "cell_type": "code",
      "metadata": {
        "colab": {
          "base_uri": "https://localhost:8080/"
        },
        "id": "ZpDPUykWXl-Q",
        "outputId": "1a9ca247-23e6-4cd2-b501-842095edf31e"
      },
      "source": [
        "c = 1 # global variable\n",
        "\n",
        "def add():\n",
        "    print(c)\n",
        "\n",
        "add()"
      ],
      "execution_count": 1,
      "outputs": [
        {
          "output_type": "stream",
          "name": "stdout",
          "text": [
            "1\n"
          ]
        }
      ]
    },
    {
      "cell_type": "code",
      "metadata": {
        "colab": {
          "base_uri": "https://localhost:8080/",
          "height": 316
        },
        "id": "G1c60QOUYNH_",
        "outputId": "037c5499-f14b-4d9f-9321-916b950e89b0"
      },
      "source": [
        "c = 1 # global variable\n",
        "    \n",
        "def add():\n",
        "    c = c + 2 # increment c by 2\n",
        "    print(c)\n",
        "\n",
        "add()"
      ],
      "execution_count": 2,
      "outputs": [
        {
          "output_type": "error",
          "ename": "UnboundLocalError",
          "evalue": "ignored",
          "traceback": [
            "\u001b[0;31m---------------------------------------------------------------------------\u001b[0m",
            "\u001b[0;31mUnboundLocalError\u001b[0m                         Traceback (most recent call last)",
            "\u001b[0;32m<ipython-input-2-10710404b9bd>\u001b[0m in \u001b[0;36m<module>\u001b[0;34m()\u001b[0m\n\u001b[1;32m      5\u001b[0m     \u001b[0mprint\u001b[0m\u001b[0;34m(\u001b[0m\u001b[0mc\u001b[0m\u001b[0;34m)\u001b[0m\u001b[0;34m\u001b[0m\u001b[0;34m\u001b[0m\u001b[0m\n\u001b[1;32m      6\u001b[0m \u001b[0;34m\u001b[0m\u001b[0m\n\u001b[0;32m----> 7\u001b[0;31m \u001b[0madd\u001b[0m\u001b[0;34m(\u001b[0m\u001b[0;34m)\u001b[0m\u001b[0;34m\u001b[0m\u001b[0;34m\u001b[0m\u001b[0m\n\u001b[0m",
            "\u001b[0;32m<ipython-input-2-10710404b9bd>\u001b[0m in \u001b[0;36madd\u001b[0;34m()\u001b[0m\n\u001b[1;32m      2\u001b[0m \u001b[0;34m\u001b[0m\u001b[0m\n\u001b[1;32m      3\u001b[0m \u001b[0;32mdef\u001b[0m \u001b[0madd\u001b[0m\u001b[0;34m(\u001b[0m\u001b[0;34m)\u001b[0m\u001b[0;34m:\u001b[0m\u001b[0;34m\u001b[0m\u001b[0;34m\u001b[0m\u001b[0m\n\u001b[0;32m----> 4\u001b[0;31m     \u001b[0mc\u001b[0m \u001b[0;34m=\u001b[0m \u001b[0mc\u001b[0m \u001b[0;34m+\u001b[0m \u001b[0;36m2\u001b[0m \u001b[0;31m# increment c by 2\u001b[0m\u001b[0;34m\u001b[0m\u001b[0;34m\u001b[0m\u001b[0m\n\u001b[0m\u001b[1;32m      5\u001b[0m     \u001b[0mprint\u001b[0m\u001b[0;34m(\u001b[0m\u001b[0mc\u001b[0m\u001b[0;34m)\u001b[0m\u001b[0;34m\u001b[0m\u001b[0;34m\u001b[0m\u001b[0m\n\u001b[1;32m      6\u001b[0m \u001b[0;34m\u001b[0m\u001b[0m\n",
            "\u001b[0;31mUnboundLocalError\u001b[0m: local variable 'c' referenced before assignment"
          ]
        }
      ]
    },
    {
      "cell_type": "code",
      "metadata": {
        "colab": {
          "base_uri": "https://localhost:8080/"
        },
        "id": "aD-j1YfGYQe0",
        "outputId": "fbcf30eb-4373-4b56-c49e-239a39ae13f7"
      },
      "source": [
        "c = 0 # global variable\n",
        "\n",
        "def add():\n",
        "    global c\n",
        "    c = c + 2 # increment by 2\n",
        "    print(\"Inside add():\", c)\n",
        "\n",
        "add()\n",
        "print(\"In main:\", c)"
      ],
      "execution_count": 3,
      "outputs": [
        {
          "output_type": "stream",
          "name": "stdout",
          "text": [
            "Inside add(): 2\n",
            "In main: 2\n"
          ]
        }
      ]
    },
    {
      "cell_type": "markdown",
      "metadata": {
        "id": "R5yMmz16YW5z"
      },
      "source": [
        "### Global Variables Across Python Modules\n"
      ]
    },
    {
      "cell_type": "markdown",
      "metadata": {
        "id": "P65x8UguYfD3"
      },
      "source": [
        "In Python, we create a single module config.py to hold global variables and share information across Python modules within the same program.\n",
        "\n",
        "Here is how we can share global variables across the python modules"
      ]
    },
    {
      "cell_type": "markdown",
      "metadata": {
        "id": "4FqQmG7bYime"
      },
      "source": [
        "**Create a config.py file, to store global variables**\n"
      ]
    },
    {
      "cell_type": "code",
      "metadata": {
        "id": "sV5oIrK_YTo5"
      },
      "source": [
        "a = 0\n",
        "b = \"empty\""
      ],
      "execution_count": null,
      "outputs": []
    },
    {
      "cell_type": "markdown",
      "metadata": {
        "id": "xuk6tS1lYr79"
      },
      "source": [
        "**Create a update.py file, to change global variables**\n",
        "\n"
      ]
    },
    {
      "cell_type": "code",
      "metadata": {
        "id": "d9DgZJhjYxNF"
      },
      "source": [
        "import config\n",
        "\n",
        "config.a = 10\n",
        "config.b = \"alphabet\""
      ],
      "execution_count": null,
      "outputs": []
    },
    {
      "cell_type": "markdown",
      "metadata": {
        "id": "zzusMc4GY0lV"
      },
      "source": [
        "**Create a main.py file, to test changes in value**"
      ]
    },
    {
      "cell_type": "code",
      "metadata": {
        "id": "xklj4K3wYyzr"
      },
      "source": [
        "import config\n",
        "import update\n",
        "\n",
        "print(config.a)\n",
        "print(config.b)"
      ],
      "execution_count": null,
      "outputs": []
    },
    {
      "cell_type": "markdown",
      "metadata": {
        "id": "h87mPYugY5yQ"
      },
      "source": [
        "### Global in Nested Functions\n",
        "Here is how you can use a global variable in nested function."
      ]
    },
    {
      "cell_type": "code",
      "metadata": {
        "colab": {
          "base_uri": "https://localhost:8080/"
        },
        "id": "VePvTwBTY8G0",
        "outputId": "ab9e6395-27d9-4ab3-9852-a17adb444634"
      },
      "source": [
        "def foo():\n",
        "    x = 20\n",
        "\n",
        "    def bar():\n",
        "        global x\n",
        "        x = 25\n",
        "    \n",
        "    print(\"Before calling bar: \", x)\n",
        "    print(\"Calling bar now\")\n",
        "    bar()\n",
        "    print(\"After calling bar: \", x)\n",
        "\n",
        "foo()\n",
        "print(\"x in main: \", x)"
      ],
      "execution_count": 4,
      "outputs": [
        {
          "output_type": "stream",
          "name": "stdout",
          "text": [
            "Before calling bar:  20\n",
            "Calling bar now\n",
            "After calling bar:  20\n",
            "x in main:  25\n"
          ]
        }
      ]
    },
    {
      "cell_type": "code",
      "metadata": {
        "id": "BySyUaDWY8df"
      },
      "source": [
        ""
      ],
      "execution_count": null,
      "outputs": []
    }
  ]
}
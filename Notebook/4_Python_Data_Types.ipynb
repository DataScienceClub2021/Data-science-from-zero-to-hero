{
  "nbformat": 4,
  "nbformat_minor": 0,
  "metadata": {
    "colab": {
      "name": "4- Python Data Types.ipynb",
      "provenance": []
    },
    "kernelspec": {
      "name": "python3",
      "display_name": "Python 3"
    },
    "language_info": {
      "name": "python"
    }
  },
  "cells": [
    {
      "cell_type": "markdown",
      "metadata": {
        "id": "44cH4RDyaiOZ"
      },
      "source": [
        "### Data types in Python\n",
        "Every value in Python has a datatype. Since everything is an object in Python programming, data types are actually classes and variables are instance (object) of these classes.\n",
        "\n",
        "There are various data types in Python. Some of the important types are listed below."
      ]
    },
    {
      "cell_type": "markdown",
      "metadata": {
        "id": "Orx6ELMRalDj"
      },
      "source": [
        "### Python Numbers\n"
      ]
    },
    {
      "cell_type": "markdown",
      "metadata": {
        "id": "RqdoXACeaoeB"
      },
      "source": [
        "Integers, floating point numbers and complex numbers fall under Python numbers category. They are defined as int, float and complex classes in Python.\n",
        "\n",
        "We can use the **type()** function to know which class a variable or a value belongs to. Similarly, the **isinstance()** function is used to check if an object belongs to a particular class."
      ]
    },
    {
      "cell_type": "code",
      "metadata": {
        "colab": {
          "base_uri": "https://localhost:8080/"
        },
        "id": "P6gqhmJxZatY",
        "outputId": "5ec1a7a0-bb79-4675-82ba-09c40c574c1b"
      },
      "source": [
        "a = 5\n",
        "print(a, \"is of type\", type(a))\n",
        "\n",
        "a = 2.0\n",
        "print(a, \"is of type\", type(a))\n",
        "\n",
        "a = 1+2j\n",
        "print(a, \"is complex number?\", isinstance(1+2j,complex))"
      ],
      "execution_count": 1,
      "outputs": [
        {
          "output_type": "stream",
          "name": "stdout",
          "text": [
            "5 is of type <class 'int'>\n",
            "2.0 is of type <class 'float'>\n",
            "(1+2j) is complex number? True\n"
          ]
        }
      ]
    },
    {
      "cell_type": "markdown",
      "metadata": {
        "id": "ULBf5RBgbF2c"
      },
      "source": [
        "Integers can be of any length, **it is only limited by the memory available.**\n",
        "\n",
        "A floating-point number is accurate up to **15 decimal places.** Integer and floating points are separated by decimal points. **1 is an integer, 1.0 is a floating-point number.**\n",
        "\n",
        "Complex numbers are written in the form, x + yj, where **x is the real part** and **y is the imaginary part.** Here are some examples."
      ]
    },
    {
      "cell_type": "code",
      "metadata": {
        "colab": {
          "base_uri": "https://localhost:8080/"
        },
        "id": "0u8qLX-iayed",
        "outputId": "f0a57102-a7b7-4199-841d-510f00b7b087"
      },
      "source": [
        "a = 1234567890123456789\n",
        "a"
      ],
      "execution_count": 2,
      "outputs": [
        {
          "output_type": "execute_result",
          "data": {
            "text/plain": [
              "1234567890123456789"
            ]
          },
          "metadata": {},
          "execution_count": 2
        }
      ]
    },
    {
      "cell_type": "code",
      "metadata": {
        "colab": {
          "base_uri": "https://localhost:8080/"
        },
        "id": "z54a_Oc6bW_R",
        "outputId": "d23f066c-e556-46a5-f628-6459cb89db05"
      },
      "source": [
        "b = 0.1234567890123456789\n",
        "b"
      ],
      "execution_count": 4,
      "outputs": [
        {
          "output_type": "execute_result",
          "data": {
            "text/plain": [
              "0.12345678901234568"
            ]
          },
          "metadata": {},
          "execution_count": 4
        }
      ]
    },
    {
      "cell_type": "code",
      "metadata": {
        "colab": {
          "base_uri": "https://localhost:8080/"
        },
        "id": "iUrFM4_ubZ-v",
        "outputId": "862df582-b503-4271-d7dc-fb4fd4531a30"
      },
      "source": [
        "c = 1+2j\n",
        "c"
      ],
      "execution_count": 5,
      "outputs": [
        {
          "output_type": "execute_result",
          "data": {
            "text/plain": [
              "(1+2j)"
            ]
          },
          "metadata": {},
          "execution_count": 5
        }
      ]
    },
    {
      "cell_type": "markdown",
      "metadata": {
        "id": "ldm-J3pscD40"
      },
      "source": [
        "### Python List\n",
        "List is an ordered sequence of items. It is one of the most used datatype in Python and is very flexible. All the items in a list do not need to be of the same type.\n",
        "\n",
        "Declaring a list is pretty straight forward. Items separated by commas are enclosed within brackets [ ].\n",
        "\n"
      ]
    },
    {
      "cell_type": "code",
      "metadata": {
        "id": "M_mnYhlQbdZY"
      },
      "source": [
        "a = [1, 2.2, 'python']"
      ],
      "execution_count": 7,
      "outputs": []
    },
    {
      "cell_type": "markdown",
      "metadata": {
        "id": "jeomwBDqcVWN"
      },
      "source": [
        "We can use the slicing operator [ ] to extract an item or a range of items from a list. The index starts from 0 in Python."
      ]
    },
    {
      "cell_type": "code",
      "metadata": {
        "colab": {
          "base_uri": "https://localhost:8080/"
        },
        "id": "UHdI03V7cMg7",
        "outputId": "6d38b7cb-1dea-48fb-b9e9-fbaa7d648097"
      },
      "source": [
        "a = [5,10,15,20,25,30,35,40]\n",
        "\n",
        "# a[2] = 15\n",
        "print(\"a[2] = \", a[2])\n",
        "\n",
        "# a[0:3] = [5, 10, 15]\n",
        "print(\"a[0:3] = \", a[0:3])\n",
        "\n",
        "# a[5:] = [30, 35, 40]\n",
        "print(\"a[5:] = \", a[5:])"
      ],
      "execution_count": 8,
      "outputs": [
        {
          "output_type": "stream",
          "name": "stdout",
          "text": [
            "a[2] =  15\n",
            "a[0:3] =  [5, 10, 15]\n",
            "a[5:] =  [30, 35, 40]\n"
          ]
        }
      ]
    },
    {
      "cell_type": "markdown",
      "metadata": {
        "id": "tzriEJ7Scc6V"
      },
      "source": [
        "Lists are mutable, meaning, the value of elements of a list can be altered.\n",
        "\n"
      ]
    },
    {
      "cell_type": "code",
      "metadata": {
        "colab": {
          "base_uri": "https://localhost:8080/"
        },
        "id": "50FNJVHgcX7t",
        "outputId": "d7b8dbaf-cfac-4a00-fea2-5ba5293d8c37"
      },
      "source": [
        "a = [1, 2, 3]\n",
        "a[2] = 4\n",
        "print(a)"
      ],
      "execution_count": 9,
      "outputs": [
        {
          "output_type": "stream",
          "name": "stdout",
          "text": [
            "[1, 2, 4]\n"
          ]
        }
      ]
    },
    {
      "cell_type": "markdown",
      "metadata": {
        "id": "ozJ2Bc-ZclHG"
      },
      "source": [
        "### Python Tuple\n",
        "Tuple is an ordered sequence of items same as a list. The only difference is that tuples are immutable. Tuples once created cannot be modified.\n",
        "\n",
        "Tuples are used to write-protect data and are usually faster than lists as they cannot change dynamically."
      ]
    },
    {
      "cell_type": "markdown",
      "metadata": {
        "id": "DedZO-qtcror"
      },
      "source": [
        "It is defined within **parentheses ()** where items are separated by commas.\n",
        "\n"
      ]
    },
    {
      "cell_type": "code",
      "metadata": {
        "id": "IVJ_NbGNcg2-"
      },
      "source": [
        "t = (5,'program', 1+3j)"
      ],
      "execution_count": 10,
      "outputs": []
    },
    {
      "cell_type": "markdown",
      "metadata": {
        "id": "D1txXnOEc1LG"
      },
      "source": [
        "We can use the slicing operator [] to extract items but we cannot change its value."
      ]
    },
    {
      "cell_type": "code",
      "metadata": {
        "colab": {
          "base_uri": "https://localhost:8080/"
        },
        "id": "_Nzk_iWycpdM",
        "outputId": "26ec433b-f6bd-41b1-dac9-0626db0d0ff0"
      },
      "source": [
        "t = (5,'program', 1+3j)\n",
        "\n",
        "# t[1] = 'program'\n",
        "print(\"t[1] = \", t[1])\n",
        "\n",
        "# t[0:3] = (5, 'program', (1+3j))\n",
        "print(\"t[0:3] = \", t[0:3])\n",
        "\n"
      ],
      "execution_count": 11,
      "outputs": [
        {
          "output_type": "stream",
          "name": "stdout",
          "text": [
            "t[1] =  program\n",
            "t[0:3] =  (5, 'program', (1+3j))\n"
          ]
        }
      ]
    },
    {
      "cell_type": "code",
      "metadata": {
        "colab": {
          "base_uri": "https://localhost:8080/",
          "height": 200
        },
        "id": "UY0_tkszdAyU",
        "outputId": "be6c9f83-fee2-4604-cba6-674b5d853f61"
      },
      "source": [
        "# Generates error\n",
        "# Tuples are immutable\n",
        "t[0] = 10"
      ],
      "execution_count": 12,
      "outputs": [
        {
          "output_type": "error",
          "ename": "TypeError",
          "evalue": "ignored",
          "traceback": [
            "\u001b[0;31m---------------------------------------------------------------------------\u001b[0m",
            "\u001b[0;31mTypeError\u001b[0m                                 Traceback (most recent call last)",
            "\u001b[0;32m<ipython-input-12-dfb88db5faa2>\u001b[0m in \u001b[0;36m<module>\u001b[0;34m()\u001b[0m\n\u001b[1;32m      1\u001b[0m \u001b[0;31m# Generates error\u001b[0m\u001b[0;34m\u001b[0m\u001b[0;34m\u001b[0m\u001b[0;34m\u001b[0m\u001b[0m\n\u001b[1;32m      2\u001b[0m \u001b[0;31m# Tuples are immutable\u001b[0m\u001b[0;34m\u001b[0m\u001b[0;34m\u001b[0m\u001b[0;34m\u001b[0m\u001b[0m\n\u001b[0;32m----> 3\u001b[0;31m \u001b[0mt\u001b[0m\u001b[0;34m[\u001b[0m\u001b[0;36m0\u001b[0m\u001b[0;34m]\u001b[0m \u001b[0;34m=\u001b[0m \u001b[0;36m10\u001b[0m\u001b[0;34m\u001b[0m\u001b[0;34m\u001b[0m\u001b[0m\n\u001b[0m",
            "\u001b[0;31mTypeError\u001b[0m: 'tuple' object does not support item assignment"
          ]
        }
      ]
    },
    {
      "cell_type": "markdown",
      "metadata": {
        "id": "XPCTEJ1hdHle"
      },
      "source": [
        "### Python Strings\n",
        "String is sequence of Unicode characters. We can use single quotes or double quotes to represent strings. Multi-line strings can be denoted using triple quotes, ''' or \"\"\"."
      ]
    },
    {
      "cell_type": "code",
      "metadata": {
        "colab": {
          "base_uri": "https://localhost:8080/"
        },
        "id": "ag5TX21adB7Q",
        "outputId": "fb9d6c4d-7714-4a1a-83cb-c6a4ad8a366e"
      },
      "source": [
        "s = \"This is a string\"\n",
        "print(s)\n",
        "s = '''A multiline\n",
        "string'''\n",
        "print(s)"
      ],
      "execution_count": 13,
      "outputs": [
        {
          "output_type": "stream",
          "name": "stdout",
          "text": [
            "This is a string\n",
            "A multiline\n",
            "string\n"
          ]
        }
      ]
    },
    {
      "cell_type": "markdown",
      "metadata": {
        "id": "st8JB_fKdMOM"
      },
      "source": [
        "Just like a list and tuple, the slicing operator [ ] can be used with strings. Strings, however, are immutable."
      ]
    },
    {
      "cell_type": "code",
      "metadata": {
        "colab": {
          "base_uri": "https://localhost:8080/"
        },
        "id": "_p0ohw6FdJUE",
        "outputId": "6274c54b-b18b-400d-c474-5f4323c93108"
      },
      "source": [
        "s = 'Hello world!'\n",
        "\n",
        "# s[4] = 'o'\n",
        "print(\"s[4] = \", s[4])\n",
        "\n",
        "# s[6:11] = 'world'\n",
        "print(\"s[6:11] = \", s[6:11])"
      ],
      "execution_count": 14,
      "outputs": [
        {
          "output_type": "stream",
          "name": "stdout",
          "text": [
            "s[4] =  o\n",
            "s[6:11] =  world\n"
          ]
        }
      ]
    },
    {
      "cell_type": "code",
      "metadata": {
        "colab": {
          "base_uri": "https://localhost:8080/",
          "height": 200
        },
        "id": "W1CWfB11dPW6",
        "outputId": "e792e9ec-1575-4fd9-92ad-a01e5df68c46"
      },
      "source": [
        "# Generates error\n",
        "# Strings are immutable in Python\n",
        "s[5] ='d'"
      ],
      "execution_count": 15,
      "outputs": [
        {
          "output_type": "error",
          "ename": "TypeError",
          "evalue": "ignored",
          "traceback": [
            "\u001b[0;31m---------------------------------------------------------------------------\u001b[0m",
            "\u001b[0;31mTypeError\u001b[0m                                 Traceback (most recent call last)",
            "\u001b[0;32m<ipython-input-15-56479932d133>\u001b[0m in \u001b[0;36m<module>\u001b[0;34m()\u001b[0m\n\u001b[1;32m      1\u001b[0m \u001b[0;31m# Generates error\u001b[0m\u001b[0;34m\u001b[0m\u001b[0;34m\u001b[0m\u001b[0;34m\u001b[0m\u001b[0m\n\u001b[1;32m      2\u001b[0m \u001b[0;31m# Strings are immutable in Python\u001b[0m\u001b[0;34m\u001b[0m\u001b[0;34m\u001b[0m\u001b[0;34m\u001b[0m\u001b[0m\n\u001b[0;32m----> 3\u001b[0;31m \u001b[0ms\u001b[0m\u001b[0;34m[\u001b[0m\u001b[0;36m5\u001b[0m\u001b[0;34m]\u001b[0m \u001b[0;34m=\u001b[0m\u001b[0;34m'd'\u001b[0m\u001b[0;34m\u001b[0m\u001b[0;34m\u001b[0m\u001b[0m\n\u001b[0m",
            "\u001b[0;31mTypeError\u001b[0m: 'str' object does not support item assignment"
          ]
        }
      ]
    },
    {
      "cell_type": "markdown",
      "metadata": {
        "id": "Q0KzuZaPdVLs"
      },
      "source": [
        "### Python Set\n",
        "Set is an unordered collection of unique items. Set is defined by values separated by comma inside braces { }. Items in a set are not ordered."
      ]
    },
    {
      "cell_type": "code",
      "metadata": {
        "colab": {
          "base_uri": "https://localhost:8080/"
        },
        "id": "dhGA0M-hdQv1",
        "outputId": "0eb1858d-c531-4e66-ae56-fc3e969938bb"
      },
      "source": [
        "a = {5,2,3,1,4}\n",
        "\n",
        "# printing set variable\n",
        "print(\"a = \", a)\n",
        "\n",
        "# data type of variable a\n",
        "print(type(a))"
      ],
      "execution_count": 16,
      "outputs": [
        {
          "output_type": "stream",
          "name": "stdout",
          "text": [
            "a =  {1, 2, 3, 4, 5}\n",
            "<class 'set'>\n"
          ]
        }
      ]
    },
    {
      "cell_type": "markdown",
      "metadata": {
        "id": "vFs3Lid7dbg4"
      },
      "source": [
        "We can perform set operations like union, intersection on two sets. Sets have unique values. They eliminate duplicates.\n",
        "\n"
      ]
    },
    {
      "cell_type": "code",
      "metadata": {
        "colab": {
          "base_uri": "https://localhost:8080/"
        },
        "id": "sW196NmidXKx",
        "outputId": "548bf2fc-e74d-4a3d-8b8e-bcd83e41e226"
      },
      "source": [
        "a = {1,2,2,3,3,3}\n",
        "print(a)"
      ],
      "execution_count": 17,
      "outputs": [
        {
          "output_type": "stream",
          "name": "stdout",
          "text": [
            "{1, 2, 3}\n"
          ]
        }
      ]
    },
    {
      "cell_type": "code",
      "metadata": {
        "colab": {
          "base_uri": "https://localhost:8080/",
          "height": 165
        },
        "id": "E9VqJttPdc9J",
        "outputId": "3cab64a4-8984-4b36-9bea-d9fb6734dd8a"
      },
      "source": [
        "a[1]"
      ],
      "execution_count": 18,
      "outputs": [
        {
          "output_type": "error",
          "ename": "TypeError",
          "evalue": "ignored",
          "traceback": [
            "\u001b[0;31m---------------------------------------------------------------------------\u001b[0m",
            "\u001b[0;31mTypeError\u001b[0m                                 Traceback (most recent call last)",
            "\u001b[0;32m<ipython-input-18-8bc71255a22e>\u001b[0m in \u001b[0;36m<module>\u001b[0;34m()\u001b[0m\n\u001b[0;32m----> 1\u001b[0;31m \u001b[0ma\u001b[0m\u001b[0;34m[\u001b[0m\u001b[0;36m1\u001b[0m\u001b[0;34m]\u001b[0m\u001b[0;34m\u001b[0m\u001b[0;34m\u001b[0m\u001b[0m\n\u001b[0m",
            "\u001b[0;31mTypeError\u001b[0m: 'set' object is not subscriptable"
          ]
        }
      ]
    },
    {
      "cell_type": "markdown",
      "metadata": {
        "id": "OWVIeRSbdttU"
      },
      "source": [
        "### Python Dictionary\n",
        "Dictionary is an unordered collection of key-value pairs.\n",
        "\n",
        "It is generally used when we have a huge amount of data. Dictionaries are optimized for retrieving data. We must know the key to retrieve the value.\n",
        "\n",
        "In Python, dictionaries are defined within braces {} with each item being a pair in the form key:value. Key and value can be of any type."
      ]
    },
    {
      "cell_type": "code",
      "metadata": {
        "colab": {
          "base_uri": "https://localhost:8080/"
        },
        "id": "lDLBJmQYdmUi",
        "outputId": "d08d8df7-ccb6-4d16-ba53-970f15ac66eb"
      },
      "source": [
        "d = {1:'value','key':2}\n",
        "type(d)"
      ],
      "execution_count": 21,
      "outputs": [
        {
          "output_type": "execute_result",
          "data": {
            "text/plain": [
              "dict"
            ]
          },
          "metadata": {},
          "execution_count": 21
        }
      ]
    },
    {
      "cell_type": "code",
      "metadata": {
        "colab": {
          "base_uri": "https://localhost:8080/"
        },
        "id": "hwD1XhdleAs7",
        "outputId": "ff4722bc-b265-4cc6-9426-35f855cc0a97"
      },
      "source": [
        "d = {1:'value','key':2}\n",
        "print(type(d))\n",
        "\n",
        "print(\"d[1] = \", d[1])\n",
        "\n",
        "print(\"d['key'] = \", d['key'])"
      ],
      "execution_count": 24,
      "outputs": [
        {
          "output_type": "stream",
          "name": "stdout",
          "text": [
            "<class 'dict'>\n",
            "d[1] =  value\n",
            "d['key'] =  2\n"
          ]
        }
      ]
    },
    {
      "cell_type": "code",
      "metadata": {
        "colab": {
          "base_uri": "https://localhost:8080/",
          "height": 182
        },
        "id": "qV5RvVTleCIy",
        "outputId": "025030f9-a4ed-405d-97c3-3db5df7e0290"
      },
      "source": [
        "# Generates error\n",
        "print(\"d[2] = \", d[2])"
      ],
      "execution_count": 25,
      "outputs": [
        {
          "output_type": "error",
          "ename": "KeyError",
          "evalue": "ignored",
          "traceback": [
            "\u001b[0;31m---------------------------------------------------------------------------\u001b[0m",
            "\u001b[0;31mKeyError\u001b[0m                                  Traceback (most recent call last)",
            "\u001b[0;32m<ipython-input-25-47d3c037a9ac>\u001b[0m in \u001b[0;36m<module>\u001b[0;34m()\u001b[0m\n\u001b[1;32m      1\u001b[0m \u001b[0;31m# Generates error\u001b[0m\u001b[0;34m\u001b[0m\u001b[0;34m\u001b[0m\u001b[0;34m\u001b[0m\u001b[0m\n\u001b[0;32m----> 2\u001b[0;31m \u001b[0mprint\u001b[0m\u001b[0;34m(\u001b[0m\u001b[0;34m\"d[2] = \"\u001b[0m\u001b[0;34m,\u001b[0m \u001b[0md\u001b[0m\u001b[0;34m[\u001b[0m\u001b[0;36m2\u001b[0m\u001b[0;34m]\u001b[0m\u001b[0;34m)\u001b[0m\u001b[0;34m\u001b[0m\u001b[0;34m\u001b[0m\u001b[0m\n\u001b[0m",
            "\u001b[0;31mKeyError\u001b[0m: 2"
          ]
        }
      ]
    },
    {
      "cell_type": "markdown",
      "metadata": {
        "id": "aCU3PUEFeHlw"
      },
      "source": [
        "### Conversion between data types\n"
      ]
    },
    {
      "cell_type": "markdown",
      "metadata": {
        "id": "iZZbRh3JeMog"
      },
      "source": [
        "We can convert between different data types by using different type conversion functions like int(), float(), str(), etc."
      ]
    },
    {
      "cell_type": "code",
      "metadata": {
        "colab": {
          "base_uri": "https://localhost:8080/"
        },
        "id": "2-QYrHnieFBe",
        "outputId": "4ef4a6ee-8fc1-49f1-fe70-7d9fd79e98d7"
      },
      "source": [
        "float(5)"
      ],
      "execution_count": 26,
      "outputs": [
        {
          "output_type": "execute_result",
          "data": {
            "text/plain": [
              "5.0"
            ]
          },
          "metadata": {},
          "execution_count": 26
        }
      ]
    },
    {
      "cell_type": "markdown",
      "metadata": {
        "id": "cNIt54KneQDL"
      },
      "source": [
        "Conversion from float to int will truncate the value (make it closer to zero).\n",
        "\n"
      ]
    },
    {
      "cell_type": "code",
      "metadata": {
        "colab": {
          "base_uri": "https://localhost:8080/"
        },
        "id": "KPAG1vXieLCV",
        "outputId": "35224400-3f80-4ef0-c8b4-3262cdaf092b"
      },
      "source": [
        "int(10.6)\n",
        "int(-10.6)"
      ],
      "execution_count": 27,
      "outputs": [
        {
          "output_type": "execute_result",
          "data": {
            "text/plain": [
              "-10"
            ]
          },
          "metadata": {},
          "execution_count": 27
        }
      ]
    },
    {
      "cell_type": "markdown",
      "metadata": {
        "id": "Sgju4adteVAn"
      },
      "source": [
        "Conversion to and from string must contain compatible values.\n",
        "\n"
      ]
    },
    {
      "cell_type": "code",
      "metadata": {
        "colab": {
          "base_uri": "https://localhost:8080/"
        },
        "id": "bvCrzLqheSYC",
        "outputId": "0c43b7df-bbc0-4569-f737-acd979da2306"
      },
      "source": [
        "float('2.5')"
      ],
      "execution_count": 28,
      "outputs": [
        {
          "output_type": "execute_result",
          "data": {
            "text/plain": [
              "2.5"
            ]
          },
          "metadata": {},
          "execution_count": 28
        }
      ]
    },
    {
      "cell_type": "code",
      "metadata": {
        "colab": {
          "base_uri": "https://localhost:8080/",
          "height": 34
        },
        "id": "DNWkD_-teaJp",
        "outputId": "119a5e63-0c13-403f-fa45-28e54d081d8b"
      },
      "source": [
        "str(25)"
      ],
      "execution_count": 29,
      "outputs": [
        {
          "output_type": "execute_result",
          "data": {
            "application/vnd.google.colaboratory.intrinsic+json": {
              "type": "string"
            },
            "text/plain": [
              "'25'"
            ]
          },
          "metadata": {},
          "execution_count": 29
        }
      ]
    },
    {
      "cell_type": "code",
      "metadata": {
        "colab": {
          "base_uri": "https://localhost:8080/",
          "height": 165
        },
        "id": "_sEFIA7xebcW",
        "outputId": "9101b91b-c4e9-477c-a51a-e787b4be8179"
      },
      "source": [
        "int('1p')"
      ],
      "execution_count": 30,
      "outputs": [
        {
          "output_type": "error",
          "ename": "ValueError",
          "evalue": "ignored",
          "traceback": [
            "\u001b[0;31m---------------------------------------------------------------------------\u001b[0m",
            "\u001b[0;31mValueError\u001b[0m                                Traceback (most recent call last)",
            "\u001b[0;32m<ipython-input-30-74ab929f204c>\u001b[0m in \u001b[0;36m<module>\u001b[0;34m()\u001b[0m\n\u001b[0;32m----> 1\u001b[0;31m \u001b[0mint\u001b[0m\u001b[0;34m(\u001b[0m\u001b[0;34m'1p'\u001b[0m\u001b[0;34m)\u001b[0m\u001b[0;34m\u001b[0m\u001b[0;34m\u001b[0m\u001b[0m\n\u001b[0m",
            "\u001b[0;31mValueError\u001b[0m: invalid literal for int() with base 10: '1p'"
          ]
        }
      ]
    },
    {
      "cell_type": "markdown",
      "metadata": {
        "id": "Bh7MRcMnemgy"
      },
      "source": [
        "We can even convert one sequence to another.\n",
        "\n"
      ]
    },
    {
      "cell_type": "code",
      "metadata": {
        "colab": {
          "base_uri": "https://localhost:8080/"
        },
        "id": "uzbVsiJAedR-",
        "outputId": "3d1a7332-a437-4d81-f522-51cecb6e7537"
      },
      "source": [
        "set([1,2,3])"
      ],
      "execution_count": 31,
      "outputs": [
        {
          "output_type": "execute_result",
          "data": {
            "text/plain": [
              "{1, 2, 3}"
            ]
          },
          "metadata": {},
          "execution_count": 31
        }
      ]
    },
    {
      "cell_type": "code",
      "metadata": {
        "colab": {
          "base_uri": "https://localhost:8080/"
        },
        "id": "k9lRdFVjeqRh",
        "outputId": "e47d4930-1147-47d6-b494-a3c6f718f931"
      },
      "source": [
        "tuple({5,6,7})"
      ],
      "execution_count": 32,
      "outputs": [
        {
          "output_type": "execute_result",
          "data": {
            "text/plain": [
              "(5, 6, 7)"
            ]
          },
          "metadata": {},
          "execution_count": 32
        }
      ]
    },
    {
      "cell_type": "code",
      "metadata": {
        "colab": {
          "base_uri": "https://localhost:8080/"
        },
        "id": "MPB8WtEBeqOL",
        "outputId": "b9f8294a-d1db-4991-9240-8f119ba90d3e"
      },
      "source": [
        "list('hello')"
      ],
      "execution_count": 33,
      "outputs": [
        {
          "output_type": "execute_result",
          "data": {
            "text/plain": [
              "['h', 'e', 'l', 'l', 'o']"
            ]
          },
          "metadata": {},
          "execution_count": 33
        }
      ]
    },
    {
      "cell_type": "markdown",
      "metadata": {
        "id": "1bcucoGpetaA"
      },
      "source": [
        "To convert to dictionary, each element must be a pair:\n",
        "\n"
      ]
    },
    {
      "cell_type": "code",
      "metadata": {
        "colab": {
          "base_uri": "https://localhost:8080/"
        },
        "id": "KpzTKqP4esPs",
        "outputId": "2a29edf7-29e2-4ff3-a0bf-6ca4fcd56814"
      },
      "source": [
        "dict([[1,2],[3,4]])"
      ],
      "execution_count": 34,
      "outputs": [
        {
          "output_type": "execute_result",
          "data": {
            "text/plain": [
              "{1: 2, 3: 4}"
            ]
          },
          "metadata": {},
          "execution_count": 34
        }
      ]
    },
    {
      "cell_type": "code",
      "metadata": {
        "colab": {
          "base_uri": "https://localhost:8080/"
        },
        "id": "nAF2uJBQewSA",
        "outputId": "4a769cf2-9e40-4197-d404-9c8b77f40276"
      },
      "source": [
        "dict([[1,2],[3,4]])"
      ],
      "execution_count": 35,
      "outputs": [
        {
          "output_type": "execute_result",
          "data": {
            "text/plain": [
              "{1: 2, 3: 4}"
            ]
          },
          "metadata": {},
          "execution_count": 35
        }
      ]
    },
    {
      "cell_type": "markdown",
      "metadata": {
        "id": "NyLcYehQfVGl"
      },
      "source": [
        "![image.png](data:image/png;base64,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)"
      ]
    },
    {
      "cell_type": "code",
      "metadata": {
        "colab": {
          "base_uri": "https://localhost:8080/"
        },
        "id": "gj_sWs4oexv0",
        "outputId": "c9b1748f-fddd-4825-bf4d-4cd7dd62982f"
      },
      "source": [
        ""
      ],
      "execution_count": 39,
      "outputs": [
        {
          "output_type": "execute_result",
          "data": {
            "text/plain": [
              "{1, 2, 3, 5, 6, 7}"
            ]
          },
          "metadata": {},
          "execution_count": 39
        }
      ]
    }
  ]
}
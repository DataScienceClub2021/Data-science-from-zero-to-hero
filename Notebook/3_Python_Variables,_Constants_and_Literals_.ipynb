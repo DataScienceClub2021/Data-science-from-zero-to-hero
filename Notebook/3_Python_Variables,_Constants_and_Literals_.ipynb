{
  "nbformat": 4,
  "nbformat_minor": 0,
  "metadata": {
    "colab": {
      "name": "3- Python Variables, Constants and Literals .ipynb",
      "provenance": []
    },
    "kernelspec": {
      "name": "python3",
      "display_name": "Python 3"
    },
    "language_info": {
      "name": "python"
    }
  },
  "cells": [
    {
      "cell_type": "markdown",
      "metadata": {
        "id": "9o-nylDkZ0YK"
      },
      "source": [
        "A variable is a named location used to store data in the memory. It is helpful to think of variables as a container that holds data that can be changed later in the program. For example:"
      ]
    },
    {
      "cell_type": "code",
      "metadata": {
        "colab": {
          "base_uri": "https://localhost:8080/"
        },
        "id": "SK3nSQ9KYUvb",
        "outputId": "b90c23a6-e13c-4e08-bde1-a83807b4dc4c"
      },
      "source": [
        "number = 10"
      ],
      "execution_count": null,
      "outputs": [
        {
          "output_type": "execute_result",
          "data": {
            "text/plain": [
              "94866741148448"
            ]
          },
          "metadata": {},
          "execution_count": 2
        }
      ]
    },
    {
      "cell_type": "markdown",
      "metadata": {
        "id": "dnEZAfE1Z6jk"
      },
      "source": [
        "Here, we have created a variable named number. We have assigned the value 10 to the variable.\n",
        "\n",
        "You can think of variables as a bag to store books in it and that book can be replaced at any time."
      ]
    },
    {
      "cell_type": "code",
      "metadata": {
        "colab": {
          "base_uri": "https://localhost:8080/"
        },
        "id": "gn3fNnAHZ62O",
        "outputId": "4a63bb13-44c8-4248-ebe0-a24ffbec363d"
      },
      "source": [
        "m = 1.1\n",
        "type(m)\n"
      ],
      "execution_count": null,
      "outputs": [
        {
          "output_type": "execute_result",
          "data": {
            "text/plain": [
              "float"
            ]
          },
          "metadata": {},
          "execution_count": 7
        }
      ]
    },
    {
      "cell_type": "markdown",
      "metadata": {
        "id": "6qpKATuNaI15"
      },
      "source": [
        "**Note:** In Python, we don't actually assign values to the variables. Instead, Python gives the reference of the object(value) to the variable.\n",
        "\n"
      ]
    },
    {
      "cell_type": "markdown",
      "metadata": {
        "id": "pjZgSuvOaNXE"
      },
      "source": [
        "## Assigning values to Variables in Python\n"
      ]
    },
    {
      "cell_type": "markdown",
      "metadata": {
        "id": "79_A0CMWaMM6"
      },
      "source": [
        "Assigning values to Variables in Python\n",
        "As you can see from the above example, you can use the assignment operator = to assign a value to a variable."
      ]
    },
    {
      "cell_type": "markdown",
      "metadata": {
        "id": "3woKLIBgaRwS"
      },
      "source": [
        "Example 1: Declaring and assigning value to a variable\n"
      ]
    },
    {
      "cell_type": "code",
      "metadata": {
        "colab": {
          "base_uri": "https://localhost:8080/"
        },
        "id": "uRs_NCFWZ8KE",
        "outputId": "9d4f53ed-32a5-489f-a392-67946f35d61f"
      },
      "source": [
        "website = \"Google\"\n",
        "print(type(website))"
      ],
      "execution_count": null,
      "outputs": [
        {
          "output_type": "stream",
          "name": "stdout",
          "text": [
            "<class 'str'>\n"
          ]
        }
      ]
    },
    {
      "cell_type": "markdown",
      "metadata": {
        "id": "DSOmooHnaZll"
      },
      "source": [
        "Note: Python is a type-inferred language, so you don't have to explicitly define the variable type. It automatically knows that apple.com is a string and declares the website variable as a string."
      ]
    },
    {
      "cell_type": "markdown",
      "metadata": {
        "id": "6mFBYc1oaekm"
      },
      "source": [
        "### Example 2: Changing the value of a variable\n"
      ]
    },
    {
      "cell_type": "code",
      "metadata": {
        "colab": {
          "base_uri": "https://localhost:8080/"
        },
        "id": "lsh9bpTlaTmX",
        "outputId": "8f86299d-7584-4875-d3a2-b60c16f68c60"
      },
      "source": [
        "website = \"Google\"\n",
        "print(website)\n",
        "website = \"Yahoo.com\"\n",
        "print(website)\n",
        "website = 10\n",
        "print(website)"
      ],
      "execution_count": null,
      "outputs": [
        {
          "output_type": "stream",
          "name": "stdout",
          "text": [
            "Google\n",
            "Yahoo.com\n",
            "10\n"
          ]
        }
      ]
    },
    {
      "cell_type": "markdown",
      "metadata": {
        "id": "va-iZcKPaiRh"
      },
      "source": [
        "### Example 3: Assigning multiple values to multiple variables\n"
      ]
    },
    {
      "cell_type": "code",
      "metadata": {
        "colab": {
          "base_uri": "https://localhost:8080/"
        },
        "id": "jHZHS4Iiais3",
        "outputId": "c5f1cb29-8032-4939-97a0-8712e2e39eed"
      },
      "source": [
        "a,b,c = 5,3.2,\"Hello\"\n",
        "print(a)\n",
        "print(b)\n",
        "print(c)"
      ],
      "execution_count": null,
      "outputs": [
        {
          "output_type": "stream",
          "name": "stdout",
          "text": [
            "5\n",
            "3.2\n",
            "Hello\n"
          ]
        }
      ]
    },
    {
      "cell_type": "markdown",
      "metadata": {
        "id": "AwFTaopmamG5"
      },
      "source": [
        "If we want to assign the same value to multiple variables at once, we can do this as:\n",
        "\n"
      ]
    },
    {
      "cell_type": "code",
      "metadata": {
        "colab": {
          "base_uri": "https://localhost:8080/"
        },
        "id": "TP2bKAOVaj9j",
        "outputId": "b97dc8f9-5769-409f-d1fb-7dba2be04aff"
      },
      "source": [
        "a = b = c = \"Hello\"\n",
        "print(a)\n",
        "print(b)\n",
        "print(c)"
      ],
      "execution_count": null,
      "outputs": [
        {
          "output_type": "stream",
          "name": "stdout",
          "text": [
            "Hello\n",
            "Hello\n",
            "Hello\n"
          ]
        }
      ]
    },
    {
      "cell_type": "markdown",
      "metadata": {
        "id": "-C-NALx7auqv"
      },
      "source": [
        "## Constants\n",
        "A constant is a type of variable whose value cannot be changed. It is helpful to think of constants as containers that hold information which cannot be changed later.\n",
        "\n",
        "You can think of constants as a bag to store some books which cannot be replaced once placed inside the bag."
      ]
    },
    {
      "cell_type": "markdown",
      "metadata": {
        "id": "auhl1weVa1Ap"
      },
      "source": [
        "## Assigning value to constant in Python\n"
      ]
    },
    {
      "cell_type": "markdown",
      "metadata": {
        "id": "QHmCqU5Fa4Yk"
      },
      "source": [
        "### Example 3: Declaring and assigning value to a constant\n"
      ]
    },
    {
      "cell_type": "code",
      "metadata": {
        "colab": {
          "base_uri": "https://localhost:8080/"
        },
        "id": "6Qza3T90a6I3",
        "outputId": "3e7d21c7-998b-4786-8f81-606b892bf84d"
      },
      "source": [
        "import constant\n",
        "print(constant.PI)"
      ],
      "execution_count": null,
      "outputs": [
        {
          "output_type": "stream",
          "name": "stdout",
          "text": [
            "3.14\n"
          ]
        }
      ]
    },
    {
      "cell_type": "code",
      "metadata": {
        "colab": {
          "base_uri": "https://localhost:8080/"
        },
        "id": "yOPQazVOa70y",
        "outputId": "3df10c84-464d-4769-a373-e56c20836aa3"
      },
      "source": [
        "print(constant.GRAVITY)"
      ],
      "execution_count": null,
      "outputs": [
        {
          "output_type": "stream",
          "name": "stdout",
          "text": [
            "9.8\n"
          ]
        }
      ]
    },
    {
      "cell_type": "markdown",
      "metadata": {
        "id": "_Q6xccf0bN8C"
      },
      "source": [
        "**Note:** In reality, we don't use constants in Python. Naming them in all capital letters is a convention to separate them from variables, however, it does not actually prevent reassignment.\n",
        "\n"
      ]
    },
    {
      "cell_type": "markdown",
      "metadata": {
        "id": "TGcUYD7AbXMW"
      },
      "source": [
        "\n",
        "## Rules and Naming Convention for Variables and constants\n",
        "1. Constant and variable names should have a combination of letters in lowercase (a to z) or uppercase (A to Z) or digits (0 to 9) or an underscore (_). For example:"
      ]
    },
    {
      "cell_type": "code",
      "metadata": {
        "id": "G8DZu4bZbGzL"
      },
      "source": [
        "snake = 10\n",
        "SNAKE = 10\n",
        "SNAKE_99 = 20"
      ],
      "execution_count": null,
      "outputs": []
    },
    {
      "cell_type": "markdown",
      "metadata": {
        "id": "gQEATJD-brZf"
      },
      "source": [
        "2. Create a name that makes sense. For example, vowel makes more sense than v."
      ]
    },
    {
      "cell_type": "code",
      "metadata": {
        "id": "InYdzgjIyK8e"
      },
      "source": [
        "my_name = \"Mostafa\""
      ],
      "execution_count": null,
      "outputs": []
    },
    {
      "cell_type": "markdown",
      "metadata": {
        "id": "JxS5H5S4buAN"
      },
      "source": [
        "3. If you want to create a variable name having two words, use underscore to separate them. For example:\n"
      ]
    },
    {
      "cell_type": "code",
      "metadata": {
        "id": "ahE37fnzyfUK"
      },
      "source": [
        "current_salary = 2000"
      ],
      "execution_count": null,
      "outputs": []
    },
    {
      "cell_type": "markdown",
      "metadata": {
        "id": "blyHu8-RbxjC"
      },
      "source": [
        "4. Use capital letters possible to declare a constant. For example:\n"
      ]
    },
    {
      "cell_type": "code",
      "metadata": {
        "id": "DrT55TAPytvC"
      },
      "source": [
        "PI = 20"
      ],
      "execution_count": null,
      "outputs": []
    },
    {
      "cell_type": "markdown",
      "metadata": {
        "id": "YvPE3itIb1sv"
      },
      "source": [
        "5. Never use special symbols like !, @, #, $, %, etc.\n",
        "6. Don't start a variable name with a digit."
      ]
    },
    {
      "cell_type": "code",
      "metadata": {
        "colab": {
          "base_uri": "https://localhost:8080/",
          "height": 128
        },
        "id": "AqYdzpVYyyDq",
        "outputId": "267c5f91-3fe3-4597-b434-89a53455c888"
      },
      "source": [
        "var@ = 20 \n",
        "20var = 20"
      ],
      "execution_count": null,
      "outputs": [
        {
          "output_type": "error",
          "ename": "SyntaxError",
          "evalue": "ignored",
          "traceback": [
            "\u001b[0;36m  File \u001b[0;32m\"<ipython-input-33-69b6dc73c322>\"\u001b[0;36m, line \u001b[0;32m1\u001b[0m\n\u001b[0;31m    var@ = 20\u001b[0m\n\u001b[0m         ^\u001b[0m\n\u001b[0;31mSyntaxError\u001b[0m\u001b[0;31m:\u001b[0m invalid syntax\n"
          ]
        }
      ]
    },
    {
      "cell_type": "markdown",
      "metadata": {
        "id": "VUU5vsP1dcok"
      },
      "source": [
        "## Numeric Literals\n",
        "Numeric Literals are immutable (unchangeable). Numeric literals can belong to 3 different numerical types: **Integer, Float, and Complex.**\n",
        "\n",
        "\n"
      ]
    },
    {
      "cell_type": "code",
      "metadata": {
        "colab": {
          "base_uri": "https://localhost:8080/"
        },
        "id": "5kB_JFEMz2GS",
        "outputId": "4876deb5-8efa-470f-96be-ec35388e7b23"
      },
      "source": [
        "i = 10\n",
        "print(id(i))\n",
        "i = 20\n",
        "print(id(i))"
      ],
      "execution_count": null,
      "outputs": [
        {
          "output_type": "stream",
          "name": "stdout",
          "text": [
            "94866741148448\n",
            "94866741148768\n"
          ]
        }
      ]
    },
    {
      "cell_type": "code",
      "metadata": {
        "colab": {
          "base_uri": "https://localhost:8080/"
        },
        "id": "gPyOKpN3c035",
        "outputId": "ccdc578d-bb7f-4dec-884e-30fb9eda6369"
      },
      "source": [
        "f = 10.5\n",
        "a = 1.0 # float \n",
        "print(type(a))\n",
        "i = 10\n",
        "m = 20 \n",
        "print(type(i))\n",
        "x = 3.14j\n",
        "print(type(x))\n",
        "a = 0b1010\n",
        "b = 100 \n",
        "c = 0o310\n",
        "d = 0x12c\n",
        "print(type(a))\n",
        "print(type(b))\n",
        "print(type(c))\n",
        "print(type(d))"
      ],
      "execution_count": null,
      "outputs": [
        {
          "output_type": "stream",
          "name": "stdout",
          "text": [
            "<class 'float'>\n",
            "<class 'int'>\n",
            "<class 'complex'>\n",
            "<class 'int'>\n",
            "<class 'int'>\n",
            "<class 'int'>\n",
            "<class 'int'>\n"
          ]
        }
      ]
    },
    {
      "cell_type": "markdown",
      "metadata": {
        "id": "hkZbIOY9dmp2"
      },
      "source": [
        "## String literals\n"
      ]
    },
    {
      "cell_type": "markdown",
      "metadata": {
        "id": "GzU5SOcidrG6"
      },
      "source": [
        "A string literal is a sequence of characters surrounded by quotes. We can use both single, double, or triple quotes for a string. And, a character literal is a single character surrounded by single or double quotes.\n",
        "\n"
      ]
    },
    {
      "cell_type": "markdown",
      "metadata": {
        "id": "EswGNdPZe9Sw"
      },
      "source": [
        "Example 7: How to use string literals in Python?\n"
      ]
    },
    {
      "cell_type": "code",
      "metadata": {
        "colab": {
          "base_uri": "https://localhost:8080/"
        },
        "id": "JxxNa38Tdjvt",
        "outputId": "6c21e2e2-6229-42df-85eb-96b43d9f552b"
      },
      "source": [
        "string = \"Hello\"\n",
        "string = \"C\"\n",
        "string = \"\"\"A string literal is a sequence of characters surrounded by quotes. We can use both single, double, or triple quotes for a string. And, a character literal is a single character surrounded by single or double quotes.\"\"\"\n",
        "unicode = u\"\\u00dc\"\n",
        "raw = r\"my name is \\n Mostafa\"\n",
        "\n",
        "print(raw)"
      ],
      "execution_count": null,
      "outputs": [
        {
          "output_type": "stream",
          "name": "stdout",
          "text": [
            "my name is \\n Mostafa\n"
          ]
        }
      ]
    },
    {
      "cell_type": "markdown",
      "metadata": {
        "id": "YyARjXHxd8DK"
      },
      "source": [
        "### Boolean literals\n"
      ]
    },
    {
      "cell_type": "markdown",
      "metadata": {
        "id": "oYkx1WVRee2u"
      },
      "source": [
        "A Boolean literal can have any of the two values: True or False.\n"
      ]
    },
    {
      "cell_type": "markdown",
      "metadata": {
        "id": "6qyhOq6ueAR0"
      },
      "source": [
        "### Example 8: How to use boolean literals in Python?\n"
      ]
    },
    {
      "cell_type": "code",
      "metadata": {
        "colab": {
          "base_uri": "https://localhost:8080/"
        },
        "id": "jaahso6A1Xyy",
        "outputId": "f5cf4dd6-70b7-49af-f34c-fbbb1e52f51d"
      },
      "source": [
        "x = (21 == 20) \n",
        "y = False\n",
        "print(x)"
      ],
      "execution_count": null,
      "outputs": [
        {
          "output_type": "stream",
          "name": "stdout",
          "text": [
            "False\n"
          ]
        }
      ]
    },
    {
      "cell_type": "markdown",
      "metadata": {
        "id": "9dsBaOJSejGx"
      },
      "source": [
        "### Special literals"
      ]
    },
    {
      "cell_type": "markdown",
      "metadata": {
        "id": "ixw-0-fFeh5A"
      },
      "source": [
        "Python contains one special literal i.e. None. We use it to specify that the field has not been created.\n",
        "\n"
      ]
    },
    {
      "cell_type": "markdown",
      "metadata": {
        "id": "qdNLSNBpe4qb"
      },
      "source": [
        "Example 9: How to use special literals in Python?\n"
      ]
    },
    {
      "cell_type": "code",
      "metadata": {
        "colab": {
          "base_uri": "https://localhost:8080/"
        },
        "id": "ilJPS_wr1qqE",
        "outputId": "b720916b-066a-4c9a-a9a5-8ff81a6f39e5"
      },
      "source": [
        "f = None\n",
        "print(f)"
      ],
      "execution_count": null,
      "outputs": [
        {
          "output_type": "stream",
          "name": "stdout",
          "text": [
            "None\n"
          ]
        }
      ]
    },
    {
      "cell_type": "code",
      "metadata": {
        "colab": {
          "base_uri": "https://localhost:8080/"
        },
        "id": "yGrjGE4Ye5Xb",
        "outputId": "e6ccd400-a5b1-4804-c17e-052a6b38f195"
      },
      "source": [
        ""
      ],
      "execution_count": null,
      "outputs": [
        {
          "output_type": "stream",
          "name": "stdout",
          "text": [
            "Available\n",
            "None\n"
          ]
        }
      ]
    },
    {
      "cell_type": "markdown",
      "metadata": {
        "id": "_tK3xOFTesF6"
      },
      "source": [
        "### Literal Collections\n"
      ]
    },
    {
      "cell_type": "markdown",
      "metadata": {
        "id": "zBoyYLwPexRp"
      },
      "source": [
        "Example 10: How to use literals collections in Python?\n"
      ]
    },
    {
      "cell_type": "code",
      "metadata": {
        "colab": {
          "base_uri": "https://localhost:8080/"
        },
        "id": "Z76JRtcaeCu2",
        "outputId": "253f50d3-e430-4b7f-8d16-0c779c7771f1"
      },
      "source": [
        "a = ['apple','mango',\"orange\"]#list\n",
        "b = (1,32,3)#tuple\n",
        "vowels = {'a','b','c','d'}#dictionary\n",
        "apl = {'a' : 'apple','b' :'banana','c':'cat'}#set\n",
        "print(a)\n",
        "print(b)\n",
        "print(vowels)\n",
        "print(apl)"
      ],
      "execution_count": null,
      "outputs": [
        {
          "output_type": "stream",
          "name": "stdout",
          "text": [
            "['apple', 'mango', 'orange']\n",
            "(1, 32, 3)\n",
            "{'a', 'c', 'b', 'd'}\n",
            "{'a': 'apple', 'b': 'banana', 'c': 'cat'}\n"
          ]
        }
      ]
    }
  ]
}
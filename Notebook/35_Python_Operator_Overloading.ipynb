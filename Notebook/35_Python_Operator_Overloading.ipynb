{
  "nbformat": 4,
  "nbformat_minor": 0,
  "metadata": {
    "colab": {
      "name": "35- Python Operator Overloading.ipynb",
      "provenance": []
    },
    "kernelspec": {
      "name": "python3",
      "display_name": "Python 3"
    },
    "language_info": {
      "name": "python"
    }
  },
  "cells": [
    {
      "cell_type": "markdown",
      "metadata": {
        "id": "xIfT6_LpYfR4"
      },
      "source": [
        "### Python Operator Overloading\n",
        "Python operators work for built-in classes. But the same operator behaves differently with different types. For example, the + operator will perform arithmetic addition on two numbers, merge two lists, or concatenate two strings.\n",
        "\n",
        "This feature in Python that allows the same operator to have different meaning according to the context is called operator overloading.\n",
        "\n",
        "So what happens when we use them with objects of a user-defined class? Let us consider the following class, which tries to simulate a point in 2-D coordinate system."
      ]
    },
    {
      "cell_type": "code",
      "metadata": {
        "colab": {
          "base_uri": "https://localhost:8080/",
          "height": 197
        },
        "id": "wcyUBR0FYcPL",
        "outputId": "ca06624d-8a43-4fc2-8521-d681159ab051"
      },
      "source": [
        "class Point:\n",
        "    def __init__(self, x=0, y=0):\n",
        "        self.x = x\n",
        "        self.y = y\n",
        "\n",
        "\n",
        "p1 = Point(1, 2)\n",
        "p2 = Point(2, 3)\n",
        "print(p1+p2)"
      ],
      "execution_count": 1,
      "outputs": [
        {
          "output_type": "error",
          "ename": "TypeError",
          "evalue": "ignored",
          "traceback": [
            "\u001b[0;31m---------------------------------------------------------------------------\u001b[0m",
            "\u001b[0;31mTypeError\u001b[0m                                 Traceback (most recent call last)",
            "\u001b[0;32m<ipython-input-1-117bb3bdfa23>\u001b[0m in \u001b[0;36m<module>\u001b[0;34m()\u001b[0m\n\u001b[1;32m      7\u001b[0m \u001b[0mp1\u001b[0m \u001b[0;34m=\u001b[0m \u001b[0mPoint\u001b[0m\u001b[0;34m(\u001b[0m\u001b[0;36m1\u001b[0m\u001b[0;34m,\u001b[0m \u001b[0;36m2\u001b[0m\u001b[0;34m)\u001b[0m\u001b[0;34m\u001b[0m\u001b[0;34m\u001b[0m\u001b[0m\n\u001b[1;32m      8\u001b[0m \u001b[0mp2\u001b[0m \u001b[0;34m=\u001b[0m \u001b[0mPoint\u001b[0m\u001b[0;34m(\u001b[0m\u001b[0;36m2\u001b[0m\u001b[0;34m,\u001b[0m \u001b[0;36m3\u001b[0m\u001b[0;34m)\u001b[0m\u001b[0;34m\u001b[0m\u001b[0;34m\u001b[0m\u001b[0m\n\u001b[0;32m----> 9\u001b[0;31m \u001b[0mprint\u001b[0m\u001b[0;34m(\u001b[0m\u001b[0mp1\u001b[0m\u001b[0;34m+\u001b[0m\u001b[0mp2\u001b[0m\u001b[0;34m)\u001b[0m\u001b[0;34m\u001b[0m\u001b[0;34m\u001b[0m\u001b[0m\n\u001b[0m",
            "\u001b[0;31mTypeError\u001b[0m: unsupported operand type(s) for +: 'Point' and 'Point'"
          ]
        }
      ]
    },
    {
      "cell_type": "markdown",
      "metadata": {
        "id": "gU6xyDzJYilX"
      },
      "source": [
        "Python Special Functions\n",
        "Class functions that begin with double underscore __ are called special functions in Python.\n",
        "\n",
        "These functions are not the typical functions that we define for a class. The __init__() function we defined above is one of them. It gets called every time we create a new object of that class.\n",
        "\n",
        "There are numerous other special functions in Python. Visit Python Special Functions to learn more about them.\n",
        "\n",
        "Using special functions, we can make our class compatible with built-in functions."
      ]
    },
    {
      "cell_type": "code",
      "metadata": {
        "colab": {
          "base_uri": "https://localhost:8080/"
        },
        "id": "IMj4cZ2iYg4k",
        "outputId": "43c35283-13e1-4d0b-d307-cff4bf59f797"
      },
      "source": [
        "p1 = Point(2,3)\n",
        "print(p1)"
      ],
      "execution_count": 2,
      "outputs": [
        {
          "output_type": "stream",
          "name": "stdout",
          "text": [
            "<__main__.Point object at 0x7f73717f3650>\n"
          ]
        }
      ]
    },
    {
      "cell_type": "markdown",
      "metadata": {
        "id": "-5HcV2l0Ypvv"
      },
      "source": [
        "Suppose we want the print() function to print the coordinates of the Point object instead of what we got. We can define a __str__() method in our class that controls how the object gets printed. Let's look at how we can achieve this:\n",
        "\n"
      ]
    },
    {
      "cell_type": "code",
      "metadata": {
        "id": "yPSDoOJaYniW"
      },
      "source": [
        "class Point:\n",
        "    def __init__(self, x = 0, y = 0):\n",
        "        self.x = x\n",
        "        self.y = y\n",
        "    \n",
        "    def __str__(self):\n",
        "        return \"({0},{1})\".format(self.x,self.y)"
      ],
      "execution_count": 3,
      "outputs": []
    },
    {
      "cell_type": "markdown",
      "metadata": {
        "id": "-h2LQCHaYrmd"
      },
      "source": [
        "Now let's try the print() function again.\n",
        "\n"
      ]
    },
    {
      "cell_type": "code",
      "metadata": {
        "colab": {
          "base_uri": "https://localhost:8080/"
        },
        "id": "53-HQGvUYovo",
        "outputId": "cd6765c9-f733-4dd4-f6f8-4c54c6c3859e"
      },
      "source": [
        "class Point:\n",
        "    def __init__(self, x=0, y=0):\n",
        "        self.x = x\n",
        "        self.y = y\n",
        "\n",
        "    def __str__(self):\n",
        "        return \"({0}, {1})\".format(self.x, self.y)\n",
        "\n",
        "\n",
        "p1 = Point(2, 3)\n",
        "print(p1)"
      ],
      "execution_count": 4,
      "outputs": [
        {
          "output_type": "stream",
          "name": "stdout",
          "text": [
            "(2, 3)\n"
          ]
        }
      ]
    },
    {
      "cell_type": "markdown",
      "metadata": {
        "id": "HP_7ARKNYulz"
      },
      "source": [
        "That's better. Turns out, that this same method is invoked when we use the built-in function str() or format().\n",
        "\n"
      ]
    },
    {
      "cell_type": "code",
      "metadata": {
        "colab": {
          "base_uri": "https://localhost:8080/",
          "height": 35
        },
        "id": "5p0G5QK-YsoZ",
        "outputId": "81cbb47d-1781-4a93-d4a8-ab78a296fc3a"
      },
      "source": [
        "str(p1)"
      ],
      "execution_count": 5,
      "outputs": [
        {
          "output_type": "execute_result",
          "data": {
            "application/vnd.google.colaboratory.intrinsic+json": {
              "type": "string"
            },
            "text/plain": [
              "'(2, 3)'"
            ]
          },
          "metadata": {},
          "execution_count": 5
        }
      ]
    },
    {
      "cell_type": "code",
      "metadata": {
        "colab": {
          "base_uri": "https://localhost:8080/",
          "height": 35
        },
        "id": "odE8EkAsYwVQ",
        "outputId": "119c557c-3bdf-48c4-c13a-733544c32f86"
      },
      "source": [
        "format(p1)"
      ],
      "execution_count": 6,
      "outputs": [
        {
          "output_type": "execute_result",
          "data": {
            "application/vnd.google.colaboratory.intrinsic+json": {
              "type": "string"
            },
            "text/plain": [
              "'(2, 3)'"
            ]
          },
          "metadata": {},
          "execution_count": 6
        }
      ]
    },
    {
      "cell_type": "markdown",
      "metadata": {
        "id": "odmwr2DdYzOH"
      },
      "source": [
        "So, when you use str(p1) or format(p1), Python internally calls the p1.__str__() method. Hence the name, special functions.\n",
        "\n",
        "Now let's go back to operator overloading."
      ]
    },
    {
      "cell_type": "markdown",
      "metadata": {
        "id": "lYtta9zHY1bD"
      },
      "source": [
        "### Overloading the + Operator\n"
      ]
    },
    {
      "cell_type": "markdown",
      "metadata": {
        "id": "kCMbZTdTY3ON"
      },
      "source": [
        "To overload the + operator, we will need to implement __add__() function in the class. With great power comes great responsibility. We can do whatever we like, inside this function. But it is more sensible to return a Point object of the coordinate sum.\n",
        "\n"
      ]
    },
    {
      "cell_type": "code",
      "metadata": {
        "id": "f1VQA5FfYysP"
      },
      "source": [
        "class Point:\n",
        "    def __init__(self, x=0, y=0):\n",
        "        self.x = x\n",
        "        self.y = y\n",
        "\n",
        "    def __str__(self):\n",
        "        return \"({0},{1})\".format(self.x, self.y)\n",
        "\n",
        "    def __add__(self, other):\n",
        "        x = self.x + other.x\n",
        "        y = self.y + other.y\n",
        "        return Point(x, y)"
      ],
      "execution_count": 8,
      "outputs": []
    },
    {
      "cell_type": "code",
      "metadata": {
        "colab": {
          "base_uri": "https://localhost:8080/"
        },
        "id": "FCJkC100Y4n2",
        "outputId": "d358d7bc-9332-4132-d6de-7e49abc4200d"
      },
      "source": [
        "class Point:\n",
        "    def __init__(self, x=0, y=0):\n",
        "        self.x = x\n",
        "        self.y = y\n",
        "\n",
        "    def __str__(self):\n",
        "        return \"({0},{1})\".format(self.x, self.y)\n",
        "\n",
        "    def __add__(self, other):\n",
        "        x = self.x + other.x\n",
        "        y = self.y + other.y\n",
        "        return Point(x, y)\n",
        "\n",
        "\n",
        "p1 = Point(1, 2)\n",
        "p2 = Point(2, 3)\n",
        "\n",
        "print(p1+p2)"
      ],
      "execution_count": 9,
      "outputs": [
        {
          "output_type": "stream",
          "name": "stdout",
          "text": [
            "(3,5)\n"
          ]
        }
      ]
    },
    {
      "cell_type": "markdown",
      "metadata": {
        "id": "1z1Kxn_IY7oB"
      },
      "source": [
        "What actually happens is that, when you use p1 + p2, Python calls p1.__add__(p2) which in turn is Point.__add__(p1,p2). After this, the addition operation is carried out the way we specified.\n",
        "\n",
        "Similarly, we can overload other operators as well. The special function that we need to implement is tabulated below."
      ]
    },
    {
      "cell_type": "markdown",
      "metadata": {
        "id": "ubyx2IlfY-cE"
      },
      "source": [
        "![image.png](data:image/png;base64,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)"
      ]
    },
    {
      "cell_type": "markdown",
      "metadata": {
        "id": "kKT7V5LTZAuv"
      },
      "source": [
        "### Overloading Comparison Operators\n"
      ]
    },
    {
      "cell_type": "markdown",
      "metadata": {
        "id": "llOFKEk6ZCkt"
      },
      "source": [
        "Python does not limit operator overloading to arithmetic operators only. We can overload comparison operators as well.\n",
        "\n",
        "Suppose we wanted to implement the less than symbol < symbol in our Point class.\n",
        "\n",
        "Let us compare the magnitude of these points from the origin and return the result for this purpose. It can be implemented as follows."
      ]
    },
    {
      "cell_type": "code",
      "metadata": {
        "colab": {
          "base_uri": "https://localhost:8080/"
        },
        "id": "YrOsisVgY5yu",
        "outputId": "f80f38bd-0e66-4356-8a5f-0cc5e2c29a1a"
      },
      "source": [
        "# overloading the less than operator\n",
        "class Point:\n",
        "    def __init__(self, x=0, y=0):\n",
        "        self.x = x\n",
        "        self.y = y\n",
        "\n",
        "    def __str__(self):\n",
        "        return \"({0},{1})\".format(self.x, self.y)\n",
        "\n",
        "    def __lt__(self, other):\n",
        "        self_mag = (self.x ** 2) + (self.y ** 2)\n",
        "        other_mag = (other.x ** 2) + (other.y ** 2)\n",
        "        return self_mag < other_mag\n",
        "\n",
        "p1 = Point(1,1)\n",
        "p2 = Point(-2,-3)\n",
        "p3 = Point(1,-1)\n",
        "\n",
        "# use less than\n",
        "print(p1<p2)\n",
        "print(p2<p3)\n",
        "print(p1<p3)"
      ],
      "execution_count": 10,
      "outputs": [
        {
          "output_type": "stream",
          "name": "stdout",
          "text": [
            "True\n",
            "False\n",
            "False\n"
          ]
        }
      ]
    },
    {
      "cell_type": "markdown",
      "metadata": {
        "id": "sNSaogiWZGIY"
      },
      "source": [
        "![image.png](data:image/png;base64,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)"
      ]
    }
  ]
}
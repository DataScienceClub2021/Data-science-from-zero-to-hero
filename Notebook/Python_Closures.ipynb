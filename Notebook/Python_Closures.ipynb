{
  "nbformat": 4,
  "nbformat_minor": 0,
  "metadata": {
    "colab": {
      "name": "Python Closures.ipynb",
      "provenance": [],
      "collapsed_sections": []
    },
    "kernelspec": {
      "name": "python3",
      "display_name": "Python 3"
    },
    "language_info": {
      "name": "python"
    }
  },
  "cells": [
    {
      "cell_type": "markdown",
      "source": [
        "## Nonlocal variable in a nested function\n",
        "Before getting into what a closure is, we have to first understand what a nested function and nonlocal variable is.\n",
        "\n",
        "A function defined inside another function is called a nested function. Nested functions can access variables of the enclosing scope.\n",
        "\n",
        "In Python, these non-local variables are read-only by default and we must declare them explicitly as non-local (using nonlocal keyword) in order to modify them.\n",
        "\n",
        "Following is an example of a nested function accessing a non-local variable."
      ],
      "metadata": {
        "id": "EzQwrKtAwv4L"
      }
    },
    {
      "cell_type": "code",
      "execution_count": null,
      "metadata": {
        "colab": {
          "base_uri": "https://localhost:8080/"
        },
        "id": "uqPD_b2Swp3c",
        "outputId": "24b44aa6-4111-451c-d421-805bd95a5c31"
      },
      "outputs": [
        {
          "output_type": "stream",
          "name": "stdout",
          "text": [
            "Hello\n"
          ]
        }
      ],
      "source": [
        "def print_msg(msg):\n",
        "    # This is the outer enclosing function\n",
        "\n",
        "    def printer():\n",
        "        # This is the nested function\n",
        "        print(msg)\n",
        "\n",
        "    printer()\n",
        "\n",
        "# We execute the function\n",
        "# Output: Hello\n",
        "print_msg(\"Hello\")\n"
      ]
    },
    {
      "cell_type": "markdown",
      "source": [
        "We can see that the nested printer() function was able to access the non-local msg variable of the enclosing function.\n",
        "\n"
      ],
      "metadata": {
        "id": "_JI5AA1dw92N"
      }
    },
    {
      "cell_type": "markdown",
      "source": [
        "## Defining a Closure Function\n"
      ],
      "metadata": {
        "id": "V119k6LKw_ig"
      }
    },
    {
      "cell_type": "markdown",
      "source": [
        "In the example above, what would happen if the last line of the function print_msg() returned the printer() function instead of calling it? This means the function was defined as follows:\n",
        "\n"
      ],
      "metadata": {
        "id": "Aqr0Iyr8xCp7"
      }
    },
    {
      "cell_type": "code",
      "source": [
        "def print_msg(msg):\n",
        "    # This is the outer enclosing function\n",
        "\n",
        "    def printer():\n",
        "        # This is the nested function\n",
        "        print(msg)\n",
        "\n",
        "    return printer  # returns the nested function\n",
        "\n",
        "\n",
        "# Now let's try calling this function.\n",
        "# Output: Hello\n",
        "another = print_msg(\"Hello\")\n",
        "another()"
      ],
      "metadata": {
        "colab": {
          "base_uri": "https://localhost:8080/"
        },
        "id": "PmudIBQzxDNN",
        "outputId": "fbc051b2-80c0-43f9-bb3b-6d4121c73ffb"
      },
      "execution_count": null,
      "outputs": [
        {
          "output_type": "stream",
          "name": "stdout",
          "text": [
            "Hello\n"
          ]
        }
      ]
    },
    {
      "cell_type": "markdown",
      "source": [
        "\n",
        "The print_msg() function was called with the string \"Hello\" and the returned function was bound to the name another. On calling another(), the message was still remembered although we had already finished executing the print_msg() function.\n",
        "\n",
        "This technique by which some data (\"Hello in this case) gets attached to the code is called closure in Python.\n",
        "\n",
        "This value in the enclosing scope is remembered even when the variable goes out of scope or the function itself is removed from the current namespace.\n",
        "\n",
        "Try running the following in the Python shell to see the output."
      ],
      "metadata": {
        "id": "kXAU4bOlxPTf"
      }
    },
    {
      "cell_type": "markdown",
      "source": [
        "When do we have closures?\n",
        "As seen from the above example, we have a closure in Python when a nested function references a value in its enclosing scope.\n",
        "\n",
        "The criteria that must be met to create closure in Python are summarized in the following points.\n",
        "\n",
        "* We must have a nested function (function inside a function).\n",
        "* The nested function must refer to a value defined in the enclosing function.\n",
        "* The enclosing function must return the nested function."
      ],
      "metadata": {
        "id": "777Nj3xFxpKf"
      }
    },
    {
      "cell_type": "markdown",
      "source": [
        "## When to use closures?\n",
        "So what are closures good for?\n",
        "\n",
        "Closures can avoid the use of global values and provides some form of data hiding. It can also provide an object oriented solution to the problem.\n",
        "\n",
        "When there are few methods (one method in most cases) to be implemented in a class, closures can provide an alternate and more elegant solution. But when the number of attributes and methods get larger, it's better to implement a class.\n",
        "\n",
        "Here is a simple example where a closure might be more preferable than defining a class and making objects. But the preference is all yours."
      ],
      "metadata": {
        "id": "eMDITg-xxw5F"
      }
    },
    {
      "cell_type": "code",
      "source": [
        "def make_multiplier_of(n):\n",
        "    def multiplier(x):\n",
        "        return x * n\n",
        "    return multiplier\n",
        "\n",
        "\n",
        "# Multiplier of 3\n",
        "times3 = make_multiplier_of(3)\n",
        "\n",
        "# Multiplier of 5\n",
        "times5 = make_multiplier_of(5)\n",
        "\n",
        "# Output: 27\n",
        "print(times3(9))\n",
        "\n",
        "# Output: 15\n",
        "print(times5(3))\n",
        "\n",
        "# Output: 30\n",
        "print(times5(times3(2)))"
      ],
      "metadata": {
        "colab": {
          "base_uri": "https://localhost:8080/"
        },
        "id": "5tkxNQbyxFYr",
        "outputId": "da0e5a4e-b2b4-43da-897f-5290b2fe8575"
      },
      "execution_count": null,
      "outputs": [
        {
          "output_type": "stream",
          "name": "stdout",
          "text": [
            "27\n",
            "15\n",
            "30\n"
          ]
        }
      ]
    },
    {
      "cell_type": "markdown",
      "source": [
        "Python Decorators make an extensive use of closures as well.\n",
        "\n",
        "On a concluding note, it is good to point out that the values that get enclosed in the closure function can be found out.\n",
        "\n",
        "All function objects have a __closure__ attribute that returns a tuple of cell objects if it is a closure function. Referring to the example above, we know times3 and times5 are closure functions."
      ],
      "metadata": {
        "id": "c3Y2u-ORyIyD"
      }
    },
    {
      "cell_type": "code",
      "source": [
        "make_multiplier_of.__closure__"
      ],
      "metadata": {
        "id": "Et9Q1mNwyG1G"
      },
      "execution_count": null,
      "outputs": []
    },
    {
      "cell_type": "code",
      "source": [
        "times3.__closure__"
      ],
      "metadata": {
        "colab": {
          "base_uri": "https://localhost:8080/"
        },
        "id": "ueT1-nI7yLjD",
        "outputId": "db529389-fec4-4c1f-8e2c-ccd30473557c"
      },
      "execution_count": null,
      "outputs": [
        {
          "output_type": "execute_result",
          "data": {
            "text/plain": [
              "(<cell at 0x7f572fb5b690: int object at 0x55a81ca4ca40>,)"
            ]
          },
          "metadata": {},
          "execution_count": 5
        }
      ]
    },
    {
      "cell_type": "code",
      "source": [
        "times3.__closure__[0].cell_contents"
      ],
      "metadata": {
        "colab": {
          "base_uri": "https://localhost:8080/"
        },
        "id": "HmXwqLeNyMy2",
        "outputId": "90073f3a-1ecf-442c-d104-bedd417dfcc8"
      },
      "execution_count": null,
      "outputs": [
        {
          "output_type": "execute_result",
          "data": {
            "text/plain": [
              "3"
            ]
          },
          "metadata": {},
          "execution_count": 6
        }
      ]
    },
    {
      "cell_type": "code",
      "source": [
        "times5.__closure__[0].cell_contents"
      ],
      "metadata": {
        "colab": {
          "base_uri": "https://localhost:8080/"
        },
        "id": "rzJV06fkyPNC",
        "outputId": "dbc93122-6012-4937-cd88-11bbcf9e8f9c"
      },
      "execution_count": null,
      "outputs": [
        {
          "output_type": "execute_result",
          "data": {
            "text/plain": [
              "5"
            ]
          },
          "metadata": {},
          "execution_count": 7
        }
      ]
    },
    {
      "cell_type": "code",
      "source": [
        ""
      ],
      "metadata": {
        "id": "cE7wPn63yQZS"
      },
      "execution_count": null,
      "outputs": []
    }
  ]
}
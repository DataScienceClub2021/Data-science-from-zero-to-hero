{
  "nbformat": 4,
  "nbformat_minor": 0,
  "metadata": {
    "colab": {
      "name": "6- Python Input, Output and Import.ipynb",
      "provenance": []
    },
    "kernelspec": {
      "name": "python3",
      "display_name": "Python 3"
    },
    "language_info": {
      "name": "python"
    }
  },
  "cells": [
    {
      "cell_type": "markdown",
      "metadata": {
        "id": "SdriWJXk_mEp"
      },
      "source": [
        "####Python Output\n",
        " Using print() function\n",
        "We use the print() function to output data to the standard output device (screen). We can also output data to a file, but this will be discussed later.\n",
        "\n",
        "An example of its use is given below."
      ]
    },
    {
      "cell_type": "code",
      "metadata": {
        "colab": {
          "base_uri": "https://localhost:8080/"
        },
        "id": "Dg64hRIZ_fQO",
        "outputId": "1f9babfd-8d25-4f83-f3ef-fd421a1cee27"
      },
      "source": [
        "print('This sentence is output to the screen')"
      ],
      "execution_count": null,
      "outputs": [
        {
          "output_type": "stream",
          "name": "stdout",
          "text": [
            "This sentence is output to the screen\n"
          ]
        }
      ]
    },
    {
      "cell_type": "code",
      "metadata": {
        "colab": {
          "base_uri": "https://localhost:8080/"
        },
        "id": "4RM8Jkj5_pcS",
        "outputId": "ac8ef250-8c7a-4cb8-86d9-3c71be31ae81"
      },
      "source": [
        "a = 5\n",
        "print('The value of a is', a)"
      ],
      "execution_count": null,
      "outputs": [
        {
          "output_type": "stream",
          "name": "stdout",
          "text": [
            "The value of a is 5\n"
          ]
        }
      ]
    },
    {
      "cell_type": "code",
      "metadata": {
        "colab": {
          "base_uri": "https://localhost:8080/"
        },
        "id": "1BxvjJVd_toG",
        "outputId": "83bfdf39-dfd2-433b-8a46-08d59bcbd035"
      },
      "source": [
        "print(1, 2, 3, 4)\n",
        "print(1, 2, 3, 4, sep='*')\n",
        "print(1, 2, 3, 4, sep='#', end='&')"
      ],
      "execution_count": null,
      "outputs": [
        {
          "output_type": "stream",
          "name": "stdout",
          "text": [
            "1 2 3 4\n",
            "1*2*3*4\n",
            "1#2#3#4&"
          ]
        }
      ]
    },
    {
      "cell_type": "markdown",
      "metadata": {
        "id": "otl0S-jx_7WP"
      },
      "source": [
        "### Output formatting\n",
        "Sometimes we would like to format our output to make it look attractive. This can be done by using the str.format() method. This method is visible to any string object."
      ]
    },
    {
      "cell_type": "code",
      "metadata": {
        "colab": {
          "base_uri": "https://localhost:8080/"
        },
        "id": "XN8PRCLa_0bY",
        "outputId": "0076e7b8-f814-4d4f-e196-52303a0898d2"
      },
      "source": [
        "print('I love {0} and {1}'.format('bread','butter'))\n",
        "print('I love {1} and {0}'.format('bread','butter'))"
      ],
      "execution_count": null,
      "outputs": [
        {
          "output_type": "stream",
          "name": "stdout",
          "text": [
            "I love bread and butter\n",
            "I love butter and bread\n"
          ]
        }
      ]
    },
    {
      "cell_type": "code",
      "metadata": {
        "colab": {
          "base_uri": "https://localhost:8080/"
        },
        "id": "gtngH3RGAAuD",
        "outputId": "4b546dca-4714-43f7-f9bd-83f3f19e5a3d"
      },
      "source": [
        "print('Hello {name}, {greeting}'.format(greeting = 'Goodmorning', name = 'John'))\n"
      ],
      "execution_count": null,
      "outputs": [
        {
          "output_type": "stream",
          "name": "stdout",
          "text": [
            "Hello John, Goodmorning\n"
          ]
        }
      ]
    },
    {
      "cell_type": "code",
      "metadata": {
        "id": "sh_8y1xIADwX"
      },
      "source": [
        "x = 12.3456789"
      ],
      "execution_count": null,
      "outputs": []
    },
    {
      "cell_type": "code",
      "metadata": {
        "colab": {
          "base_uri": "https://localhost:8080/"
        },
        "id": "PBJTPPWrAGsF",
        "outputId": "54637581-4929-43af-bc1a-1446b94cc630"
      },
      "source": [
        "print('The value of x is %3.2f' %x)"
      ],
      "execution_count": null,
      "outputs": [
        {
          "output_type": "stream",
          "name": "stdout",
          "text": [
            "The value of x is 12.35\n"
          ]
        }
      ]
    },
    {
      "cell_type": "code",
      "metadata": {
        "colab": {
          "base_uri": "https://localhost:8080/"
        },
        "id": "-FoFvg8-AIAN",
        "outputId": "777b8fd7-7629-4a0f-f346-b1c58e6df85c"
      },
      "source": [
        "print('The value of x is %3.4f' %x)"
      ],
      "execution_count": null,
      "outputs": [
        {
          "output_type": "stream",
          "name": "stdout",
          "text": [
            "The value of x is 12.3457\n"
          ]
        }
      ]
    },
    {
      "cell_type": "markdown",
      "metadata": {
        "id": "b9v37WbA7ypG"
      },
      "source": [
        "#### Python Input\n"
      ]
    },
    {
      "cell_type": "markdown",
      "metadata": {
        "id": "ipNlu8Cq70w5"
      },
      "source": [
        "Up until now, our programs were static. The value of variables was defined or hard coded into the source code.\n",
        "\n",
        "To allow flexibility, we might want to take the input from the user. In Python, we have the input() function to allow this. The syntax for input() is:"
      ]
    },
    {
      "cell_type": "code",
      "metadata": {
        "id": "kFcEQzC074Av"
      },
      "source": [
        "num = input('Enter a number: ')"
      ],
      "execution_count": null,
      "outputs": []
    },
    {
      "cell_type": "code",
      "metadata": {
        "id": "hUC-V24p770e"
      },
      "source": [
        "int('10')"
      ],
      "execution_count": null,
      "outputs": []
    },
    {
      "cell_type": "code",
      "metadata": {
        "id": "3ruTydcy780J"
      },
      "source": [
        "float('10')"
      ],
      "execution_count": null,
      "outputs": []
    },
    {
      "cell_type": "code",
      "metadata": {
        "id": "U1RL3bmU7-oP"
      },
      "source": [
        "int('2+3')"
      ],
      "execution_count": null,
      "outputs": []
    },
    {
      "cell_type": "code",
      "metadata": {
        "id": "3NpwOI7x7_n7"
      },
      "source": [
        "eval('2+3')"
      ],
      "execution_count": null,
      "outputs": []
    },
    {
      "cell_type": "markdown",
      "metadata": {
        "id": "_gEz28At8NRz"
      },
      "source": [
        "#### Python Import\n"
      ]
    },
    {
      "cell_type": "markdown",
      "metadata": {
        "id": "SCJuCORz8Pbs"
      },
      "source": [
        "When our program grows bigger, it is a good idea to break it into different modules.\n",
        "\n",
        "A module is a file containing Python definitions and statements. Python modules have a filename and end with the extension .py.\n",
        "\n",
        "Definitions inside a module can be imported to another module or the interactive interpreter in Python. We use the import keyword to do this.\n",
        "\n",
        "For example, we can import the math module by typing the following line:"
      ]
    },
    {
      "cell_type": "code",
      "metadata": {
        "colab": {
          "base_uri": "https://localhost:8080/"
        },
        "id": "F7uaUzB68SRt",
        "outputId": "5c0934a3-c20f-49a6-ca94-7da0be2cf3c0"
      },
      "source": [
        "import math\n",
        "print(math.pi)"
      ],
      "execution_count": 2,
      "outputs": [
        {
          "output_type": "stream",
          "name": "stdout",
          "text": [
            "3.141592653589793\n"
          ]
        }
      ]
    },
    {
      "cell_type": "code",
      "metadata": {
        "id": "R5igYaFf8Usy"
      },
      "source": [
        "from math import pi"
      ],
      "execution_count": 1,
      "outputs": []
    },
    {
      "cell_type": "code",
      "metadata": {
        "colab": {
          "base_uri": "https://localhost:8080/"
        },
        "id": "Uax2Vv9n8U5t",
        "outputId": "9f871ba4-da02-45f9-e903-70bda2220e66"
      },
      "source": [
        "pi"
      ],
      "execution_count": 3,
      "outputs": [
        {
          "output_type": "execute_result",
          "data": {
            "text/plain": [
              "3.141592653589793"
            ]
          },
          "metadata": {},
          "execution_count": 3
        }
      ]
    },
    {
      "cell_type": "markdown",
      "metadata": {
        "id": "vfDI1RfV8epq"
      },
      "source": [
        "While importing a module, Python looks at several places defined in sys.path. It is a list of directory locations.\n",
        "\n"
      ]
    },
    {
      "cell_type": "code",
      "metadata": {
        "colab": {
          "base_uri": "https://localhost:8080/"
        },
        "id": "5l2Gp4wu8Xx0",
        "outputId": "df88a4a3-7593-4c87-c35e-de352660c657"
      },
      "source": [
        "import sys\n",
        "sys.path"
      ],
      "execution_count": 4,
      "outputs": [
        {
          "output_type": "execute_result",
          "data": {
            "text/plain": [
              "['',\n",
              " '/content',\n",
              " '/env/python',\n",
              " '/usr/lib/python37.zip',\n",
              " '/usr/lib/python3.7',\n",
              " '/usr/lib/python3.7/lib-dynload',\n",
              " '/usr/local/lib/python3.7/dist-packages',\n",
              " '/usr/lib/python3/dist-packages',\n",
              " '/usr/local/lib/python3.7/dist-packages/IPython/extensions',\n",
              " '/root/.ipython']"
            ]
          },
          "metadata": {},
          "execution_count": 4
        }
      ]
    },
    {
      "cell_type": "code",
      "metadata": {
        "id": "mXbqNY1s9NNF"
      },
      "source": [
        ""
      ],
      "execution_count": null,
      "outputs": []
    }
  ]
}
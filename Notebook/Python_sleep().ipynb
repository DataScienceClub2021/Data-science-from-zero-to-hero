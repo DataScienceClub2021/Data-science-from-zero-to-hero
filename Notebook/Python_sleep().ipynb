{
  "nbformat": 4,
  "nbformat_minor": 0,
  "metadata": {
    "colab": {
      "name": "Python sleep().ipynb",
      "provenance": [],
      "collapsed_sections": []
    },
    "kernelspec": {
      "name": "python3",
      "display_name": "Python 3"
    },
    "language_info": {
      "name": "python"
    }
  },
  "cells": [
    {
      "cell_type": "markdown",
      "source": [
        "The sleep() function suspends (waits) execution of the current thread for a given number of seconds.\n",
        "\n",
        "Python has a module named time which provides several useful functions to handle time-related tasks. One of the popular functions among them is sleep().\n",
        "\n",
        "The sleep() function suspends execution of the current thread for a given number of seconds."
      ],
      "metadata": {
        "id": "vUw0ykw4l8lz"
      }
    },
    {
      "cell_type": "markdown",
      "source": [
        "### Example 1: Python sleep()\n"
      ],
      "metadata": {
        "id": "mGiFB7J6l-vl"
      }
    },
    {
      "cell_type": "code",
      "execution_count": null,
      "metadata": {
        "colab": {
          "base_uri": "https://localhost:8080/"
        },
        "id": "l2Cqk0Uul6Ih",
        "outputId": "7202d5b7-ce52-4a75-fbc2-b531c23b6d19"
      },
      "outputs": [
        {
          "output_type": "stream",
          "name": "stdout",
          "text": [
            "Printed immediately.\n",
            "Printed after 2.4 seconds.\n"
          ]
        }
      ],
      "source": [
        "import time\n",
        "\n",
        "print(\"Printed immediately.\")\n",
        "time.sleep(2.4)\n",
        "print(\"Printed after 2.4 seconds.\")"
      ]
    },
    {
      "cell_type": "markdown",
      "source": [
        "Here's how this program works:\n",
        "\n",
        "* \"Printed immediately\" is printed\n",
        "* Suspends (Delays) execution for 2.4 seconds.\n",
        "* \"Printed after 2.4 seconds\" is printed.\n",
        "\n",
        "As you can see from the above example, sleep() takes a floating-point number as an argument.\n",
        "\n",
        "Before Python 3.5, the actual suspension time may be less than the argument specified to the time() function.\n",
        "\n",
        "Since Python 3.5, the suspension time will be at least the seconds specified."
      ],
      "metadata": {
        "id": "BjAOqT7xmEdE"
      }
    },
    {
      "cell_type": "markdown",
      "source": [
        "### Example 2: Python create a digital clock\n"
      ],
      "metadata": {
        "id": "KKf4nsV-mLjA"
      }
    },
    {
      "cell_type": "code",
      "source": [
        "import time\n",
        "\n",
        "while True:\n",
        "  localtime = time.localtime()\n",
        "  result = time.strftime(\"%I:%M:%S %p\", localtime)\n",
        "  print(result)\n",
        "  time.sleep(1)"
      ],
      "metadata": {
        "id": "mdHXNFHdmBIV"
      },
      "execution_count": null,
      "outputs": []
    },
    {
      "cell_type": "markdown",
      "source": [
        "In the above program, we computed and printed the current local time inside the infinite while loop. Then, the program waits for 1 second. Again, the current local time is computed and printed. This process goes on.\n",
        "\n",
        "When you run the program, the output will be something like:"
      ],
      "metadata": {
        "id": "SDnjFVcrmNqh"
      }
    },
    {
      "cell_type": "code",
      "source": [
        "import time\n",
        "\n",
        "while True:\n",
        "  localtime = time.localtime()\n",
        "  result = time.strftime(\"%I:%M:%S %p\", localtime)\n",
        "  print(result, end=\"\", flush=True)\n",
        "  print(\"\\r\", end=\"\", flush=True)\n",
        "  time.sleep(1)"
      ],
      "metadata": {
        "colab": {
          "base_uri": "https://localhost:8080/"
        },
        "id": "7qfyh61JmN5M",
        "outputId": "d04fc9b4-47e4-4aff-e7c7-dccf65352bc4"
      },
      "execution_count": null,
      "outputs": [
        {
          "output_type": "stream",
          "name": "stdout",
          "text": [
            ""
          ]
        }
      ]
    },
    {
      "cell_type": "markdown",
      "source": [
        "### Multithreading in Python\n"
      ],
      "metadata": {
        "id": "hnj65FkHmRF9"
      }
    },
    {
      "cell_type": "markdown",
      "source": [
        "Before talking about sleep() in multithreaded programs, let's talk about processes and threads."
      ],
      "metadata": {
        "id": "MzxDVGqumS17"
      }
    },
    {
      "cell_type": "markdown",
      "source": [
        "A computer program is a collection of instructions. A process is the execution of those instructions.\n",
        "\n",
        "A thread is a subset of the process. A process can have one or more threads."
      ],
      "metadata": {
        "id": "BGRhTVUvmUKg"
      }
    },
    {
      "cell_type": "markdown",
      "source": [
        "### Example 3: Python multithreading\n",
        "All the programs above in this article are single-threaded programs. Here's an example of a multithreaded Python program."
      ],
      "metadata": {
        "id": "LqFsHZGhmV76"
      }
    },
    {
      "cell_type": "code",
      "source": [
        "\n",
        "import threading \n",
        "  \n",
        "def print_hello_three_times():\n",
        "  for i in range(3):\n",
        "    print(\"Hello\")\n",
        "  \n",
        "def print_hi_three_times(): \n",
        "    for i in range(3): \n",
        "      print(\"Hi\") \n",
        "\n",
        "t1 = threading.Thread(target=print_hello_three_times)  \n",
        "t2 = threading.Thread(target=print_hi_three_times)  \n",
        "\n",
        "t1.start()\n",
        "t2.start()"
      ],
      "metadata": {
        "id": "bzS5XtRgmPqE"
      },
      "execution_count": null,
      "outputs": []
    },
    {
      "cell_type": "markdown",
      "source": [
        "### time.sleep() in multithreaded programs\n",
        "The sleep() function suspends execution of the current thread for a given number of seconds.\n",
        "\n",
        "In case of single-threaded programs, sleep() suspends execution of the thread and process. However, the function suspends a thread rather than the whole process in multithreaded programs"
      ],
      "metadata": {
        "id": "ErNBSAQamanL"
      }
    },
    {
      "cell_type": "markdown",
      "source": [
        "### Example 4: sleep() in a multithreaded program\n"
      ],
      "metadata": {
        "id": "kiNtg__GmeAO"
      }
    },
    {
      "cell_type": "code",
      "source": [
        "import threading \n",
        "import time\n",
        "  \n",
        "def print_hello():\n",
        "  for i in range(4):\n",
        "    time.sleep(0.5)\n",
        "    print(\"Hello\")\n",
        "  \n",
        "def print_hi(): \n",
        "    for i in range(4): \n",
        "      time.sleep(0.7)\n",
        "      print(\"Hi\") \n",
        "\n",
        "t1 = threading.Thread(target=print_hello)  \n",
        "t2 = threading.Thread(target=print_hi)  \n",
        "t1.start()\n",
        "t2.start()"
      ],
      "metadata": {
        "id": "eqwBY0OkmYgH"
      },
      "execution_count": null,
      "outputs": []
    },
    {
      "cell_type": "markdown",
      "source": [
        "The above program has two threads. We have used time.sleep(0.5) and time.sleep(0.75) to suspend execution of these two threads for 0.5 seconds and 0.7 seconds respectively.\n",
        "\n"
      ],
      "metadata": {
        "id": "bAEgCGFAmjD2"
      }
    }
  ]
}
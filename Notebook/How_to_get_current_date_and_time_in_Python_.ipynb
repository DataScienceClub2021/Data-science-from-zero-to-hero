{
  "nbformat": 4,
  "nbformat_minor": 0,
  "metadata": {
    "colab": {
      "name": "How to get current date and time in Python?.ipynb",
      "provenance": [],
      "collapsed_sections": []
    },
    "kernelspec": {
      "name": "python3",
      "display_name": "Python 3"
    },
    "language_info": {
      "name": "python"
    }
  },
  "cells": [
    {
      "cell_type": "markdown",
      "source": [
        "There are a number of ways you can take to get the current date. We will use the date class of the datetime module to accomplish this task.\n",
        "\n"
      ],
      "metadata": {
        "id": "EAv9T9RHkZE2"
      }
    },
    {
      "cell_type": "markdown",
      "source": [
        "### Example 1: Python get today's date\n"
      ],
      "metadata": {
        "id": "gilnphtukbQ5"
      }
    },
    {
      "cell_type": "code",
      "execution_count": null,
      "metadata": {
        "colab": {
          "base_uri": "https://localhost:8080/"
        },
        "id": "WzjlPwsykWiF",
        "outputId": "0e81a6ee-a88e-443d-d9ba-12f0502ee053"
      },
      "outputs": [
        {
          "output_type": "stream",
          "name": "stdout",
          "text": [
            "Today's date: 2022-02-16\n"
          ]
        }
      ],
      "source": [
        "from datetime import date\n",
        "\n",
        "today = date.today()\n",
        "print(\"Today's date:\", today)\n"
      ]
    },
    {
      "cell_type": "markdown",
      "source": [
        "Here, we imported the date class from the datetime module. Then, we used the date.today() method to get the current local date.\n",
        "\n",
        "By the way, date.today() returns a date object, which is assigned to the today variable in the above program. Now, you can use the strftime() method to create a string representing date in different formats."
      ],
      "metadata": {
        "id": "CsK6MYNUkiXE"
      }
    },
    {
      "cell_type": "markdown",
      "source": [
        "### Example 2: Current date in different formats\n"
      ],
      "metadata": {
        "id": "ec6r86Hakj9E"
      }
    },
    {
      "cell_type": "code",
      "source": [
        "from datetime import date\n",
        "\n",
        "today = date.today()\n",
        "\n",
        "# dd/mm/YY\n",
        "d1 = today.strftime(\"%d/%m/%Y\")\n",
        "print(\"d1 =\", d1)\n",
        "\n",
        "# Textual month, day and year\t\n",
        "d2 = today.strftime(\"%B %d, %Y\")\n",
        "print(\"d2 =\", d2)\n",
        "\n",
        "# mm/dd/y\n",
        "d3 = today.strftime(\"%m/%d/%y\")\n",
        "print(\"d3 =\", d3)\n",
        "\n",
        "# Month abbreviation, day and year\t\n",
        "d4 = today.strftime(\"%b-%d-%Y\")\n",
        "print(\"d4 =\", d4)\n"
      ],
      "metadata": {
        "colab": {
          "base_uri": "https://localhost:8080/"
        },
        "id": "IYNk0FuXkdJw",
        "outputId": "ae21425a-9bc7-47a8-c748-d69f97c34120"
      },
      "execution_count": null,
      "outputs": [
        {
          "output_type": "stream",
          "name": "stdout",
          "text": [
            "d1 = 16/02/2022\n",
            "d2 = February 16, 2022\n",
            "d3 = 02/16/22\n",
            "d4 = Feb-16-2022\n"
          ]
        }
      ]
    },
    {
      "cell_type": "markdown",
      "source": [
        "### Example 3: Get the current date and time\n"
      ],
      "metadata": {
        "id": "AZI918wbknqJ"
      }
    },
    {
      "cell_type": "code",
      "source": [
        "from datetime import datetime\n",
        "\n",
        "# datetime object containing current date and time\n",
        "now = datetime.now()\n",
        " \n",
        "print(\"now =\", now)\n",
        "\n",
        "# dd/mm/YY H:M:S\n",
        "dt_string = now.strftime(\"%d/%m/%Y %H:%M:%S\")\n",
        "print(\"date and time =\", dt_string)\t\n"
      ],
      "metadata": {
        "id": "tAx8lkp1kl22",
        "outputId": "ff01f58e-fe0d-4e96-899f-5c288969fb82",
        "colab": {
          "base_uri": "https://localhost:8080/"
        }
      },
      "execution_count": null,
      "outputs": [
        {
          "output_type": "stream",
          "name": "stdout",
          "text": [
            "now = 2022-02-16 22:06:30.176254\n",
            "date and time = 16/02/2022 22:06:30\n"
          ]
        }
      ]
    },
    {
      "cell_type": "markdown",
      "source": [
        "Here, we have used datetime.now() to get the current date and time. Then, we used strftime() to create a string representing date and time in another format."
      ],
      "metadata": {
        "id": "KXejxBvbkq6k"
      }
    }
  ]
}
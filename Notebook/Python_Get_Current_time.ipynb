{
  "nbformat": 4,
  "nbformat_minor": 0,
  "metadata": {
    "colab": {
      "name": "Python Get Current time.ipynb",
      "provenance": [],
      "collapsed_sections": []
    },
    "kernelspec": {
      "name": "python3",
      "display_name": "Python 3"
    },
    "language_info": {
      "name": "python"
    }
  },
  "cells": [
    {
      "cell_type": "markdown",
      "source": [
        "### Example 1: Current time using datetime object\n"
      ],
      "metadata": {
        "id": "uN7gH7vnk8NC"
      }
    },
    {
      "cell_type": "code",
      "execution_count": null,
      "metadata": {
        "colab": {
          "base_uri": "https://localhost:8080/"
        },
        "id": "iHYtH5E-k15Y",
        "outputId": "23b0a157-b3d3-4635-b18e-0f4479481757"
      },
      "outputs": [
        {
          "output_type": "stream",
          "name": "stdout",
          "text": [
            "Current Time = 22:08:06\n"
          ]
        }
      ],
      "source": [
        "from datetime import datetime\n",
        "\n",
        "now = datetime.now()\n",
        "\n",
        "current_time = now.strftime(\"%H:%M:%S\")\n",
        "print(\"Current Time =\", current_time)"
      ]
    },
    {
      "cell_type": "markdown",
      "source": [
        "In the above example, we have imported datetime class from the datetime module. Then, we used now() method to get a datetime object containing current date and time.\n",
        "\n",
        "Using datetime.strftime() method, we then created a string representing current time."
      ],
      "metadata": {
        "id": "96Yp8didlABm"
      }
    },
    {
      "cell_type": "code",
      "source": [
        "from datetime import datetime\n",
        "\n",
        "now = datetime.now().time() # time object\n",
        "\n",
        "print(\"now =\", now)\n",
        "print(\"type(now) =\", type(now))\t\n"
      ],
      "metadata": {
        "colab": {
          "base_uri": "https://localhost:8080/"
        },
        "id": "JtrM7LJCk-UI",
        "outputId": "6c05577e-85d7-4636-ca33-f116cb1bcb06"
      },
      "execution_count": null,
      "outputs": [
        {
          "output_type": "stream",
          "name": "stdout",
          "text": [
            "now = 22:08:10.325940\n",
            "type(now) = <class 'datetime.time'>\n"
          ]
        }
      ]
    },
    {
      "cell_type": "markdown",
      "source": [
        "### Example 2: Current time using time module\n"
      ],
      "metadata": {
        "id": "BIxcXieTlCxx"
      }
    },
    {
      "cell_type": "code",
      "source": [
        "import time\n",
        "\n",
        "t = time.localtime()\n",
        "current_time = time.strftime(\"%H:%M:%S\", t)\n",
        "print(current_time)"
      ],
      "metadata": {
        "colab": {
          "base_uri": "https://localhost:8080/"
        },
        "id": "H2Q2HC0ilBaf",
        "outputId": "c44b0ab3-0647-4eb0-f8b2-3bbcdc721e0e"
      },
      "execution_count": null,
      "outputs": [
        {
          "output_type": "stream",
          "name": "stdout",
          "text": [
            "22:08:24\n"
          ]
        }
      ]
    },
    {
      "cell_type": "markdown",
      "source": [
        "### Example 3: Current time of a timezone\n"
      ],
      "metadata": {
        "id": "iYcJWZaPlGZN"
      }
    },
    {
      "cell_type": "code",
      "source": [
        "from datetime import datetime\n",
        "import pytz\n",
        "\n",
        "tz_NY = pytz.timezone('America/New_York') \n",
        "datetime_NY = datetime.now(tz_NY)\n",
        "print(\"NY time:\", datetime_NY.strftime(\"%H:%M:%S\"))\n",
        "\n",
        "tz_London = pytz.timezone('Europe/London')\n",
        "datetime_London = datetime.now(tz_London)\n",
        "print(\"London time:\", datetime_London.strftime(\"%H:%M:%S\"))"
      ],
      "metadata": {
        "colab": {
          "base_uri": "https://localhost:8080/"
        },
        "id": "zJTbAP1TlFP1",
        "outputId": "29d7c213-ad4e-4516-b8d3-5d7f67f8db29"
      },
      "execution_count": null,
      "outputs": [
        {
          "output_type": "stream",
          "name": "stdout",
          "text": [
            "NY time: 17:08:36\n",
            "London time: 22:08:36\n"
          ]
        }
      ]
    }
  ]
}
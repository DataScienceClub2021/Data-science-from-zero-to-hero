{
  "nbformat": 4,
  "nbformat_minor": 0,
  "metadata": {
    "colab": {
      "name": "32- Python Objects and Classes.ipynb",
      "provenance": []
    },
    "kernelspec": {
      "name": "python3",
      "display_name": "Python 3"
    },
    "language_info": {
      "name": "python"
    }
  },
  "cells": [
    {
      "cell_type": "markdown",
      "metadata": {
        "id": "CbOyjxQXV5kZ"
      },
      "source": [
        "### Python Objects and Classes\n"
      ]
    },
    {
      "cell_type": "markdown",
      "metadata": {
        "id": "GqreOnttV8a0"
      },
      "source": [
        "Python is an object-oriented programming language. Unlike procedure-oriented programming, where the main emphasis is on functions, object-oriented programming stresses on objects.\n",
        "\n",
        "An object is simply a collection of data (variables) and methods (functions) that act on those data. Similarly, a class is a blueprint for that object.\n",
        "\n",
        "We can think of a class as a sketch (prototype) of a house. It contains all the details about the floors, doors, windows, etc. Based on these descriptions we build the house. House is the object.\n",
        "\n",
        "As many houses can be made from a house's blueprint, we can create many objects from a class. An object is also called an instance of a class and the process of creating this object is called instantiation."
      ]
    },
    {
      "cell_type": "markdown",
      "metadata": {
        "id": "F8Rvkeq9V-S9"
      },
      "source": [
        "### Defining a Class in Python"
      ]
    },
    {
      "cell_type": "markdown",
      "metadata": {
        "id": "QebT3pcjWAXX"
      },
      "source": [
        "Like function definitions begin with the def keyword in Python, class definitions begin with a class keyword.\n",
        "\n",
        "The first string inside the class is called docstring and has a brief description of the class. Although not mandatory, this is highly recommended.\n",
        "\n",
        "Here is a simple class definition."
      ]
    },
    {
      "cell_type": "code",
      "metadata": {
        "id": "XK5bK9ekV3Jn"
      },
      "source": [
        "class MyNewClass:\n",
        "    '''This is a docstring. I have created a new class'''\n",
        "    pass"
      ],
      "execution_count": 1,
      "outputs": []
    },
    {
      "cell_type": "markdown",
      "metadata": {
        "id": "-ga2gAq8WDSn"
      },
      "source": [
        "A class creates a new local namespace where all its attributes are defined. Attributes may be data or functions.\n",
        "\n",
        "There are also special attributes in it that begins with double underscores __. For example, __doc__ gives us the docstring of that class.\n",
        "\n",
        "As soon as we define a class, a new class object is created with the same name. This class object allows us to access the different attributes as well as to instantiate new objects of that class."
      ]
    },
    {
      "cell_type": "code",
      "metadata": {
        "colab": {
          "base_uri": "https://localhost:8080/"
        },
        "id": "NsuHTnpHWBya",
        "outputId": "6d9d4205-4509-474e-9948-fda7cec151d4"
      },
      "source": [
        "class Person:\n",
        "    \"This is a person class\"\n",
        "    age = 10\n",
        "\n",
        "    def greet(self):\n",
        "        print('Hello')\n",
        "\n",
        "\n",
        "# Output: 10\n",
        "print(Person.age)\n",
        "\n",
        "# Output: <function Person.greet>\n",
        "print(Person.greet)\n",
        "\n",
        "# Output: \"This is a person class\"\n",
        "print(Person.__doc__)"
      ],
      "execution_count": 2,
      "outputs": [
        {
          "output_type": "stream",
          "name": "stdout",
          "text": [
            "10\n",
            "<function Person.greet at 0x7efc02670b90>\n",
            "This is a person class\n"
          ]
        }
      ]
    },
    {
      "cell_type": "markdown",
      "metadata": {
        "id": "6YSQHNiUWHo_"
      },
      "source": [
        "### Creating an Object in Python\n"
      ]
    },
    {
      "cell_type": "markdown",
      "metadata": {
        "id": "gdGOqUu8WJQT"
      },
      "source": [
        "We saw that the class object could be used to access different attributes.\n",
        "\n",
        "It can also be used to create new object instances (instantiation) of that class. The procedure to create an object is similar to a function call."
      ]
    },
    {
      "cell_type": "code",
      "metadata": {
        "id": "d3WLURFLWGVU"
      },
      "source": [
        "harry = Person()"
      ],
      "execution_count": 3,
      "outputs": []
    },
    {
      "cell_type": "markdown",
      "metadata": {
        "id": "RJF3TiK_WMZo"
      },
      "source": [
        "This will create a new object instance named harry. We can access the attributes of objects using the object name prefix.\n",
        "\n",
        "Attributes may be data or method. Methods of an object are corresponding functions of that class.\n",
        "\n",
        "This means to say, since Person.greet is a function object (attribute of class), Person.greet will be a method object."
      ]
    },
    {
      "cell_type": "code",
      "metadata": {
        "colab": {
          "base_uri": "https://localhost:8080/"
        },
        "id": "zICqseoBWKda",
        "outputId": "5d54d43b-5d2a-4510-dccd-1d3756bd283a"
      },
      "source": [
        "class Person:\n",
        "    \"This is a person class\"\n",
        "    age = 10\n",
        "\n",
        "    def greet(self):\n",
        "        print('Hello')\n",
        "\n",
        "\n",
        "# create a new object of Person class\n",
        "harry = Person()\n",
        "\n",
        "# Output: <function Person.greet>\n",
        "print(Person.greet)\n",
        "\n",
        "# Output: <bound method Person.greet of <__main__.Person object>>\n",
        "print(harry.greet)\n",
        "\n",
        "# Calling object's greet() method\n",
        "# Output: Hello\n",
        "harry.greet()"
      ],
      "execution_count": 4,
      "outputs": [
        {
          "output_type": "stream",
          "name": "stdout",
          "text": [
            "<function Person.greet at 0x7efc02670e60>\n",
            "<bound method Person.greet of <__main__.Person object at 0x7efc01e1a310>>\n",
            "Hello\n"
          ]
        }
      ]
    },
    {
      "cell_type": "markdown",
      "metadata": {
        "id": "HacVBAAqWP0L"
      },
      "source": [
        "You may have noticed the self parameter in function definition inside the class but we called the method simply as harry.greet() without any arguments. It still worked.\n",
        "\n",
        "This is because, whenever an object calls its method, the object itself is passed as the first argument. So, harry.greet() translates into Person.greet(harry).\n",
        "\n",
        "In general, calling a method with a list of n arguments is equivalent to calling the corresponding function with an argument list that is created by inserting the method's object before the first argument.\n",
        "\n",
        "For these reasons, the first argument of the function in class must be the object itself. This is conventionally called self. It can be named otherwise but we highly recommend to follow the convention.\n",
        "\n",
        "Now you must be familiar with class object, instance object, function object, method object and their differences."
      ]
    },
    {
      "cell_type": "markdown",
      "metadata": {
        "id": "TuTsMckWWRNt"
      },
      "source": [
        "### Constructors in Python\n"
      ]
    },
    {
      "cell_type": "markdown",
      "metadata": {
        "id": "m0FPmS66WTvb"
      },
      "source": [
        "Class functions that begin with double underscore __ are called special functions as they have special meaning.\n",
        "\n",
        "Of one particular interest is the __init__() function. This special function gets called whenever a new object of that class is instantiated.\n",
        "\n",
        "This type of function is also called constructors in Object Oriented Programming (OOP). We normally use it to initialize all the variables."
      ]
    },
    {
      "cell_type": "code",
      "metadata": {
        "colab": {
          "base_uri": "https://localhost:8080/",
          "height": 231
        },
        "id": "BrlpGWCRWNeJ",
        "outputId": "6958c0b6-8408-4d71-b479-7f8a6c64da86"
      },
      "source": [
        "class ComplexNumber:\n",
        "    def __init__(self, r=0, i=0):\n",
        "        self.real = r\n",
        "        self.imag = i\n",
        "\n",
        "    def get_data(self):\n",
        "        print(f'{self.real}+{self.imag}j')\n",
        "\n",
        "\n",
        "# Create a new ComplexNumber object\n",
        "num1 = ComplexNumber(2, 3)\n",
        "\n",
        "# Call get_data() method\n",
        "# Output: 2+3j\n",
        "num1.get_data()\n",
        "\n",
        "# Create another ComplexNumber object\n",
        "# and create a new attribute 'attr'\n",
        "num2 = ComplexNumber(5)\n",
        "num2.attr = 10\n",
        "\n",
        "# Output: (5, 0, 10)\n",
        "print((num2.real, num2.imag, num2.attr))\n",
        "\n",
        "# but c1 object doesn't have attribute 'attr'\n",
        "# AttributeError: 'ComplexNumber' object has no attribute 'attr'\n",
        "print(num1.attr)"
      ],
      "execution_count": 5,
      "outputs": [
        {
          "output_type": "stream",
          "name": "stdout",
          "text": [
            "2+3j\n",
            "(5, 0, 10)\n"
          ]
        },
        {
          "output_type": "error",
          "ename": "AttributeError",
          "evalue": "ignored",
          "traceback": [
            "\u001b[0;31m---------------------------------------------------------------------------\u001b[0m",
            "\u001b[0;31mAttributeError\u001b[0m                            Traceback (most recent call last)",
            "\u001b[0;32m<ipython-input-5-afa66228e4bc>\u001b[0m in \u001b[0;36m<module>\u001b[0;34m()\u001b[0m\n\u001b[1;32m     25\u001b[0m \u001b[0;31m# but c1 object doesn't have attribute 'attr'\u001b[0m\u001b[0;34m\u001b[0m\u001b[0;34m\u001b[0m\u001b[0;34m\u001b[0m\u001b[0m\n\u001b[1;32m     26\u001b[0m \u001b[0;31m# AttributeError: 'ComplexNumber' object has no attribute 'attr'\u001b[0m\u001b[0;34m\u001b[0m\u001b[0;34m\u001b[0m\u001b[0;34m\u001b[0m\u001b[0m\n\u001b[0;32m---> 27\u001b[0;31m \u001b[0mprint\u001b[0m\u001b[0;34m(\u001b[0m\u001b[0mnum1\u001b[0m\u001b[0;34m.\u001b[0m\u001b[0mattr\u001b[0m\u001b[0;34m)\u001b[0m\u001b[0;34m\u001b[0m\u001b[0;34m\u001b[0m\u001b[0m\n\u001b[0m",
            "\u001b[0;31mAttributeError\u001b[0m: 'ComplexNumber' object has no attribute 'attr'"
          ]
        }
      ]
    },
    {
      "cell_type": "markdown",
      "metadata": {
        "id": "x0An_pBWWXH8"
      },
      "source": [
        "In the above example, we defined a new class to represent complex numbers. It has two functions, __init__() to initialize the variables (defaults to zero) and get_data() to display the number properly.\n",
        "\n",
        "An interesting thing to note in the above step is that attributes of an object can be created on the fly. We created a new attribute attr for object num2 and read it as well. But this does not create that attribute for object num1."
      ]
    },
    {
      "cell_type": "markdown",
      "metadata": {
        "id": "yTMFzm7nWYfU"
      },
      "source": [
        "### Deleting Attributes and Objects\n",
        "Any attribute of an object can be deleted anytime, using the del statement. Try the following on the Python shell to see the output."
      ]
    },
    {
      "cell_type": "code",
      "metadata": {
        "id": "GasoxJGWWVKy"
      },
      "source": [
        "num1 = ComplexNumber(2,3) "
      ],
      "execution_count": 6,
      "outputs": []
    },
    {
      "cell_type": "code",
      "metadata": {
        "id": "GcWdaI8JWdRi"
      },
      "source": [
        "del num1.imag"
      ],
      "execution_count": 7,
      "outputs": []
    },
    {
      "cell_type": "code",
      "metadata": {
        "colab": {
          "base_uri": "https://localhost:8080/",
          "height": 282
        },
        "id": "wqyifBYhWer9",
        "outputId": "3be67977-3271-40e3-eb8f-ee203ec8c03d"
      },
      "source": [
        "num1.get_data()"
      ],
      "execution_count": 8,
      "outputs": [
        {
          "output_type": "error",
          "ename": "AttributeError",
          "evalue": "ignored",
          "traceback": [
            "\u001b[0;31m---------------------------------------------------------------------------\u001b[0m",
            "\u001b[0;31mAttributeError\u001b[0m                            Traceback (most recent call last)",
            "\u001b[0;32m<ipython-input-8-f79bd2a43995>\u001b[0m in \u001b[0;36m<module>\u001b[0;34m()\u001b[0m\n\u001b[0;32m----> 1\u001b[0;31m \u001b[0mnum1\u001b[0m\u001b[0;34m.\u001b[0m\u001b[0mget_data\u001b[0m\u001b[0;34m(\u001b[0m\u001b[0;34m)\u001b[0m\u001b[0;34m\u001b[0m\u001b[0;34m\u001b[0m\u001b[0m\n\u001b[0m",
            "\u001b[0;32m<ipython-input-5-afa66228e4bc>\u001b[0m in \u001b[0;36mget_data\u001b[0;34m(self)\u001b[0m\n\u001b[1;32m      5\u001b[0m \u001b[0;34m\u001b[0m\u001b[0m\n\u001b[1;32m      6\u001b[0m     \u001b[0;32mdef\u001b[0m \u001b[0mget_data\u001b[0m\u001b[0;34m(\u001b[0m\u001b[0mself\u001b[0m\u001b[0;34m)\u001b[0m\u001b[0;34m:\u001b[0m\u001b[0;34m\u001b[0m\u001b[0;34m\u001b[0m\u001b[0m\n\u001b[0;32m----> 7\u001b[0;31m         \u001b[0mprint\u001b[0m\u001b[0;34m(\u001b[0m\u001b[0;34mf'{self.real}+{self.imag}j'\u001b[0m\u001b[0;34m)\u001b[0m\u001b[0;34m\u001b[0m\u001b[0;34m\u001b[0m\u001b[0m\n\u001b[0m\u001b[1;32m      8\u001b[0m \u001b[0;34m\u001b[0m\u001b[0m\n\u001b[1;32m      9\u001b[0m \u001b[0;34m\u001b[0m\u001b[0m\n",
            "\u001b[0;31mAttributeError\u001b[0m: 'ComplexNumber' object has no attribute 'imag'"
          ]
        }
      ]
    },
    {
      "cell_type": "code",
      "metadata": {
        "id": "IXEM29irWfzR"
      },
      "source": [
        "del ComplexNumber.get_data"
      ],
      "execution_count": 9,
      "outputs": []
    },
    {
      "cell_type": "code",
      "metadata": {
        "colab": {
          "base_uri": "https://localhost:8080/",
          "height": 163
        },
        "id": "LsV-OyvXWhh-",
        "outputId": "34f4b173-2e59-47d9-b030-6c3435ae54d5"
      },
      "source": [
        "num1.get_data()"
      ],
      "execution_count": 10,
      "outputs": [
        {
          "output_type": "error",
          "ename": "AttributeError",
          "evalue": "ignored",
          "traceback": [
            "\u001b[0;31m---------------------------------------------------------------------------\u001b[0m",
            "\u001b[0;31mAttributeError\u001b[0m                            Traceback (most recent call last)",
            "\u001b[0;32m<ipython-input-10-f79bd2a43995>\u001b[0m in \u001b[0;36m<module>\u001b[0;34m()\u001b[0m\n\u001b[0;32m----> 1\u001b[0;31m \u001b[0mnum1\u001b[0m\u001b[0;34m.\u001b[0m\u001b[0mget_data\u001b[0m\u001b[0;34m(\u001b[0m\u001b[0;34m)\u001b[0m\u001b[0;34m\u001b[0m\u001b[0;34m\u001b[0m\u001b[0m\n\u001b[0m",
            "\u001b[0;31mAttributeError\u001b[0m: 'ComplexNumber' object has no attribute 'get_data'"
          ]
        }
      ]
    },
    {
      "cell_type": "code",
      "metadata": {
        "id": "kTPCHIH8Wizz"
      },
      "source": [
        "c1 = ComplexNumber(1,3)\n",
        "del c1"
      ],
      "execution_count": 11,
      "outputs": []
    },
    {
      "cell_type": "code",
      "metadata": {
        "colab": {
          "base_uri": "https://localhost:8080/",
          "height": 163
        },
        "id": "mmCE7ysuWmCv",
        "outputId": "a74d6e4b-de21-4998-be09-7337729c412e"
      },
      "source": [
        "c1"
      ],
      "execution_count": 12,
      "outputs": [
        {
          "output_type": "error",
          "ename": "NameError",
          "evalue": "ignored",
          "traceback": [
            "\u001b[0;31m---------------------------------------------------------------------------\u001b[0m",
            "\u001b[0;31mNameError\u001b[0m                                 Traceback (most recent call last)",
            "\u001b[0;32m<ipython-input-12-5348681b35c2>\u001b[0m in \u001b[0;36m<module>\u001b[0;34m()\u001b[0m\n\u001b[0;32m----> 1\u001b[0;31m \u001b[0mc1\u001b[0m\u001b[0;34m\u001b[0m\u001b[0;34m\u001b[0m\u001b[0m\n\u001b[0m",
            "\u001b[0;31mNameError\u001b[0m: name 'c1' is not defined"
          ]
        }
      ]
    },
    {
      "cell_type": "markdown",
      "metadata": {
        "id": "W0inExYZWokp"
      },
      "source": [
        "Actually, it is more complicated than that. When we do c1 = ComplexNumber(1,3), a new instance object is created in memory and the name c1 binds with it.\n",
        "\n",
        "On the command del c1, this binding is removed and the name c1 is deleted from the corresponding namespace. The object however continues to exist in memory and if no other name is bound to it, it is later automatically destroyed.\n",
        "\n",
        "This automatic destruction of unreferenced objects in Python is also called garbage collection."
      ]
    },
    {
      "cell_type": "markdown",
      "metadata": {
        "id": "oXSisll6WqMm"
      },
      "source": [
        "![image.png](data:image/png;base64,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)"
      ]
    },
    {
      "cell_type": "code",
      "metadata": {
        "id": "MqWcRhQeWnOL"
      },
      "source": [
        ""
      ],
      "execution_count": null,
      "outputs": []
    }
  ]
}
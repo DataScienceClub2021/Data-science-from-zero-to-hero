{
  "nbformat": 4,
  "nbformat_minor": 0,
  "metadata": {
    "colab": {
      "name": "18- Python Modules.ipynb",
      "provenance": [],
      "collapsed_sections": []
    },
    "kernelspec": {
      "name": "python3",
      "display_name": "Python 3"
    },
    "language_info": {
      "name": "python"
    }
  },
  "cells": [
    {
      "cell_type": "markdown",
      "metadata": {
        "id": "SoWn2rPXZf7F"
      },
      "source": [
        "### What are modules in Python?\n",
        "Modules refer to a file containing Python statements and definitions.\n",
        "\n",
        "A file containing Python code, for example: example.py, is called a module, and its module name would be example.\n",
        "\n",
        "We use modules to break down large programs into small manageable and organized files. Furthermore, modules provide reusability of code.\n",
        "\n",
        "We can define our most used functions in a module and import it, instead of copying their definitions into different programs.\n",
        "\n",
        "Let us create a module. Type the following and save it as **example.py.**"
      ]
    },
    {
      "cell_type": "code",
      "metadata": {
        "id": "gvo0EOpVZaDb"
      },
      "source": [
        "# Python Module example\n",
        "\n",
        "def add(a, b):\n",
        "   \"\"\"This program adds two\n",
        "   numbers and return the result\"\"\"\n",
        "\n",
        "   result = a + b\n",
        "   return result"
      ],
      "execution_count": 1,
      "outputs": []
    },
    {
      "cell_type": "markdown",
      "metadata": {
        "id": "KfR35fSJZk07"
      },
      "source": [
        "How to import modules in Python?\n"
      ]
    },
    {
      "cell_type": "markdown",
      "metadata": {
        "id": "4ySVYZygZo2T"
      },
      "source": [
        "We can import the definitions inside a module to another module or the interactive interpreter in Python.\n",
        "\n",
        "We use the import keyword to do this. To import our previously defined module example, we type the following in the Python prompt."
      ]
    },
    {
      "cell_type": "code",
      "metadata": {
        "id": "ED3BZVBEZibt"
      },
      "source": [
        "import example"
      ],
      "execution_count": null,
      "outputs": []
    },
    {
      "cell_type": "code",
      "metadata": {
        "id": "Bl2LeeQrZsJ6"
      },
      "source": [
        "example.add(4,5.5)"
      ],
      "execution_count": null,
      "outputs": []
    },
    {
      "cell_type": "markdown",
      "metadata": {
        "id": "2Hm_QqQvZuAg"
      },
      "source": [
        "### Python import statement\n"
      ]
    },
    {
      "cell_type": "code",
      "metadata": {
        "colab": {
          "base_uri": "https://localhost:8080/"
        },
        "id": "uhwd5o7SZu8c",
        "outputId": "4b6433e6-cea5-410c-d4f5-8d5bd15b8dca"
      },
      "source": [
        "# import statement example\n",
        "# to import standard module math\n",
        "\n",
        "import math\n",
        "print(\"The value of pi is\", math.pi)"
      ],
      "execution_count": 2,
      "outputs": [
        {
          "output_type": "stream",
          "name": "stdout",
          "text": [
            "The value of pi is 3.141592653589793\n"
          ]
        }
      ]
    },
    {
      "cell_type": "markdown",
      "metadata": {
        "id": "kN29JWURZzq3"
      },
      "source": [
        "### Import with renaming\n",
        "We can import a module by renaming it as follows:"
      ]
    },
    {
      "cell_type": "code",
      "metadata": {
        "colab": {
          "base_uri": "https://localhost:8080/"
        },
        "id": "h5KRQNNvZw53",
        "outputId": "02fe2ae9-f9ca-4f0c-a279-5ddc1aa2794a"
      },
      "source": [
        "# import module by renaming it\n",
        "\n",
        "import math as m\n",
        "print(\"The value of pi is\", m.pi)"
      ],
      "execution_count": 3,
      "outputs": [
        {
          "output_type": "stream",
          "name": "stdout",
          "text": [
            "The value of pi is 3.141592653589793\n"
          ]
        }
      ]
    },
    {
      "cell_type": "markdown",
      "metadata": {
        "id": "ZzddX6KoZ4ar"
      },
      "source": [
        "### Python from...import statement\n",
        "We can import specific names from a module without importing the module as a whole. Here is an example."
      ]
    },
    {
      "cell_type": "code",
      "metadata": {
        "colab": {
          "base_uri": "https://localhost:8080/"
        },
        "id": "Q1UtPnQMZ10J",
        "outputId": "916fed66-36b5-4a2a-dc6e-6fd33d00a33a"
      },
      "source": [
        "# import only pi from math module\n",
        "\n",
        "from math import pi\n",
        "print(\"The value of pi is\", pi)"
      ],
      "execution_count": 4,
      "outputs": [
        {
          "output_type": "stream",
          "name": "stdout",
          "text": [
            "The value of pi is 3.141592653589793\n"
          ]
        }
      ]
    },
    {
      "cell_type": "code",
      "metadata": {
        "colab": {
          "base_uri": "https://localhost:8080/"
        },
        "id": "k47tQQfIZ62D",
        "outputId": "c7c855e5-f188-4e00-cddd-fe465f223888"
      },
      "source": [
        "from math import pi, e\n",
        "e"
      ],
      "execution_count": 5,
      "outputs": [
        {
          "output_type": "execute_result",
          "data": {
            "text/plain": [
              "2.718281828459045"
            ]
          },
          "metadata": {},
          "execution_count": 5
        }
      ]
    },
    {
      "cell_type": "markdown",
      "metadata": {
        "id": "m7Qs5NJraA7i"
      },
      "source": [
        "### Import all names\n"
      ]
    },
    {
      "cell_type": "markdown",
      "metadata": {
        "id": "e02T5AYvaDSX"
      },
      "source": [
        "We can import all names(definitions) from a module using the following construct:\n",
        "\n"
      ]
    },
    {
      "cell_type": "code",
      "metadata": {
        "colab": {
          "base_uri": "https://localhost:8080/"
        },
        "id": "Ozgb_FZpZ-wG",
        "outputId": "b2ca1341-fc66-4587-f0d3-88a52bf95699"
      },
      "source": [
        "# import all names from the standard module math\n",
        "\n",
        "from math import *\n",
        "print(\"The value of pi is\", pi)"
      ],
      "execution_count": 6,
      "outputs": [
        {
          "output_type": "stream",
          "name": "stdout",
          "text": [
            "The value of pi is 3.141592653589793\n"
          ]
        }
      ]
    },
    {
      "cell_type": "markdown",
      "metadata": {
        "id": "6nDdsTViaJro"
      },
      "source": [
        "### Python Module Search Path\n",
        "While importing a module, Python looks at several places. Interpreter first looks for a built-in module. Then(if built-in module not found), Python looks into a list of directories defined in sys.path. The search is in this order.\n",
        "\n",
        "The current directory.\n",
        "PYTHONPATH (an environment variable with a list of directories).\n",
        "The installation-dependent default directory.\n"
      ]
    },
    {
      "cell_type": "code",
      "metadata": {
        "id": "d_DlisD_aFMM"
      },
      "source": [
        "import sys"
      ],
      "execution_count": 7,
      "outputs": []
    },
    {
      "cell_type": "code",
      "metadata": {
        "colab": {
          "base_uri": "https://localhost:8080/"
        },
        "id": "8QiZpqOyaPhl",
        "outputId": "4990625c-1361-4dcc-eb6a-b62df4579842"
      },
      "source": [
        "sys.path"
      ],
      "execution_count": 8,
      "outputs": [
        {
          "output_type": "execute_result",
          "data": {
            "text/plain": [
              "['',\n",
              " '/content',\n",
              " '/env/python',\n",
              " '/usr/lib/python37.zip',\n",
              " '/usr/lib/python3.7',\n",
              " '/usr/lib/python3.7/lib-dynload',\n",
              " '/usr/local/lib/python3.7/dist-packages',\n",
              " '/usr/lib/python3/dist-packages',\n",
              " '/usr/local/lib/python3.7/dist-packages/IPython/extensions',\n",
              " '/root/.ipython']"
            ]
          },
          "metadata": {},
          "execution_count": 8
        }
      ]
    },
    {
      "cell_type": "markdown",
      "metadata": {
        "id": "l17ixaegaXAU"
      },
      "source": [
        "### Reloading a module\n",
        "The Python interpreter imports a module only once during a session. This makes things more efficient. Here is an example to show how this works."
      ]
    },
    {
      "cell_type": "markdown",
      "metadata": {
        "id": "nbcojgBBaftL"
      },
      "source": [
        "Suppose we have the following code in a module named **my_module**.\n",
        "\n"
      ]
    },
    {
      "cell_type": "code",
      "metadata": {
        "id": "ksm0p8dfaQ0z"
      },
      "source": [
        "# This module shows the effect of\n",
        "#  multiple imports and reload\n",
        "\n",
        "print(\"This code got executed\")"
      ],
      "execution_count": null,
      "outputs": []
    },
    {
      "cell_type": "code",
      "metadata": {
        "id": "DTaizYsGajiK"
      },
      "source": [
        "import my_module"
      ],
      "execution_count": null,
      "outputs": []
    },
    {
      "cell_type": "code",
      "metadata": {
        "id": "E4C4P4Itaj3V"
      },
      "source": [
        "import my_module"
      ],
      "execution_count": null,
      "outputs": []
    },
    {
      "cell_type": "code",
      "metadata": {
        "id": "lDR2PiKuanC9"
      },
      "source": [
        "import my_module"
      ],
      "execution_count": null,
      "outputs": []
    },
    {
      "cell_type": "markdown",
      "metadata": {
        "id": "lw7kECe5az6y"
      },
      "source": [
        "We can see that our code got executed only once. This goes to say that our module was imported only once.\n",
        "\n",
        "Now if our module changed during the course of the program, we would have to reload it.One way to do this is to restart the interpreter. But this does not help much.\n",
        "\n",
        "Python provides a more efficient way of doing this. We can use the reload() function inside the imp module to reload a module. We can do it in the following ways:"
      ]
    },
    {
      "cell_type": "code",
      "metadata": {
        "id": "aU43u-XdanBS"
      },
      "source": [
        "import imp"
      ],
      "execution_count": 10,
      "outputs": []
    },
    {
      "cell_type": "code",
      "metadata": {
        "id": "9mcbKYgqa7Um"
      },
      "source": [
        "imp.reload(my_module)"
      ],
      "execution_count": null,
      "outputs": []
    },
    {
      "cell_type": "markdown",
      "metadata": {
        "id": "Jq8hH1CjbCh1"
      },
      "source": [
        "### The dir() built-in function\n",
        "We can use the dir() function to find out names that are defined inside a module.\n",
        "\n",
        "For example, we have defined a function add() in the module example that we had in the beginning.\n",
        "\n",
        "We can use dir in example module in the following way:"
      ]
    },
    {
      "cell_type": "code",
      "metadata": {
        "id": "1WNjPNGfbDoD"
      },
      "source": [
        "dir(example)"
      ],
      "execution_count": null,
      "outputs": []
    },
    {
      "cell_type": "markdown",
      "metadata": {
        "id": "o0Bj7mVmbIkU"
      },
      "source": [
        "Here, we can see a sorted list of names (along with add). All other names that begin with an underscore are default Python attributes associated with the module (not user-defined)."
      ]
    },
    {
      "cell_type": "code",
      "metadata": {
        "id": "qVEcGv8IbIU5"
      },
      "source": [
        "import example"
      ],
      "execution_count": null,
      "outputs": []
    },
    {
      "cell_type": "code",
      "metadata": {
        "id": "Feid1ELSbMyV"
      },
      "source": [
        "example.__name__"
      ],
      "execution_count": null,
      "outputs": []
    },
    {
      "cell_type": "markdown",
      "metadata": {
        "id": "nPM65EewbXHz"
      },
      "source": [
        "All the names defined in our current namespace can be found out using the dir() function without any arguments.\n",
        "\n"
      ]
    },
    {
      "cell_type": "code",
      "metadata": {
        "colab": {
          "base_uri": "https://localhost:8080/"
        },
        "id": "qAb0G-JIbV0q",
        "outputId": "5d978483-3b4a-49a6-edeb-d323d257a6bc"
      },
      "source": [
        "import math\n",
        "b = \"hello\"\n",
        "a = 1 \n",
        "dir()"
      ],
      "execution_count": 11,
      "outputs": [
        {
          "output_type": "execute_result",
          "data": {
            "text/plain": [
              "['In',\n",
              " 'Out',\n",
              " '_',\n",
              " '_5',\n",
              " '_8',\n",
              " '__',\n",
              " '___',\n",
              " '__builtin__',\n",
              " '__builtins__',\n",
              " '__doc__',\n",
              " '__loader__',\n",
              " '__name__',\n",
              " '__package__',\n",
              " '__spec__',\n",
              " '_dh',\n",
              " '_i',\n",
              " '_i1',\n",
              " '_i10',\n",
              " '_i11',\n",
              " '_i2',\n",
              " '_i3',\n",
              " '_i4',\n",
              " '_i5',\n",
              " '_i6',\n",
              " '_i7',\n",
              " '_i8',\n",
              " '_i9',\n",
              " '_ih',\n",
              " '_ii',\n",
              " '_iii',\n",
              " '_oh',\n",
              " '_sh',\n",
              " 'a',\n",
              " 'acos',\n",
              " 'acosh',\n",
              " 'add',\n",
              " 'asin',\n",
              " 'asinh',\n",
              " 'atan',\n",
              " 'atan2',\n",
              " 'atanh',\n",
              " 'b',\n",
              " 'ceil',\n",
              " 'copysign',\n",
              " 'cos',\n",
              " 'cosh',\n",
              " 'degrees',\n",
              " 'e',\n",
              " 'erf',\n",
              " 'erfc',\n",
              " 'exit',\n",
              " 'exp',\n",
              " 'expm1',\n",
              " 'fabs',\n",
              " 'factorial',\n",
              " 'floor',\n",
              " 'fmod',\n",
              " 'frexp',\n",
              " 'fsum',\n",
              " 'gamma',\n",
              " 'gcd',\n",
              " 'get_ipython',\n",
              " 'hypot',\n",
              " 'imp',\n",
              " 'inf',\n",
              " 'isclose',\n",
              " 'isfinite',\n",
              " 'isinf',\n",
              " 'isnan',\n",
              " 'ldexp',\n",
              " 'lgamma',\n",
              " 'log',\n",
              " 'log10',\n",
              " 'log1p',\n",
              " 'log2',\n",
              " 'm',\n",
              " 'math',\n",
              " 'modf',\n",
              " 'nan',\n",
              " 'pi',\n",
              " 'pow',\n",
              " 'quit',\n",
              " 'radians',\n",
              " 'remainder',\n",
              " 'sin',\n",
              " 'sinh',\n",
              " 'sqrt',\n",
              " 'sys',\n",
              " 'tan',\n",
              " 'tanh',\n",
              " 'tau',\n",
              " 'trunc']"
            ]
          },
          "metadata": {},
          "execution_count": 11
        }
      ]
    }
  ]
}
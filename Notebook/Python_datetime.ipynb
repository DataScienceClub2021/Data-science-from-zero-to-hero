{
  "nbformat": 4,
  "nbformat_minor": 0,
  "metadata": {
    "colab": {
      "name": "Python datetime.ipynb",
      "provenance": [],
      "collapsed_sections": []
    },
    "kernelspec": {
      "name": "python3",
      "display_name": "Python 3"
    },
    "language_info": {
      "name": "python"
    }
  },
  "cells": [
    {
      "cell_type": "markdown",
      "source": [
        "Python has a module named datetime to work with dates and times. Let's create a few simple programs related to date and time before we dig deeper.\n",
        "\n"
      ],
      "metadata": {
        "id": "LWkXX0nLVZcY"
      }
    },
    {
      "cell_type": "markdown",
      "source": [
        "### Example 1: Get Current Date and Time\n"
      ],
      "metadata": {
        "id": "np58URPzVbFQ"
      }
    },
    {
      "cell_type": "code",
      "execution_count": null,
      "metadata": {
        "colab": {
          "base_uri": "https://localhost:8080/"
        },
        "id": "Kp7d6NAyVKcI",
        "outputId": "160aa26b-7de2-4e68-98e1-4f36969061b3"
      },
      "outputs": [
        {
          "output_type": "stream",
          "name": "stdout",
          "text": [
            "2022-02-16 21:00:17.326050\n"
          ]
        }
      ],
      "source": [
        "import datetime\n",
        "\n",
        "datetime_object = datetime.datetime.now()\n",
        "print(datetime_object)"
      ]
    },
    {
      "cell_type": "markdown",
      "source": [
        "When you run the program, the output will be something like:\n",
        "\n"
      ],
      "metadata": {
        "id": "5qWTi5PjVfZK"
      }
    },
    {
      "cell_type": "markdown",
      "source": [
        "Here, we have imported datetime module using import datetime statement.\n",
        "\n",
        "One of the classes defined in the datetime module is datetime class. We then used now() method to create a datetime object containing the current local date and time."
      ],
      "metadata": {
        "id": "eo06z0ZIViL5"
      }
    },
    {
      "cell_type": "code",
      "source": [
        "import datetime\n",
        "\n",
        "date_object = datetime.date.today()\n",
        "print(date_object)"
      ],
      "metadata": {
        "colab": {
          "base_uri": "https://localhost:8080/"
        },
        "id": "W07BxoYdVdvN",
        "outputId": "0451afd9-8811-412a-d6f6-9e0e74340b79"
      },
      "execution_count": null,
      "outputs": [
        {
          "output_type": "stream",
          "name": "stdout",
          "text": [
            "2022-02-16\n"
          ]
        }
      ]
    },
    {
      "cell_type": "markdown",
      "source": [
        "### What's inside datetime?\n",
        "\n"
      ],
      "metadata": {
        "id": "1xKstWpSVozA"
      }
    },
    {
      "cell_type": "markdown",
      "source": [
        "We can use dir() function to get a list containing all attributes of a module."
      ],
      "metadata": {
        "id": "kmDfCjDuVvJl"
      }
    },
    {
      "cell_type": "code",
      "source": [
        "import datetime\n",
        "\n",
        "print(dir(datetime))"
      ],
      "metadata": {
        "colab": {
          "base_uri": "https://localhost:8080/"
        },
        "id": "-SNJRYiWVmyj",
        "outputId": "cdc2da7f-6be6-40a0-a0b8-9fad2f0a072e"
      },
      "execution_count": null,
      "outputs": [
        {
          "output_type": "stream",
          "name": "stdout",
          "text": [
            "['MAXYEAR', 'MINYEAR', '__builtins__', '__cached__', '__doc__', '__file__', '__loader__', '__name__', '__package__', '__spec__', 'date', 'datetime', 'datetime_CAPI', 'sys', 'time', 'timedelta', 'timezone', 'tzinfo']\n"
          ]
        }
      ]
    },
    {
      "cell_type": "markdown",
      "source": [
        "Commonly used classes in the datetime module are:\n",
        "\n",
        "* date Class\n",
        "* time Class\n",
        "* datetime Class\n",
        "* timedelta Class"
      ],
      "metadata": {
        "id": "UQMuaFISV044"
      }
    },
    {
      "cell_type": "markdown",
      "source": [
        "### datetime.date Class\n",
        "You can instantiate date objects from the date class. A date object represents a date (year, month and day)."
      ],
      "metadata": {
        "id": "4KIYcKEoV5bZ"
      }
    },
    {
      "cell_type": "code",
      "source": [
        "import datetime\n",
        "\n",
        "d = datetime.date(2019, 4, 13)\n",
        "print(d)"
      ],
      "metadata": {
        "colab": {
          "base_uri": "https://localhost:8080/"
        },
        "id": "uQOVQWTFVs2r",
        "outputId": "43dfd8e5-08f7-4627-c5cc-a2cd712ea717"
      },
      "execution_count": null,
      "outputs": [
        {
          "output_type": "stream",
          "name": "stdout",
          "text": [
            "2019-04-13\n"
          ]
        }
      ]
    },
    {
      "cell_type": "code",
      "source": [
        "from datetime import date\n",
        "\n",
        "a = date(2019, 4, 13)\n",
        "print(a)"
      ],
      "metadata": {
        "colab": {
          "base_uri": "https://localhost:8080/"
        },
        "id": "bhpG7bsOV9da",
        "outputId": "4af21eba-195f-4b8c-d49f-02c2d5e253f3"
      },
      "execution_count": null,
      "outputs": [
        {
          "output_type": "stream",
          "name": "stdout",
          "text": [
            "2019-04-13\n"
          ]
        }
      ]
    },
    {
      "cell_type": "markdown",
      "source": [
        "### Example 4: Get current date\n",
        "You can create a date object containing the current date by using a classmethod named today(). Here's how:"
      ],
      "metadata": {
        "id": "4pk6HMGgWGrB"
      }
    },
    {
      "cell_type": "code",
      "source": [
        "from datetime import date\n",
        "\n",
        "today = date.today()\n",
        "\n",
        "print(\"Current date =\", today)"
      ],
      "metadata": {
        "colab": {
          "base_uri": "https://localhost:8080/"
        },
        "id": "JgLvgswbWFFG",
        "outputId": "d9628fae-d77f-4e52-84f2-331c00fb1661"
      },
      "execution_count": null,
      "outputs": [
        {
          "output_type": "stream",
          "name": "stdout",
          "text": [
            "Current date = 2022-02-16\n"
          ]
        }
      ]
    },
    {
      "cell_type": "markdown",
      "source": [
        "### Example 5: Get date from a timestamp\n"
      ],
      "metadata": {
        "id": "fU40EcUlWL1y"
      }
    },
    {
      "cell_type": "markdown",
      "source": [
        "We can also create date objects from a timestamp. A Unix timestamp is the number of seconds between a particular date and January 1, 1970 at UTC. You can convert a timestamp to date using fromtimestamp() method."
      ],
      "metadata": {
        "id": "bNi2uMaVWOcm"
      }
    },
    {
      "cell_type": "code",
      "source": [
        "from datetime import date\n",
        "\n",
        "timestamp = date.fromtimestamp(1326244364)\n",
        "print(\"Date =\", timestamp)"
      ],
      "metadata": {
        "colab": {
          "base_uri": "https://localhost:8080/"
        },
        "id": "vVbx15__WJCL",
        "outputId": "bcf27a9f-1625-4f0d-e55c-bf896e899b80"
      },
      "execution_count": null,
      "outputs": [
        {
          "output_type": "stream",
          "name": "stdout",
          "text": [
            "Date = 2012-01-11\n"
          ]
        }
      ]
    },
    {
      "cell_type": "markdown",
      "source": [
        "### Example 6: Print today's year, month and day\n",
        "We can get year, month, day, day of the week etc. from the date object easily. Here's how:\n",
        "\n"
      ],
      "metadata": {
        "id": "yLT6d7d5WUmG"
      }
    },
    {
      "cell_type": "code",
      "source": [
        "from datetime import date\n",
        "\n",
        "# date object of today's date\n",
        "today = date.today() \n",
        "\n",
        "print(\"Current year:\", today.year)\n",
        "print(\"Current month:\", today.month)\n",
        "print(\"Current day:\", today.day)"
      ],
      "metadata": {
        "colab": {
          "base_uri": "https://localhost:8080/"
        },
        "id": "azMoUtnuWQ0G",
        "outputId": "3da08365-f4fe-4ffc-93e7-a5e83369fae5"
      },
      "execution_count": null,
      "outputs": [
        {
          "output_type": "stream",
          "name": "stdout",
          "text": [
            "Current year: 2022\n",
            "Current month: 2\n",
            "Current day: 16\n"
          ]
        }
      ]
    },
    {
      "cell_type": "markdown",
      "source": [
        "### datetime.time\n"
      ],
      "metadata": {
        "id": "LYSTaccbXRiR"
      }
    },
    {
      "cell_type": "markdown",
      "source": [
        "A time object instantiated from the time class represents the local time.\n",
        "\n"
      ],
      "metadata": {
        "id": "jIsvyTwCXT1J"
      }
    },
    {
      "cell_type": "code",
      "source": [
        "from datetime import time\n",
        "\n",
        "# time(hour = 0, minute = 0, second = 0)\n",
        "a = time()\n",
        "print(\"a =\", a)\n",
        "\n",
        "# time(hour, minute and second)\n",
        "b = time(11, 34, 56)\n",
        "print(\"b =\", b)\n",
        "\n",
        "# time(hour, minute and second)\n",
        "c = time(hour = 11, minute = 34, second = 56)\n",
        "print(\"c =\", c)\n",
        "\n",
        "# time(hour, minute, second, microsecond)\n",
        "d = time(11, 34, 56, 234566)\n",
        "print(\"d =\", d)"
      ],
      "metadata": {
        "colab": {
          "base_uri": "https://localhost:8080/"
        },
        "id": "mIe13v6_WY2c",
        "outputId": "dbbc4424-4ab3-419a-bece-7c08c331b4da"
      },
      "execution_count": null,
      "outputs": [
        {
          "output_type": "stream",
          "name": "stdout",
          "text": [
            "a = 00:00:00\n",
            "b = 11:34:56\n",
            "c = 11:34:56\n",
            "d = 11:34:56.234566\n"
          ]
        }
      ]
    },
    {
      "cell_type": "markdown",
      "source": [
        "### Example 8: Print hour, minute, second and microsecond\n"
      ],
      "metadata": {
        "id": "fdX6-VQrXanF"
      }
    },
    {
      "cell_type": "code",
      "source": [
        "\n",
        "from datetime import time\n",
        "\n",
        "a = time(11, 34, 56)\n",
        "\n",
        "print(\"hour =\", a.hour)\n",
        "print(\"minute =\", a.minute)\n",
        "print(\"second =\", a.second)\n",
        "print(\"microsecond =\", a.microsecond)"
      ],
      "metadata": {
        "colab": {
          "base_uri": "https://localhost:8080/"
        },
        "id": "qBgMoVt6XWmm",
        "outputId": "411bf203-ee11-481f-9740-25e7c5a845b6"
      },
      "execution_count": null,
      "outputs": [
        {
          "output_type": "stream",
          "name": "stdout",
          "text": [
            "hour = 11\n",
            "minute = 34\n",
            "second = 56\n",
            "microsecond = 0\n"
          ]
        }
      ]
    },
    {
      "cell_type": "markdown",
      "source": [
        "### datetime.datetime\n",
        "The datetime module has a class named dateclass that can contain information from both date and time objects."
      ],
      "metadata": {
        "id": "6a9PfYLBXgGy"
      }
    },
    {
      "cell_type": "code",
      "source": [
        "from datetime import datetime\n",
        "\n",
        "#datetime(year, month, day)\n",
        "a = datetime(2018, 11, 28)\n",
        "print(a)\n",
        "\n",
        "# datetime(year, month, day, hour, minute, second, microsecond)\n",
        "b = datetime(2017, 11, 28, 23, 55, 59, 342380)\n",
        "print(b)"
      ],
      "metadata": {
        "colab": {
          "base_uri": "https://localhost:8080/"
        },
        "id": "XyvzCwOuXdSP",
        "outputId": "3916fc06-9ffa-428e-f76d-11ddf5d7df6e"
      },
      "execution_count": null,
      "outputs": [
        {
          "output_type": "stream",
          "name": "stdout",
          "text": [
            "2018-11-28 00:00:00\n",
            "2017-11-28 23:55:59.342380\n"
          ]
        }
      ]
    },
    {
      "cell_type": "markdown",
      "source": [
        "### Example 10: Print year, month, hour, minute and timestamp\n"
      ],
      "metadata": {
        "id": "MpPTlg64XmJV"
      }
    },
    {
      "cell_type": "code",
      "source": [
        "from datetime import datetime\n",
        "\n",
        "a = datetime(2017, 11, 28, 23, 55, 59, 342380)\n",
        "print(\"year =\", a.year)\n",
        "print(\"month =\", a.month)\n",
        "print(\"hour =\", a.hour)\n",
        "print(\"minute =\", a.minute)\n",
        "print(\"timestamp =\", a.timestamp())"
      ],
      "metadata": {
        "colab": {
          "base_uri": "https://localhost:8080/"
        },
        "id": "Wv1mBHPPXi5i",
        "outputId": "8eab8f10-534d-4fbd-aa64-8a63eefb3565"
      },
      "execution_count": null,
      "outputs": [
        {
          "output_type": "stream",
          "name": "stdout",
          "text": [
            "year = 2017\n",
            "month = 11\n",
            "hour = 23\n",
            "minute = 55\n",
            "timestamp = 1511913359.34238\n"
          ]
        }
      ]
    },
    {
      "cell_type": "markdown",
      "source": [
        "### datetime.timedelta\n",
        "A timedelta object represents the difference between two dates or times."
      ],
      "metadata": {
        "id": "Dmc8kJILX0pn"
      }
    },
    {
      "cell_type": "markdown",
      "source": [
        "### Example 11: Difference between two dates and times\n"
      ],
      "metadata": {
        "id": "oheOHok0XuZX"
      }
    },
    {
      "cell_type": "code",
      "source": [
        "from datetime import datetime, date\n",
        "\n",
        "t1 = date(year = 2018, month = 7, day = 12)\n",
        "t2 = date(year = 2017, month = 12, day = 23)\n",
        "t3 = t1 - t2\n",
        "print(\"t3 =\", t3)\n",
        "\n",
        "t4 = datetime(year = 2018, month = 7, day = 12, hour = 7, minute = 9, second = 33)\n",
        "t5 = datetime(year = 2019, month = 6, day = 10, hour = 5, minute = 55, second = 13)\n",
        "t6 = t4 - t5\n",
        "print(\"t6 =\", t6)\n",
        "\n",
        "print(\"type of t3 =\", type(t3)) \n",
        "print(\"type of t6 =\", type(t6))  "
      ],
      "metadata": {
        "colab": {
          "base_uri": "https://localhost:8080/"
        },
        "id": "Wx1MdIyPXopW",
        "outputId": "37f17c8f-c7d7-4cb3-d0a2-69070ba6ba2d"
      },
      "execution_count": null,
      "outputs": [
        {
          "output_type": "stream",
          "name": "stdout",
          "text": [
            "t3 = 201 days, 0:00:00\n",
            "t6 = -333 days, 1:14:20\n",
            "type of t3 = <class 'datetime.timedelta'>\n",
            "type of t6 = <class 'datetime.timedelta'>\n"
          ]
        }
      ]
    },
    {
      "cell_type": "markdown",
      "source": [
        "### Example 12: Difference between two timedelta objects\n"
      ],
      "metadata": {
        "id": "OpjOR9caX7aw"
      }
    },
    {
      "cell_type": "code",
      "source": [
        "from datetime import timedelta\n",
        "\n",
        "t1 = timedelta(weeks = 2, days = 5, hours = 1, seconds = 33)\n",
        "t2 = timedelta(days = 4, hours = 11, minutes = 4, seconds = 54)\n",
        "t3 = t1 - t2\n",
        "\n",
        "print(\"t3 =\", t3)"
      ],
      "metadata": {
        "colab": {
          "base_uri": "https://localhost:8080/"
        },
        "id": "6G_G0BFXX4Nc",
        "outputId": "d51205ac-61c2-4e13-e801-c7aa9658c9b6"
      },
      "execution_count": null,
      "outputs": [
        {
          "output_type": "stream",
          "name": "stdout",
          "text": [
            "t3 = 14 days, 13:55:39\n"
          ]
        }
      ]
    },
    {
      "cell_type": "markdown",
      "source": [
        "### Example 13: Printing negative timedelta object\n"
      ],
      "metadata": {
        "id": "9vnT5WnoYCS8"
      }
    },
    {
      "cell_type": "code",
      "source": [
        "from datetime import timedelta\n",
        "\n",
        "t1 = timedelta(seconds = 33)\n",
        "t2 = timedelta(seconds = 54)\n",
        "t3 = t1 - t2\n",
        "\n",
        "print(\"t3 =\", t3)\n",
        "print(\"t3 =\", abs(t3))"
      ],
      "metadata": {
        "colab": {
          "base_uri": "https://localhost:8080/"
        },
        "id": "zZ_9-nnTX_eG",
        "outputId": "945e79ea-06c8-4f62-9498-04084ebd5683"
      },
      "execution_count": null,
      "outputs": [
        {
          "output_type": "stream",
          "name": "stdout",
          "text": [
            "t3 = -1 day, 23:59:39\n",
            "t3 = 0:00:21\n"
          ]
        }
      ]
    },
    {
      "cell_type": "markdown",
      "source": [
        "### Example 14: Time duration in seconds\n"
      ],
      "metadata": {
        "id": "UOopW6o_YIJ0"
      }
    },
    {
      "cell_type": "markdown",
      "source": [
        "You can get the total number of seconds in a timedelta object using total_seconds() method.\n",
        "\n"
      ],
      "metadata": {
        "id": "ZZO3f4HiYPKv"
      }
    },
    {
      "cell_type": "code",
      "source": [
        "from datetime import timedelta\n",
        "\n",
        "t = timedelta(days = 5, hours = 1, seconds = 33, microseconds = 233423)\n",
        "print(\"total seconds =\", t.total_seconds())"
      ],
      "metadata": {
        "colab": {
          "base_uri": "https://localhost:8080/"
        },
        "id": "M5cYLaM6YFbO",
        "outputId": "e26a3b48-d3c1-46a7-9da3-e11ff7c3f191"
      },
      "execution_count": null,
      "outputs": [
        {
          "output_type": "stream",
          "name": "stdout",
          "text": [
            "total seconds = 435633.233423\n"
          ]
        }
      ]
    },
    {
      "cell_type": "markdown",
      "source": [
        "### Python format datetime\n",
        "The way date and time is represented may be different in different places, organizations etc. It's more common to use mm/dd/yyyy in the US, whereas dd/mm/yyyy is more common in the UK.\n",
        "\n",
        "Python has strftime() and strptime() methods to handle this."
      ],
      "metadata": {
        "id": "6r4RTo3gYTr0"
      }
    },
    {
      "cell_type": "code",
      "source": [
        "from datetime import datetime\n",
        "\n",
        "# current date and time\n",
        "now = datetime.now()\n",
        "\n",
        "t = now.strftime(\"%H:%M:%S\")\n",
        "print(\"time:\", t)\n",
        "\n",
        "s1 = now.strftime(\"%m/%d/%Y, %H:%M:%S\")\n",
        "# mm/dd/YY H:M:S format\n",
        "print(\"s1:\", s1)\n",
        "\n",
        "s2 = now.strftime(\"%d/%m/%Y, %H:%M:%S\")\n",
        "# dd/mm/YY H:M:S format\n",
        "print(\"s2:\", s2)"
      ],
      "metadata": {
        "colab": {
          "base_uri": "https://localhost:8080/"
        },
        "id": "iKbSC_gnYM96",
        "outputId": "12c0e82d-cef3-49dd-cfcb-5bbf4da088d1"
      },
      "execution_count": null,
      "outputs": [
        {
          "output_type": "stream",
          "name": "stdout",
          "text": [
            "time: 21:13:10\n",
            "s1: 02/16/2022, 21:13:10\n",
            "s2: 16/02/2022, 21:13:10\n"
          ]
        }
      ]
    },
    {
      "cell_type": "markdown",
      "source": [
        "Here, %Y, %m, %d, %H etc. are format codes. The strftime() method takes one or more format codes and returns a formatted string based on it.\n",
        "\n",
        "In the above program, t, s1 and s2 are strings.\n",
        "\n",
        "* %Y - year [0001,..., 2018, 2019,..., 9999]\n",
        "* %m - month [01, 02, ..., 11, 12]\n",
        "* %d - day [01, 02, ..., 30, 31]\n",
        "* %H - hour [00, 01, ..., 22, 23\n",
        "* %M - minute [00, 01, ..., 58, 59]\n",
        "* %S - second [00, 01, ..., 58, 59]"
      ],
      "metadata": {
        "id": "S-A1lvf_YhV-"
      }
    },
    {
      "cell_type": "markdown",
      "source": [
        "### Python strptime() - string to datetime\n"
      ],
      "metadata": {
        "id": "IMe0fbRtYpm6"
      }
    },
    {
      "cell_type": "markdown",
      "source": [
        "The strptime() method creates a datetime object from a given string (representing date and time).\n",
        "\n"
      ],
      "metadata": {
        "id": "K40DjjkZYv4A"
      }
    },
    {
      "cell_type": "code",
      "source": [
        "from datetime import datetime\n",
        "\n",
        "date_string = \"21 June, 2018\"\n",
        "print(\"date_string =\", date_string)\n",
        "\n",
        "date_object = datetime.strptime(date_string, \"%d %B, %Y\")\n",
        "print(\"date_object =\", date_object)"
      ],
      "metadata": {
        "colab": {
          "base_uri": "https://localhost:8080/"
        },
        "id": "8zVybAuOYcFw",
        "outputId": "df603184-e3b2-4760-f7a8-1b43fd62295b"
      },
      "execution_count": null,
      "outputs": [
        {
          "output_type": "stream",
          "name": "stdout",
          "text": [
            "date_string = 21 June, 2018\n",
            "date_object = 2018-06-21 00:00:00\n"
          ]
        }
      ]
    },
    {
      "cell_type": "markdown",
      "source": [
        "### Handling timezone in Python\n",
        "Suppose, you are working on a project and need to display date and time based on their timezone. Rather than trying to handle timezone yourself, we suggest you to use a third-party pytZ module.\n",
        "\n"
      ],
      "metadata": {
        "id": "b7QGz2XgY3mV"
      }
    },
    {
      "cell_type": "code",
      "source": [
        "from datetime import datetime\n",
        "import pytz\n",
        "\n",
        "local = datetime.now()\n",
        "print(\"Local:\", local.strftime(\"%m/%d/%Y, %H:%M:%S\"))\n",
        "\n",
        "\n",
        "tz_NY = pytz.timezone('America/New_York') \n",
        "datetime_NY = datetime.now(tz_NY)\n",
        "print(\"NY:\", datetime_NY.strftime(\"%m/%d/%Y, %H:%M:%S\"))\n",
        "\n",
        "tz_London = pytz.timezone('Europe/London')\n",
        "datetime_London = datetime.now(tz_London)\n",
        "print(\"London:\", datetime_London.strftime(\"%m/%d/%Y, %H:%M:%S\"))"
      ],
      "metadata": {
        "colab": {
          "base_uri": "https://localhost:8080/"
        },
        "id": "XQW6OQQzYt8P",
        "outputId": "cba51f11-6fe8-4cba-9d76-445b6959aeaa"
      },
      "execution_count": null,
      "outputs": [
        {
          "output_type": "stream",
          "name": "stdout",
          "text": [
            "Local: 02/16/2022, 21:15:35\n",
            "NY: 02/16/2022, 16:15:35\n",
            "London: 02/16/2022, 21:15:35\n"
          ]
        }
      ]
    },
    {
      "cell_type": "code",
      "source": [
        ""
      ],
      "metadata": {
        "id": "yWnO441rY_j7"
      },
      "execution_count": null,
      "outputs": []
    }
  ]
}
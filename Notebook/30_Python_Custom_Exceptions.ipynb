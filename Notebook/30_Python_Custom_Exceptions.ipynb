{
  "nbformat": 4,
  "nbformat_minor": 0,
  "metadata": {
    "colab": {
      "name": "30- Python Custom Exceptions.ipynb",
      "provenance": [],
      "collapsed_sections": []
    },
    "kernelspec": {
      "name": "python3",
      "display_name": "Python 3"
    },
    "language_info": {
      "name": "python"
    }
  },
  "cells": [
    {
      "cell_type": "markdown",
      "metadata": {
        "id": "vxdRmRIexCv1"
      },
      "source": [
        "Python has numerous built-in exceptions that force your program to output an error when something in the program goes wrong.\n",
        "\n",
        "However, sometimes you may need to create your own custom exceptions that serve your purpose."
      ]
    },
    {
      "cell_type": "markdown",
      "metadata": {
        "id": "F1rErdG_xEiD"
      },
      "source": [
        "### Creating Custom Exceptions\n",
        "In Python, users can define custom exceptions by creating a new class. This exception class has to be derived, either directly or indirectly, from the built-in Exception class. Most of the built-in exceptions are also derived from this class."
      ]
    },
    {
      "cell_type": "code",
      "metadata": {
        "id": "h9x8ERA6w_1p"
      },
      "source": [
        " class CustomError(Exception):\n",
        "   pass"
      ],
      "execution_count": 1,
      "outputs": []
    },
    {
      "cell_type": "code",
      "metadata": {
        "colab": {
          "base_uri": "https://localhost:8080/",
          "height": 163
        },
        "id": "izOynSDnxHoY",
        "outputId": "e32f0498-f7a3-4846-e25c-e133727b8091"
      },
      "source": [
        "raise CustomError"
      ],
      "execution_count": 2,
      "outputs": [
        {
          "output_type": "error",
          "ename": "CustomError",
          "evalue": "ignored",
          "traceback": [
            "\u001b[0;31m---------------------------------------------------------------------------\u001b[0m",
            "\u001b[0;31mCustomError\u001b[0m                               Traceback (most recent call last)",
            "\u001b[0;32m<ipython-input-2-dfca0b041b3d>\u001b[0m in \u001b[0;36m<module>\u001b[0;34m()\u001b[0m\n\u001b[0;32m----> 1\u001b[0;31m \u001b[0;32mraise\u001b[0m \u001b[0mCustomError\u001b[0m\u001b[0;34m\u001b[0m\u001b[0;34m\u001b[0m\u001b[0m\n\u001b[0m",
            "\u001b[0;31mCustomError\u001b[0m: "
          ]
        }
      ]
    },
    {
      "cell_type": "code",
      "metadata": {
        "colab": {
          "base_uri": "https://localhost:8080/",
          "height": 163
        },
        "id": "EibbQ8RCxK3T",
        "outputId": "2ba86f4e-67aa-449f-b8c5-dce7d5234aec"
      },
      "source": [
        "raise CustomError(\"An error occurred\")"
      ],
      "execution_count": 3,
      "outputs": [
        {
          "output_type": "error",
          "ename": "CustomError",
          "evalue": "ignored",
          "traceback": [
            "\u001b[0;31m---------------------------------------------------------------------------\u001b[0m",
            "\u001b[0;31mCustomError\u001b[0m                               Traceback (most recent call last)",
            "\u001b[0;32m<ipython-input-3-d75c9779269a>\u001b[0m in \u001b[0;36m<module>\u001b[0;34m()\u001b[0m\n\u001b[0;32m----> 1\u001b[0;31m \u001b[0;32mraise\u001b[0m \u001b[0mCustomError\u001b[0m\u001b[0;34m(\u001b[0m\u001b[0;34m\"An error occurred\"\u001b[0m\u001b[0;34m)\u001b[0m\u001b[0;34m\u001b[0m\u001b[0;34m\u001b[0m\u001b[0m\n\u001b[0m",
            "\u001b[0;31mCustomError\u001b[0m: An error occurred"
          ]
        }
      ]
    },
    {
      "cell_type": "markdown",
      "metadata": {
        "id": "2N3RG7RUxN4h"
      },
      "source": [
        "Here, we have created a user-defined exception called CustomError which inherits from the Exception class. This new exception, like other exceptions, can be raised using the raise statement with an optional error message.\n",
        "\n",
        "When we are developing a large Python program, it is a good practice to place all the user-defined exceptions that our program raises in a separate file. Many standard modules do this. They define their exceptions separately as exceptions.py or errors.py (generally but not always).\n",
        "\n",
        "User-defined exception class can implement everything a normal class can do, but we generally make them simple and concise. Most implementations declare a custom base class and derive others exception classes from this base class. This concept is made clearer in the following example.\n",
        "\n"
      ]
    },
    {
      "cell_type": "markdown",
      "metadata": {
        "id": "8lpHzzUMxPDZ"
      },
      "source": [
        "### Example: User-Defined Exception in Python\n"
      ]
    },
    {
      "cell_type": "markdown",
      "metadata": {
        "id": "sS_5HsZ6xQ87"
      },
      "source": [
        "In this example, we will illustrate how user-defined exceptions can be used in a program to raise and catch errors.\n",
        "\n",
        "This program will ask the user to enter a number until they guess a stored number correctly. To help them figure it out, a hint is provided whether their guess is greater than or less than the stored number."
      ]
    },
    {
      "cell_type": "code",
      "metadata": {
        "colab": {
          "base_uri": "https://localhost:8080/"
        },
        "id": "C4k-qFWFxMfX",
        "outputId": "fcb03b75-da85-46ec-de85-bc8b5ca969d5"
      },
      "source": [
        "# define Python user-defined exceptions\n",
        "class Error(Exception):\n",
        "    \"\"\"Base class for other exceptions\"\"\"\n",
        "    pass\n",
        "\n",
        "\n",
        "class ValueTooSmallError(Error):\n",
        "    \"\"\"Raised when the input value is too small\"\"\"\n",
        "    pass\n",
        "\n",
        "\n",
        "class ValueTooLargeError(Error):\n",
        "    \"\"\"Raised when the input value is too large\"\"\"\n",
        "    pass\n",
        "\n",
        "\n",
        "# you need to guess this number\n",
        "number = 10\n",
        "\n",
        "# user guesses a number until he/she gets it right\n",
        "while True:\n",
        "    try:\n",
        "        i_num = int(input(\"Enter a number: \"))\n",
        "        if i_num < number:\n",
        "            raise ValueTooSmallError\n",
        "        elif i_num > number:\n",
        "            raise ValueTooLargeError\n",
        "        break\n",
        "    except ValueTooSmallError:\n",
        "        print(\"This value is too small, try again!\")\n",
        "        print()\n",
        "    except ValueTooLargeError:\n",
        "        print(\"This value is too large, try again!\")\n",
        "        print()\n",
        "\n",
        "print(\"Congratulations! You guessed it correctly.\")"
      ],
      "execution_count": 4,
      "outputs": [
        {
          "output_type": "stream",
          "name": "stdout",
          "text": [
            "Enter a number: 12\n",
            "This value is too large, try again!\n",
            "\n",
            "Enter a number: 0\n",
            "This value is too small, try again!\n",
            "\n",
            "Enter a number: 8\n",
            "This value is too small, try again!\n",
            "\n",
            "Enter a number: 10\n",
            "Congratulations! You guessed it correctly.\n"
          ]
        }
      ]
    },
    {
      "cell_type": "markdown",
      "metadata": {
        "id": "WTEg-n-LxXmR"
      },
      "source": [
        "We have defined a base class called Error.\n",
        "\n",
        "The other two exceptions (ValueTooSmallError and ValueTooLargeError) that are actually raised by our program are derived from this class. This is the standard way to define user-defined exceptions in Python programming, but you are not limited to this way only."
      ]
    },
    {
      "cell_type": "markdown",
      "metadata": {
        "id": "s5U_ynOhxZAb"
      },
      "source": [
        "### Customizing Exception Classes\n",
        "We can further customize this class to accept other arguments as per our needs.\n",
        "\n",
        "To learn about customizing the Exception classes, you need to have the basic knowledge of Object-Oriented programming.\n"
      ]
    },
    {
      "cell_type": "code",
      "metadata": {
        "colab": {
          "base_uri": "https://localhost:8080/",
          "height": 214
        },
        "id": "5hYuivWUxSHY",
        "outputId": "fca71990-7bcf-43dd-bb31-44085d855b31"
      },
      "source": [
        "class SalaryNotInRangeError(Exception):\n",
        "    \"\"\"Exception raised for errors in the input salary.\n",
        "\n",
        "    Attributes:\n",
        "        salary -- input salary which caused the error\n",
        "        message -- explanation of the error\n",
        "    \"\"\"\n",
        "\n",
        "    def __init__(self, salary, message=\"Salary is not in (5000, 15000) range\"):\n",
        "        self.salary = salary\n",
        "        self.message = message\n",
        "        super().__init__(self.message)\n",
        "\n",
        "\n",
        "salary = int(input(\"Enter salary amount: \"))\n",
        "if not 5000 < salary < 15000:\n",
        "    raise SalaryNotInRangeError(salary)"
      ],
      "execution_count": 5,
      "outputs": [
        {
          "name": "stdout",
          "output_type": "stream",
          "text": [
            "Enter salary amount: 2000\n"
          ]
        },
        {
          "output_type": "error",
          "ename": "SalaryNotInRangeError",
          "evalue": "ignored",
          "traceback": [
            "\u001b[0;31m---------------------------------------------------------------------------\u001b[0m",
            "\u001b[0;31mSalaryNotInRangeError\u001b[0m                     Traceback (most recent call last)",
            "\u001b[0;32m<ipython-input-5-6ab0f28c63a7>\u001b[0m in \u001b[0;36m<module>\u001b[0;34m()\u001b[0m\n\u001b[1;32m     15\u001b[0m \u001b[0msalary\u001b[0m \u001b[0;34m=\u001b[0m \u001b[0mint\u001b[0m\u001b[0;34m(\u001b[0m\u001b[0minput\u001b[0m\u001b[0;34m(\u001b[0m\u001b[0;34m\"Enter salary amount: \"\u001b[0m\u001b[0;34m)\u001b[0m\u001b[0;34m)\u001b[0m\u001b[0;34m\u001b[0m\u001b[0;34m\u001b[0m\u001b[0m\n\u001b[1;32m     16\u001b[0m \u001b[0;32mif\u001b[0m \u001b[0;32mnot\u001b[0m \u001b[0;36m5000\u001b[0m \u001b[0;34m<\u001b[0m \u001b[0msalary\u001b[0m \u001b[0;34m<\u001b[0m \u001b[0;36m15000\u001b[0m\u001b[0;34m:\u001b[0m\u001b[0;34m\u001b[0m\u001b[0;34m\u001b[0m\u001b[0m\n\u001b[0;32m---> 17\u001b[0;31m     \u001b[0;32mraise\u001b[0m \u001b[0mSalaryNotInRangeError\u001b[0m\u001b[0;34m(\u001b[0m\u001b[0msalary\u001b[0m\u001b[0;34m)\u001b[0m\u001b[0;34m\u001b[0m\u001b[0;34m\u001b[0m\u001b[0m\n\u001b[0m",
            "\u001b[0;31mSalaryNotInRangeError\u001b[0m: Salary is not in (5000, 15000) range"
          ]
        }
      ]
    },
    {
      "cell_type": "markdown",
      "metadata": {
        "id": "rJCT86jUxfFx"
      },
      "source": [
        "Here, we have overridden the constructor of the Exception class to accept our own custom arguments salary and message. Then, the constructor of the parent Exception class is called manually with the self.message argument using super().\n",
        "\n",
        "The custom self.salary attribute is defined to be used later.\n",
        "\n",
        "The inherited __str__ method of the Exception class is then used to display the corresponding message when SalaryNotInRangeError is raised.\n",
        "\n",
        "We can also customize the __str__ method itself by overriding it.\n",
        "\n"
      ]
    },
    {
      "cell_type": "code",
      "metadata": {
        "colab": {
          "base_uri": "https://localhost:8080/",
          "height": 214
        },
        "id": "df-b00TKxiYd",
        "outputId": "110ac3fc-9ca5-4a8a-9fbb-e270f1586e8f"
      },
      "source": [
        "class SalaryNotInRangeError(Exception):\n",
        "    \"\"\"Exception raised for errors in the input salary.\n",
        "\n",
        "    Attributes:\n",
        "        salary -- input salary which caused the error\n",
        "        message -- explanation of the error\n",
        "    \"\"\"\n",
        "\n",
        "    def __init__(self, salary, message=\"Salary is not in (5000, 15000) range\"):\n",
        "        self.salary = salary\n",
        "        self.message = message\n",
        "        super().__init__(self.message)\n",
        "\n",
        "    def __str__(self):\n",
        "        return f'{self.salary} -> {self.message}'\n",
        "\n",
        "\n",
        "salary = int(input(\"Enter salary amount: \"))\n",
        "if not 5000 < salary < 15000:\n",
        "    raise SalaryNotInRangeError(salary)"
      ],
      "execution_count": 6,
      "outputs": [
        {
          "name": "stdout",
          "output_type": "stream",
          "text": [
            "Enter salary amount: 2000\n"
          ]
        },
        {
          "output_type": "error",
          "ename": "SalaryNotInRangeError",
          "evalue": "ignored",
          "traceback": [
            "\u001b[0;31m---------------------------------------------------------------------------\u001b[0m",
            "\u001b[0;31mSalaryNotInRangeError\u001b[0m                     Traceback (most recent call last)",
            "\u001b[0;32m<ipython-input-6-c454c1331524>\u001b[0m in \u001b[0;36m<module>\u001b[0;34m()\u001b[0m\n\u001b[1;32m     18\u001b[0m \u001b[0msalary\u001b[0m \u001b[0;34m=\u001b[0m \u001b[0mint\u001b[0m\u001b[0;34m(\u001b[0m\u001b[0minput\u001b[0m\u001b[0;34m(\u001b[0m\u001b[0;34m\"Enter salary amount: \"\u001b[0m\u001b[0;34m)\u001b[0m\u001b[0;34m)\u001b[0m\u001b[0;34m\u001b[0m\u001b[0;34m\u001b[0m\u001b[0m\n\u001b[1;32m     19\u001b[0m \u001b[0;32mif\u001b[0m \u001b[0;32mnot\u001b[0m \u001b[0;36m5000\u001b[0m \u001b[0;34m<\u001b[0m \u001b[0msalary\u001b[0m \u001b[0;34m<\u001b[0m \u001b[0;36m15000\u001b[0m\u001b[0;34m:\u001b[0m\u001b[0;34m\u001b[0m\u001b[0;34m\u001b[0m\u001b[0m\n\u001b[0;32m---> 20\u001b[0;31m     \u001b[0;32mraise\u001b[0m \u001b[0mSalaryNotInRangeError\u001b[0m\u001b[0;34m(\u001b[0m\u001b[0msalary\u001b[0m\u001b[0;34m)\u001b[0m\u001b[0;34m\u001b[0m\u001b[0;34m\u001b[0m\u001b[0m\n\u001b[0m",
            "\u001b[0;31mSalaryNotInRangeError\u001b[0m: 2000 -> Salary is not in (5000, 15000) range"
          ]
        }
      ]
    }
  ]
}
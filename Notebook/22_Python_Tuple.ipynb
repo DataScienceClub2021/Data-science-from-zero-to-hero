{
  "nbformat": 4,
  "nbformat_minor": 0,
  "metadata": {
    "colab": {
      "name": "22- Python Tuple.ipynb",
      "provenance": []
    },
    "kernelspec": {
      "name": "python3",
      "display_name": "Python 3"
    },
    "language_info": {
      "name": "python"
    }
  },
  "cells": [
    {
      "cell_type": "markdown",
      "metadata": {
        "id": "EfG-e1dhCcvK"
      },
      "source": [
        "### Creating a Tuple\n",
        "A tuple is created by placing all the items (elements) inside parentheses (), separated by commas. The parentheses are optional, however, it is a good practice to use them.\n",
        "\n",
        "A tuple can have any number of items and they may be of different types (integer, float, list, string, etc.)."
      ]
    },
    {
      "cell_type": "code",
      "metadata": {
        "colab": {
          "base_uri": "https://localhost:8080/"
        },
        "id": "JTSy3KavCZfO",
        "outputId": "eb7f2027-c98b-495d-83d7-fc6f214801b7"
      },
      "source": [
        "# Different types of tuples\n",
        "\n",
        "# Empty tuple\n",
        "my_tuple = ()\n",
        "print(my_tuple)\n",
        "\n",
        "# Tuple having integers\n",
        "my_tuple = (1, 2, 3)\n",
        "print(my_tuple)\n",
        "\n",
        "# tuple with mixed datatypes\n",
        "my_tuple = (1, \"Hello\", 3.4)\n",
        "print(my_tuple)\n",
        "\n",
        "# nested tuple\n",
        "my_tuple = (\"mouse\", [8, 4, 6], (1, 2, 3))\n",
        "print(my_tuple)"
      ],
      "execution_count": 1,
      "outputs": [
        {
          "output_type": "stream",
          "name": "stdout",
          "text": [
            "()\n",
            "(1, 2, 3)\n",
            "(1, 'Hello', 3.4)\n",
            "('mouse', [8, 4, 6], (1, 2, 3))\n"
          ]
        }
      ]
    },
    {
      "cell_type": "code",
      "metadata": {
        "colab": {
          "base_uri": "https://localhost:8080/"
        },
        "id": "s5bknIH0CfoL",
        "outputId": "92f5ff98-bdb7-4ced-a0d9-dbd81376d5cd"
      },
      "source": [
        "my_tuple = 3, 4.6, \"dog\"\n",
        "print(my_tuple)\n",
        "\n",
        "# tuple unpacking is also possible\n",
        "a, b, c = my_tuple\n",
        "\n",
        "print(a)      # 3\n",
        "print(b)      # 4.6\n",
        "print(c)      # dog"
      ],
      "execution_count": 2,
      "outputs": [
        {
          "output_type": "stream",
          "name": "stdout",
          "text": [
            "(3, 4.6, 'dog')\n",
            "3\n",
            "4.6\n",
            "dog\n"
          ]
        }
      ]
    },
    {
      "cell_type": "markdown",
      "metadata": {
        "id": "coVxYu0ZCjOa"
      },
      "source": [
        "Creating a tuple with one element is a bit tricky.\n",
        "\n",
        "Having one element within parentheses is not enough. We will need a trailing comma to indicate that it is, in fact, a tuple."
      ]
    },
    {
      "cell_type": "code",
      "metadata": {
        "colab": {
          "base_uri": "https://localhost:8080/"
        },
        "id": "JdAwa11LChXE",
        "outputId": "b6a66d0e-8688-4c76-a74c-67b6203f8880"
      },
      "source": [
        "my_tuple = (\"hello\")\n",
        "print(type(my_tuple))  # <class 'str'>\n",
        "\n",
        "# Creating a tuple having one element\n",
        "my_tuple = (\"hello\",)\n",
        "print(type(my_tuple))  # <class 'tuple'>\n",
        "\n",
        "# Parentheses is optional\n",
        "my_tuple = \"hello\",\n",
        "print(type(my_tuple))  # <class 'tuple'>"
      ],
      "execution_count": 3,
      "outputs": [
        {
          "output_type": "stream",
          "name": "stdout",
          "text": [
            "<class 'str'>\n",
            "<class 'tuple'>\n",
            "<class 'tuple'>\n"
          ]
        }
      ]
    },
    {
      "cell_type": "markdown",
      "metadata": {
        "id": "feH45rcYCl_P"
      },
      "source": [
        "### Access Tuple Elements\n"
      ]
    },
    {
      "cell_type": "markdown",
      "metadata": {
        "id": "iDEZciJ9Cn1Q"
      },
      "source": [
        "There are various ways in which we can access the elements of a tuple.\n",
        "\n",
        "### 1. Indexing\n",
        "We can use the index operator [] to access an item in a tuple, where the index starts from 0.\n",
        "\n",
        "So, a tuple having 6 elements will have indices from 0 to 5. Trying to access an index outside of the tuple index range(6,7,... in this example) will raise an IndexError.\n",
        "\n",
        "The index must be an integer, so we cannot use float or other types. This will result in TypeError.\n",
        "\n",
        "Likewise, nested tuples are accessed using nested indexing, as shown in the example below."
      ]
    },
    {
      "cell_type": "code",
      "metadata": {
        "colab": {
          "base_uri": "https://localhost:8080/"
        },
        "id": "eLkRGdvqCkgm",
        "outputId": "6cd1b283-214a-441d-d4b1-90df337eff2c"
      },
      "source": [
        "# Accessing tuple elements using indexing\n",
        "my_tuple = ('p','e','r','m','i','t')\n",
        "\n",
        "print(my_tuple[0])   # 'p' \n",
        "print(my_tuple[5])   # 't'\n",
        "\n",
        "# IndexError: list index out of range\n",
        "# print(my_tuple[6])\n",
        "\n",
        "# Index must be an integer\n",
        "# TypeError: list indices must be integers, not float\n",
        "# my_tuple[2.0]\n",
        "\n",
        "# nested tuple\n",
        "n_tuple = (\"mouse\", [8, 4, 6], (1, 2, 3))\n",
        "\n",
        "# nested index\n",
        "print(n_tuple[0][3])       # 's'\n",
        "print(n_tuple[1][1])       # 4"
      ],
      "execution_count": 4,
      "outputs": [
        {
          "output_type": "stream",
          "name": "stdout",
          "text": [
            "p\n",
            "t\n",
            "s\n",
            "4\n"
          ]
        }
      ]
    },
    {
      "cell_type": "markdown",
      "metadata": {
        "id": "VzN-hhgqCrku"
      },
      "source": [
        "### 2. Negative Indexing\n",
        "Python allows negative indexing for its sequences.\n",
        "\n",
        "The index of -1 refers to the last item, -2 to the second last item and so on."
      ]
    },
    {
      "cell_type": "code",
      "metadata": {
        "colab": {
          "base_uri": "https://localhost:8080/"
        },
        "id": "On5DDrhUCqHp",
        "outputId": "07d06b7b-951d-49f6-bbe6-4331ed99092b"
      },
      "source": [
        "# Negative indexing for accessing tuple elements\n",
        "my_tuple = ('p', 'e', 'r', 'm', 'i', 't')\n",
        "\n",
        "# Output: 't'\n",
        "print(my_tuple[-1])\n",
        "\n",
        "# Output: 'p'\n",
        "print(my_tuple[-6])"
      ],
      "execution_count": 5,
      "outputs": [
        {
          "output_type": "stream",
          "name": "stdout",
          "text": [
            "t\n",
            "p\n"
          ]
        }
      ]
    },
    {
      "cell_type": "markdown",
      "metadata": {
        "id": "hgI2WhKtCv3A"
      },
      "source": [
        "### 3. Slicing\n",
        "We can access a range of items in a tuple by using the slicing operator colon :."
      ]
    },
    {
      "cell_type": "code",
      "metadata": {
        "colab": {
          "base_uri": "https://localhost:8080/"
        },
        "id": "9ZIQdDxsCt3i",
        "outputId": "014d2a2d-efad-457d-d3f2-78260a72bb7f"
      },
      "source": [
        "# Accessing tuple elements using slicing\n",
        "my_tuple = ('p','r','o','g','r','a','m','i','z')\n",
        "\n",
        "# elements 2nd to 4th\n",
        "# Output: ('r', 'o', 'g')\n",
        "print(my_tuple[1:4])\n",
        "\n",
        "# elements beginning to 2nd\n",
        "# Output: ('p', 'r')\n",
        "print(my_tuple[:-7])\n",
        "\n",
        "# elements 8th to end\n",
        "# Output: ('i', 'z')\n",
        "print(my_tuple[7:])\n",
        "\n",
        "# elements beginning to end\n",
        "# Output: ('p', 'r', 'o', 'g', 'r', 'a', 'm', 'i', 'z')\n",
        "print(my_tuple[:])"
      ],
      "execution_count": 6,
      "outputs": [
        {
          "output_type": "stream",
          "name": "stdout",
          "text": [
            "('r', 'o', 'g')\n",
            "('p', 'r')\n",
            "('i', 'z')\n",
            "('p', 'r', 'o', 'g', 'r', 'a', 'm', 'i', 'z')\n"
          ]
        }
      ]
    },
    {
      "cell_type": "markdown",
      "metadata": {
        "id": "X6acES55C0Tw"
      },
      "source": [
        "![image.png](data:image/png;base64,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)"
      ]
    },
    {
      "cell_type": "markdown",
      "metadata": {
        "id": "0oZKtgueC1vX"
      },
      "source": [
        "### Changing a Tuple\n",
        "Unlike lists, tuples are immutable.\n",
        "\n",
        "This means that elements of a tuple cannot be changed once they have been assigned. But, if the element is itself a mutable data type like a list, its nested items can be changed.\n",
        "\n",
        "We can also assign a tuple to different values (reassignment)."
      ]
    },
    {
      "cell_type": "code",
      "metadata": {
        "colab": {
          "base_uri": "https://localhost:8080/"
        },
        "id": "CvsyxHgHCyVu",
        "outputId": "46337663-eb98-42c0-bcac-39e0af2ceb38"
      },
      "source": [
        "# Changing tuple values\n",
        "my_tuple = (4, 2, 3, [6, 5])\n",
        "\n",
        "\n",
        "# TypeError: 'tuple' object does not support item assignment\n",
        "# my_tuple[1] = 9\n",
        "\n",
        "# However, item of mutable element can be changed\n",
        "my_tuple[3][0] = 9    # Output: (4, 2, 3, [9, 5])\n",
        "print(my_tuple)\n",
        "\n",
        "# Tuples can be reassigned\n",
        "my_tuple = ('p', 'r', 'o', 'g', 'r', 'a', 'm', 'i', 'z')\n",
        "\n",
        "# Output: ('p', 'r', 'o', 'g', 'r', 'a', 'm', 'i', 'z')\n",
        "print(my_tuple)"
      ],
      "execution_count": 7,
      "outputs": [
        {
          "output_type": "stream",
          "name": "stdout",
          "text": [
            "(4, 2, 3, [9, 5])\n",
            "('p', 'r', 'o', 'g', 'r', 'a', 'm', 'i', 'z')\n"
          ]
        }
      ]
    },
    {
      "cell_type": "markdown",
      "metadata": {
        "id": "Ub--KfUoC55Z"
      },
      "source": [
        "We can use + operator to combine two tuples. This is called **concatenation**.\n",
        "\n",
        "We can also **repeat** the elements in a tuple for a given number of times using the * operator.\n",
        "\n",
        "Both + and * operations result in a new tuple."
      ]
    },
    {
      "cell_type": "code",
      "metadata": {
        "colab": {
          "base_uri": "https://localhost:8080/"
        },
        "id": "in61PmKiC3-B",
        "outputId": "6a243078-1914-4769-fdcf-ca21f4025200"
      },
      "source": [
        "# Concatenation\n",
        "# Output: (1, 2, 3, 4, 5, 6)\n",
        "print((1, 2, 3) + (4, 5, 6))\n",
        "\n",
        "# Repeat\n",
        "# Output: ('Repeat', 'Repeat', 'Repeat')\n",
        "print((\"Repeat\",) * 3)"
      ],
      "execution_count": 8,
      "outputs": [
        {
          "output_type": "stream",
          "name": "stdout",
          "text": [
            "(1, 2, 3, 4, 5, 6)\n",
            "('Repeat', 'Repeat', 'Repeat')\n"
          ]
        }
      ]
    },
    {
      "cell_type": "markdown",
      "metadata": {
        "id": "vs9DmfbTC_6o"
      },
      "source": [
        "### Deleting a Tuple\n"
      ]
    },
    {
      "cell_type": "markdown",
      "metadata": {
        "id": "lV9lbqoJDDZf"
      },
      "source": [
        "As discussed above, we cannot change the elements in a tuple. It means that we cannot delete or remove items from a tuple.\n",
        "\n",
        "Deleting a tuple entirely, however, is possible using the keyword **del.**"
      ]
    },
    {
      "cell_type": "code",
      "metadata": {
        "colab": {
          "base_uri": "https://localhost:8080/",
          "height": 191
        },
        "id": "SOcjOMWXC95F",
        "outputId": "7ef9ffc8-7270-4e26-b506-a5990b5a3b79"
      },
      "source": [
        "# Deleting tuples\n",
        "my_tuple = ('p', 'r', 'o', 'g', 'r', 'a', 'm', 'i', 'z')\n",
        "\n",
        "# can't delete items\n",
        "# TypeError: 'tuple' object doesn't support item deletion\n",
        "# del my_tuple[3]\n",
        "\n",
        "# Can delete an entire tuple\n",
        "del my_tuple\n",
        "\n",
        "# NameError: name 'my_tuple' is not defined\n",
        "print(my_tuple)"
      ],
      "execution_count": 9,
      "outputs": [
        {
          "output_type": "error",
          "ename": "NameError",
          "evalue": "ignored",
          "traceback": [
            "\u001b[0;31m---------------------------------------------------------------------------\u001b[0m",
            "\u001b[0;31mNameError\u001b[0m                                 Traceback (most recent call last)",
            "\u001b[0;32m<ipython-input-9-6d502a6648b0>\u001b[0m in \u001b[0;36m<module>\u001b[0;34m()\u001b[0m\n\u001b[1;32m     10\u001b[0m \u001b[0;34m\u001b[0m\u001b[0m\n\u001b[1;32m     11\u001b[0m \u001b[0;31m# NameError: name 'my_tuple' is not defined\u001b[0m\u001b[0;34m\u001b[0m\u001b[0;34m\u001b[0m\u001b[0;34m\u001b[0m\u001b[0m\n\u001b[0;32m---> 12\u001b[0;31m \u001b[0mprint\u001b[0m\u001b[0;34m(\u001b[0m\u001b[0mmy_tuple\u001b[0m\u001b[0;34m)\u001b[0m\u001b[0;34m\u001b[0m\u001b[0;34m\u001b[0m\u001b[0m\n\u001b[0m",
            "\u001b[0;31mNameError\u001b[0m: name 'my_tuple' is not defined"
          ]
        }
      ]
    },
    {
      "cell_type": "markdown",
      "metadata": {
        "id": "uChRZW3QDGn9"
      },
      "source": [
        "### Tuple Methods\n",
        "Methods that add items or remove items are not available with tuple. Only the following two methods are available.\n",
        "\n",
        "Some examples of Python tuple methods:"
      ]
    },
    {
      "cell_type": "code",
      "metadata": {
        "colab": {
          "base_uri": "https://localhost:8080/"
        },
        "id": "lbI7W4i2DB9d",
        "outputId": "3a3a4c64-7590-4e84-a627-88162ce0ee00"
      },
      "source": [
        "my_tuple = ('a', 'p', 'p', 'l', 'e',)\n",
        "\n",
        "print(my_tuple.count('p'))  # Output: 2\n",
        "print(my_tuple.index('l'))  # Output: 3"
      ],
      "execution_count": 10,
      "outputs": [
        {
          "output_type": "stream",
          "name": "stdout",
          "text": [
            "2\n",
            "3\n"
          ]
        }
      ]
    },
    {
      "cell_type": "markdown",
      "metadata": {
        "id": "JetFC_q0DKrQ"
      },
      "source": [
        "### Other Tuple Operations\n",
        "#### 1. Tuple Membership Test\n",
        "We can test if an item exists in a tuple or not, using the keyword in."
      ]
    },
    {
      "cell_type": "code",
      "metadata": {
        "colab": {
          "base_uri": "https://localhost:8080/"
        },
        "id": "hh5ko3gGDIo5",
        "outputId": "68d121cd-b7f3-41c4-f65b-29221c65bc02"
      },
      "source": [
        "# Membership test in tuple\n",
        "my_tuple = ('a', 'p', 'p', 'l', 'e',)\n",
        "\n",
        "# In operation\n",
        "print('a' in my_tuple)\n",
        "print('b' in my_tuple)\n",
        "\n",
        "# Not in operation\n",
        "print('g' not in my_tuple)"
      ],
      "execution_count": 11,
      "outputs": [
        {
          "output_type": "stream",
          "name": "stdout",
          "text": [
            "True\n",
            "False\n",
            "True\n"
          ]
        }
      ]
    },
    {
      "cell_type": "markdown",
      "metadata": {
        "id": "VhjA2Ge1DQSl"
      },
      "source": [
        "#### 2. Iterating Through a Tuple\n",
        "We can use a for loop to iterate through each item in a tuple."
      ]
    },
    {
      "cell_type": "code",
      "metadata": {
        "colab": {
          "base_uri": "https://localhost:8080/"
        },
        "id": "Nl8ILRoDDMrY",
        "outputId": "0149d33c-7591-4b12-8826-8b29fecfa857"
      },
      "source": [
        "# Using a for loop to iterate through a tuple\n",
        "for name in ('John', 'Kate'):\n",
        "    print(\"Hello\", name)"
      ],
      "execution_count": 12,
      "outputs": [
        {
          "output_type": "stream",
          "name": "stdout",
          "text": [
            "Hello John\n",
            "Hello Kate\n"
          ]
        }
      ]
    },
    {
      "cell_type": "markdown",
      "metadata": {
        "id": "JfoiM2v5DT4V"
      },
      "source": [
        "Advantages of Tuple over List\n",
        "Since tuples are quite similar to lists, both of them are used in similar situations. However, there are certain advantages of implementing a tuple over a list. Below listed are some of the main advantages:\n",
        "\n",
        "* We generally use tuples for heterogeneous (different) data types and lists for homogeneous (similar) data types.\n",
        "* Since tuples are immutable, iterating through a tuple is faster than with list. So there is a slight performance boost.\n",
        "* Tuples that contain immutable elements can be used as a key for a dictionary. With lists, this is not possible.\n",
        "* If you have data that doesn't change, implementing it as tuple will guarantee that it remains write-protected."
      ]
    }
  ]
}
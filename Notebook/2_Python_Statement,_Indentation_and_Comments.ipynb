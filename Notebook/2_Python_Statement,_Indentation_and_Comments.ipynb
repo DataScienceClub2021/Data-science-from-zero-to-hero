{
  "nbformat": 4,
  "nbformat_minor": 0,
  "metadata": {
    "colab": {
      "name": "2- Python Statement, Indentation and Comments.ipynb",
      "provenance": []
    },
    "kernelspec": {
      "name": "python3",
      "display_name": "Python 3"
    },
    "language_info": {
      "name": "python"
    }
  },
  "cells": [
    {
      "cell_type": "code",
      "metadata": {
        "colab": {
          "base_uri": "https://localhost:8080/"
        },
        "id": "-1Bqc2krGzOa",
        "outputId": "a81dfeec-69dc-4209-9022-36e3c31cb8bf"
      },
      "source": [
        "print(\"Hello\",\"Welcome\",\"Mostafa\",sep='@',end=\"Done\")"
      ],
      "execution_count": 53,
      "outputs": [
        {
          "output_type": "stream",
          "name": "stdout",
          "text": [
            "Hello@Welcome@MostafaDone"
          ]
        }
      ]
    },
    {
      "cell_type": "markdown",
      "metadata": {
        "id": "HmoLaWx7CbrZ"
      },
      "source": [
        "### Python Statement\n",
        "Instructions that a Python interpreter can execute are called statements. For example, a = 1 is an assignment statement. if statement, for statement, while statement, etc. are other kinds of statements which will be discussed later."
      ]
    },
    {
      "cell_type": "markdown",
      "metadata": {
        "id": "LxYIVqdtCgW2"
      },
      "source": [
        "### Multi-line statement\n",
        "In Python, the end of a statement is marked by a newline character. But we can make a statement extend over multiple lines with the line continuation character (\\). For example:\n",
        "\n"
      ]
    },
    {
      "cell_type": "code",
      "metadata": {
        "colab": {
          "base_uri": "https://localhost:8080/"
        },
        "id": "KDsuUaWeCkXY",
        "outputId": "07d7b7a9-1257-4e59-ba1e-cce5a6110164"
      },
      "source": [
        "a = 10\\\n",
        "    +10\n",
        "print(a)"
      ],
      "execution_count": 59,
      "outputs": [
        {
          "output_type": "stream",
          "name": "stdout",
          "text": [
            "20\n"
          ]
        }
      ]
    },
    {
      "cell_type": "code",
      "metadata": {
        "colab": {
          "base_uri": "https://localhost:8080/"
        },
        "id": "BvC73R-qIpia",
        "outputId": "d4c7a2a0-af93-4700-d1fe-cac3bb26726d"
      },
      "source": [
        "a = 10;b = 100;c = 100; m = 200;print(a,\"\\n\",b,sep='')"
      ],
      "execution_count": 68,
      "outputs": [
        {
          "output_type": "stream",
          "name": "stdout",
          "text": [
            "10\n",
            "100\n"
          ]
        }
      ]
    },
    {
      "cell_type": "markdown",
      "metadata": {
        "id": "N6QMcYNyCs2Q"
      },
      "source": [
        "### Python Indentation\n",
        "Most of the programming languages like C, C++, and Java use braces { } to define a block of code. Python, however, uses indentation.\n",
        "\n",
        "A code block (body of a function, loop, etc.) starts with indentation and ends with the first unindented line. The amount of indentation is up to you, but it must be consistent throughout that block.\n",
        "\n",
        "Generally, four whitespaces are used for indentation and are preferred over tabs. Here is an example.\n",
        "\n"
      ]
    },
    {
      "cell_type": "code",
      "metadata": {
        "colab": {
          "base_uri": "https://localhost:8080/",
          "height": 129
        },
        "id": "rkVoXyt0DIRx",
        "outputId": "fccc6a41-fc05-4459-885b-9da4d7274cb3"
      },
      "source": [
        "if True :\n",
        "print(\"Hello\")"
      ],
      "execution_count": 75,
      "outputs": [
        {
          "output_type": "error",
          "ename": "IndentationError",
          "evalue": "ignored",
          "traceback": [
            "\u001b[0;36m  File \u001b[0;32m\"<ipython-input-75-14f9c715b682>\"\u001b[0;36m, line \u001b[0;32m2\u001b[0m\n\u001b[0;31m    print(\"Hello\")\u001b[0m\n\u001b[0m        ^\u001b[0m\n\u001b[0;31mIndentationError\u001b[0m\u001b[0;31m:\u001b[0m expected an indented block\n"
          ]
        }
      ]
    },
    {
      "cell_type": "markdown",
      "metadata": {
        "id": "cl3bDI3vDmp-"
      },
      "source": [
        "both are valid and do the same thing, but the former style is clearer.\n",
        "\n",
        "Incorrect indentation will result in **IndentationError.**\n",
        "\n"
      ]
    },
    {
      "cell_type": "markdown",
      "metadata": {
        "id": "aDJwS2RtDYu_"
      },
      "source": [
        "### Python Comments\n"
      ]
    },
    {
      "cell_type": "markdown",
      "metadata": {
        "id": "svtJVYQEDYsE"
      },
      "source": [
        "Comments are very important while writing a program. They describe what is going on inside a program, so that a person looking at the source code does not have a hard time figuring it out.\n",
        "\n",
        "You might forget the key details of the program you just wrote in a month's time. So taking the time to explain these concepts in the form of comments is always fruitful.\n",
        "\n",
        "In Python, we use the hash (#) symbol to start writing a comment.\n",
        "\n",
        "It extends up to the newline character. Comments are for programmers to better understand a program. Python Interpreter ignores comments."
      ]
    },
    {
      "cell_type": "markdown",
      "metadata": {
        "id": "4NOR9DQSDgAl"
      },
      "source": [
        "Another way of doing this is to use triple quotes, either ''' or \"\"\".\n",
        "\n",
        "These triple quotes are generally used for multi-line strings. But they can be used as a multi-line comment as well. Unless they are not docstrings, they do not generate any extra code.\n",
        "\n"
      ]
    },
    {
      "cell_type": "code",
      "metadata": {
        "colab": {
          "base_uri": "https://localhost:8080/"
        },
        "id": "HmL3NAYlNZKn",
        "outputId": "69a97e6e-de1a-4c49-d8f9-362e114c6342"
      },
      "source": [
        "print(\"Another way of doing this is to use triple quotes, either ''' or \\\n",
        "These triple quotes are generally used for multi-line strings. But they can be used as a multi-line comment as well. Unless they are not docstrings, they do not generate any extra code.\")"
      ],
      "execution_count": 82,
      "outputs": [
        {
          "output_type": "stream",
          "name": "stdout",
          "text": [
            "Another way of doing this is to use triple quotes, either ''' or These triple quotes are generally used for multi-line strings. But they can be used as a multi-line comment as well. Unless they are not docstrings, they do not generate any extra code.\n"
          ]
        }
      ]
    },
    {
      "cell_type": "markdown",
      "metadata": {
        "id": "vLRlCgYpDf9K"
      },
      "source": [
        "### Docstrings in Python\n"
      ]
    },
    {
      "cell_type": "markdown",
      "metadata": {
        "id": "Y7qYhCFoDqhY"
      },
      "source": [
        "A docstring is short for documentation string.\n",
        "\n",
        "Python docstrings (documentation strings) are the string literals that appear right after the definition of a function, method, class, or module.\n",
        "\n",
        "Triple quotes are used while writing docstrings. For example:"
      ]
    },
    {
      "cell_type": "code",
      "metadata": {
        "id": "vDdGYWvWDWOh"
      },
      "source": [
        "def double(num):\n",
        "    \"\"\"Function to double the value\"\"\"\n",
        "    return 2*num"
      ],
      "execution_count": 83,
      "outputs": []
    },
    {
      "cell_type": "code",
      "metadata": {
        "colab": {
          "base_uri": "https://localhost:8080/"
        },
        "id": "aE6aTnrhDyyV",
        "outputId": "956382a6-a3f0-4e85-c446-6693746d0c3f"
      },
      "source": [
        "def double(num):\n",
        "    \"\"\"Function to double the value\"\"\"\n",
        "    return 2*num\n",
        "print(double.__doc__)"
      ],
      "execution_count": 84,
      "outputs": [
        {
          "output_type": "stream",
          "name": "stdout",
          "text": [
            "Function to double the value\n"
          ]
        }
      ]
    }
  ]
}
{
  "nbformat": 4,
  "nbformat_minor": 0,
  "metadata": {
    "colab": {
      "name": "Python timestamp to datetime and vice-versa.ipynb",
      "provenance": [],
      "collapsed_sections": []
    },
    "kernelspec": {
      "name": "python3",
      "display_name": "Python 3"
    },
    "language_info": {
      "name": "python"
    }
  },
  "cells": [
    {
      "cell_type": "markdown",
      "source": [
        "You will learn to convert timestamp to datetime object and datetime object to timestamp (with the help of examples).\n",
        "\n",
        "It's pretty common to store date and time as a timestamp in a database. A Unix timestamp is the number of seconds between a particular date and January 1, 1970 at UTC."
      ],
      "metadata": {
        "id": "CH6FgF_AlTH8"
      }
    },
    {
      "cell_type": "markdown",
      "source": [
        "### Example 1: Python timestamp to datetime\n"
      ],
      "metadata": {
        "id": "9KZueiLGlVSb"
      }
    },
    {
      "cell_type": "code",
      "execution_count": null,
      "metadata": {
        "colab": {
          "base_uri": "https://localhost:8080/"
        },
        "id": "qzna3_ONlMvv",
        "outputId": "d567e48a-aafb-4e11-a329-5ede737f02f4"
      },
      "outputs": [
        {
          "output_type": "stream",
          "name": "stdout",
          "text": [
            "dt_object = 2018-12-25 09:27:53\n",
            "type(dt_object) = <class 'datetime.datetime'>\n"
          ]
        }
      ],
      "source": [
        "from datetime import datetime\n",
        "\n",
        "timestamp = 1545730073\n",
        "dt_object = datetime.fromtimestamp(timestamp)\n",
        "\n",
        "print(\"dt_object =\", dt_object)\n",
        "print(\"type(dt_object) =\", type(dt_object))"
      ]
    },
    {
      "cell_type": "markdown",
      "source": [
        "Here, we have imported datetime class from the datetime module. Then, we used datetime.fromtimestamp() classmethod which returns the local date and time (datetime object). This object is stored in dt_object variable."
      ],
      "metadata": {
        "id": "dyLmrsx2lc2n"
      }
    },
    {
      "cell_type": "markdown",
      "source": [
        "### Example 2: Python datetime to timestamp\n"
      ],
      "metadata": {
        "id": "TDeha_bOlv6o"
      }
    },
    {
      "cell_type": "code",
      "source": [
        "from datetime import datetime\n",
        "\n",
        "# current date and time\n",
        "now = datetime.now()\n",
        "\n",
        "timestamp = datetime.timestamp(now)\n",
        "print(\"timestamp =\", timestamp)"
      ],
      "metadata": {
        "colab": {
          "base_uri": "https://localhost:8080/"
        },
        "id": "c3fVPT-1lXcP",
        "outputId": "fe92c466-bece-4464-92f6-f98575798a62"
      },
      "execution_count": null,
      "outputs": [
        {
          "output_type": "stream",
          "name": "stdout",
          "text": [
            "timestamp = 1645049485.911692\n"
          ]
        }
      ]
    },
    {
      "cell_type": "code",
      "source": [
        ""
      ],
      "metadata": {
        "id": "VqtJsWLFlxkW"
      },
      "execution_count": null,
      "outputs": []
    }
  ]
}
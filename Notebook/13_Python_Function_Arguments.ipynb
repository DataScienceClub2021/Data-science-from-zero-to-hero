{
  "nbformat": 4,
  "nbformat_minor": 0,
  "metadata": {
    "colab": {
      "name": "13- Python Function Arguments.ipynb",
      "provenance": []
    },
    "kernelspec": {
      "name": "python3",
      "display_name": "Python 3"
    },
    "language_info": {
      "name": "python"
    }
  },
  "cells": [
    {
      "cell_type": "markdown",
      "metadata": {
        "id": "hvlOoBt3RK1E"
      },
      "source": [
        "### Arguments"
      ]
    },
    {
      "cell_type": "markdown",
      "metadata": {
        "id": "sa8O46d0RG3k"
      },
      "source": [
        "Here, the function greet() has two parameters.\n",
        "\n",
        "Since we have called this function with two arguments, it runs smoothly and we do not get any error.\n",
        "\n",
        "If we call it with a different number of arguments, the interpreter will show an error message. Below is a call to this function with one and no arguments along with their respective error messages."
      ]
    },
    {
      "cell_type": "code",
      "metadata": {
        "colab": {
          "base_uri": "https://localhost:8080/"
        },
        "id": "iq4-Z6mAH9AD",
        "outputId": "e8db7795-872c-425a-de0d-b78b93b557bc"
      },
      "source": [
        "def greet(name, msg):\n",
        "    \"\"\"This function greets to\n",
        "    the person with the provided message\"\"\"\n",
        "    print(\"Hello\", name + ', ' + msg)\n",
        "\n",
        "greet(\"Monica\", \"Good morning!\")"
      ],
      "execution_count": 1,
      "outputs": [
        {
          "output_type": "stream",
          "name": "stdout",
          "text": [
            "Hello Monica, Good morning!\n"
          ]
        }
      ]
    },
    {
      "cell_type": "code",
      "metadata": {
        "colab": {
          "base_uri": "https://localhost:8080/",
          "height": 163
        },
        "id": "yNRAf1RCRJXX",
        "outputId": "5a78cb41-16ac-423a-ee45-db019041cb90"
      },
      "source": [
        "greet(\"Monica\")"
      ],
      "execution_count": 2,
      "outputs": [
        {
          "output_type": "error",
          "ename": "TypeError",
          "evalue": "ignored",
          "traceback": [
            "\u001b[0;31m---------------------------------------------------------------------------\u001b[0m",
            "\u001b[0;31mTypeError\u001b[0m                                 Traceback (most recent call last)",
            "\u001b[0;32m<ipython-input-2-64e0768f0ada>\u001b[0m in \u001b[0;36m<module>\u001b[0;34m()\u001b[0m\n\u001b[0;32m----> 1\u001b[0;31m \u001b[0mgreet\u001b[0m\u001b[0;34m(\u001b[0m\u001b[0;34m\"Monica\"\u001b[0m\u001b[0;34m)\u001b[0m\u001b[0;34m\u001b[0m\u001b[0;34m\u001b[0m\u001b[0m\n\u001b[0m",
            "\u001b[0;31mTypeError\u001b[0m: greet() missing 1 required positional argument: 'msg'"
          ]
        }
      ]
    },
    {
      "cell_type": "code",
      "metadata": {
        "colab": {
          "base_uri": "https://localhost:8080/",
          "height": 163
        },
        "id": "VXUFDhlERPYt",
        "outputId": "3b844432-5744-43e1-907c-75900d3fbcf4"
      },
      "source": [
        "greet()"
      ],
      "execution_count": 3,
      "outputs": [
        {
          "output_type": "error",
          "ename": "TypeError",
          "evalue": "ignored",
          "traceback": [
            "\u001b[0;31m---------------------------------------------------------------------------\u001b[0m",
            "\u001b[0;31mTypeError\u001b[0m                                 Traceback (most recent call last)",
            "\u001b[0;32m<ipython-input-3-db845682bfe7>\u001b[0m in \u001b[0;36m<module>\u001b[0;34m()\u001b[0m\n\u001b[0;32m----> 1\u001b[0;31m \u001b[0mgreet\u001b[0m\u001b[0;34m(\u001b[0m\u001b[0;34m)\u001b[0m\u001b[0;34m\u001b[0m\u001b[0;34m\u001b[0m\u001b[0m\n\u001b[0m",
            "\u001b[0;31mTypeError\u001b[0m: greet() missing 2 required positional arguments: 'name' and 'msg'"
          ]
        }
      ]
    },
    {
      "cell_type": "markdown",
      "metadata": {
        "id": "sOZ-uY6ZRXCA"
      },
      "source": [
        "### Variable Function Arguments\n",
        "Up until now, functions had a fixed number of arguments. In Python, there are other ways to define a function that can take variable number of arguments.\n",
        "\n",
        "Three different forms of this type are described below.\n",
        "\n",
        "### Python Default Arguments\n",
        "Function arguments can have default values in Python.\n",
        "\n",
        "We can provide a default value to an argument by using the assignment operator (=). Here is an example."
      ]
    },
    {
      "cell_type": "code",
      "metadata": {
        "colab": {
          "base_uri": "https://localhost:8080/"
        },
        "id": "wXM_L4UQRSgs",
        "outputId": "ff986cdf-3049-4e38-babf-70e6b0bc2db7"
      },
      "source": [
        "def greet(name, msg=\"Good morning!\"):\n",
        "    \"\"\"\n",
        "    This function greets to\n",
        "    the person with the\n",
        "    provided message.\n",
        "\n",
        "    If the message is not provided,\n",
        "    it defaults to \"Good\n",
        "    morning!\"\n",
        "    \"\"\"\n",
        "\n",
        "    print(\"Hello\", name + ', ' + msg)\n",
        "\n",
        "\n",
        "greet(\"Kate\")\n",
        "greet(\"Bruce\", \"How do you do?\")"
      ],
      "execution_count": 4,
      "outputs": [
        {
          "output_type": "stream",
          "name": "stdout",
          "text": [
            "Hello Kate, Good morning!\n",
            "Hello Bruce, How do you do?\n"
          ]
        }
      ]
    },
    {
      "cell_type": "markdown",
      "metadata": {
        "id": "fhSwk65bRlqj"
      },
      "source": [
        "### Python Keyword Arguments\n",
        "When we call a function with some values, these values get assigned to the arguments according to their position.\n",
        "\n",
        "For example, in the above function greet(), when we called it as greet(\"Bruce\", \"How do you do?\"), the value \"Bruce\" gets assigned to the argument name and similarly \"How do you do?\" to msg.\n",
        "\n",
        "Python allows functions to be called using keyword arguments. When we call functions in this way, the order (position) of the arguments can be changed. Following calls to the above function are all valid and produce the same result."
      ]
    },
    {
      "cell_type": "code",
      "metadata": {
        "colab": {
          "base_uri": "https://localhost:8080/"
        },
        "id": "glM_bGdnRczT",
        "outputId": "3cedd144-0c08-47cf-b7bd-bb7537f1257f"
      },
      "source": [
        "# 2 keyword arguments\n",
        "greet(name = \"Bruce\",msg = \"How do you do?\")\n",
        "\n",
        "# 2 keyword arguments (out of order)\n",
        "greet(msg = \"How do you do?\",name = \"Bruce\") \n",
        "\n",
        "#1 positional, 1 keyword argument\n",
        "greet(\"Bruce\", msg = \"How do you do?\")   "
      ],
      "execution_count": 6,
      "outputs": [
        {
          "output_type": "stream",
          "name": "stdout",
          "text": [
            "Hello Bruce, How do you do?\n",
            "Hello Bruce, How do you do?\n",
            "Hello Bruce, How do you do?\n"
          ]
        }
      ]
    },
    {
      "cell_type": "code",
      "metadata": {
        "colab": {
          "base_uri": "https://localhost:8080/",
          "height": 129
        },
        "id": "JvQzd44gRo70",
        "outputId": "c9bbc91c-7ea1-4430-c74e-ed556800bece"
      },
      "source": [
        "greet(name=\"Bruce\",\"How do you do?\")"
      ],
      "execution_count": 7,
      "outputs": [
        {
          "output_type": "error",
          "ename": "SyntaxError",
          "evalue": "ignored",
          "traceback": [
            "\u001b[0;36m  File \u001b[0;32m\"<ipython-input-7-088a7395114b>\"\u001b[0;36m, line \u001b[0;32m1\u001b[0m\n\u001b[0;31m    greet(name=\"Bruce\",\"How do you do?\")\u001b[0m\n\u001b[0m                      ^\u001b[0m\n\u001b[0;31mSyntaxError\u001b[0m\u001b[0;31m:\u001b[0m positional argument follows keyword argument\n"
          ]
        }
      ]
    },
    {
      "cell_type": "markdown",
      "metadata": {
        "id": "-Cylr8VAR7ib"
      },
      "source": [
        "### Python Arbitrary Arguments\n",
        "Sometimes, we do not know in advance the number of arguments that will be passed into a function. Python allows us to handle this kind of situation through function calls with an arbitrary number of arguments.\n",
        "\n",
        "In the function definition, we use an asterisk (*) before the parameter name to denote this kind of argument. Here is an example."
      ]
    },
    {
      "cell_type": "code",
      "metadata": {
        "colab": {
          "base_uri": "https://localhost:8080/"
        },
        "id": "3VohgdtOR1Qp",
        "outputId": "6719b385-a76b-4124-ffac-909303ee4c2e"
      },
      "source": [
        "def greet(*names):\n",
        "    \"\"\"This function greets all\n",
        "    the person in the names tuple.\"\"\"\n",
        "\n",
        "    # names is a tuple with arguments\n",
        "    for name in names:\n",
        "        print(\"Hello\", name)\n",
        "\n",
        "\n",
        "greet(\"Monica\", \"Luke\", \"Steve\", \"John\")"
      ],
      "execution_count": 8,
      "outputs": [
        {
          "output_type": "stream",
          "name": "stdout",
          "text": [
            "Hello Monica\n",
            "Hello Luke\n",
            "Hello Steve\n",
            "Hello John\n"
          ]
        }
      ]
    },
    {
      "cell_type": "code",
      "metadata": {
        "id": "ofgS16WdSFMB"
      },
      "source": [
        ""
      ],
      "execution_count": null,
      "outputs": []
    }
  ]
}
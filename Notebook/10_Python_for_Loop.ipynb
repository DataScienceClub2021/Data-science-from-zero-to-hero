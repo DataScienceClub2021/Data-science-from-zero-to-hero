{
  "nbformat": 4,
  "nbformat_minor": 0,
  "metadata": {
    "colab": {
      "name": "10- Python for Loop.ipynb",
      "provenance": [],
      "collapsed_sections": []
    },
    "kernelspec": {
      "name": "python3",
      "display_name": "Python 3"
    },
    "language_info": {
      "name": "python"
    }
  },
  "cells": [
    {
      "cell_type": "markdown",
      "metadata": {
        "id": "1KWu-NBhectW"
      },
      "source": [
        "### What is for loop in Python?\n",
        "The for loop in Python is used to iterate over a sequence (list, tuple, string) or other iterable objects. Iterating over a sequence is called traversal."
      ]
    },
    {
      "cell_type": "markdown",
      "metadata": {
        "id": "1CGiixWvegYi"
      },
      "source": [
        "![image.png](data:image/png;base64,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)"
      ]
    },
    {
      "cell_type": "code",
      "metadata": {
        "colab": {
          "base_uri": "https://localhost:8080/"
        },
        "id": "4OhdvSz8eZs0",
        "outputId": "b879a335-d9f1-495c-f16d-2d91f820faf3"
      },
      "source": [
        "# Program to find the sum of all numbers stored in a list\n",
        "\n",
        "# List of numbers\n",
        "numbers = [6, 5, 3, 8, 4, 2, 5, 4, 11]\n",
        "\n",
        "# variable to store the sum\n",
        "sum = 0\n",
        "\n",
        "# iterate over the list\n",
        "for val in numbers:\n",
        "    sum = sum+val\n",
        "\n",
        "print(\"The sum is\", sum)"
      ],
      "execution_count": 1,
      "outputs": [
        {
          "output_type": "stream",
          "name": "stdout",
          "text": [
            "The sum is 48\n"
          ]
        }
      ]
    },
    {
      "cell_type": "markdown",
      "metadata": {
        "id": "AQwQy0VlekGE"
      },
      "source": [
        "### The range() function\n",
        "We can generate a sequence of numbers using range() function. range(10) will generate numbers from 0 to 9 (10 numbers).\n",
        "\n",
        "We can also define the start, stop and step size as range(start, stop,step_size). step_size defaults to 1 if not provided.\n",
        "\n",
        "The range object is \"lazy\" in a sense because it doesn't generate every number that it \"contains\" when we create it. However, it is not an iterator since it supports in, len and __getitem__ operations.\n",
        "\n",
        "This function does not store all the values in memory; it would be inefficient. So it remembers the start, stop, step size and generates the next number on the go.\n",
        "\n",
        "To force this function to output all the items, we can use the function list().\n",
        "\n",
        "The following example will clarify this."
      ]
    },
    {
      "cell_type": "code",
      "metadata": {
        "colab": {
          "base_uri": "https://localhost:8080/"
        },
        "id": "yWRkG2TGeiCK",
        "outputId": "5d807d19-a471-4379-a214-c9f188a54b14"
      },
      "source": [
        "print(range(10))\n",
        "\n",
        "print(list(range(10)))\n",
        "\n",
        "print(list(range(2, 8)))\n",
        "\n",
        "print(list(range(2, 20, 3)))"
      ],
      "execution_count": 2,
      "outputs": [
        {
          "output_type": "stream",
          "name": "stdout",
          "text": [
            "range(0, 10)\n",
            "[0, 1, 2, 3, 4, 5, 6, 7, 8, 9]\n",
            "[2, 3, 4, 5, 6, 7]\n",
            "[2, 5, 8, 11, 14, 17]\n"
          ]
        }
      ]
    },
    {
      "cell_type": "code",
      "metadata": {
        "colab": {
          "base_uri": "https://localhost:8080/"
        },
        "id": "hcONG0ihemXQ",
        "outputId": "631ff588-0a5b-4bdd-d472-3aa6a11647ec"
      },
      "source": [
        "# Program to iterate through a list using indexing\n",
        "\n",
        "genre = ['pop', 'rock', 'jazz']\n",
        "\n",
        "# iterate over the list using index\n",
        "for i in range(len(genre)):\n",
        "    print(\"I like\", genre[i])"
      ],
      "execution_count": 3,
      "outputs": [
        {
          "output_type": "stream",
          "name": "stdout",
          "text": [
            "I like pop\n",
            "I like rock\n",
            "I like jazz\n"
          ]
        }
      ]
    },
    {
      "cell_type": "markdown",
      "metadata": {
        "id": "NquAvRRGes41"
      },
      "source": [
        "### for loop with else\n"
      ]
    },
    {
      "cell_type": "markdown",
      "metadata": {
        "id": "bs1FJqLCeukn"
      },
      "source": [
        "A for loop can have an optional else block as well. The else part is executed if the items in the sequence used in for loop exhausts.\n",
        "\n",
        "The break keyword can be used to stop a for loop. In such cases, the else part is ignored.\n",
        "\n",
        "Hence, a for loop's else part runs if no break occurs.\n",
        "\n",
        "Here is an example to illustrate this."
      ]
    },
    {
      "cell_type": "code",
      "metadata": {
        "colab": {
          "base_uri": "https://localhost:8080/"
        },
        "id": "6qkwfT9Keq9_",
        "outputId": "feafcb55-2c7f-4345-c89a-a6948d45d6e7"
      },
      "source": [
        "digits = [0, 1, 5]\n",
        "\n",
        "for i in digits:\n",
        "    print(i)\n",
        "else:\n",
        "    print(\"No items left.\")"
      ],
      "execution_count": 4,
      "outputs": [
        {
          "output_type": "stream",
          "name": "stdout",
          "text": [
            "0\n",
            "1\n",
            "5\n",
            "No items left.\n"
          ]
        }
      ]
    },
    {
      "cell_type": "code",
      "metadata": {
        "colab": {
          "base_uri": "https://localhost:8080/"
        },
        "id": "6KMlY0GMev7U",
        "outputId": "10c8dd7d-fdc9-4aac-95a0-3abe2aaca925"
      },
      "source": [
        "# program to display student's marks from record\n",
        "student_name = 'Soyuj'\n",
        "\n",
        "marks = {'James': 90, 'Jules': 55, 'Arthur': 77}\n",
        "\n",
        "for student in marks:\n",
        "    if student == student_name:\n",
        "        print(marks[student])\n",
        "        break\n",
        "else:\n",
        "    print('No entry with that name found.')"
      ],
      "execution_count": 5,
      "outputs": [
        {
          "output_type": "stream",
          "name": "stdout",
          "text": [
            "No entry with that name found.\n"
          ]
        }
      ]
    },
    {
      "cell_type": "code",
      "metadata": {
        "id": "iTcWFI6Kex67"
      },
      "source": [
        ""
      ],
      "execution_count": null,
      "outputs": []
    }
  ]
}
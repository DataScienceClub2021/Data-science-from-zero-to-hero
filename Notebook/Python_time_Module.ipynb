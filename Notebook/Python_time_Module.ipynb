{
  "nbformat": 4,
  "nbformat_minor": 0,
  "metadata": {
    "colab": {
      "name": "Python time Module.ipynb",
      "provenance": [],
      "collapsed_sections": []
    },
    "kernelspec": {
      "name": "python3",
      "display_name": "Python 3"
    },
    "language_info": {
      "name": "python"
    }
  },
  "cells": [
    {
      "cell_type": "markdown",
      "source": [
        "Python has a module named time to handle time-related tasks. To use functions defined in the module, we need to import the module first. Here's how:\n",
        "\n"
      ],
      "metadata": {
        "id": "oWApFQ4OrJL7"
      }
    },
    {
      "cell_type": "code",
      "execution_count": null,
      "metadata": {
        "id": "W8nRp3LRmqC4"
      },
      "outputs": [],
      "source": [
        "import time\n"
      ]
    },
    {
      "cell_type": "markdown",
      "source": [
        "Here are commonly used time-related functions.\n",
        "\n",
        "Python time.time()\n",
        "The time() function returns the number of seconds passed since epoch.\n",
        "\n",
        "For Unix system, January 1, 1970, 00:00:00 at UTC is epoch (the point where time begins)."
      ],
      "metadata": {
        "id": "Iy1JJjl_rLrK"
      }
    },
    {
      "cell_type": "code",
      "source": [
        "import time\n",
        "seconds = time.time()\n",
        "print(\"Seconds since epoch =\", seconds)\t"
      ],
      "metadata": {
        "colab": {
          "base_uri": "https://localhost:8080/"
        },
        "id": "nHJJXchPrKmt",
        "outputId": "80c8cdfc-d19a-4106-82aa-163207885174"
      },
      "execution_count": null,
      "outputs": [
        {
          "output_type": "stream",
          "name": "stdout",
          "text": [
            "Seconds since epoch = 1645050917.2972348\n"
          ]
        }
      ]
    },
    {
      "cell_type": "markdown",
      "source": [
        "## Python time.ctime()\n",
        "The time.ctime() function takes seconds passed since epoch as an argument and returns a string representing local time."
      ],
      "metadata": {
        "id": "LFlB830GrOY5"
      }
    },
    {
      "cell_type": "code",
      "source": [
        "import time\n",
        "\n",
        "# seconds passed since epoch\n",
        "seconds = 1545925769.9618232\n",
        "local_time = time.ctime(seconds)\n",
        "print(\"Local time:\", local_time)"
      ],
      "metadata": {
        "colab": {
          "base_uri": "https://localhost:8080/"
        },
        "id": "4AVt0WzTrM_i",
        "outputId": "051316c5-f660-430b-9455-7d752061740c"
      },
      "execution_count": null,
      "outputs": [
        {
          "output_type": "stream",
          "name": "stdout",
          "text": [
            "Local time: Thu Dec 27 15:49:29 2018\n"
          ]
        }
      ]
    },
    {
      "cell_type": "markdown",
      "source": [
        "### Python time.sleep()\n",
        "The sleep() function suspends (delays) execution of the current thread for the given number of seconds."
      ],
      "metadata": {
        "id": "fXV_1U98rSeq"
      }
    },
    {
      "cell_type": "code",
      "source": [
        "import time\n",
        "\n",
        "print(\"This is printed immediately.\")\n",
        "time.sleep(2.4)\n",
        "print(\"This is printed after 2.4 seconds.\")"
      ],
      "metadata": {
        "colab": {
          "base_uri": "https://localhost:8080/"
        },
        "id": "-T_dMl7hrQsz",
        "outputId": "a900d3f0-28a9-49f8-cda2-8b35eb8d0b07"
      },
      "execution_count": null,
      "outputs": [
        {
          "output_type": "stream",
          "name": "stdout",
          "text": [
            "This is printed immediately.\n",
            "This is printed after 2.4 seconds.\n"
          ]
        }
      ]
    },
    {
      "cell_type": "markdown",
      "source": [
        "### time.struct_time Class\n",
        "Several functions in the time module such as gmtime(), asctime() etc. either take time.struct_time object as an argument or return it.\n",
        "\n",
        "Here's an example of time.struct_time object."
      ],
      "metadata": {
        "id": "Je5YbzwTrWUC"
      }
    },
    {
      "cell_type": "code",
      "source": [
        "time.struct_time(tm_year=2018, tm_mon=12, tm_mday=27, \n",
        "                    tm_hour=6, tm_min=35, tm_sec=17, \n",
        "                    tm_wday=3, tm_yday=361, tm_isdst=0)"
      ],
      "metadata": {
        "id": "wUejV-2OrUsv"
      },
      "execution_count": null,
      "outputs": []
    },
    {
      "cell_type": "markdown",
      "source": [
        "![image.png](data:image/png;base64,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)"
      ],
      "metadata": {
        "id": "sw0d0Hvbrc3s"
      }
    },
    {
      "cell_type": "markdown",
      "source": [
        "### Python time.localtime()\n",
        "The localtime() function takes the number of seconds passed since epoch as an argument and returns struct_time in local time."
      ],
      "metadata": {
        "id": "Sp2Sz77Xrfbh"
      }
    },
    {
      "cell_type": "code",
      "source": [
        "import time\n",
        "\n",
        "result = time.localtime(1545925769)\n",
        "print(\"result:\", result)\n",
        "print(\"\\nyear:\", result.tm_year)\n",
        "print(\"tm_hour:\", result.tm_hour)"
      ],
      "metadata": {
        "colab": {
          "base_uri": "https://localhost:8080/"
        },
        "id": "sfIz8ypSrZJR",
        "outputId": "1f4bd98b-5d25-41e2-f623-7153e16c6e1e"
      },
      "execution_count": null,
      "outputs": [
        {
          "output_type": "stream",
          "name": "stdout",
          "text": [
            "result: time.struct_time(tm_year=2018, tm_mon=12, tm_mday=27, tm_hour=15, tm_min=49, tm_sec=29, tm_wday=3, tm_yday=361, tm_isdst=0)\n",
            "\n",
            "year: 2018\n",
            "tm_hour: 15\n"
          ]
        }
      ]
    },
    {
      "cell_type": "markdown",
      "source": [
        "### Python time.gmtime()\n"
      ],
      "metadata": {
        "id": "FcusL4W2ri0V"
      }
    },
    {
      "cell_type": "markdown",
      "source": [
        "The gmtime() function takes the number of seconds passed since epoch as an argument and returns struct_time in UTC.\n",
        "\n"
      ],
      "metadata": {
        "id": "jXwKU5jHrlWI"
      }
    },
    {
      "cell_type": "code",
      "source": [
        "import time\n",
        "\n",
        "result = time.gmtime(1545925769)\n",
        "print(\"result:\", result)\n",
        "print(\"\\nyear:\", result.tm_year)\n",
        "print(\"tm_hour:\", result.tm_hour)"
      ],
      "metadata": {
        "colab": {
          "base_uri": "https://localhost:8080/"
        },
        "id": "HNRExhWprhZh",
        "outputId": "a20caa2c-3178-4ee0-8043-94e0617d8f76"
      },
      "execution_count": null,
      "outputs": [
        {
          "output_type": "stream",
          "name": "stdout",
          "text": [
            "result: time.struct_time(tm_year=2018, tm_mon=12, tm_mday=27, tm_hour=15, tm_min=49, tm_sec=29, tm_wday=3, tm_yday=361, tm_isdst=0)\n",
            "\n",
            "year: 2018\n",
            "tm_hour: 15\n"
          ]
        }
      ]
    },
    {
      "cell_type": "markdown",
      "source": [
        "### Python time.mktime()\n",
        "The mktime() function takes struct_time (or a tuple containing 9 elements corresponding to struct_time) as an argument and returns the seconds passed since epoch in local time. Basically, it's the inverse function of localtime()."
      ],
      "metadata": {
        "id": "SMr1Igo6rn-E"
      }
    },
    {
      "cell_type": "code",
      "source": [
        "import time\n",
        "\n",
        "t = (2018, 12, 28, 8, 44, 4, 4, 362, 0)\n",
        "\n",
        "local_time = time.mktime(t)\n",
        "print(\"Local time:\", local_time)"
      ],
      "metadata": {
        "colab": {
          "base_uri": "https://localhost:8080/"
        },
        "id": "QjEJDJ8Yrlmp",
        "outputId": "74d44e24-400d-4927-ea39-b9581d0065dd"
      },
      "execution_count": null,
      "outputs": [
        {
          "output_type": "stream",
          "name": "stdout",
          "text": [
            "Local time: 1545986644.0\n"
          ]
        }
      ]
    },
    {
      "cell_type": "code",
      "source": [
        "import time\n",
        "\n",
        "seconds = 1545925769\n",
        "\n",
        "# returns struct_time\n",
        "t = time.localtime(seconds)\n",
        "print(\"t1: \", t)\n",
        "\n",
        "# returns seconds from struct_time\n",
        "s = time.mktime(t)\n",
        "print(\"\\s:\", seconds)"
      ],
      "metadata": {
        "colab": {
          "base_uri": "https://localhost:8080/"
        },
        "id": "udob81vorqWt",
        "outputId": "88ce111a-5b49-45f9-fe19-d7d469355bac"
      },
      "execution_count": null,
      "outputs": [
        {
          "output_type": "stream",
          "name": "stdout",
          "text": [
            "t1:  time.struct_time(tm_year=2018, tm_mon=12, tm_mday=27, tm_hour=15, tm_min=49, tm_sec=29, tm_wday=3, tm_yday=361, tm_isdst=0)\n",
            "\\s: 1545925769\n"
          ]
        }
      ]
    },
    {
      "cell_type": "markdown",
      "source": [
        "### Python time.asctime()\n",
        "The asctime() function takes struct_time (or a tuple containing 9 elements corresponding to struct_time) as an argument and returns a string representing it. Here's an example:"
      ],
      "metadata": {
        "id": "fyT6JOwurtad"
      }
    },
    {
      "cell_type": "code",
      "source": [
        "import time\n",
        "\n",
        "t = (2018, 12, 28, 8, 44, 4, 4, 362, 0)\n",
        "\n",
        "result = time.asctime(t)\n",
        "print(\"Result:\", result)"
      ],
      "metadata": {
        "colab": {
          "base_uri": "https://localhost:8080/"
        },
        "id": "SDAAt_rHrr_0",
        "outputId": "5d798baa-f77a-456b-962f-9afba976c5f8"
      },
      "execution_count": null,
      "outputs": [
        {
          "output_type": "stream",
          "name": "stdout",
          "text": [
            "Result: Fri Dec 28 08:44:04 2018\n"
          ]
        }
      ]
    },
    {
      "cell_type": "markdown",
      "source": [
        "### Python time.strftime()\n",
        "The strftime() function takes struct_time (or tuple corresponding to it) as an argument and returns a string representing it based on the format code used. For example,"
      ],
      "metadata": {
        "id": "AMJg62rFrwyh"
      }
    },
    {
      "cell_type": "code",
      "source": [
        "import time\n",
        "\n",
        "named_tuple = time.localtime() # get struct_time\n",
        "time_string = time.strftime(\"%m/%d/%Y, %H:%M:%S\", named_tuple)\n",
        "\n",
        "print(time_string)"
      ],
      "metadata": {
        "colab": {
          "base_uri": "https://localhost:8080/"
        },
        "id": "kOqaKBYlrvdJ",
        "outputId": "cde7fbf3-2583-4773-d81d-378658c042ed"
      },
      "execution_count": null,
      "outputs": [
        {
          "output_type": "stream",
          "name": "stdout",
          "text": [
            "02/16/2022, 22:37:43\n"
          ]
        }
      ]
    },
    {
      "cell_type": "markdown",
      "source": [
        "Here, %Y, %m, %d, %H etc. are format codes.\n",
        "\n",
        "* %Y - year [0001,..., 2018, 2019,..., 9999]\n",
        "* %m - month [01, 02, ..., 11, 12]\n",
        "* %d - day [01, 02, ..., 30, 31]\n",
        "* %H - hour [00, 01, ..., 22, 23\n",
        "* %M - minutes [00, 01, ..., 58, 59]\n",
        "* %S - second [00, 01, ..., 58, 61]"
      ],
      "metadata": {
        "id": "00MEd7nmr1E4"
      }
    },
    {
      "cell_type": "markdown",
      "source": [
        "### Python time.strptime()\n",
        "The strptime() function parses a string representing time and returns struct_time."
      ],
      "metadata": {
        "id": "RNx3p_3MsBV9"
      }
    },
    {
      "cell_type": "code",
      "source": [
        "import time\n",
        "\n",
        "time_string = \"21 June, 2018\"\n",
        "result = time.strptime(time_string, \"%d %B, %Y\")\n",
        "\n",
        "print(result)"
      ],
      "metadata": {
        "colab": {
          "base_uri": "https://localhost:8080/"
        },
        "id": "75i-mP5cry1Z",
        "outputId": "4ddd0489-4dae-4402-d5ef-31d71818fc14"
      },
      "execution_count": null,
      "outputs": [
        {
          "output_type": "stream",
          "name": "stdout",
          "text": [
            "time.struct_time(tm_year=2018, tm_mon=6, tm_mday=21, tm_hour=0, tm_min=0, tm_sec=0, tm_wday=3, tm_yday=172, tm_isdst=-1)\n"
          ]
        }
      ]
    },
    {
      "cell_type": "code",
      "source": [
        ""
      ],
      "metadata": {
        "id": "akPSOEI-sEIW"
      },
      "execution_count": null,
      "outputs": []
    }
  ]
}